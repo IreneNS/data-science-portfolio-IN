{
 "cells": [
  {
   "cell_type": "markdown",
   "id": "ee0dbe2b",
   "metadata": {},
   "source": [
    "## Investment Analytics - Irene - graph creation-knn-louvain-algo-idea1"
   ]
  },
  {
   "cell_type": "code",
   "execution_count": 49,
   "id": "02a84985",
   "metadata": {},
   "outputs": [],
   "source": [
    "import neo4j\n",
    "\n",
    "import csv\n",
    "\n",
    "import math\n",
    "import numpy as np\n",
    "import pandas as pd\n",
    "\n",
    "import psycopg2\n",
    "import matplotlib.pyplot as plt"
   ]
  },
  {
   "cell_type": "markdown",
   "id": "93f63deb",
   "metadata": {},
   "source": [
    "## Supporting code"
   ]
  },
  {
   "cell_type": "code",
   "execution_count": 2,
   "id": "3157072e",
   "metadata": {},
   "outputs": [],
   "source": [
    "driver = neo4j.GraphDatabase.driver(uri=\"neo4j://neo4j:7687\", auth=(\"neo4j\",\"ucb_mids_w205\"))\n",
    "session = driver.session(database=\"neo4j\")"
   ]
  },
  {
   "cell_type": "code",
   "execution_count": 3,
   "id": "3bc83ce4",
   "metadata": {},
   "outputs": [],
   "source": [
    "def my_neo4j_wipe_out_database():\n",
    "    \"wipe out database by deleting all nodes and relationships\"\n",
    "    \n",
    "    query = \"match (node)-[relationship]->() delete node, relationship\"\n",
    "    session.run(query)\n",
    "    \n",
    "    query = \"match (node) delete node\"\n",
    "    session.run(query)"
   ]
  },
  {
   "cell_type": "code",
   "execution_count": 4,
   "id": "faf0de6f",
   "metadata": {},
   "outputs": [],
   "source": [
    "def my_neo4j_run_query_pandas(query, **kwargs):\n",
    "    \"run a query and return the results in a pandas dataframe\"\n",
    "    \n",
    "    result = session.run(query, **kwargs)\n",
    "    \n",
    "    df = pd.DataFrame([r.values() for r in result], columns=result.keys())\n",
    "    \n",
    "    return df"
   ]
  },
  {
   "cell_type": "code",
   "execution_count": 5,
   "id": "ad75e295",
   "metadata": {},
   "outputs": [],
   "source": [
    "def my_neo4j_number_nodes_relationships():\n",
    "    \"print the number of nodes and relationships\"\n",
    "   \n",
    "    \n",
    "    query = \"\"\"\n",
    "        match (n) \n",
    "        return n.name as node_name, labels(n) as labels\n",
    "        order by n.name\n",
    "    \"\"\"\n",
    "    \n",
    "    df = my_neo4j_run_query_pandas(query)\n",
    "    \n",
    "    number_nodes = df.shape[0]\n",
    "    \n",
    "    \n",
    "    query = \"\"\"\n",
    "        match (n1)-[r]->(n2) \n",
    "        return n1.name as node_name_1, labels(n1) as node_1_labels, \n",
    "            type(r) as relationship_type, n2.name as node_name_2, labels(n2) as node_2_labels\n",
    "        order by node_name_1, node_name_2\n",
    "    \"\"\"\n",
    "    \n",
    "    df = my_neo4j_run_query_pandas(query)\n",
    "    \n",
    "    number_relationships = df.shape[0]\n",
    "    \n",
    "    print(\"-------------------------\")\n",
    "    print(\"  Nodes:\", number_nodes)\n",
    "    print(\"  Relationships:\", number_relationships)\n",
    "    print(\"-------------------------\")\n"
   ]
  },
  {
   "cell_type": "markdown",
   "id": "92f80930",
   "metadata": {},
   "source": [
    "## Load data from website"
   ]
  },
  {
   "cell_type": "code",
   "execution_count": 6,
   "id": "ab6a8fbe",
   "metadata": {},
   "outputs": [
    {
     "data": {
      "text/plain": [
       "(9180, 8)"
      ]
     },
     "metadata": {},
     "output_type": "display_data"
    },
    {
     "data": {
      "text/plain": [
       "['Date', 'Open', 'High', 'Low', 'Close', 'Adj Close', 'Volume', 'Name']"
      ]
     },
     "metadata": {},
     "output_type": "display_data"
    },
    {
     "data": {
      "text/plain": [
       "0       2021-05-05\n",
       "1       2021-05-06\n",
       "2       2021-05-07\n",
       "3       2021-05-10\n",
       "4       2021-05-11\n",
       "           ...    \n",
       "9175    2021-09-03\n",
       "9176    2021-09-07\n",
       "9177    2021-09-08\n",
       "9178    2021-09-09\n",
       "9179    2021-09-10\n",
       "Name: Date, Length: 9180, dtype: object"
      ]
     },
     "metadata": {},
     "output_type": "display_data"
    }
   ],
   "source": [
    "input_data = pd.read_csv(\"https://raw.githubusercontent.com/tomasonjo/blog-datasets/main/stocks/stock_prices.csv\")\n",
    "display(input_data.shape)\n",
    "display(input_data.columns.tolist())\n",
    "display(input_data.Date)"
   ]
  },
  {
   "cell_type": "code",
   "execution_count": 7,
   "id": "8c21be1a",
   "metadata": {},
   "outputs": [
    {
     "data": {
      "text/plain": [
       "102"
      ]
     },
     "execution_count": 7,
     "metadata": {},
     "output_type": "execute_result"
    }
   ],
   "source": [
    "len(input_data.Name.unique())"
   ]
  },
  {
   "cell_type": "markdown",
   "id": "5df1d8d5",
   "metadata": {},
   "source": [
    "## Use dataframe to create graphs in neo4j"
   ]
  },
  {
   "cell_type": "markdown",
   "id": "d5abd20b",
   "metadata": {},
   "source": [
    "### Check the starting graph status"
   ]
  },
  {
   "cell_type": "code",
   "execution_count": 8,
   "id": "f5183ee5",
   "metadata": {},
   "outputs": [],
   "source": [
    "my_neo4j_wipe_out_database()"
   ]
  },
  {
   "cell_type": "code",
   "execution_count": 9,
   "id": "8cf7c29c",
   "metadata": {},
   "outputs": [
    {
     "name": "stdout",
     "output_type": "stream",
     "text": [
      "-------------------------\n",
      "  Nodes: 0\n",
      "  Relationships: 0\n",
      "-------------------------\n"
     ]
    }
   ],
   "source": [
    "my_neo4j_number_nodes_relationships()"
   ]
  },
  {
   "cell_type": "markdown",
   "id": "81c44fc6",
   "metadata": {},
   "source": [
    "### Create initial nodes and tradeing_day relationships"
   ]
  },
  {
   "cell_type": "code",
   "execution_count": 10,
   "id": "d9160306",
   "metadata": {},
   "outputs": [],
   "source": [
    "def trade_neo4j_create_nodes_relationships(input_row):\n",
    "    \"create a node for each company name, and connect the trading data to the company\"\n",
    "    \n",
    "    query = \"\"\"\n",
    "    \n",
    "    MERGE (s: Stock{name:$input_row.Name})\n",
    "    CREATE (s)-[:TRADING_DAY]->(:StockTradingDay{date: date($input_row.Date), close:toFloat($input_row.Close),\n",
    "                volume: toFloat($input_row.Volume)});\n",
    "    \n",
    "    \"\"\"\n",
    "    \n",
    "    session.run(query, input_row=input_row)"
   ]
  },
  {
   "cell_type": "code",
   "execution_count": 11,
   "id": "e56cc128",
   "metadata": {},
   "outputs": [],
   "source": [
    "for i in range(len(input_data)):\n",
    "    trade_neo4j_create_nodes_relationships(input_data.iloc[i,:].to_dict())"
   ]
  },
  {
   "cell_type": "code",
   "execution_count": 12,
   "id": "d2230456",
   "metadata": {},
   "outputs": [
    {
     "name": "stdout",
     "output_type": "stream",
     "text": [
      "-------------------------\n",
      "  Nodes: 9282\n",
      "  Relationships: 9180\n",
      "-------------------------\n"
     ]
    }
   ],
   "source": [
    "my_neo4j_number_nodes_relationships()"
   ]
  },
  {
   "cell_type": "markdown",
   "id": "8cb2f1a4",
   "metadata": {},
   "source": [
    "### Create linked dates relationships"
   ]
  },
  {
   "cell_type": "code",
   "execution_count": null,
   "id": "4fcf30b0",
   "metadata": {},
   "outputs": [],
   "source": [
    "def trade_neo4j_create_linked_date_list():\n",
    "    \"create the linked relationship among trade dates for each company\"\n",
    "    \n",
    "    query = \"\"\"\n",
    "    \n",
    "    MATCH (s:Stock)-[:TRADING_DAY]->(day)\n",
    "    WITH s, day\n",
    "    ORDER BY day.date ASC\n",
    "    WITH s, collect(day) as nodes, collect(day.close) as closes, collect(day.volume) as volumes\n",
    "    SET s.close_array = closes\n",
    "    SET s.volume_array = volumes\n",
    "    WITH nodes\n",
    "    UNWIND range(0, size(nodes)-2) as idx \n",
    "    WITH nodes[idx] as first, nodes[idx+1] as second\n",
    "    CREATE (first) -[:NEXT_DAY]->(second)\n",
    "    WITH DISTINCT 'linked dates done' AS result\n",
    "    RETURN result\n",
    "    \n",
    "    \"\"\"\n",
    "    \n",
    "    return session.run(query)"
   ]
  },
  {
   "cell_type": "code",
   "execution_count": null,
   "id": "98c5e2e5",
   "metadata": {},
   "outputs": [],
   "source": [
    "initial_graph_res = trade_neo4j_create_linked_date_list()\n",
    "result = initial_graph_res\n",
    "pd.DataFrame([r.values() for r in result], columns=result.keys())"
   ]
  },
  {
   "cell_type": "code",
   "execution_count": null,
   "id": "b5541cf3",
   "metadata": {},
   "outputs": [],
   "source": [
    "my_neo4j_number_nodes_relationships()"
   ]
  },
  {
   "cell_type": "markdown",
   "id": "a6ddfa6f",
   "metadata": {},
   "source": [
    "## Idea 1: construct price and volume correlation similarity-based stock communities,  then we can choose top performers from different communities as a portfolio, which maximize the return but minimize the risks"
   ]
  },
  {
   "cell_type": "markdown",
   "id": "43227193",
   "metadata": {},
   "source": [
    "### Create pearson similarity based on prices among stock nodes"
   ]
  },
  {
   "cell_type": "code",
   "execution_count": 16,
   "id": "d5424116",
   "metadata": {},
   "outputs": [],
   "source": [
    "def stream_price_pearson_similarity():\n",
    "    # just calculate the similarity between stocks using price, we can pull the query result and put in pandas\n",
    "    # but this function does not change the graph and does not write in the property of nodes or relationships\n",
    "    query = \"CALL gds.graph.drop('ds_graph', false)\"\n",
    "    session.run(query)\n",
    "\n",
    "    query = \"CALL gds.graph.project('ds_graph', 'Stock', '*', {nodeProperties:'close_array'})\"\n",
    "    session.run(query)\n",
    "    \n",
    "    query = '''\n",
    "    CALL gds.knn.stream('ds_graph', {\n",
    "    topK: 3,\n",
    "    similarityCutoff: 0.2,\n",
    "    nodeProperties:{close_array:'Pearson'}\n",
    "    })\n",
    "    YIELD node1, node2, similarity\n",
    "    RETURN gds.util.asNode(node1).name as Stock1,\n",
    "            gds.util.asNode(node2).name as Stock2,\n",
    "            similarity\n",
    "    ORDER BY similarity DESCENDING, Stock1, Stock2\n",
    "    '''\n",
    "    return session.run(query)"
   ]
  },
  {
   "cell_type": "code",
   "execution_count": 17,
   "id": "0748b719",
   "metadata": {},
   "outputs": [
    {
     "data": {
      "text/html": [
       "<div>\n",
       "<style scoped>\n",
       "    .dataframe tbody tr th:only-of-type {\n",
       "        vertical-align: middle;\n",
       "    }\n",
       "\n",
       "    .dataframe tbody tr th {\n",
       "        vertical-align: top;\n",
       "    }\n",
       "\n",
       "    .dataframe thead th {\n",
       "        text-align: right;\n",
       "    }\n",
       "</style>\n",
       "<table border=\"1\" class=\"dataframe\">\n",
       "  <thead>\n",
       "    <tr style=\"text-align: right;\">\n",
       "      <th></th>\n",
       "      <th>Stock1</th>\n",
       "      <th>Stock2</th>\n",
       "      <th>similarity</th>\n",
       "    </tr>\n",
       "  </thead>\n",
       "  <tbody>\n",
       "    <tr>\n",
       "      <th>0</th>\n",
       "      <td>GOOG</td>\n",
       "      <td>GOOGL</td>\n",
       "      <td>0.994631</td>\n",
       "    </tr>\n",
       "    <tr>\n",
       "      <th>1</th>\n",
       "      <td>GOOGL</td>\n",
       "      <td>GOOG</td>\n",
       "      <td>0.994631</td>\n",
       "    </tr>\n",
       "    <tr>\n",
       "      <th>2</th>\n",
       "      <td>ISRG</td>\n",
       "      <td>MSFT</td>\n",
       "      <td>0.992927</td>\n",
       "    </tr>\n",
       "    <tr>\n",
       "      <th>3</th>\n",
       "      <td>MSFT</td>\n",
       "      <td>ISRG</td>\n",
       "      <td>0.992927</td>\n",
       "    </tr>\n",
       "    <tr>\n",
       "      <th>4</th>\n",
       "      <td>ADBE</td>\n",
       "      <td>MSFT</td>\n",
       "      <td>0.992041</td>\n",
       "    </tr>\n",
       "    <tr>\n",
       "      <th>...</th>\n",
       "      <td>...</td>\n",
       "      <td>...</td>\n",
       "      <td>...</td>\n",
       "    </tr>\n",
       "    <tr>\n",
       "      <th>301</th>\n",
       "      <td>JD</td>\n",
       "      <td>BKNG</td>\n",
       "      <td>0.734955</td>\n",
       "    </tr>\n",
       "    <tr>\n",
       "      <th>302</th>\n",
       "      <td>EA</td>\n",
       "      <td>SIRI</td>\n",
       "      <td>0.726147</td>\n",
       "    </tr>\n",
       "    <tr>\n",
       "      <th>303</th>\n",
       "      <td>MDLZ</td>\n",
       "      <td>SIRI</td>\n",
       "      <td>0.705584</td>\n",
       "    </tr>\n",
       "    <tr>\n",
       "      <th>304</th>\n",
       "      <td>EA</td>\n",
       "      <td>JD</td>\n",
       "      <td>0.696266</td>\n",
       "    </tr>\n",
       "    <tr>\n",
       "      <th>305</th>\n",
       "      <td>EA</td>\n",
       "      <td>BKNG</td>\n",
       "      <td>0.693834</td>\n",
       "    </tr>\n",
       "  </tbody>\n",
       "</table>\n",
       "<p>306 rows × 3 columns</p>\n",
       "</div>"
      ],
      "text/plain": [
       "    Stock1 Stock2  similarity\n",
       "0     GOOG  GOOGL    0.994631\n",
       "1    GOOGL   GOOG    0.994631\n",
       "2     ISRG   MSFT    0.992927\n",
       "3     MSFT   ISRG    0.992927\n",
       "4     ADBE   MSFT    0.992041\n",
       "..     ...    ...         ...\n",
       "301     JD   BKNG    0.734955\n",
       "302     EA   SIRI    0.726147\n",
       "303   MDLZ   SIRI    0.705584\n",
       "304     EA     JD    0.696266\n",
       "305     EA   BKNG    0.693834\n",
       "\n",
       "[306 rows x 3 columns]"
      ]
     },
     "execution_count": 17,
     "metadata": {},
     "output_type": "execute_result"
    }
   ],
   "source": [
    "price_pearson_similarity_res = stream_price_pearson_similarity()\n",
    "result = price_pearson_similarity_res\n",
    "pd.DataFrame([r.values() for r in result], columns=result.keys())"
   ]
  },
  {
   "cell_type": "code",
   "execution_count": 18,
   "id": "e43db9db",
   "metadata": {},
   "outputs": [],
   "source": [
    "def add_price_pearson_similarity():\n",
    "    # add pearson_similarity as pair-wise score between stock nodes\n",
    "    query = \"CALL gds.graph.drop('ds_graph', false)\"\n",
    "    session.run(query)\n",
    "\n",
    "    query = \"CALL gds.graph.project('ds_graph', 'Stock', '*', {nodeProperties:'close_array'})\"\n",
    "    session.run(query)\n",
    "    \n",
    "    query = '''\n",
    "    CALL gds.knn.write('ds_graph', {\n",
    "        writeRelationshipType: 'SIMILAR',\n",
    "        writeProperty: 'price_similarity_score',\n",
    "        topK: 3,\n",
    "        similarityCutoff: 0.2,\n",
    "        nodeProperties:{close_array:'Pearson'}\n",
    "      })\n",
    "      YIELD nodesCompared, relationshipsWritten\n",
    "        '''\n",
    "    return session.run(query)"
   ]
  },
  {
   "cell_type": "code",
   "execution_count": 19,
   "id": "e780e841",
   "metadata": {},
   "outputs": [
    {
     "data": {
      "text/html": [
       "<div>\n",
       "<style scoped>\n",
       "    .dataframe tbody tr th:only-of-type {\n",
       "        vertical-align: middle;\n",
       "    }\n",
       "\n",
       "    .dataframe tbody tr th {\n",
       "        vertical-align: top;\n",
       "    }\n",
       "\n",
       "    .dataframe thead th {\n",
       "        text-align: right;\n",
       "    }\n",
       "</style>\n",
       "<table border=\"1\" class=\"dataframe\">\n",
       "  <thead>\n",
       "    <tr style=\"text-align: right;\">\n",
       "      <th></th>\n",
       "      <th>nodesCompared</th>\n",
       "      <th>relationshipsWritten</th>\n",
       "    </tr>\n",
       "  </thead>\n",
       "  <tbody>\n",
       "    <tr>\n",
       "      <th>0</th>\n",
       "      <td>102</td>\n",
       "      <td>306</td>\n",
       "    </tr>\n",
       "  </tbody>\n",
       "</table>\n",
       "</div>"
      ],
      "text/plain": [
       "   nodesCompared  relationshipsWritten\n",
       "0            102                   306"
      ]
     },
     "execution_count": 19,
     "metadata": {},
     "output_type": "execute_result"
    }
   ],
   "source": [
    "# add price pearson_similarity on stock nodes\n",
    "add_price_similarity_res = add_price_pearson_similarity()\n",
    "result = add_price_similarity_res\n",
    "pd.DataFrame([r.values() for r in result], columns=result.keys())"
   ]
  },
  {
   "cell_type": "code",
   "execution_count": 20,
   "id": "de9a7560",
   "metadata": {},
   "outputs": [
    {
     "name": "stdout",
     "output_type": "stream",
     "text": [
      "-------------------------\n",
      "  Nodes: 9282\n",
      "  Relationships: 18564\n",
      "-------------------------\n"
     ]
    }
   ],
   "source": [
    "my_neo4j_number_nodes_relationships()"
   ]
  },
  {
   "cell_type": "markdown",
   "id": "0ce5d138",
   "metadata": {},
   "source": [
    "### Create volume based similarity among stock nodes"
   ]
  },
  {
   "cell_type": "code",
   "execution_count": 21,
   "id": "9951ba70",
   "metadata": {},
   "outputs": [],
   "source": [
    "def stream_volume_pearson_similarity():\n",
    "    # just calculate the similarity between stocks using volume, we can pull the query result and put in pandas\n",
    "    # but this function does not change the graph and does not write in the property of nodes or relationships\n",
    "    query = \"CALL gds.graph.drop('ds_graph', false)\"\n",
    "    session.run(query)\n",
    "\n",
    "    query = \"CALL gds.graph.project('ds_graph', 'Stock', '*', {nodeProperties:'volume_array'})\"\n",
    "    session.run(query)\n",
    "    \n",
    "    query = '''\n",
    "    CALL gds.knn.stream('ds_graph', {\n",
    "    topK: 3,\n",
    "    similarityCutoff: 0.2,\n",
    "    nodeProperties:{volume_array:'pearson'}\n",
    "    })\n",
    "    YIELD node1, node2, similarity\n",
    "    RETURN gds.util.asNode(node1).name as Stock1,\n",
    "            gds.util.asNode(node2).name as Stock2,\n",
    "            similarity\n",
    "    ORDER BY similarity DESCENDING, Stock1, Stock2\n",
    "    '''\n",
    "    return session.run(query)"
   ]
  },
  {
   "cell_type": "code",
   "execution_count": 22,
   "id": "44cfd13a",
   "metadata": {},
   "outputs": [
    {
     "data": {
      "text/html": [
       "<div>\n",
       "<style scoped>\n",
       "    .dataframe tbody tr th:only-of-type {\n",
       "        vertical-align: middle;\n",
       "    }\n",
       "\n",
       "    .dataframe tbody tr th {\n",
       "        vertical-align: top;\n",
       "    }\n",
       "\n",
       "    .dataframe thead th {\n",
       "        text-align: right;\n",
       "    }\n",
       "</style>\n",
       "<table border=\"1\" class=\"dataframe\">\n",
       "  <thead>\n",
       "    <tr style=\"text-align: right;\">\n",
       "      <th></th>\n",
       "      <th>Stock1</th>\n",
       "      <th>Stock2</th>\n",
       "      <th>similarity</th>\n",
       "    </tr>\n",
       "  </thead>\n",
       "  <tbody>\n",
       "    <tr>\n",
       "      <th>0</th>\n",
       "      <td>GOOG</td>\n",
       "      <td>GOOGL</td>\n",
       "      <td>0.915292</td>\n",
       "    </tr>\n",
       "    <tr>\n",
       "      <th>1</th>\n",
       "      <td>GOOGL</td>\n",
       "      <td>GOOG</td>\n",
       "      <td>0.915292</td>\n",
       "    </tr>\n",
       "    <tr>\n",
       "      <th>2</th>\n",
       "      <td>AMD</td>\n",
       "      <td>XLNX</td>\n",
       "      <td>0.895629</td>\n",
       "    </tr>\n",
       "    <tr>\n",
       "      <th>3</th>\n",
       "      <td>XLNX</td>\n",
       "      <td>AMD</td>\n",
       "      <td>0.895629</td>\n",
       "    </tr>\n",
       "    <tr>\n",
       "      <th>4</th>\n",
       "      <td>NXPI</td>\n",
       "      <td>ORLY</td>\n",
       "      <td>0.887593</td>\n",
       "    </tr>\n",
       "    <tr>\n",
       "      <th>...</th>\n",
       "      <td>...</td>\n",
       "      <td>...</td>\n",
       "      <td>...</td>\n",
       "    </tr>\n",
       "    <tr>\n",
       "      <th>301</th>\n",
       "      <td>MRNA</td>\n",
       "      <td>MCHP</td>\n",
       "      <td>0.628009</td>\n",
       "    </tr>\n",
       "    <tr>\n",
       "      <th>302</th>\n",
       "      <td>DOCU</td>\n",
       "      <td>LULU</td>\n",
       "      <td>0.625812</td>\n",
       "    </tr>\n",
       "    <tr>\n",
       "      <th>303</th>\n",
       "      <td>LULU</td>\n",
       "      <td>DOCU</td>\n",
       "      <td>0.625812</td>\n",
       "    </tr>\n",
       "    <tr>\n",
       "      <th>304</th>\n",
       "      <td>MU</td>\n",
       "      <td>XLNX</td>\n",
       "      <td>0.625083</td>\n",
       "    </tr>\n",
       "    <tr>\n",
       "      <th>305</th>\n",
       "      <td>ZM</td>\n",
       "      <td>ADI</td>\n",
       "      <td>0.606986</td>\n",
       "    </tr>\n",
       "  </tbody>\n",
       "</table>\n",
       "<p>306 rows × 3 columns</p>\n",
       "</div>"
      ],
      "text/plain": [
       "    Stock1 Stock2  similarity\n",
       "0     GOOG  GOOGL    0.915292\n",
       "1    GOOGL   GOOG    0.915292\n",
       "2      AMD   XLNX    0.895629\n",
       "3     XLNX    AMD    0.895629\n",
       "4     NXPI   ORLY    0.887593\n",
       "..     ...    ...         ...\n",
       "301   MRNA   MCHP    0.628009\n",
       "302   DOCU   LULU    0.625812\n",
       "303   LULU   DOCU    0.625812\n",
       "304     MU   XLNX    0.625083\n",
       "305     ZM    ADI    0.606986\n",
       "\n",
       "[306 rows x 3 columns]"
      ]
     },
     "execution_count": 22,
     "metadata": {},
     "output_type": "execute_result"
    }
   ],
   "source": [
    "volume_similarity_res = stream_volume_pearson_similarity()\n",
    "result = volume_similarity_res\n",
    "pd.DataFrame([r.values() for r in result], columns=result.keys())"
   ]
  },
  {
   "cell_type": "code",
   "execution_count": 23,
   "id": "449d6cad",
   "metadata": {},
   "outputs": [],
   "source": [
    "def add_volume_pearson_similarity():\n",
    "    # add pearson_similarity as pair-wise score between stock nodes\n",
    "    query = \"CALL gds.graph.drop('ds_graph', false)\"\n",
    "    session.run(query)\n",
    "\n",
    "    query = \"CALL gds.graph.project('ds_graph', 'Stock', '*', {nodeProperties:'volume_array'})\"\n",
    "    session.run(query)\n",
    "    \n",
    "    query = '''\n",
    "    CALL gds.knn.write('ds_graph', {\n",
    "        writeRelationshipType: 'SIMILAR',\n",
    "        writeProperty: 'volume_similarity_score',\n",
    "        topK: 3,\n",
    "        similarityCutoff: 0.2,\n",
    "        nodeProperties:{volume_array:'Pearson'}\n",
    "      })\n",
    "      YIELD nodesCompared, relationshipsWritten\n",
    "        '''\n",
    "    return session.run(query)"
   ]
  },
  {
   "cell_type": "code",
   "execution_count": 24,
   "id": "9cd9772a",
   "metadata": {},
   "outputs": [
    {
     "data": {
      "text/html": [
       "<div>\n",
       "<style scoped>\n",
       "    .dataframe tbody tr th:only-of-type {\n",
       "        vertical-align: middle;\n",
       "    }\n",
       "\n",
       "    .dataframe tbody tr th {\n",
       "        vertical-align: top;\n",
       "    }\n",
       "\n",
       "    .dataframe thead th {\n",
       "        text-align: right;\n",
       "    }\n",
       "</style>\n",
       "<table border=\"1\" class=\"dataframe\">\n",
       "  <thead>\n",
       "    <tr style=\"text-align: right;\">\n",
       "      <th></th>\n",
       "      <th>nodesCompared</th>\n",
       "      <th>relationshipsWritten</th>\n",
       "    </tr>\n",
       "  </thead>\n",
       "  <tbody>\n",
       "    <tr>\n",
       "      <th>0</th>\n",
       "      <td>102</td>\n",
       "      <td>306</td>\n",
       "    </tr>\n",
       "  </tbody>\n",
       "</table>\n",
       "</div>"
      ],
      "text/plain": [
       "   nodesCompared  relationshipsWritten\n",
       "0            102                   306"
      ]
     },
     "execution_count": 24,
     "metadata": {},
     "output_type": "execute_result"
    }
   ],
   "source": [
    "# add volume pearson_similarity on stock nodes\n",
    "add_volume_similarity_res = add_volume_pearson_similarity()\n",
    "result = add_volume_similarity_res\n",
    "pd.DataFrame([r.values() for r in result], columns=result.keys())"
   ]
  },
  {
   "cell_type": "code",
   "execution_count": 25,
   "id": "c9d176a3",
   "metadata": {},
   "outputs": [
    {
     "name": "stdout",
     "output_type": "stream",
     "text": [
      "-------------------------\n",
      "  Nodes: 9282\n",
      "  Relationships: 18870\n",
      "-------------------------\n"
     ]
    }
   ],
   "source": [
    "my_neo4j_number_nodes_relationships()"
   ]
  },
  {
   "cell_type": "markdown",
   "id": "1caf20f2",
   "metadata": {},
   "source": [
    "### Use both price and voulme similarity to create community use Louvain Modularity Algorithm"
   ]
  },
  {
   "cell_type": "code",
   "execution_count": 30,
   "id": "aa9f464e",
   "metadata": {},
   "outputs": [],
   "source": [
    "def stream_price_volume_louvain_modularity_property():\n",
    "    # add community ids as node properties using louvain modularity detection based on similarity scores\n",
    "    query = \"CALL gds.graph.drop('ds_graph', false)\"\n",
    "    session.run(query)\n",
    "\n",
    "    query = '''\n",
    "    CALL gds.graph.project('ds_graph', 'Stock', '*', \n",
    "            {nodeProperties: ['close_array', 'volume_array'],\n",
    "            relationshipProperties:['price_similarity_score', 'volume_similarity_score']})\n",
    "    '''\n",
    "    session.run(query)\n",
    "    \n",
    "    query = '''\n",
    "    CALL gds.louvain.stream('ds_graph') \n",
    "    YIELD nodeId, communityId, intermediateCommunityIds\n",
    "    RETURN gds.util.asNode(nodeId).name AS Ticker, communityId as Community\n",
    "    ORDER BY Ticker\n",
    "    '''\n",
    "    return session.run(query)"
   ]
  },
  {
   "cell_type": "code",
   "execution_count": 31,
   "id": "0986a72a",
   "metadata": {},
   "outputs": [
    {
     "data": {
      "text/html": [
       "<div>\n",
       "<style scoped>\n",
       "    .dataframe tbody tr th:only-of-type {\n",
       "        vertical-align: middle;\n",
       "    }\n",
       "\n",
       "    .dataframe tbody tr th {\n",
       "        vertical-align: top;\n",
       "    }\n",
       "\n",
       "    .dataframe thead th {\n",
       "        text-align: right;\n",
       "    }\n",
       "</style>\n",
       "<table border=\"1\" class=\"dataframe\">\n",
       "  <thead>\n",
       "    <tr style=\"text-align: right;\">\n",
       "      <th></th>\n",
       "      <th>Ticker</th>\n",
       "      <th>Community</th>\n",
       "    </tr>\n",
       "  </thead>\n",
       "  <tbody>\n",
       "    <tr>\n",
       "      <th>0</th>\n",
       "      <td>AAPL</td>\n",
       "      <td>45</td>\n",
       "    </tr>\n",
       "    <tr>\n",
       "      <th>1</th>\n",
       "      <td>ADBE</td>\n",
       "      <td>45</td>\n",
       "    </tr>\n",
       "    <tr>\n",
       "      <th>2</th>\n",
       "      <td>ADI</td>\n",
       "      <td>45</td>\n",
       "    </tr>\n",
       "    <tr>\n",
       "      <th>3</th>\n",
       "      <td>ADP</td>\n",
       "      <td>19</td>\n",
       "    </tr>\n",
       "    <tr>\n",
       "      <th>4</th>\n",
       "      <td>ADSK</td>\n",
       "      <td>19</td>\n",
       "    </tr>\n",
       "    <tr>\n",
       "      <th>...</th>\n",
       "      <td>...</td>\n",
       "      <td>...</td>\n",
       "    </tr>\n",
       "    <tr>\n",
       "      <th>97</th>\n",
       "      <td>WBA</td>\n",
       "      <td>70</td>\n",
       "    </tr>\n",
       "    <tr>\n",
       "      <th>98</th>\n",
       "      <td>WDAY</td>\n",
       "      <td>45</td>\n",
       "    </tr>\n",
       "    <tr>\n",
       "      <th>99</th>\n",
       "      <td>XEL</td>\n",
       "      <td>19</td>\n",
       "    </tr>\n",
       "    <tr>\n",
       "      <th>100</th>\n",
       "      <td>XLNX</td>\n",
       "      <td>101</td>\n",
       "    </tr>\n",
       "    <tr>\n",
       "      <th>101</th>\n",
       "      <td>ZM</td>\n",
       "      <td>4</td>\n",
       "    </tr>\n",
       "  </tbody>\n",
       "</table>\n",
       "<p>102 rows × 2 columns</p>\n",
       "</div>"
      ],
      "text/plain": [
       "    Ticker  Community\n",
       "0     AAPL         45\n",
       "1     ADBE         45\n",
       "2      ADI         45\n",
       "3      ADP         19\n",
       "4     ADSK         19\n",
       "..     ...        ...\n",
       "97     WBA         70\n",
       "98    WDAY         45\n",
       "99     XEL         19\n",
       "100   XLNX        101\n",
       "101     ZM          4\n",
       "\n",
       "[102 rows x 2 columns]"
      ]
     },
     "execution_count": 31,
     "metadata": {},
     "output_type": "execute_result"
    }
   ],
   "source": [
    "stream_price_volume_community_res = stream_price_volume_louvain_modularity_property()\n",
    "result = stream_price_volume_community_res\n",
    "pd.DataFrame([r.values() for r in result], columns=result.keys())"
   ]
  },
  {
   "cell_type": "code",
   "execution_count": 38,
   "id": "f64766bd",
   "metadata": {},
   "outputs": [],
   "source": [
    "def add_price_volume_louvain_modularity_property():\n",
    "    # add community ids as node properties using louvain modularity detection based on similarity scores\n",
    "    query = \"CALL gds.graph.drop('ds_graph', false)\"\n",
    "    session.run(query)\n",
    "\n",
    "    query = '''\n",
    "    CALL gds.graph.project('ds_graph', 'Stock', '*', \n",
    "        {nodeProperties: ['close_array', 'volume_array'],\n",
    "        relationshipProperties:['price_similarity_score','volume_similarity_score']})\n",
    "        '''\n",
    "    session.run(query)\n",
    "    \n",
    "    query = '''\n",
    "    CALL gds.louvain.write('ds_graph', {  \n",
    "    writeProperty:'price_volume_louvain_community'\n",
    "    })\n",
    "    YIELD communityCount, modularity, modularities\n",
    "    '''\n",
    "    return session.run(query)"
   ]
  },
  {
   "cell_type": "code",
   "execution_count": 39,
   "id": "61152c68",
   "metadata": {},
   "outputs": [
    {
     "data": {
      "text/html": [
       "<div>\n",
       "<style scoped>\n",
       "    .dataframe tbody tr th:only-of-type {\n",
       "        vertical-align: middle;\n",
       "    }\n",
       "\n",
       "    .dataframe tbody tr th {\n",
       "        vertical-align: top;\n",
       "    }\n",
       "\n",
       "    .dataframe thead th {\n",
       "        text-align: right;\n",
       "    }\n",
       "</style>\n",
       "<table border=\"1\" class=\"dataframe\">\n",
       "  <thead>\n",
       "    <tr style=\"text-align: right;\">\n",
       "      <th></th>\n",
       "      <th>communityCount</th>\n",
       "      <th>modularity</th>\n",
       "      <th>modularities</th>\n",
       "    </tr>\n",
       "  </thead>\n",
       "  <tbody>\n",
       "    <tr>\n",
       "      <th>0</th>\n",
       "      <td>5</td>\n",
       "      <td>0.348135</td>\n",
       "      <td>[0.3354479046520569, 0.3481353325643983]</td>\n",
       "    </tr>\n",
       "  </tbody>\n",
       "</table>\n",
       "</div>"
      ],
      "text/plain": [
       "   communityCount  modularity                              modularities\n",
       "0               5    0.348135  [0.3354479046520569, 0.3481353325643983]"
      ]
     },
     "execution_count": 39,
     "metadata": {},
     "output_type": "execute_result"
    }
   ],
   "source": [
    "# add community ids as node properties using louvain modularity detection based on price + volume similarity scores\n",
    "add_price_volume_community_res = add_price_volume_louvain_modularity_property()\n",
    "result = add_price_volume_community_res\n",
    "pd.DataFrame([r.values() for r in result], columns=result.keys())"
   ]
  },
  {
   "cell_type": "code",
   "execution_count": 40,
   "id": "ffa97777",
   "metadata": {},
   "outputs": [
    {
     "name": "stdout",
     "output_type": "stream",
     "text": [
      "-------------------------\n",
      "  Nodes: 9282\n",
      "  Relationships: 18870\n",
      "-------------------------\n"
     ]
    }
   ],
   "source": [
    "my_neo4j_number_nodes_relationships()"
   ]
  },
  {
   "cell_type": "markdown",
   "id": "69de3f2a",
   "metadata": {},
   "source": [
    "### Add slope property by calculating the slope in pandas, and update the node property in neo4j\n"
   ]
  },
  {
   "cell_type": "code",
   "execution_count": 41,
   "id": "3a128a5e",
   "metadata": {},
   "outputs": [],
   "source": [
    "stock_slope_df = input_data.groupby(['Name'])['Close']\\\n",
    "                    .apply(lambda x: x.diff().sum()/len(x)).rename('Slope').to_frame().reset_index()"
   ]
  },
  {
   "cell_type": "code",
   "execution_count": 53,
   "id": "dcc16e5f",
   "metadata": {},
   "outputs": [
    {
     "data": {
      "image/png": "[encoded data removed]",
      "text/plain": [
       "<Figure size 360x216 with 1 Axes>"
      ]
     },
     "metadata": {
      "needs_background": "light"
     },
     "output_type": "display_data"
    }
   ],
   "source": [
    "stock_slope_df.plot.hist(bins=30, figsize=(5,3))\n",
    "plt.title('Slope / holding period performance distribution')\n",
    "plt.show()"
   ]
  },
  {
   "cell_type": "code",
   "execution_count": 42,
   "id": "1aff82b0",
   "metadata": {},
   "outputs": [],
   "source": [
    "def add_slope_property_to_nodes(stock_slope_pair):\n",
    "    \n",
    "    query = '''\n",
    "    MATCH (s: Stock)\n",
    "    WHERE s.name = $stock_slope_pair.Name\n",
    "    SET s.slope = $stock_slope_pair.Slope\n",
    "    '''\n",
    "    session.run(query, stock_slope_pair=stock_slope_pair)\n",
    "    # IN: note: the return is optional, and it is only useful to note that the process is done here, \n",
    "    # IN: given we do not want to return the 'done' note for each updated node, the return is not needed"
   ]
  },
  {
   "cell_type": "code",
   "execution_count": 43,
   "id": "fcc677ea",
   "metadata": {},
   "outputs": [],
   "source": [
    "for i in range(len(stock_slope_df)):\n",
    "    add_slope_property_to_nodes(stock_slope_df.iloc[i,:].to_dict())"
   ]
  },
  {
   "cell_type": "code",
   "execution_count": 44,
   "id": "37e2cab0",
   "metadata": {},
   "outputs": [
    {
     "name": "stdout",
     "output_type": "stream",
     "text": [
      "-------------------------\n",
      "  Nodes: 9282\n",
      "  Relationships: 18870\n",
      "-------------------------\n"
     ]
    }
   ],
   "source": [
    "my_neo4j_number_nodes_relationships()"
   ]
  },
  {
   "cell_type": "markdown",
   "id": "e5b2c5fb",
   "metadata": {},
   "source": [
    "### Pick the top five performing stocks from each community (ranked by holding period return / slope)"
   ]
  },
  {
   "cell_type": "code",
   "execution_count": 56,
   "id": "a8d3c456",
   "metadata": {},
   "outputs": [],
   "source": [
    "def pick_top_stocks_per_community(top_num):\n",
    "    \n",
    "    query = '''\n",
    "    MATCH (s:Stock)\n",
    "    WITH s.price_volume_louvain_community AS Community, s.slope AS slope, s.name AS ticker\n",
    "    ORDER BY slope DESC\n",
    "    RETURN Community, collect(ticker)[..$top_num] as Potential_investments\n",
    "    \n",
    "    '''\n",
    "    return session.run(query, top_num = top_num)\n",
    "    "
   ]
  },
  {
   "cell_type": "code",
   "execution_count": 57,
   "id": "b8d716d8",
   "metadata": {},
   "outputs": [
    {
     "data": {
      "text/html": [
       "<div>\n",
       "<style scoped>\n",
       "    .dataframe tbody tr th:only-of-type {\n",
       "        vertical-align: middle;\n",
       "    }\n",
       "\n",
       "    .dataframe tbody tr th {\n",
       "        vertical-align: top;\n",
       "    }\n",
       "\n",
       "    .dataframe thead th {\n",
       "        text-align: right;\n",
       "    }\n",
       "</style>\n",
       "<table border=\"1\" class=\"dataframe\">\n",
       "  <thead>\n",
       "    <tr style=\"text-align: right;\">\n",
       "      <th></th>\n",
       "      <th>Community</th>\n",
       "      <th>Potential_investments</th>\n",
       "    </tr>\n",
       "  </thead>\n",
       "  <tbody>\n",
       "    <tr>\n",
       "      <th>0</th>\n",
       "      <td>45</td>\n",
       "      <td>[GOOGL, GOOG, MRNA, ASML, ISRG]</td>\n",
       "    </tr>\n",
       "    <tr>\n",
       "      <th>1</th>\n",
       "      <td>19</td>\n",
       "      <td>[MELI, AMZN, IDXX, LULU, COST]</td>\n",
       "    </tr>\n",
       "    <tr>\n",
       "      <th>2</th>\n",
       "      <td>101</td>\n",
       "      <td>[XLNX, AMD, KDP, KHC, PCAR]</td>\n",
       "    </tr>\n",
       "    <tr>\n",
       "      <th>3</th>\n",
       "      <td>4</td>\n",
       "      <td>[PTON, BIIB, ZM, SIRI, CERN]</td>\n",
       "    </tr>\n",
       "    <tr>\n",
       "      <th>4</th>\n",
       "      <td>70</td>\n",
       "      <td>[EA, JD, CHKP, FOXA, FOX]</td>\n",
       "    </tr>\n",
       "  </tbody>\n",
       "</table>\n",
       "</div>"
      ],
      "text/plain": [
       "   Community            Potential_investments\n",
       "0         45  [GOOGL, GOOG, MRNA, ASML, ISRG]\n",
       "1         19   [MELI, AMZN, IDXX, LULU, COST]\n",
       "2        101      [XLNX, AMD, KDP, KHC, PCAR]\n",
       "3          4     [PTON, BIIB, ZM, SIRI, CERN]\n",
       "4         70        [EA, JD, CHKP, FOXA, FOX]"
      ]
     },
     "execution_count": 57,
     "metadata": {},
     "output_type": "execute_result"
    }
   ],
   "source": [
    "top_stocks_per_community_res = pick_top_stocks_per_community(5)\n",
    "result = top_stocks_per_community_res\n",
    "pd.DataFrame([r.values() for r in result], columns=result.keys())"
   ]
  },
  {
   "cell_type": "code",
   "execution_count": null,
   "id": "93545f46",
   "metadata": {},
   "outputs": [],
   "source": []
  }
 ],
 "metadata": {
  "kernelspec": {
   "display_name": "Python 3 (ipykernel)",
   "language": "python",
   "name": "python3"
  },
  "language_info": {
   "codemirror_mode": {
    "name": "ipython",
    "version": 3
   },
   "file_extension": ".py",
   "mimetype": "text/x-python",
   "name": "python",
   "nbconvert_exporter": "python",
   "pygments_lexer": "ipython3",
   "version": "3.9.7"
  }
 },
 "nbformat": 4,
 "nbformat_minor": 5
}
