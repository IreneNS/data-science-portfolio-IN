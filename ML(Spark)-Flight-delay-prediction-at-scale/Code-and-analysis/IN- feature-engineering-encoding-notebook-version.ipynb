{
 "cells": [
  {
   "cell_type": "markdown",
   "metadata": {
    "application/vnd.databricks.v1+cell": {
     "cellMetadata": {
      "byteLimit": 2048000,
      "rowLimit": 10000
     },
     "inputWidgets": {},
     "nuid": "056ff3a5-6f46-4a99-a174-2153abd510db",
     "showTitle": false,
     "tableResultSettingsMap": {},
     "title": ""
    }
   },
   "source": [
    "# IN - Feature Engineering and encoding notebook version"
   ]
  },
  {
   "cell_type": "code",
   "execution_count": 0,
   "metadata": {
    "application/vnd.databricks.v1+cell": {
     "cellMetadata": {
      "byteLimit": 2048000,
      "rowLimit": 10000
     },
     "inputWidgets": {},
     "nuid": "860d1e18-8843-40ec-9b06-baca76a0b902",
     "showTitle": false,
     "tableResultSettingsMap": {},
     "title": ""
    }
   },
   "outputs": [
    {
     "output_type": "stream",
     "name": "stdout",
     "output_type": "stream",
     "text": [
      "Welcome to the W261 final project!\n"
     ]
    }
   ],
   "source": [
    "from pyspark.sql.functions import col, udf, expr, pandas_udf, to_date, date_trunc, concat_ws, collect_list, struct, broadcast, row_number\n",
    "import pyspark.sql.functions as F\n",
    "import matplotlib.pyplot as plt\n",
    "import seaborn as sns\n",
    "from pyspark.sql.functions import when\n",
    "from pyspark.ml.feature import StringIndexer, OneHotEncoder\n",
    "from pyspark.ml import Pipeline\n",
    "from pyspark.sql.types import IntegerType, StringType, StructType, StructField, DoubleType, DateType, TimestampType, ArrayType, FloatType, LongType\n",
    "from pyspark.ml.feature import VectorAssembler, StandardScaler, MinMaxScaler\n",
    "from pyspark.mllib.evaluation import MulticlassMetrics\n",
    "from pyspark.ml.classification import LogisticRegression\n",
    "from pyspark.ml.evaluation import MulticlassClassificationEvaluator\n",
    "from sklearn.metrics import confusion_matrix\n",
    "import numpy as np\n",
    "from pyspark.sql import Window\n",
    "from pyspark.sql.functions import date_add, to_timestamp, PandasUDFType\n",
    "from pyspark.sql.functions import col, unix_timestamp, from_unixtime\n",
    "import pandas as pd\n",
    "from prophet import Prophet\n",
    "# import tensorflow\n",
    "# import xgboost\n",
    "# import graphframes\n",
    "from pyspark.ml.feature import Imputer\n",
    "from sklearn.preprocessing import LabelEncoder\n",
    "# import numpy as np\n",
    "import math\n",
    "from xgboost.spark import SparkXGBClassifier\n",
    "from pyspark.ml.tuning import ParamGridBuilder, CrossValidator\n",
    "\n",
    "\n",
    "print(\"Welcome to the W261 final project!\") "
   ]
  },
  {
   "cell_type": "markdown",
   "metadata": {
    "application/vnd.databricks.v1+cell": {
     "cellMetadata": {
      "byteLimit": 2048000,
      "rowLimit": 10000
     },
     "inputWidgets": {},
     "nuid": "a3c67972-057f-4de7-bc5b-6eed935af559",
     "showTitle": false,
     "tableResultSettingsMap": {},
     "title": ""
    }
   },
   "source": [
    "# Connect to team storage blob"
   ]
  },
  {
   "cell_type": "code",
   "execution_count": 0,
   "metadata": {
    "application/vnd.databricks.v1+cell": {
     "cellMetadata": {
      "byteLimit": 2048000,
      "rowLimit": 10000
     },
     "inputWidgets": {},
     "nuid": "4524310b-43f8-4c90-9195-9b0c9a7dab4b",
     "showTitle": false,
     "tableResultSettingsMap": {},
     "title": ""
    }
   },
   "outputs": [],
   "source": [
    "# The following blob storage is accessible to team members only (read and write)\n",
    "# access key is valid til TTL\n",
    "# after that you will need to create a new SAS key and authenticate access again via DataBrick command line\n",
    "blob_container  = \"team-3-2-project261\"       # The name of your container created in https://portal.azure.com\n",
    "storage_account = \"fall2024team32\"  # The name of your Storage account created in https://portal.azure.com\n",
    "secret_scope    = \"scope_team_3_2\"           # The name of the scope created in your local computer using the Databricks CLI\n",
    "secret_key      = \"key_team_3_2\"             # The name of the secret key created in your local computer using the Databricks CLI\n",
    "team_blob_url   = f\"wasbs://{blob_container}@{storage_account}.blob.core.windows.net\"  #points to the root of your team storage bucket\n",
    "\n",
    "\n",
    "# the 261 course blob storage is mounted here.\n",
    "mids261_mount_path      = \"/mnt/mids-w261\"\n",
    "\n",
    "# SAS Token: Grant the team limited access to Azure Storage resources\n",
    "spark.conf.set(\n",
    "  f\"fs.azure.sas.{blob_container}.{storage_account}.blob.core.windows.net\",\n",
    "  dbutils.secrets.get(scope = secret_scope, key = secret_key)\n",
    ")"
   ]
  },
  {
   "cell_type": "code",
   "execution_count": 0,
   "metadata": {
    "application/vnd.databricks.v1+cell": {
     "cellMetadata": {
      "byteLimit": 2048000,
      "rowLimit": 10000
     },
     "inputWidgets": {},
     "nuid": "644160f2-3b6d-411a-ac0b-217cb59ae018",
     "showTitle": false,
     "tableResultSettingsMap": {},
     "title": ""
    }
   },
   "outputs": [
    {
     "output_type": "display_data",
     "data": {
      "text/html": [
       "<style scoped>\n",
       "  .table-result-container {\n",
       "    max-height: 300px;\n",
       "    overflow: auto;\n",
       "  }\n",
       "  table, th, td {\n",
       "    border: 1px solid black;\n",
       "    border-collapse: collapse;\n",
       "  }\n",
       "  th, td {\n",
       "    padding: 5px;\n",
       "  }\n",
       "  th {\n",
       "    text-align: left;\n",
       "  }\n",
       "</style><div class='table-result-container'><table class='table-result'><thead style='background-color: white'><tr><th>path</th><th>name</th><th>size</th><th>modificationTime</th></tr></thead><tbody><tr><td>wasbs://team-3-2-project261@fall2024team32.blob.core.windows.net/12m_cancelled_data/</td><td>12m_cancelled_data/</td><td>0</td><td>1731754303000</td></tr><tr><td>wasbs://team-3-2-project261@fall2024team32.blob.core.windows.net/12m_diverted_data/</td><td>12m_diverted_data/</td><td>0</td><td>1731754311000</td></tr><tr><td>wasbs://team-3-2-project261@fall2024team32.blob.core.windows.net/12m_duplicates_removed/</td><td>12m_duplicates_removed/</td><td>0</td><td>1733298522000</td></tr><tr><td>wasbs://team-3-2-project261@fall2024team32.blob.core.windows.net/12m_final_data/</td><td>12m_final_data/</td><td>0</td><td>1731755226000</td></tr><tr><td>wasbs://team-3-2-project261@fall2024team32.blob.core.windows.net/12m_final_data_deduped/</td><td>12m_final_data_deduped/</td><td>0</td><td>1731805979000</td></tr><tr><td>wasbs://team-3-2-project261@fall2024team32.blob.core.windows.net/12m_mean_year_month_destination/</td><td>12m_mean_year_month_destination/</td><td>0</td><td>1731754740000</td></tr><tr><td>wasbs://team-3-2-project261@fall2024team32.blob.core.windows.net/12m_mean_year_month_origin/</td><td>12m_mean_year_month_origin/</td><td>0</td><td>1731754736000</td></tr><tr><td>wasbs://team-3-2-project261@fall2024team32.blob.core.windows.net/12m_null_summary/</td><td>12m_null_summary/</td><td>0</td><td>1731754630000</td></tr><tr><td>wasbs://team-3-2-project261@fall2024team32.blob.core.windows.net/12m_sorted_data/</td><td>12m_sorted_data/</td><td>0</td><td>1731754292000</td></tr><tr><td>wasbs://team-3-2-project261@fall2024team32.blob.core.windows.net/12m_summary_statistics/</td><td>12m_summary_statistics/</td><td>0</td><td>1731756196000</td></tr><tr><td>wasbs://team-3-2-project261@fall2024team32.blob.core.windows.net/12m_summary_statistics_before_imputing/</td><td>12m_summary_statistics_before_imputing/</td><td>0</td><td>1731754727000</td></tr><tr><td>wasbs://team-3-2-project261@fall2024team32.blob.core.windows.net/12m_take_5_cancelled_data/</td><td>12m_take_5_cancelled_data/</td><td>0</td><td>1732908439000</td></tr><tr><td>wasbs://team-3-2-project261@fall2024team32.blob.core.windows.net/12m_take_5_diverted_data/</td><td>12m_take_5_diverted_data/</td><td>0</td><td>1732908443000</td></tr><tr><td>wasbs://team-3-2-project261@fall2024team32.blob.core.windows.net/12m_take_5_duplicates_removed/</td><td>12m_take_5_duplicates_removed/</td><td>0</td><td>1732908397000</td></tr><tr><td>wasbs://team-3-2-project261@fall2024team32.blob.core.windows.net/12m_take_5_final/</td><td>12m_take_5_final/</td><td>0</td><td>1732916796000</td></tr><tr><td>wasbs://team-3-2-project261@fall2024team32.blob.core.windows.net/12m_take_5_final_data/</td><td>12m_take_5_final_data/</td><td>0</td><td>1732911951000</td></tr><tr><td>wasbs://team-3-2-project261@fall2024team32.blob.core.windows.net/12m_take_5_mean_year_month_destination/</td><td>12m_take_5_mean_year_month_destination/</td><td>0</td><td>1732908884000</td></tr><tr><td>wasbs://team-3-2-project261@fall2024team32.blob.core.windows.net/12m_take_5_mean_year_month_origin/</td><td>12m_take_5_mean_year_month_origin/</td><td>0</td><td>1732908880000</td></tr><tr><td>wasbs://team-3-2-project261@fall2024team32.blob.core.windows.net/12m_take_5_null_summary/</td><td>12m_take_5_null_summary/</td><td>0</td><td>1732908793000</td></tr><tr><td>wasbs://team-3-2-project261@fall2024team32.blob.core.windows.net/12m_take_5_sorted_data/</td><td>12m_take_5_sorted_data/</td><td>0</td><td>1732908434000</td></tr><tr><td>wasbs://team-3-2-project261@fall2024team32.blob.core.windows.net/12m_take_5_summary_statistics/</td><td>12m_take_5_summary_statistics/</td><td>0</td><td>1732912795000</td></tr><tr><td>wasbs://team-3-2-project261@fall2024team32.blob.core.windows.net/12m_take_5_summary_statistics_before_imputing/</td><td>12m_take_5_summary_statistics_before_imputing/</td><td>0</td><td>1732908871000</td></tr><tr><td>wasbs://team-3-2-project261@fall2024team32.blob.core.windows.net/3m_cancelled_data/</td><td>3m_cancelled_data/</td><td>0</td><td>1731752430000</td></tr><tr><td>wasbs://team-3-2-project261@fall2024team32.blob.core.windows.net/3m_diverted_data/</td><td>3m_diverted_data/</td><td>0</td><td>1731752432000</td></tr><tr><td>wasbs://team-3-2-project261@fall2024team32.blob.core.windows.net/3m_duplicates_removed/</td><td>3m_duplicates_removed/</td><td>0</td><td>1733297180000</td></tr><tr><td>wasbs://team-3-2-project261@fall2024team32.blob.core.windows.net/3m_final_data/</td><td>3m_final_data/</td><td>0</td><td>1731752911000</td></tr><tr><td>wasbs://team-3-2-project261@fall2024team32.blob.core.windows.net/3m_mean_year_month_destination/</td><td>3m_mean_year_month_destination/</td><td>0</td><td>1731752487000</td></tr><tr><td>wasbs://team-3-2-project261@fall2024team32.blob.core.windows.net/3m_mean_year_month_origin/</td><td>3m_mean_year_month_origin/</td><td>0</td><td>1731752484000</td></tr><tr><td>wasbs://team-3-2-project261@fall2024team32.blob.core.windows.net/3m_null_summary/</td><td>3m_null_summary/</td><td>0</td><td>1731740830000</td></tr><tr><td>wasbs://team-3-2-project261@fall2024team32.blob.core.windows.net/3m_sorted_data/</td><td>3m_sorted_data/</td><td>0</td><td>1731720582000</td></tr><tr><td>wasbs://team-3-2-project261@fall2024team32.blob.core.windows.net/3m_spearman_corr/</td><td>3m_spearman_corr/</td><td>0</td><td>1733299754000</td></tr><tr><td>wasbs://team-3-2-project261@fall2024team32.blob.core.windows.net/3m_summary_statistics/</td><td>3m_summary_statistics/</td><td>0</td><td>1731752692000</td></tr><tr><td>wasbs://team-3-2-project261@fall2024team32.blob.core.windows.net/3m_summary_statistics_before_imputing/</td><td>3m_summary_statistics_before_imputing/</td><td>0</td><td>1731752480000</td></tr><tr><td>wasbs://team-3-2-project261@fall2024team32.blob.core.windows.net/3m_take_2_cancelled_data/</td><td>3m_take_2_cancelled_data/</td><td>0</td><td>1732831119000</td></tr><tr><td>wasbs://team-3-2-project261@fall2024team32.blob.core.windows.net/3m_take_2_diverted_data/</td><td>3m_take_2_diverted_data/</td><td>0</td><td>1732831122000</td></tr><tr><td>wasbs://team-3-2-project261@fall2024team32.blob.core.windows.net/3m_take_2_duplicates_removed/</td><td>3m_take_2_duplicates_removed/</td><td>0</td><td>1732831083000</td></tr><tr><td>wasbs://team-3-2-project261@fall2024team32.blob.core.windows.net/3m_take_2_final/</td><td>3m_take_2_final/</td><td>0</td><td>1732834735000</td></tr><tr><td>wasbs://team-3-2-project261@fall2024team32.blob.core.windows.net/3m_take_2_final_data/</td><td>3m_take_2_final_data/</td><td>0</td><td>1732833291000</td></tr><tr><td>wasbs://team-3-2-project261@fall2024team32.blob.core.windows.net/3m_take_2_mean_year_month_destination/</td><td>3m_take_2_mean_year_month_destination/</td><td>0</td><td>1732832425000</td></tr><tr><td>wasbs://team-3-2-project261@fall2024team32.blob.core.windows.net/3m_take_2_mean_year_month_origin/</td><td>3m_take_2_mean_year_month_origin/</td><td>0</td><td>1732832421000</td></tr><tr><td>wasbs://team-3-2-project261@fall2024team32.blob.core.windows.net/3m_take_2_null_summary/</td><td>3m_take_2_null_summary/</td><td>0</td><td>1732832353000</td></tr><tr><td>wasbs://team-3-2-project261@fall2024team32.blob.core.windows.net/3m_take_2_sorted_data/</td><td>3m_take_2_sorted_data/</td><td>0</td><td>1732831114000</td></tr><tr><td>wasbs://team-3-2-project261@fall2024team32.blob.core.windows.net/3m_take_2_summary_statistics/</td><td>3m_take_2_summary_statistics/</td><td>0</td><td>1732833688000</td></tr><tr><td>wasbs://team-3-2-project261@fall2024team32.blob.core.windows.net/3m_take_2_summary_statistics_before_imputing/</td><td>3m_take_2_summary_statistics_before_imputing/</td><td>0</td><td>1732832412000</td></tr><tr><td>wasbs://team-3-2-project261@fall2024team32.blob.core.windows.net/60m_take_3_cancelled_data/</td><td>60m_take_3_cancelled_data/</td><td>0</td><td>1733302534000</td></tr><tr><td>wasbs://team-3-2-project261@fall2024team32.blob.core.windows.net/60m_take_3_diverted_data/</td><td>60m_take_3_diverted_data/</td><td>0</td><td>1733302544000</td></tr><tr><td>wasbs://team-3-2-project261@fall2024team32.blob.core.windows.net/60m_take_3_duplicates_removed/</td><td>60m_take_3_duplicates_removed/</td><td>0</td><td>1733302403000</td></tr><tr><td>wasbs://team-3-2-project261@fall2024team32.blob.core.windows.net/60m_take_3_mean_year_month_destination/</td><td>60m_take_3_mean_year_month_destination/</td><td>0</td><td>1733303190000</td></tr><tr><td>wasbs://team-3-2-project261@fall2024team32.blob.core.windows.net/60m_take_3_mean_year_month_origin/</td><td>60m_take_3_mean_year_month_origin/</td><td>0</td><td>1733303180000</td></tr><tr><td>wasbs://team-3-2-project261@fall2024team32.blob.core.windows.net/60m_take_3_null_summary/</td><td>60m_take_3_null_summary/</td><td>0</td><td>1733303035000</td></tr><tr><td>wasbs://team-3-2-project261@fall2024team32.blob.core.windows.net/60m_take_3_parquet/</td><td>60m_take_3_parquet/</td><td>0</td><td>1733301811000</td></tr><tr><td>wasbs://team-3-2-project261@fall2024team32.blob.core.windows.net/60m_take_3_spearman_corr/</td><td>60m_take_3_spearman_corr/</td><td>0</td><td>1733346181000</td></tr><tr><td>wasbs://team-3-2-project261@fall2024team32.blob.core.windows.net/60m_take_3_summary_statistics/</td><td>60m_take_3_summary_statistics/</td><td>0</td><td>1733345319000</td></tr><tr><td>wasbs://team-3-2-project261@fall2024team32.blob.core.windows.net/60m_take_3_summary_statistics_before_imputing/</td><td>60m_take_3_summary_statistics_before_imputing/</td><td>0</td><td>1733303158000</td></tr><tr><td>wasbs://team-3-2-project261@fall2024team32.blob.core.windows.net/60m_take_4_cancelled_data/</td><td>60m_take_4_cancelled_data/</td><td>0</td><td>1733351953000</td></tr><tr><td>wasbs://team-3-2-project261@fall2024team32.blob.core.windows.net/60m_take_4_diverted_data/</td><td>60m_take_4_diverted_data/</td><td>0</td><td>1733351963000</td></tr><tr><td>wasbs://team-3-2-project261@fall2024team32.blob.core.windows.net/60m_take_4_duplicates_removed/</td><td>60m_take_4_duplicates_removed/</td><td>0</td><td>1733351829000</td></tr><tr><td>wasbs://team-3-2-project261@fall2024team32.blob.core.windows.net/60m_take_4_final/</td><td>60m_take_4_final/</td><td>0</td><td>1733353994000</td></tr><tr><td>wasbs://team-3-2-project261@fall2024team32.blob.core.windows.net/60m_take_4_mean_year_month_destination/</td><td>60m_take_4_mean_year_month_destination/</td><td>0</td><td>1733352462000</td></tr><tr><td>wasbs://team-3-2-project261@fall2024team32.blob.core.windows.net/60m_take_4_mean_year_month_origin/</td><td>60m_take_4_mean_year_month_origin/</td><td>0</td><td>1733352454000</td></tr><tr><td>wasbs://team-3-2-project261@fall2024team32.blob.core.windows.net/60m_take_4_null_summary/</td><td>60m_take_4_null_summary/</td><td>0</td><td>1733352331000</td></tr><tr><td>wasbs://team-3-2-project261@fall2024team32.blob.core.windows.net/60m_take_4_parquet/</td><td>60m_take_4_parquet/</td><td>0</td><td>1733351330000</td></tr><tr><td>wasbs://team-3-2-project261@fall2024team32.blob.core.windows.net/60m_take_4_sorted_data/</td><td>60m_take_4_sorted_data/</td><td>0</td><td>1733351944000</td></tr><tr><td>wasbs://team-3-2-project261@fall2024team32.blob.core.windows.net/60m_take_4_spearman_corr/</td><td>60m_take_4_spearman_corr/</td><td>0</td><td>1733355318000</td></tr><tr><td>wasbs://team-3-2-project261@fall2024team32.blob.core.windows.net/60m_take_4_summary_statistics/</td><td>60m_take_4_summary_statistics/</td><td>0</td><td>1733354371000</td></tr><tr><td>wasbs://team-3-2-project261@fall2024team32.blob.core.windows.net/60m_take_4_summary_statistics_before_imputing/</td><td>60m_take_4_summary_statistics_before_imputing/</td><td>0</td><td>1733352434000</td></tr><tr><td>wasbs://team-3-2-project261@fall2024team32.blob.core.windows.net/IN_12m_fold_1_train_v4/</td><td>IN_12m_fold_1_train_v4/</td><td>0</td><td>1732828676000</td></tr><tr><td>wasbs://team-3-2-project261@fall2024team32.blob.core.windows.net/IN_12m_fold_1_val_v4/</td><td>IN_12m_fold_1_val_v4/</td><td>0</td><td>1732828730000</td></tr><tr><td>wasbs://team-3-2-project261@fall2024team32.blob.core.windows.net/IN_12m_fold_2_train_v4/</td><td>IN_12m_fold_2_train_v4/</td><td>0</td><td>1732828834000</td></tr><tr><td>wasbs://team-3-2-project261@fall2024team32.blob.core.windows.net/IN_12m_fold_2_val_v4/</td><td>IN_12m_fold_2_val_v4/</td><td>0</td><td>1732828886000</td></tr><tr><td>wasbs://team-3-2-project261@fall2024team32.blob.core.windows.net/IN_12m_fold_3_train_v4/</td><td>IN_12m_fold_3_train_v4/</td><td>0</td><td>1732828983000</td></tr><tr><td>wasbs://team-3-2-project261@fall2024team32.blob.core.windows.net/IN_12m_fold_3_val_v4/</td><td>IN_12m_fold_3_val_v4/</td><td>0</td><td>1732829052000</td></tr><tr><td>wasbs://team-3-2-project261@fall2024team32.blob.core.windows.net/IN_12m_fold_4_train_v4/</td><td>IN_12m_fold_4_train_v4/</td><td>0</td><td>1732829156000</td></tr><tr><td>wasbs://team-3-2-project261@fall2024team32.blob.core.windows.net/IN_12m_fold_4_val_v4/</td><td>IN_12m_fold_4_val_v4/</td><td>0</td><td>1732829210000</td></tr><tr><td>wasbs://team-3-2-project261@fall2024team32.blob.core.windows.net/IN_12m_fold_5_train_v4/</td><td>IN_12m_fold_5_train_v4/</td><td>0</td><td>1732829301000</td></tr><tr><td>wasbs://team-3-2-project261@fall2024team32.blob.core.windows.net/IN_12m_fold_5_val_v4/</td><td>IN_12m_fold_5_val_v4/</td><td>0</td><td>1732829352000</td></tr><tr><td>wasbs://team-3-2-project261@fall2024team32.blob.core.windows.net/IN_60m_fold_1_train_v2/</td><td>IN_60m_fold_1_train_v2/</td><td>0</td><td>1733467187000</td></tr><tr><td>wasbs://team-3-2-project261@fall2024team32.blob.core.windows.net/IN_60m_fold_1_train_v3/</td><td>IN_60m_fold_1_train_v3/</td><td>0</td><td>1733516744000</td></tr><tr><td>wasbs://team-3-2-project261@fall2024team32.blob.core.windows.net/IN_60m_fold_1_val_v2/</td><td>IN_60m_fold_1_val_v2/</td><td>0</td><td>1733467532000</td></tr><tr><td>wasbs://team-3-2-project261@fall2024team32.blob.core.windows.net/IN_60m_fold_1_val_v3/</td><td>IN_60m_fold_1_val_v3/</td><td>0</td><td>1733517120000</td></tr><tr><td>wasbs://team-3-2-project261@fall2024team32.blob.core.windows.net/IN_60m_fold_2_train_v2/</td><td>IN_60m_fold_2_train_v2/</td><td>0</td><td>1733468050000</td></tr><tr><td>wasbs://team-3-2-project261@fall2024team32.blob.core.windows.net/IN_60m_fold_2_train_v3/</td><td>IN_60m_fold_2_train_v3/</td><td>0</td><td>1733517668000</td></tr><tr><td>wasbs://team-3-2-project261@fall2024team32.blob.core.windows.net/IN_60m_fold_2_val_v2/</td><td>IN_60m_fold_2_val_v2/</td><td>0</td><td>1733468407000</td></tr><tr><td>wasbs://team-3-2-project261@fall2024team32.blob.core.windows.net/IN_60m_fold_2_val_v3/</td><td>IN_60m_fold_2_val_v3/</td><td>0</td><td>1733518037000</td></tr><tr><td>wasbs://team-3-2-project261@fall2024team32.blob.core.windows.net/IN_60m_fold_3_train_v2/</td><td>IN_60m_fold_3_train_v2/</td><td>0</td><td>1733468892000</td></tr><tr><td>wasbs://team-3-2-project261@fall2024team32.blob.core.windows.net/IN_60m_fold_3_train_v3/</td><td>IN_60m_fold_3_train_v3/</td><td>0</td><td>1733518613000</td></tr><tr><td>wasbs://team-3-2-project261@fall2024team32.blob.core.windows.net/IN_60m_fold_3_val_v2/</td><td>IN_60m_fold_3_val_v2/</td><td>0</td><td>1733469214000</td></tr><tr><td>wasbs://team-3-2-project261@fall2024team32.blob.core.windows.net/IN_60m_fold_3_val_v3/</td><td>IN_60m_fold_3_val_v3/</td><td>0</td><td>1733518965000</td></tr><tr><td>wasbs://team-3-2-project261@fall2024team32.blob.core.windows.net/IN_60m_fold_4_train_v2/</td><td>IN_60m_fold_4_train_v2/</td><td>0</td><td>1733469747000</td></tr><tr><td>wasbs://team-3-2-project261@fall2024team32.blob.core.windows.net/IN_60m_fold_4_train_v3/</td><td>IN_60m_fold_4_train_v3/</td><td>0</td><td>1733519547000</td></tr><tr><td>wasbs://team-3-2-project261@fall2024team32.blob.core.windows.net/IN_60m_fold_4_val_v2/</td><td>IN_60m_fold_4_val_v2/</td><td>0</td><td>1733470084000</td></tr><tr><td>wasbs://team-3-2-project261@fall2024team32.blob.core.windows.net/IN_60m_fold_4_val_v3/</td><td>IN_60m_fold_4_val_v3/</td><td>0</td><td>1733519925000</td></tr><tr><td>wasbs://team-3-2-project261@fall2024team32.blob.core.windows.net/IN_60m_fold_5_train_v2/</td><td>IN_60m_fold_5_train_v2/</td><td>0</td><td>1733470619000</td></tr><tr><td>wasbs://team-3-2-project261@fall2024team32.blob.core.windows.net/IN_60m_fold_5_train_v3/</td><td>IN_60m_fold_5_train_v3/</td><td>0</td><td>1733520455000</td></tr><tr><td>wasbs://team-3-2-project261@fall2024team32.blob.core.windows.net/IN_60m_fold_5_val_v2/</td><td>IN_60m_fold_5_val_v2/</td><td>0</td><td>1733470980000</td></tr><tr><td>wasbs://team-3-2-project261@fall2024team32.blob.core.windows.net/IN_60m_fold_5_val_v3/</td><td>IN_60m_fold_5_val_v3/</td><td>0</td><td>1733520793000</td></tr><tr><td>wasbs://team-3-2-project261@fall2024team32.blob.core.windows.net/IN_best_params_test_xgboost_12m_v2/</td><td>IN_best_params_test_xgboost_12m_v2/</td><td>0</td><td>1732892823000</td></tr><tr><td>wasbs://team-3-2-project261@fall2024team32.blob.core.windows.net/IN_best_params_test_xgboost_12m_v3/</td><td>IN_best_params_test_xgboost_12m_v3/</td><td>0</td><td>1733194055000</td></tr><tr><td>wasbs://team-3-2-project261@fall2024team32.blob.core.windows.net/IN_best_params_test_xgboost_60m_v2/</td><td>IN_best_params_test_xgboost_60m_v2/</td><td>0</td><td>1733513218000</td></tr><tr><td>wasbs://team-3-2-project261@fall2024team32.blob.core.windows.net/IN_best_params_test_xgboost_60m_v3_1/</td><td>IN_best_params_test_xgboost_60m_v3_1/</td><td>0</td><td>1733625513000</td></tr><tr><td>wasbs://team-3-2-project261@fall2024team32.blob.core.windows.net/IN_best_params_test_xgboost_60m_v3_2/</td><td>IN_best_params_test_xgboost_60m_v3_2/</td><td>0</td><td>1733629120000</td></tr><tr><td>wasbs://team-3-2-project261@fall2024team32.blob.core.windows.net/IN_best_params_test_xgboost_60m_v3_3/</td><td>IN_best_params_test_xgboost_60m_v3_3/</td><td>0</td><td>1733668710000</td></tr><tr><td>wasbs://team-3-2-project261@fall2024team32.blob.core.windows.net/IN_best_params_test_xgboost_60m_v3_comb/</td><td>IN_best_params_test_xgboost_60m_v3_comb/</td><td>0</td><td>1733678222000</td></tr><tr><td>wasbs://team-3-2-project261@fall2024team32.blob.core.windows.net/IN_best_params_test_xgboost_v1/</td><td>IN_best_params_test_xgboost_v1/</td><td>0</td><td>1732827177000</td></tr><tr><td>wasbs://team-3-2-project261@fall2024team32.blob.core.windows.net/IN_cv_results_test_xgboost_12m_v2/</td><td>IN_cv_results_test_xgboost_12m_v2/</td><td>0</td><td>1732892826000</td></tr><tr><td>wasbs://team-3-2-project261@fall2024team32.blob.core.windows.net/IN_cv_results_test_xgboost_12m_v3/</td><td>IN_cv_results_test_xgboost_12m_v3/</td><td>0</td><td>1733194057000</td></tr><tr><td>wasbs://team-3-2-project261@fall2024team32.blob.core.windows.net/IN_cv_results_test_xgboost_60m_v2/</td><td>IN_cv_results_test_xgboost_60m_v2/</td><td>0</td><td>1733513219000</td></tr><tr><td>wasbs://team-3-2-project261@fall2024team32.blob.core.windows.net/IN_cv_results_test_xgboost_60m_v3_1/</td><td>IN_cv_results_test_xgboost_60m_v3_1/</td><td>0</td><td>1733625518000</td></tr><tr><td>wasbs://team-3-2-project261@fall2024team32.blob.core.windows.net/IN_cv_results_test_xgboost_60m_v3_2/</td><td>IN_cv_results_test_xgboost_60m_v3_2/</td><td>0</td><td>1733629130000</td></tr><tr><td>wasbs://team-3-2-project261@fall2024team32.blob.core.windows.net/IN_cv_results_test_xgboost_60m_v3_3/</td><td>IN_cv_results_test_xgboost_60m_v3_3/</td><td>0</td><td>1733668712000</td></tr><tr><td>wasbs://team-3-2-project261@fall2024team32.blob.core.windows.net/IN_cv_results_test_xgboost_60m_v3_comb/</td><td>IN_cv_results_test_xgboost_60m_v3_comb/</td><td>0</td><td>1733678226000</td></tr><tr><td>wasbs://team-3-2-project261@fall2024team32.blob.core.windows.net/IN_saved_xgboost_model_v3_12m/</td><td>IN_saved_xgboost_model_v3_12m/</td><td>0</td><td>1733429895000</td></tr><tr><td>wasbs://team-3-2-project261@fall2024team32.blob.core.windows.net/IN_xgboost_model_v3_12m/</td><td>IN_xgboost_model_v3_12m/</td><td>0</td><td>1733456859000</td></tr><tr><td>wasbs://team-3-2-project261@fall2024team32.blob.core.windows.net/MM_RFC_grid_results_1/</td><td>MM_RFC_grid_results_1/</td><td>0</td><td>1733107508000</td></tr><tr><td>wasbs://team-3-2-project261@fall2024team32.blob.core.windows.net/MM_RFC_grid_results_2/</td><td>MM_RFC_grid_results_2/</td><td>0</td><td>1733240932000</td></tr><tr><td>wasbs://team-3-2-project261@fall2024team32.blob.core.windows.net/MM_RFC_grid_results_3/</td><td>MM_RFC_grid_results_3/</td><td>0</td><td>1733536336000</td></tr><tr><td>wasbs://team-3-2-project261@fall2024team32.blob.core.windows.net/MM_RFC_grid_results_4/</td><td>MM_RFC_grid_results_4/</td><td>0</td><td>1733587384000</td></tr><tr><td>wasbs://team-3-2-project261@fall2024team32.blob.core.windows.net/MM_RFC_grid_results_5/</td><td>MM_RFC_grid_results_5/</td><td>0</td><td>1733608672000</td></tr><tr><td>wasbs://team-3-2-project261@fall2024team32.blob.core.windows.net/MM_RF_MODEL/</td><td>MM_RF_MODEL/</td><td>0</td><td>1733366925000</td></tr><tr><td>wasbs://team-3-2-project261@fall2024team32.blob.core.windows.net/MM_RF_MODEL_T10_D10/</td><td>MM_RF_MODEL_T10_D10/</td><td>0</td><td>1733531143000</td></tr><tr><td>wasbs://team-3-2-project261@fall2024team32.blob.core.windows.net/MM_RF_MODEL_T10_D25/</td><td>MM_RF_MODEL_T10_D25/</td><td>0</td><td>1733368235000</td></tr><tr><td>wasbs://team-3-2-project261@fall2024team32.blob.core.windows.net/MM_RF_MODEL_T10_D5/</td><td>MM_RF_MODEL_T10_D5/</td><td>0</td><td>1733531089000</td></tr><tr><td>wasbs://team-3-2-project261@fall2024team32.blob.core.windows.net/MM_RF_MODEL_T20_D10/</td><td>MM_RF_MODEL_T20_D10/</td><td>0</td><td>1733531255000</td></tr><tr><td>wasbs://team-3-2-project261@fall2024team32.blob.core.windows.net/MM_RF_MODEL_T20_D5/</td><td>MM_RF_MODEL_T20_D5/</td><td>0</td><td>1733531193000</td></tr><tr><td>wasbs://team-3-2-project261@fall2024team32.blob.core.windows.net/MM_RF_MODEL_T30_D10/</td><td>MM_RF_MODEL_T30_D10/</td><td>0</td><td>1733532242000</td></tr><tr><td>wasbs://team-3-2-project261@fall2024team32.blob.core.windows.net/MM_RF_MODEL_T30_D15/</td><td>MM_RF_MODEL_T30_D15/</td><td>0</td><td>1733609592000</td></tr><tr><td>wasbs://team-3-2-project261@fall2024team32.blob.core.windows.net/MM_RF_MODEL_T40_D10/</td><td>MM_RF_MODEL_T40_D10/</td><td>0</td><td>1733531764000</td></tr><tr><td>wasbs://team-3-2-project261@fall2024team32.blob.core.windows.net/MM_RF_MODEL_T40_D15/</td><td>MM_RF_MODEL_T40_D15/</td><td>0</td><td>1733545237000</td></tr><tr><td>wasbs://team-3-2-project261@fall2024team32.blob.core.windows.net/MM_RF_MODEL_T5_D10/</td><td>MM_RF_MODEL_T5_D10/</td><td>0</td><td>1733528985000</td></tr><tr><td>wasbs://team-3-2-project261@fall2024team32.blob.core.windows.net/MM_RF_MODEL_T5_D5/</td><td>MM_RF_MODEL_T5_D5/</td><td>0</td><td>1733528933000</td></tr><tr><td>wasbs://team-3-2-project261@fall2024team32.blob.core.windows.net/clean_data_3m_parquet/</td><td>clean_data_3m_parquet/</td><td>0</td><td>1732946343000</td></tr><tr><td>wasbs://team-3-2-project261@fall2024team32.blob.core.windows.net/data_cleaned_ordered_with_feature_engineerings_12m/</td><td>data_cleaned_ordered_with_feature_engineerings_12m/</td><td>0</td><td>1732306150000</td></tr><tr><td>wasbs://team-3-2-project261@fall2024team32.blob.core.windows.net/data_cleaned_ordered_with_feature_engineerings_12m_v2/</td><td>data_cleaned_ordered_with_feature_engineerings_12m_v2/</td><td>0</td><td>1732607402000</td></tr><tr><td>wasbs://team-3-2-project261@fall2024team32.blob.core.windows.net/data_cleaned_ordered_with_feature_engineerings_12m_v3/</td><td>data_cleaned_ordered_with_feature_engineerings_12m_v3/</td><td>0</td><td>1732715668000</td></tr><tr><td>wasbs://team-3-2-project261@fall2024team32.blob.core.windows.net/data_cleaned_ordered_with_feature_engineerings_12m_v4/</td><td>data_cleaned_ordered_with_feature_engineerings_12m_v4/</td><td>0</td><td>1732777212000</td></tr><tr><td>wasbs://team-3-2-project261@fall2024team32.blob.core.windows.net/data_cleaned_ordered_with_feature_engineerings_12m_v5/</td><td>data_cleaned_ordered_with_feature_engineerings_12m_v5/</td><td>0</td><td>1732936321000</td></tr><tr><td>wasbs://team-3-2-project261@fall2024team32.blob.core.windows.net/data_cleaned_ordered_with_feature_engineerings_3m/</td><td>data_cleaned_ordered_with_feature_engineerings_3m/</td><td>0</td><td>1732674212000</td></tr><tr><td>wasbs://team-3-2-project261@fall2024team32.blob.core.windows.net/data_cleaned_ordered_with_feature_engineerings_3m_v2/</td><td>data_cleaned_ordered_with_feature_engineerings_3m_v2/</td><td>0</td><td>1732598002000</td></tr><tr><td>wasbs://team-3-2-project261@fall2024team32.blob.core.windows.net/data_cleaned_ordered_with_feature_engineerings_3m_v3/</td><td>data_cleaned_ordered_with_feature_engineerings_3m_v3/</td><td>0</td><td>1732694796000</td></tr><tr><td>wasbs://team-3-2-project261@fall2024team32.blob.core.windows.net/data_cleaned_ordered_with_feature_engineerings_3m_v4/</td><td>data_cleaned_ordered_with_feature_engineerings_3m_v4/</td><td>0</td><td>1732748553000</td></tr><tr><td>wasbs://team-3-2-project261@fall2024team32.blob.core.windows.net/data_cleaned_ordered_with_feature_engineerings_60m_v1/</td><td>data_cleaned_ordered_with_feature_engineerings_60m_v1/</td><td>0</td><td>1733450392000</td></tr><tr><td>wasbs://team-3-2-project261@fall2024team32.blob.core.windows.net/data_cleaned_ordered_with_feature_engineerings_60m_v2/</td><td>data_cleaned_ordered_with_feature_engineerings_60m_v2/</td><td>0</td><td>1733459965000</td></tr><tr><td>wasbs://team-3-2-project261@fall2024team32.blob.core.windows.net/data_cleaned_ordered_with_feature_engineerings_60m_v3/</td><td>data_cleaned_ordered_with_feature_engineerings_60m_v3/</td><td>0</td><td>1733513782000</td></tr><tr><td>wasbs://team-3-2-project261@fall2024team32.blob.core.windows.net/data_cleaned_ordered_with_feature_engineerings_60m_v4/</td><td>data_cleaned_ordered_with_feature_engineerings_60m_v4/</td><td>0</td><td>1733686178000</td></tr><tr><td>wasbs://team-3-2-project261@fall2024team32.blob.core.windows.net/data_cleaned_ordered_with_lag_feature_60m_v1/</td><td>data_cleaned_ordered_with_lag_feature_60m_v1/</td><td>0</td><td>1733371510000</td></tr><tr><td>wasbs://team-3-2-project261@fall2024team32.blob.core.windows.net/data_cleaned_with_lag_feature_60m_v1/</td><td>data_cleaned_with_lag_feature_60m_v1/</td><td>0</td><td>1733446792000</td></tr><tr><td>wasbs://team-3-2-project261@fall2024team32.blob.core.windows.net/data_col_cleaned_fe_test/</td><td>data_col_cleaned_fe_test/</td><td>0</td><td>1732145545000</td></tr><tr><td>wasbs://team-3-2-project261@fall2024team32.blob.core.windows.net/data_col_cleaned_fe_ts_features/</td><td>data_col_cleaned_fe_ts_features/</td><td>0</td><td>1732148939000</td></tr><tr><td>wasbs://team-3-2-project261@fall2024team32.blob.core.windows.net/data_col_cleaned_fe_with_new_features_3m/</td><td>data_col_cleaned_fe_with_new_features_3m/</td><td>0</td><td>1732149056000</td></tr><tr><td>wasbs://team-3-2-project261@fall2024team32.blob.core.windows.net/data_col_cleaned_with_all_feature_engineerings_3m/</td><td>data_col_cleaned_with_all_feature_engineerings_3m/</td><td>0</td><td>1732168298000</td></tr><tr><td>wasbs://team-3-2-project261@fall2024team32.blob.core.windows.net/data_encoded_scaled_12m/</td><td>data_encoded_scaled_12m/</td><td>0</td><td>1731787432000</td></tr><tr><td>wasbs://team-3-2-project261@fall2024team32.blob.core.windows.net/data_encoded_scaled_3m/</td><td>data_encoded_scaled_3m/</td><td>0</td><td>1732159425000</td></tr><tr><td>wasbs://team-3-2-project261@fall2024team32.blob.core.windows.net/data_encoded_scaled_ordered_3m/</td><td>data_encoded_scaled_ordered_3m/</td><td>0</td><td>1732159452000</td></tr><tr><td>wasbs://team-3-2-project261@fall2024team32.blob.core.windows.net/df_new_rolling_window_forecast_3m/</td><td>df_new_rolling_window_forecast_3m/</td><td>0</td><td>1732145461000</td></tr><tr><td>wasbs://team-3-2-project261@fall2024team32.blob.core.windows.net/df_new_weekly_rolling_window_forecast_3m/</td><td>df_new_weekly_rolling_window_forecast_3m/</td><td>0</td><td>1732148957000</td></tr><tr><td>wasbs://team-3-2-project261@fall2024team32.blob.core.windows.net/null_summary_3m_parquet/</td><td>null_summary_3m_parquet/</td><td>0</td><td>1731291980000</td></tr><tr><td>wasbs://team-3-2-project261@fall2024team32.blob.core.windows.net/phase1_otpw_null_counts_sp/</td><td>phase1_otpw_null_counts_sp/</td><td>0</td><td>1730350949000</td></tr><tr><td>wasbs://team-3-2-project261@fall2024team32.blob.core.windows.net/scaled_cols_12m_v5/</td><td>scaled_cols_12m_v5/</td><td>0</td><td>1732950113000</td></tr><tr><td>wasbs://team-3-2-project261@fall2024team32.blob.core.windows.net/scaled_cols_60m_v1/</td><td>scaled_cols_60m_v1/</td><td>0</td><td>1733451549000</td></tr><tr><td>wasbs://team-3-2-project261@fall2024team32.blob.core.windows.net/scaled_cols_60m_v2/</td><td>scaled_cols_60m_v2/</td><td>0</td><td>1733465666000</td></tr><tr><td>wasbs://team-3-2-project261@fall2024team32.blob.core.windows.net/scaled_cols_60m_v3/</td><td>scaled_cols_60m_v3/</td><td>0</td><td>1733515757000</td></tr><tr><td>wasbs://team-3-2-project261@fall2024team32.blob.core.windows.net/scaled_cols_60m_v4/</td><td>scaled_cols_60m_v4/</td><td>0</td><td>1733687344000</td></tr><tr><td>wasbs://team-3-2-project261@fall2024team32.blob.core.windows.net/spearman_corr_3m_parquet/</td><td>spearman_corr_3m_parquet/</td><td>0</td><td>1732239991000</td></tr><tr><td>wasbs://team-3-2-project261@fall2024team32.blob.core.windows.net/spearman_corr_df_1/</td><td>spearman_corr_df_1/</td><td>0</td><td>1730680822000</td></tr><tr><td>wasbs://team-3-2-project261@fall2024team32.blob.core.windows.net/summary_3m_parquet/</td><td>summary_3m_parquet/</td><td>0</td><td>1730705001000</td></tr><tr><td>wasbs://team-3-2-project261@fall2024team32.blob.core.windows.net/test_data_encoded_scaled_3m/</td><td>test_data_encoded_scaled_3m/</td><td>0</td><td>1732221664000</td></tr><tr><td>wasbs://team-3-2-project261@fall2024team32.blob.core.windows.net/test_data_encoded_scaled_ordered_12m/</td><td>test_data_encoded_scaled_ordered_12m/</td><td>0</td><td>1732402691000</td></tr><tr><td>wasbs://team-3-2-project261@fall2024team32.blob.core.windows.net/test_data_encoded_scaled_ordered_12m_20241122/</td><td>test_data_encoded_scaled_ordered_12m_20241122/</td><td>0</td><td>1732326096000</td></tr><tr><td>wasbs://team-3-2-project261@fall2024team32.blob.core.windows.net/test_data_encoded_scaled_ordered_12m_v2/</td><td>test_data_encoded_scaled_ordered_12m_v2/</td><td>0</td><td>1732611486000</td></tr><tr><td>wasbs://team-3-2-project261@fall2024team32.blob.core.windows.net/test_data_encoded_scaled_ordered_12m_v3/</td><td>test_data_encoded_scaled_ordered_12m_v3/</td><td>0</td><td>1732723217000</td></tr><tr><td>wasbs://team-3-2-project261@fall2024team32.blob.core.windows.net/test_data_encoded_scaled_ordered_12m_v4/</td><td>test_data_encoded_scaled_ordered_12m_v4/</td><td>0</td><td>1732797807000</td></tr><tr><td>wasbs://team-3-2-project261@fall2024team32.blob.core.windows.net/test_data_encoded_scaled_ordered_12m_v5/</td><td>test_data_encoded_scaled_ordered_12m_v5/</td><td>0</td><td>1732950029000</td></tr><tr><td>wasbs://team-3-2-project261@fall2024team32.blob.core.windows.net/test_data_encoded_scaled_ordered_3m/</td><td>test_data_encoded_scaled_ordered_3m/</td><td>0</td><td>1732412332000</td></tr><tr><td>wasbs://team-3-2-project261@fall2024team32.blob.core.windows.net/test_data_encoded_scaled_ordered_3m_v2/</td><td>test_data_encoded_scaled_ordered_3m_v2/</td><td>0</td><td>1732600034000</td></tr><tr><td>wasbs://team-3-2-project261@fall2024team32.blob.core.windows.net/test_data_encoded_scaled_ordered_3m_v3/</td><td>test_data_encoded_scaled_ordered_3m_v3/</td><td>0</td><td>1732696186000</td></tr><tr><td>wasbs://team-3-2-project261@fall2024team32.blob.core.windows.net/test_data_encoded_scaled_ordered_3m_v4/</td><td>test_data_encoded_scaled_ordered_3m_v4/</td><td>0</td><td>1732750486000</td></tr><tr><td>wasbs://team-3-2-project261@fall2024team32.blob.core.windows.net/test_data_encoded_scaled_ordered_60m_v1/</td><td>test_data_encoded_scaled_ordered_60m_v1/</td><td>0</td><td>1733451545000</td></tr><tr><td>wasbs://team-3-2-project261@fall2024team32.blob.core.windows.net/test_data_encoded_scaled_ordered_60m_v2/</td><td>test_data_encoded_scaled_ordered_60m_v2/</td><td>0</td><td>1733465665000</td></tr><tr><td>wasbs://team-3-2-project261@fall2024team32.blob.core.windows.net/test_data_encoded_scaled_ordered_60m_v3/</td><td>test_data_encoded_scaled_ordered_60m_v3/</td><td>0</td><td>1733515752000</td></tr><tr><td>wasbs://team-3-2-project261@fall2024team32.blob.core.windows.net/test_data_encoded_scaled_ordered_60m_v4/</td><td>test_data_encoded_scaled_ordered_60m_v4/</td><td>0</td><td>1733687339000</td></tr><tr><td>wasbs://team-3-2-project261@fall2024team32.blob.core.windows.net/train_val_data_encoded_scaled_3m/</td><td>train_val_data_encoded_scaled_3m/</td><td>0</td><td>1732228633000</td></tr><tr><td>wasbs://team-3-2-project261@fall2024team32.blob.core.windows.net/train_val_data_encoded_scaled_ordered_12m/</td><td>train_val_data_encoded_scaled_ordered_12m/</td><td>0</td><td>1732402683000</td></tr><tr><td>wasbs://team-3-2-project261@fall2024team32.blob.core.windows.net/train_val_data_encoded_scaled_ordered_12m_20241122/</td><td>train_val_data_encoded_scaled_ordered_12m_20241122/</td><td>0</td><td>1732326090000</td></tr><tr><td>wasbs://team-3-2-project261@fall2024team32.blob.core.windows.net/train_val_data_encoded_scaled_ordered_12m_v2/</td><td>train_val_data_encoded_scaled_ordered_12m_v2/</td><td>0</td><td>1732611480000</td></tr><tr><td>wasbs://team-3-2-project261@fall2024team32.blob.core.windows.net/train_val_data_encoded_scaled_ordered_12m_v3/</td><td>train_val_data_encoded_scaled_ordered_12m_v3/</td><td>0</td><td>1732723180000</td></tr><tr><td>wasbs://team-3-2-project261@fall2024team32.blob.core.windows.net/train_val_data_encoded_scaled_ordered_12m_v4/</td><td>train_val_data_encoded_scaled_ordered_12m_v4/</td><td>0</td><td>1732797698000</td></tr><tr><td>wasbs://team-3-2-project261@fall2024team32.blob.core.windows.net/train_val_data_encoded_scaled_ordered_12m_v5/</td><td>train_val_data_encoded_scaled_ordered_12m_v5/</td><td>0</td><td>1732949931000</td></tr><tr><td>wasbs://team-3-2-project261@fall2024team32.blob.core.windows.net/train_val_data_encoded_scaled_ordered_3m/</td><td>train_val_data_encoded_scaled_ordered_3m/</td><td>0</td><td>1732412322000</td></tr><tr><td>wasbs://team-3-2-project261@fall2024team32.blob.core.windows.net/train_val_data_encoded_scaled_ordered_3m_v2/</td><td>train_val_data_encoded_scaled_ordered_3m_v2/</td><td>0</td><td>1732600027000</td></tr><tr><td>wasbs://team-3-2-project261@fall2024team32.blob.core.windows.net/train_val_data_encoded_scaled_ordered_3m_v3/</td><td>train_val_data_encoded_scaled_ordered_3m_v3/</td><td>0</td><td>1732696127000</td></tr><tr><td>wasbs://team-3-2-project261@fall2024team32.blob.core.windows.net/train_val_data_encoded_scaled_ordered_3m_v4/</td><td>train_val_data_encoded_scaled_ordered_3m_v4/</td><td>0</td><td>1732750482000</td></tr><tr><td>wasbs://team-3-2-project261@fall2024team32.blob.core.windows.net/train_val_data_encoded_scaled_ordered_60m_v1/</td><td>train_val_data_encoded_scaled_ordered_60m_v1/</td><td>0</td><td>1733451526000</td></tr><tr><td>wasbs://team-3-2-project261@fall2024team32.blob.core.windows.net/train_val_data_encoded_scaled_ordered_60m_v2/</td><td>train_val_data_encoded_scaled_ordered_60m_v2/</td><td>0</td><td>1733465651000</td></tr><tr><td>wasbs://team-3-2-project261@fall2024team32.blob.core.windows.net/train_val_data_encoded_scaled_ordered_60m_v3/</td><td>train_val_data_encoded_scaled_ordered_60m_v3/</td><td>0</td><td>1733515730000</td></tr><tr><td>wasbs://team-3-2-project261@fall2024team32.blob.core.windows.net/train_val_data_encoded_scaled_ordered_60m_v4/</td><td>train_val_data_encoded_scaled_ordered_60m_v4/</td><td>0</td><td>1733687319000</td></tr></tbody></table></div>"
      ]
     },
     "metadata": {
      "application/vnd.databricks.v1+output": {
       "addedWidgets": {},
       "aggData": [],
       "aggError": "",
       "aggOverflow": false,
       "aggSchema": [],
       "aggSeriesLimitReached": false,
       "aggType": "",
       "arguments": {},
       "columnCustomDisplayInfos": {},
       "data": [
        [
         "wasbs://team-3-2-project261@fall2024team32.blob.core.windows.net/12m_cancelled_data/",
         "12m_cancelled_data/",
         0,
         1731754303000
        ],
        [
         "wasbs://team-3-2-project261@fall2024team32.blob.core.windows.net/12m_diverted_data/",
         "12m_diverted_data/",
         0,
         1731754311000
        ],
        [
         "wasbs://team-3-2-project261@fall2024team32.blob.core.windows.net/12m_duplicates_removed/",
         "12m_duplicates_removed/",
         0,
         1733298522000
        ],
        [
         "wasbs://team-3-2-project261@fall2024team32.blob.core.windows.net/12m_final_data/",
         "12m_final_data/",
         0,
         1731755226000
        ],
        [
         "wasbs://team-3-2-project261@fall2024team32.blob.core.windows.net/12m_final_data_deduped/",
         "12m_final_data_deduped/",
         0,
         1731805979000
        ],
        [
         "wasbs://team-3-2-project261@fall2024team32.blob.core.windows.net/12m_mean_year_month_destination/",
         "12m_mean_year_month_destination/",
         0,
         1731754740000
        ],
        [
         "wasbs://team-3-2-project261@fall2024team32.blob.core.windows.net/12m_mean_year_month_origin/",
         "12m_mean_year_month_origin/",
         0,
         1731754736000
        ],
        [
         "wasbs://team-3-2-project261@fall2024team32.blob.core.windows.net/12m_null_summary/",
         "12m_null_summary/",
         0,
         1731754630000
        ],
        [
         "wasbs://team-3-2-project261@fall2024team32.blob.core.windows.net/12m_sorted_data/",
         "12m_sorted_data/",
         0,
         1731754292000
        ],
        [
         "wasbs://team-3-2-project261@fall2024team32.blob.core.windows.net/12m_summary_statistics/",
         "12m_summary_statistics/",
         0,
         1731756196000
        ],
        [
         "wasbs://team-3-2-project261@fall2024team32.blob.core.windows.net/12m_summary_statistics_before_imputing/",
         "12m_summary_statistics_before_imputing/",
         0,
         1731754727000
        ],
        [
         "wasbs://team-3-2-project261@fall2024team32.blob.core.windows.net/12m_take_5_cancelled_data/",
         "12m_take_5_cancelled_data/",
         0,
         1732908439000
        ],
        [
         "wasbs://team-3-2-project261@fall2024team32.blob.core.windows.net/12m_take_5_diverted_data/",
         "12m_take_5_diverted_data/",
         0,
         1732908443000
        ],
        [
         "wasbs://team-3-2-project261@fall2024team32.blob.core.windows.net/12m_take_5_duplicates_removed/",
         "12m_take_5_duplicates_removed/",
         0,
         1732908397000
        ],
        [
         "wasbs://team-3-2-project261@fall2024team32.blob.core.windows.net/12m_take_5_final/",
         "12m_take_5_final/",
         0,
         1732916796000
        ],
        [
         "wasbs://team-3-2-project261@fall2024team32.blob.core.windows.net/12m_take_5_final_data/",
         "12m_take_5_final_data/",
         0,
         1732911951000
        ],
        [
         "wasbs://team-3-2-project261@fall2024team32.blob.core.windows.net/12m_take_5_mean_year_month_destination/",
         "12m_take_5_mean_year_month_destination/",
         0,
         1732908884000
        ],
        [
         "wasbs://team-3-2-project261@fall2024team32.blob.core.windows.net/12m_take_5_mean_year_month_origin/",
         "12m_take_5_mean_year_month_origin/",
         0,
         1732908880000
        ],
        [
         "wasbs://team-3-2-project261@fall2024team32.blob.core.windows.net/12m_take_5_null_summary/",
         "12m_take_5_null_summary/",
         0,
         1732908793000
        ],
        [
         "wasbs://team-3-2-project261@fall2024team32.blob.core.windows.net/12m_take_5_sorted_data/",
         "12m_take_5_sorted_data/",
         0,
         1732908434000
        ],
        [
         "wasbs://team-3-2-project261@fall2024team32.blob.core.windows.net/12m_take_5_summary_statistics/",
         "12m_take_5_summary_statistics/",
         0,
         1732912795000
        ],
        [
         "wasbs://team-3-2-project261@fall2024team32.blob.core.windows.net/12m_take_5_summary_statistics_before_imputing/",
         "12m_take_5_summary_statistics_before_imputing/",
         0,
         1732908871000
        ],
        [
         "wasbs://team-3-2-project261@fall2024team32.blob.core.windows.net/3m_cancelled_data/",
         "3m_cancelled_data/",
         0,
         1731752430000
        ],
        [
         "wasbs://team-3-2-project261@fall2024team32.blob.core.windows.net/3m_diverted_data/",
         "3m_diverted_data/",
         0,
         1731752432000
        ],
        [
         "wasbs://team-3-2-project261@fall2024team32.blob.core.windows.net/3m_duplicates_removed/",
         "3m_duplicates_removed/",
         0,
         1733297180000
        ],
        [
         "wasbs://team-3-2-project261@fall2024team32.blob.core.windows.net/3m_final_data/",
         "3m_final_data/",
         0,
         1731752911000
        ],
        [
         "wasbs://team-3-2-project261@fall2024team32.blob.core.windows.net/3m_mean_year_month_destination/",
         "3m_mean_year_month_destination/",
         0,
         1731752487000
        ],
        [
         "wasbs://team-3-2-project261@fall2024team32.blob.core.windows.net/3m_mean_year_month_origin/",
         "3m_mean_year_month_origin/",
         0,
         1731752484000
        ],
        [
         "wasbs://team-3-2-project261@fall2024team32.blob.core.windows.net/3m_null_summary/",
         "3m_null_summary/",
         0,
         1731740830000
        ],
        [
         "wasbs://team-3-2-project261@fall2024team32.blob.core.windows.net/3m_sorted_data/",
         "3m_sorted_data/",
         0,
         1731720582000
        ],
        [
         "wasbs://team-3-2-project261@fall2024team32.blob.core.windows.net/3m_spearman_corr/",
         "3m_spearman_corr/",
         0,
         1733299754000
        ],
        [
         "wasbs://team-3-2-project261@fall2024team32.blob.core.windows.net/3m_summary_statistics/",
         "3m_summary_statistics/",
         0,
         1731752692000
        ],
        [
         "wasbs://team-3-2-project261@fall2024team32.blob.core.windows.net/3m_summary_statistics_before_imputing/",
         "3m_summary_statistics_before_imputing/",
         0,
         1731752480000
        ],
        [
         "wasbs://team-3-2-project261@fall2024team32.blob.core.windows.net/3m_take_2_cancelled_data/",
         "3m_take_2_cancelled_data/",
         0,
         1732831119000
        ],
        [
         "wasbs://team-3-2-project261@fall2024team32.blob.core.windows.net/3m_take_2_diverted_data/",
         "3m_take_2_diverted_data/",
         0,
         1732831122000
        ],
        [
         "wasbs://team-3-2-project261@fall2024team32.blob.core.windows.net/3m_take_2_duplicates_removed/",
         "3m_take_2_duplicates_removed/",
         0,
         1732831083000
        ],
        [
         "wasbs://team-3-2-project261@fall2024team32.blob.core.windows.net/3m_take_2_final/",
         "3m_take_2_final/",
         0,
         1732834735000
        ],
        [
         "wasbs://team-3-2-project261@fall2024team32.blob.core.windows.net/3m_take_2_final_data/",
         "3m_take_2_final_data/",
         0,
         1732833291000
        ],
        [
         "wasbs://team-3-2-project261@fall2024team32.blob.core.windows.net/3m_take_2_mean_year_month_destination/",
         "3m_take_2_mean_year_month_destination/",
         0,
         1732832425000
        ],
        [
         "wasbs://team-3-2-project261@fall2024team32.blob.core.windows.net/3m_take_2_mean_year_month_origin/",
         "3m_take_2_mean_year_month_origin/",
         0,
         1732832421000
        ],
        [
         "wasbs://team-3-2-project261@fall2024team32.blob.core.windows.net/3m_take_2_null_summary/",
         "3m_take_2_null_summary/",
         0,
         1732832353000
        ],
        [
         "wasbs://team-3-2-project261@fall2024team32.blob.core.windows.net/3m_take_2_sorted_data/",
         "3m_take_2_sorted_data/",
         0,
         1732831114000
        ],
        [
         "wasbs://team-3-2-project261@fall2024team32.blob.core.windows.net/3m_take_2_summary_statistics/",
         "3m_take_2_summary_statistics/",
         0,
         1732833688000
        ],
        [
         "wasbs://team-3-2-project261@fall2024team32.blob.core.windows.net/3m_take_2_summary_statistics_before_imputing/",
         "3m_take_2_summary_statistics_before_imputing/",
         0,
         1732832412000
        ],
        [
         "wasbs://team-3-2-project261@fall2024team32.blob.core.windows.net/60m_take_3_cancelled_data/",
         "60m_take_3_cancelled_data/",
         0,
         1733302534000
        ],
        [
         "wasbs://team-3-2-project261@fall2024team32.blob.core.windows.net/60m_take_3_diverted_data/",
         "60m_take_3_diverted_data/",
         0,
         1733302544000
        ],
        [
         "wasbs://team-3-2-project261@fall2024team32.blob.core.windows.net/60m_take_3_duplicates_removed/",
         "60m_take_3_duplicates_removed/",
         0,
         1733302403000
        ],
        [
         "wasbs://team-3-2-project261@fall2024team32.blob.core.windows.net/60m_take_3_mean_year_month_destination/",
         "60m_take_3_mean_year_month_destination/",
         0,
         1733303190000
        ],
        [
         "wasbs://team-3-2-project261@fall2024team32.blob.core.windows.net/60m_take_3_mean_year_month_origin/",
         "60m_take_3_mean_year_month_origin/",
         0,
         1733303180000
        ],
        [
         "wasbs://team-3-2-project261@fall2024team32.blob.core.windows.net/60m_take_3_null_summary/",
         "60m_take_3_null_summary/",
         0,
         1733303035000
        ],
        [
         "wasbs://team-3-2-project261@fall2024team32.blob.core.windows.net/60m_take_3_parquet/",
         "60m_take_3_parquet/",
         0,
         1733301811000
        ],
        [
         "wasbs://team-3-2-project261@fall2024team32.blob.core.windows.net/60m_take_3_spearman_corr/",
         "60m_take_3_spearman_corr/",
         0,
         1733346181000
        ],
        [
         "wasbs://team-3-2-project261@fall2024team32.blob.core.windows.net/60m_take_3_summary_statistics/",
         "60m_take_3_summary_statistics/",
         0,
         1733345319000
        ],
        [
         "wasbs://team-3-2-project261@fall2024team32.blob.core.windows.net/60m_take_3_summary_statistics_before_imputing/",
         "60m_take_3_summary_statistics_before_imputing/",
         0,
         1733303158000
        ],
        [
         "wasbs://team-3-2-project261@fall2024team32.blob.core.windows.net/60m_take_4_cancelled_data/",
         "60m_take_4_cancelled_data/",
         0,
         1733351953000
        ],
        [
         "wasbs://team-3-2-project261@fall2024team32.blob.core.windows.net/60m_take_4_diverted_data/",
         "60m_take_4_diverted_data/",
         0,
         1733351963000
        ],
        [
         "wasbs://team-3-2-project261@fall2024team32.blob.core.windows.net/60m_take_4_duplicates_removed/",
         "60m_take_4_duplicates_removed/",
         0,
         1733351829000
        ],
        [
         "wasbs://team-3-2-project261@fall2024team32.blob.core.windows.net/60m_take_4_final/",
         "60m_take_4_final/",
         0,
         1733353994000
        ],
        [
         "wasbs://team-3-2-project261@fall2024team32.blob.core.windows.net/60m_take_4_mean_year_month_destination/",
         "60m_take_4_mean_year_month_destination/",
         0,
         1733352462000
        ],
        [
         "wasbs://team-3-2-project261@fall2024team32.blob.core.windows.net/60m_take_4_mean_year_month_origin/",
         "60m_take_4_mean_year_month_origin/",
         0,
         1733352454000
        ],
        [
         "wasbs://team-3-2-project261@fall2024team32.blob.core.windows.net/60m_take_4_null_summary/",
         "60m_take_4_null_summary/",
         0,
         1733352331000
        ],
        [
         "wasbs://team-3-2-project261@fall2024team32.blob.core.windows.net/60m_take_4_parquet/",
         "60m_take_4_parquet/",
         0,
         1733351330000
        ],
        [
         "wasbs://team-3-2-project261@fall2024team32.blob.core.windows.net/60m_take_4_sorted_data/",
         "60m_take_4_sorted_data/",
         0,
         1733351944000
        ],
        [
         "wasbs://team-3-2-project261@fall2024team32.blob.core.windows.net/60m_take_4_spearman_corr/",
         "60m_take_4_spearman_corr/",
         0,
         1733355318000
        ],
        [
         "wasbs://team-3-2-project261@fall2024team32.blob.core.windows.net/60m_take_4_summary_statistics/",
         "60m_take_4_summary_statistics/",
         0,
         1733354371000
        ],
        [
         "wasbs://team-3-2-project261@fall2024team32.blob.core.windows.net/60m_take_4_summary_statistics_before_imputing/",
         "60m_take_4_summary_statistics_before_imputing/",
         0,
         1733352434000
        ],
        [
         "wasbs://team-3-2-project261@fall2024team32.blob.core.windows.net/IN_12m_fold_1_train_v4/",
         "IN_12m_fold_1_train_v4/",
         0,
         1732828676000
        ],
        [
         "wasbs://team-3-2-project261@fall2024team32.blob.core.windows.net/IN_12m_fold_1_val_v4/",
         "IN_12m_fold_1_val_v4/",
         0,
         1732828730000
        ],
        [
         "wasbs://team-3-2-project261@fall2024team32.blob.core.windows.net/IN_12m_fold_2_train_v4/",
         "IN_12m_fold_2_train_v4/",
         0,
         1732828834000
        ],
        [
         "wasbs://team-3-2-project261@fall2024team32.blob.core.windows.net/IN_12m_fold_2_val_v4/",
         "IN_12m_fold_2_val_v4/",
         0,
         1732828886000
        ],
        [
         "wasbs://team-3-2-project261@fall2024team32.blob.core.windows.net/IN_12m_fold_3_train_v4/",
         "IN_12m_fold_3_train_v4/",
         0,
         1732828983000
        ],
        [
         "wasbs://team-3-2-project261@fall2024team32.blob.core.windows.net/IN_12m_fold_3_val_v4/",
         "IN_12m_fold_3_val_v4/",
         0,
         1732829052000
        ],
        [
         "wasbs://team-3-2-project261@fall2024team32.blob.core.windows.net/IN_12m_fold_4_train_v4/",
         "IN_12m_fold_4_train_v4/",
         0,
         1732829156000
        ],
        [
         "wasbs://team-3-2-project261@fall2024team32.blob.core.windows.net/IN_12m_fold_4_val_v4/",
         "IN_12m_fold_4_val_v4/",
         0,
         1732829210000
        ],
        [
         "wasbs://team-3-2-project261@fall2024team32.blob.core.windows.net/IN_12m_fold_5_train_v4/",
         "IN_12m_fold_5_train_v4/",
         0,
         1732829301000
        ],
        [
         "wasbs://team-3-2-project261@fall2024team32.blob.core.windows.net/IN_12m_fold_5_val_v4/",
         "IN_12m_fold_5_val_v4/",
         0,
         1732829352000
        ],
        [
         "wasbs://team-3-2-project261@fall2024team32.blob.core.windows.net/IN_60m_fold_1_train_v2/",
         "IN_60m_fold_1_train_v2/",
         0,
         1733467187000
        ],
        [
         "wasbs://team-3-2-project261@fall2024team32.blob.core.windows.net/IN_60m_fold_1_train_v3/",
         "IN_60m_fold_1_train_v3/",
         0,
         1733516744000
        ],
        [
         "wasbs://team-3-2-project261@fall2024team32.blob.core.windows.net/IN_60m_fold_1_val_v2/",
         "IN_60m_fold_1_val_v2/",
         0,
         1733467532000
        ],
        [
         "wasbs://team-3-2-project261@fall2024team32.blob.core.windows.net/IN_60m_fold_1_val_v3/",
         "IN_60m_fold_1_val_v3/",
         0,
         1733517120000
        ],
        [
         "wasbs://team-3-2-project261@fall2024team32.blob.core.windows.net/IN_60m_fold_2_train_v2/",
         "IN_60m_fold_2_train_v2/",
         0,
         1733468050000
        ],
        [
         "wasbs://team-3-2-project261@fall2024team32.blob.core.windows.net/IN_60m_fold_2_train_v3/",
         "IN_60m_fold_2_train_v3/",
         0,
         1733517668000
        ],
        [
         "wasbs://team-3-2-project261@fall2024team32.blob.core.windows.net/IN_60m_fold_2_val_v2/",
         "IN_60m_fold_2_val_v2/",
         0,
         1733468407000
        ],
        [
         "wasbs://team-3-2-project261@fall2024team32.blob.core.windows.net/IN_60m_fold_2_val_v3/",
         "IN_60m_fold_2_val_v3/",
         0,
         1733518037000
        ],
        [
         "wasbs://team-3-2-project261@fall2024team32.blob.core.windows.net/IN_60m_fold_3_train_v2/",
         "IN_60m_fold_3_train_v2/",
         0,
         1733468892000
        ],
        [
         "wasbs://team-3-2-project261@fall2024team32.blob.core.windows.net/IN_60m_fold_3_train_v3/",
         "IN_60m_fold_3_train_v3/",
         0,
         1733518613000
        ],
        [
         "wasbs://team-3-2-project261@fall2024team32.blob.core.windows.net/IN_60m_fold_3_val_v2/",
         "IN_60m_fold_3_val_v2/",
         0,
         1733469214000
        ],
        [
         "wasbs://team-3-2-project261@fall2024team32.blob.core.windows.net/IN_60m_fold_3_val_v3/",
         "IN_60m_fold_3_val_v3/",
         0,
         1733518965000
        ],
        [
         "wasbs://team-3-2-project261@fall2024team32.blob.core.windows.net/IN_60m_fold_4_train_v2/",
         "IN_60m_fold_4_train_v2/",
         0,
         1733469747000
        ],
        [
         "wasbs://team-3-2-project261@fall2024team32.blob.core.windows.net/IN_60m_fold_4_train_v3/",
         "IN_60m_fold_4_train_v3/",
         0,
         1733519547000
        ],
        [
         "wasbs://team-3-2-project261@fall2024team32.blob.core.windows.net/IN_60m_fold_4_val_v2/",
         "IN_60m_fold_4_val_v2/",
         0,
         1733470084000
        ],
        [
         "wasbs://team-3-2-project261@fall2024team32.blob.core.windows.net/IN_60m_fold_4_val_v3/",
         "IN_60m_fold_4_val_v3/",
         0,
         1733519925000
        ],
        [
         "wasbs://team-3-2-project261@fall2024team32.blob.core.windows.net/IN_60m_fold_5_train_v2/",
         "IN_60m_fold_5_train_v2/",
         0,
         1733470619000
        ],
        [
         "wasbs://team-3-2-project261@fall2024team32.blob.core.windows.net/IN_60m_fold_5_train_v3/",
         "IN_60m_fold_5_train_v3/",
         0,
         1733520455000
        ],
        [
         "wasbs://team-3-2-project261@fall2024team32.blob.core.windows.net/IN_60m_fold_5_val_v2/",
         "IN_60m_fold_5_val_v2/",
         0,
         1733470980000
        ],
        [
         "wasbs://team-3-2-project261@fall2024team32.blob.core.windows.net/IN_60m_fold_5_val_v3/",
         "IN_60m_fold_5_val_v3/",
         0,
         1733520793000
        ],
        [
         "wasbs://team-3-2-project261@fall2024team32.blob.core.windows.net/IN_best_params_test_xgboost_12m_v2/",
         "IN_best_params_test_xgboost_12m_v2/",
         0,
         1732892823000
        ],
        [
         "wasbs://team-3-2-project261@fall2024team32.blob.core.windows.net/IN_best_params_test_xgboost_12m_v3/",
         "IN_best_params_test_xgboost_12m_v3/",
         0,
         1733194055000
        ],
        [
         "wasbs://team-3-2-project261@fall2024team32.blob.core.windows.net/IN_best_params_test_xgboost_60m_v2/",
         "IN_best_params_test_xgboost_60m_v2/",
         0,
         1733513218000
        ],
        [
         "wasbs://team-3-2-project261@fall2024team32.blob.core.windows.net/IN_best_params_test_xgboost_60m_v3_1/",
         "IN_best_params_test_xgboost_60m_v3_1/",
         0,
         1733625513000
        ],
        [
         "wasbs://team-3-2-project261@fall2024team32.blob.core.windows.net/IN_best_params_test_xgboost_60m_v3_2/",
         "IN_best_params_test_xgboost_60m_v3_2/",
         0,
         1733629120000
        ],
        [
         "wasbs://team-3-2-project261@fall2024team32.blob.core.windows.net/IN_best_params_test_xgboost_60m_v3_3/",
         "IN_best_params_test_xgboost_60m_v3_3/",
         0,
         1733668710000
        ],
        [
         "wasbs://team-3-2-project261@fall2024team32.blob.core.windows.net/IN_best_params_test_xgboost_60m_v3_comb/",
         "IN_best_params_test_xgboost_60m_v3_comb/",
         0,
         1733678222000
        ],
        [
         "wasbs://team-3-2-project261@fall2024team32.blob.core.windows.net/IN_best_params_test_xgboost_v1/",
         "IN_best_params_test_xgboost_v1/",
         0,
         1732827177000
        ],
        [
         "wasbs://team-3-2-project261@fall2024team32.blob.core.windows.net/IN_cv_results_test_xgboost_12m_v2/",
         "IN_cv_results_test_xgboost_12m_v2/",
         0,
         1732892826000
        ],
        [
         "wasbs://team-3-2-project261@fall2024team32.blob.core.windows.net/IN_cv_results_test_xgboost_12m_v3/",
         "IN_cv_results_test_xgboost_12m_v3/",
         0,
         1733194057000
        ],
        [
         "wasbs://team-3-2-project261@fall2024team32.blob.core.windows.net/IN_cv_results_test_xgboost_60m_v2/",
         "IN_cv_results_test_xgboost_60m_v2/",
         0,
         1733513219000
        ],
        [
         "wasbs://team-3-2-project261@fall2024team32.blob.core.windows.net/IN_cv_results_test_xgboost_60m_v3_1/",
         "IN_cv_results_test_xgboost_60m_v3_1/",
         0,
         1733625518000
        ],
        [
         "wasbs://team-3-2-project261@fall2024team32.blob.core.windows.net/IN_cv_results_test_xgboost_60m_v3_2/",
         "IN_cv_results_test_xgboost_60m_v3_2/",
         0,
         1733629130000
        ],
        [
         "wasbs://team-3-2-project261@fall2024team32.blob.core.windows.net/IN_cv_results_test_xgboost_60m_v3_3/",
         "IN_cv_results_test_xgboost_60m_v3_3/",
         0,
         1733668712000
        ],
        [
         "wasbs://team-3-2-project261@fall2024team32.blob.core.windows.net/IN_cv_results_test_xgboost_60m_v3_comb/",
         "IN_cv_results_test_xgboost_60m_v3_comb/",
         0,
         1733678226000
        ],
        [
         "wasbs://team-3-2-project261@fall2024team32.blob.core.windows.net/IN_saved_xgboost_model_v3_12m/",
         "IN_saved_xgboost_model_v3_12m/",
         0,
         1733429895000
        ],
        [
         "wasbs://team-3-2-project261@fall2024team32.blob.core.windows.net/IN_xgboost_model_v3_12m/",
         "IN_xgboost_model_v3_12m/",
         0,
         1733456859000
        ],
        [
         "wasbs://team-3-2-project261@fall2024team32.blob.core.windows.net/MM_RFC_grid_results_1/",
         "MM_RFC_grid_results_1/",
         0,
         1733107508000
        ],
        [
         "wasbs://team-3-2-project261@fall2024team32.blob.core.windows.net/MM_RFC_grid_results_2/",
         "MM_RFC_grid_results_2/",
         0,
         1733240932000
        ],
        [
         "wasbs://team-3-2-project261@fall2024team32.blob.core.windows.net/MM_RFC_grid_results_3/",
         "MM_RFC_grid_results_3/",
         0,
         1733536336000
        ],
        [
         "wasbs://team-3-2-project261@fall2024team32.blob.core.windows.net/MM_RFC_grid_results_4/",
         "MM_RFC_grid_results_4/",
         0,
         1733587384000
        ],
        [
         "wasbs://team-3-2-project261@fall2024team32.blob.core.windows.net/MM_RFC_grid_results_5/",
         "MM_RFC_grid_results_5/",
         0,
         1733608672000
        ],
        [
         "wasbs://team-3-2-project261@fall2024team32.blob.core.windows.net/MM_RF_MODEL/",
         "MM_RF_MODEL/",
         0,
         1733366925000
        ],
        [
         "wasbs://team-3-2-project261@fall2024team32.blob.core.windows.net/MM_RF_MODEL_T10_D10/",
         "MM_RF_MODEL_T10_D10/",
         0,
         1733531143000
        ],
        [
         "wasbs://team-3-2-project261@fall2024team32.blob.core.windows.net/MM_RF_MODEL_T10_D25/",
         "MM_RF_MODEL_T10_D25/",
         0,
         1733368235000
        ],
        [
         "wasbs://team-3-2-project261@fall2024team32.blob.core.windows.net/MM_RF_MODEL_T10_D5/",
         "MM_RF_MODEL_T10_D5/",
         0,
         1733531089000
        ],
        [
         "wasbs://team-3-2-project261@fall2024team32.blob.core.windows.net/MM_RF_MODEL_T20_D10/",
         "MM_RF_MODEL_T20_D10/",
         0,
         1733531255000
        ],
        [
         "wasbs://team-3-2-project261@fall2024team32.blob.core.windows.net/MM_RF_MODEL_T20_D5/",
         "MM_RF_MODEL_T20_D5/",
         0,
         1733531193000
        ],
        [
         "wasbs://team-3-2-project261@fall2024team32.blob.core.windows.net/MM_RF_MODEL_T30_D10/",
         "MM_RF_MODEL_T30_D10/",
         0,
         1733532242000
        ],
        [
         "wasbs://team-3-2-project261@fall2024team32.blob.core.windows.net/MM_RF_MODEL_T30_D15/",
         "MM_RF_MODEL_T30_D15/",
         0,
         1733609592000
        ],
        [
         "wasbs://team-3-2-project261@fall2024team32.blob.core.windows.net/MM_RF_MODEL_T40_D10/",
         "MM_RF_MODEL_T40_D10/",
         0,
         1733531764000
        ],
        [
         "wasbs://team-3-2-project261@fall2024team32.blob.core.windows.net/MM_RF_MODEL_T40_D15/",
         "MM_RF_MODEL_T40_D15/",
         0,
         1733545237000
        ],
        [
         "wasbs://team-3-2-project261@fall2024team32.blob.core.windows.net/MM_RF_MODEL_T5_D10/",
         "MM_RF_MODEL_T5_D10/",
         0,
         1733528985000
        ],
        [
         "wasbs://team-3-2-project261@fall2024team32.blob.core.windows.net/MM_RF_MODEL_T5_D5/",
         "MM_RF_MODEL_T5_D5/",
         0,
         1733528933000
        ],
        [
         "wasbs://team-3-2-project261@fall2024team32.blob.core.windows.net/clean_data_3m_parquet/",
         "clean_data_3m_parquet/",
         0,
         1732946343000
        ],
        [
         "wasbs://team-3-2-project261@fall2024team32.blob.core.windows.net/data_cleaned_ordered_with_feature_engineerings_12m/",
         "data_cleaned_ordered_with_feature_engineerings_12m/",
         0,
         1732306150000
        ],
        [
         "wasbs://team-3-2-project261@fall2024team32.blob.core.windows.net/data_cleaned_ordered_with_feature_engineerings_12m_v2/",
         "data_cleaned_ordered_with_feature_engineerings_12m_v2/",
         0,
         1732607402000
        ],
        [
         "wasbs://team-3-2-project261@fall2024team32.blob.core.windows.net/data_cleaned_ordered_with_feature_engineerings_12m_v3/",
         "data_cleaned_ordered_with_feature_engineerings_12m_v3/",
         0,
         1732715668000
        ],
        [
         "wasbs://team-3-2-project261@fall2024team32.blob.core.windows.net/data_cleaned_ordered_with_feature_engineerings_12m_v4/",
         "data_cleaned_ordered_with_feature_engineerings_12m_v4/",
         0,
         1732777212000
        ],
        [
         "wasbs://team-3-2-project261@fall2024team32.blob.core.windows.net/data_cleaned_ordered_with_feature_engineerings_12m_v5/",
         "data_cleaned_ordered_with_feature_engineerings_12m_v5/",
         0,
         1732936321000
        ],
        [
         "wasbs://team-3-2-project261@fall2024team32.blob.core.windows.net/data_cleaned_ordered_with_feature_engineerings_3m/",
         "data_cleaned_ordered_with_feature_engineerings_3m/",
         0,
         1732674212000
        ],
        [
         "wasbs://team-3-2-project261@fall2024team32.blob.core.windows.net/data_cleaned_ordered_with_feature_engineerings_3m_v2/",
         "data_cleaned_ordered_with_feature_engineerings_3m_v2/",
         0,
         1732598002000
        ],
        [
         "wasbs://team-3-2-project261@fall2024team32.blob.core.windows.net/data_cleaned_ordered_with_feature_engineerings_3m_v3/",
         "data_cleaned_ordered_with_feature_engineerings_3m_v3/",
         0,
         1732694796000
        ],
        [
         "wasbs://team-3-2-project261@fall2024team32.blob.core.windows.net/data_cleaned_ordered_with_feature_engineerings_3m_v4/",
         "data_cleaned_ordered_with_feature_engineerings_3m_v4/",
         0,
         1732748553000
        ],
        [
         "wasbs://team-3-2-project261@fall2024team32.blob.core.windows.net/data_cleaned_ordered_with_feature_engineerings_60m_v1/",
         "data_cleaned_ordered_with_feature_engineerings_60m_v1/",
         0,
         1733450392000
        ],
        [
         "wasbs://team-3-2-project261@fall2024team32.blob.core.windows.net/data_cleaned_ordered_with_feature_engineerings_60m_v2/",
         "data_cleaned_ordered_with_feature_engineerings_60m_v2/",
         0,
         1733459965000
        ],
        [
         "wasbs://team-3-2-project261@fall2024team32.blob.core.windows.net/data_cleaned_ordered_with_feature_engineerings_60m_v3/",
         "data_cleaned_ordered_with_feature_engineerings_60m_v3/",
         0,
         1733513782000
        ],
        [
         "wasbs://team-3-2-project261@fall2024team32.blob.core.windows.net/data_cleaned_ordered_with_feature_engineerings_60m_v4/",
         "data_cleaned_ordered_with_feature_engineerings_60m_v4/",
         0,
         1733686178000
        ],
        [
         "wasbs://team-3-2-project261@fall2024team32.blob.core.windows.net/data_cleaned_ordered_with_lag_feature_60m_v1/",
         "data_cleaned_ordered_with_lag_feature_60m_v1/",
         0,
         1733371510000
        ],
        [
         "wasbs://team-3-2-project261@fall2024team32.blob.core.windows.net/data_cleaned_with_lag_feature_60m_v1/",
         "data_cleaned_with_lag_feature_60m_v1/",
         0,
         1733446792000
        ],
        [
         "wasbs://team-3-2-project261@fall2024team32.blob.core.windows.net/data_col_cleaned_fe_test/",
         "data_col_cleaned_fe_test/",
         0,
         1732145545000
        ],
        [
         "wasbs://team-3-2-project261@fall2024team32.blob.core.windows.net/data_col_cleaned_fe_ts_features/",
         "data_col_cleaned_fe_ts_features/",
         0,
         1732148939000
        ],
        [
         "wasbs://team-3-2-project261@fall2024team32.blob.core.windows.net/data_col_cleaned_fe_with_new_features_3m/",
         "data_col_cleaned_fe_with_new_features_3m/",
         0,
         1732149056000
        ],
        [
         "wasbs://team-3-2-project261@fall2024team32.blob.core.windows.net/data_col_cleaned_with_all_feature_engineerings_3m/",
         "data_col_cleaned_with_all_feature_engineerings_3m/",
         0,
         1732168298000
        ],
        [
         "wasbs://team-3-2-project261@fall2024team32.blob.core.windows.net/data_encoded_scaled_12m/",
         "data_encoded_scaled_12m/",
         0,
         1731787432000
        ],
        [
         "wasbs://team-3-2-project261@fall2024team32.blob.core.windows.net/data_encoded_scaled_3m/",
         "data_encoded_scaled_3m/",
         0,
         1732159425000
        ],
        [
         "wasbs://team-3-2-project261@fall2024team32.blob.core.windows.net/data_encoded_scaled_ordered_3m/",
         "data_encoded_scaled_ordered_3m/",
         0,
         1732159452000
        ],
        [
         "wasbs://team-3-2-project261@fall2024team32.blob.core.windows.net/df_new_rolling_window_forecast_3m/",
         "df_new_rolling_window_forecast_3m/",
         0,
         1732145461000
        ],
        [
         "wasbs://team-3-2-project261@fall2024team32.blob.core.windows.net/df_new_weekly_rolling_window_forecast_3m/",
         "df_new_weekly_rolling_window_forecast_3m/",
         0,
         1732148957000
        ],
        [
         "wasbs://team-3-2-project261@fall2024team32.blob.core.windows.net/null_summary_3m_parquet/",
         "null_summary_3m_parquet/",
         0,
         1731291980000
        ],
        [
         "wasbs://team-3-2-project261@fall2024team32.blob.core.windows.net/phase1_otpw_null_counts_sp/",
         "phase1_otpw_null_counts_sp/",
         0,
         1730350949000
        ],
        [
         "wasbs://team-3-2-project261@fall2024team32.blob.core.windows.net/scaled_cols_12m_v5/",
         "scaled_cols_12m_v5/",
         0,
         1732950113000
        ],
        [
         "wasbs://team-3-2-project261@fall2024team32.blob.core.windows.net/scaled_cols_60m_v1/",
         "scaled_cols_60m_v1/",
         0,
         1733451549000
        ],
        [
         "wasbs://team-3-2-project261@fall2024team32.blob.core.windows.net/scaled_cols_60m_v2/",
         "scaled_cols_60m_v2/",
         0,
         1733465666000
        ],
        [
         "wasbs://team-3-2-project261@fall2024team32.blob.core.windows.net/scaled_cols_60m_v3/",
         "scaled_cols_60m_v3/",
         0,
         1733515757000
        ],
        [
         "wasbs://team-3-2-project261@fall2024team32.blob.core.windows.net/scaled_cols_60m_v4/",
         "scaled_cols_60m_v4/",
         0,
         1733687344000
        ],
        [
         "wasbs://team-3-2-project261@fall2024team32.blob.core.windows.net/spearman_corr_3m_parquet/",
         "spearman_corr_3m_parquet/",
         0,
         1732239991000
        ],
        [
         "wasbs://team-3-2-project261@fall2024team32.blob.core.windows.net/spearman_corr_df_1/",
         "spearman_corr_df_1/",
         0,
         1730680822000
        ],
        [
         "wasbs://team-3-2-project261@fall2024team32.blob.core.windows.net/summary_3m_parquet/",
         "summary_3m_parquet/",
         0,
         1730705001000
        ],
        [
         "wasbs://team-3-2-project261@fall2024team32.blob.core.windows.net/test_data_encoded_scaled_3m/",
         "test_data_encoded_scaled_3m/",
         0,
         1732221664000
        ],
        [
         "wasbs://team-3-2-project261@fall2024team32.blob.core.windows.net/test_data_encoded_scaled_ordered_12m/",
         "test_data_encoded_scaled_ordered_12m/",
         0,
         1732402691000
        ],
        [
         "wasbs://team-3-2-project261@fall2024team32.blob.core.windows.net/test_data_encoded_scaled_ordered_12m_20241122/",
         "test_data_encoded_scaled_ordered_12m_20241122/",
         0,
         1732326096000
        ],
        [
         "wasbs://team-3-2-project261@fall2024team32.blob.core.windows.net/test_data_encoded_scaled_ordered_12m_v2/",
         "test_data_encoded_scaled_ordered_12m_v2/",
         0,
         1732611486000
        ],
        [
         "wasbs://team-3-2-project261@fall2024team32.blob.core.windows.net/test_data_encoded_scaled_ordered_12m_v3/",
         "test_data_encoded_scaled_ordered_12m_v3/",
         0,
         1732723217000
        ],
        [
         "wasbs://team-3-2-project261@fall2024team32.blob.core.windows.net/test_data_encoded_scaled_ordered_12m_v4/",
         "test_data_encoded_scaled_ordered_12m_v4/",
         0,
         1732797807000
        ],
        [
         "wasbs://team-3-2-project261@fall2024team32.blob.core.windows.net/test_data_encoded_scaled_ordered_12m_v5/",
         "test_data_encoded_scaled_ordered_12m_v5/",
         0,
         1732950029000
        ],
        [
         "wasbs://team-3-2-project261@fall2024team32.blob.core.windows.net/test_data_encoded_scaled_ordered_3m/",
         "test_data_encoded_scaled_ordered_3m/",
         0,
         1732412332000
        ],
        [
         "wasbs://team-3-2-project261@fall2024team32.blob.core.windows.net/test_data_encoded_scaled_ordered_3m_v2/",
         "test_data_encoded_scaled_ordered_3m_v2/",
         0,
         1732600034000
        ],
        [
         "wasbs://team-3-2-project261@fall2024team32.blob.core.windows.net/test_data_encoded_scaled_ordered_3m_v3/",
         "test_data_encoded_scaled_ordered_3m_v3/",
         0,
         1732696186000
        ],
        [
         "wasbs://team-3-2-project261@fall2024team32.blob.core.windows.net/test_data_encoded_scaled_ordered_3m_v4/",
         "test_data_encoded_scaled_ordered_3m_v4/",
         0,
         1732750486000
        ],
        [
         "wasbs://team-3-2-project261@fall2024team32.blob.core.windows.net/test_data_encoded_scaled_ordered_60m_v1/",
         "test_data_encoded_scaled_ordered_60m_v1/",
         0,
         1733451545000
        ],
        [
         "wasbs://team-3-2-project261@fall2024team32.blob.core.windows.net/test_data_encoded_scaled_ordered_60m_v2/",
         "test_data_encoded_scaled_ordered_60m_v2/",
         0,
         1733465665000
        ],
        [
         "wasbs://team-3-2-project261@fall2024team32.blob.core.windows.net/test_data_encoded_scaled_ordered_60m_v3/",
         "test_data_encoded_scaled_ordered_60m_v3/",
         0,
         1733515752000
        ],
        [
         "wasbs://team-3-2-project261@fall2024team32.blob.core.windows.net/test_data_encoded_scaled_ordered_60m_v4/",
         "test_data_encoded_scaled_ordered_60m_v4/",
         0,
         1733687339000
        ],
        [
         "wasbs://team-3-2-project261@fall2024team32.blob.core.windows.net/train_val_data_encoded_scaled_3m/",
         "train_val_data_encoded_scaled_3m/",
         0,
         1732228633000
        ],
        [
         "wasbs://team-3-2-project261@fall2024team32.blob.core.windows.net/train_val_data_encoded_scaled_ordered_12m/",
         "train_val_data_encoded_scaled_ordered_12m/",
         0,
         1732402683000
        ],
        [
         "wasbs://team-3-2-project261@fall2024team32.blob.core.windows.net/train_val_data_encoded_scaled_ordered_12m_20241122/",
         "train_val_data_encoded_scaled_ordered_12m_20241122/",
         0,
         1732326090000
        ],
        [
         "wasbs://team-3-2-project261@fall2024team32.blob.core.windows.net/train_val_data_encoded_scaled_ordered_12m_v2/",
         "train_val_data_encoded_scaled_ordered_12m_v2/",
         0,
         1732611480000
        ],
        [
         "wasbs://team-3-2-project261@fall2024team32.blob.core.windows.net/train_val_data_encoded_scaled_ordered_12m_v3/",
         "train_val_data_encoded_scaled_ordered_12m_v3/",
         0,
         1732723180000
        ],
        [
         "wasbs://team-3-2-project261@fall2024team32.blob.core.windows.net/train_val_data_encoded_scaled_ordered_12m_v4/",
         "train_val_data_encoded_scaled_ordered_12m_v4/",
         0,
         1732797698000
        ],
        [
         "wasbs://team-3-2-project261@fall2024team32.blob.core.windows.net/train_val_data_encoded_scaled_ordered_12m_v5/",
         "train_val_data_encoded_scaled_ordered_12m_v5/",
         0,
         1732949931000
        ],
        [
         "wasbs://team-3-2-project261@fall2024team32.blob.core.windows.net/train_val_data_encoded_scaled_ordered_3m/",
         "train_val_data_encoded_scaled_ordered_3m/",
         0,
         1732412322000
        ],
        [
         "wasbs://team-3-2-project261@fall2024team32.blob.core.windows.net/train_val_data_encoded_scaled_ordered_3m_v2/",
         "train_val_data_encoded_scaled_ordered_3m_v2/",
         0,
         1732600027000
        ],
        [
         "wasbs://team-3-2-project261@fall2024team32.blob.core.windows.net/train_val_data_encoded_scaled_ordered_3m_v3/",
         "train_val_data_encoded_scaled_ordered_3m_v3/",
         0,
         1732696127000
        ],
        [
         "wasbs://team-3-2-project261@fall2024team32.blob.core.windows.net/train_val_data_encoded_scaled_ordered_3m_v4/",
         "train_val_data_encoded_scaled_ordered_3m_v4/",
         0,
         1732750482000
        ],
        [
         "wasbs://team-3-2-project261@fall2024team32.blob.core.windows.net/train_val_data_encoded_scaled_ordered_60m_v1/",
         "train_val_data_encoded_scaled_ordered_60m_v1/",
         0,
         1733451526000
        ],
        [
         "wasbs://team-3-2-project261@fall2024team32.blob.core.windows.net/train_val_data_encoded_scaled_ordered_60m_v2/",
         "train_val_data_encoded_scaled_ordered_60m_v2/",
         0,
         1733465651000
        ],
        [
         "wasbs://team-3-2-project261@fall2024team32.blob.core.windows.net/train_val_data_encoded_scaled_ordered_60m_v3/",
         "train_val_data_encoded_scaled_ordered_60m_v3/",
         0,
         1733515730000
        ],
        [
         "wasbs://team-3-2-project261@fall2024team32.blob.core.windows.net/train_val_data_encoded_scaled_ordered_60m_v4/",
         "train_val_data_encoded_scaled_ordered_60m_v4/",
         0,
         1733687319000
        ]
       ],
       "datasetInfos": [],
       "dbfsResultPath": null,
       "isJsonSchema": true,
       "metadata": {},
       "overflow": false,
       "plotOptions": {
        "customPlotOptions": {},
        "displayType": "table",
        "pivotAggregation": null,
        "pivotColumns": null,
        "xColumns": null,
        "yColumns": null
       },
       "removedWidgets": [],
       "schema": [
        {
         "metadata": "{}",
         "name": "path",
         "type": "\"string\""
        },
        {
         "metadata": "{}",
         "name": "name",
         "type": "\"string\""
        },
        {
         "metadata": "{}",
         "name": "size",
         "type": "\"long\""
        },
        {
         "metadata": "{}",
         "name": "modificationTime",
         "type": "\"long\""
        }
       ],
       "type": "table"
      }
     },
     "output_type": "display_data"
    }
   ],
   "source": [
    "# IN check the listing in team blob\n",
    "display(dbutils.fs.ls(f\"{team_blob_url}\"))"
   ]
  },
  {
   "cell_type": "code",
   "execution_count": 0,
   "metadata": {
    "application/vnd.databricks.v1+cell": {
     "cellMetadata": {
      "byteLimit": 2048000,
      "rowLimit": 10000
     },
     "collapsed": true,
     "inputWidgets": {},
     "nuid": "10f504d4-a7a9-401d-b1f2-57384c139bdb",
     "showTitle": false,
     "tableResultSettingsMap": {},
     "title": ""
    }
   },
   "outputs": [
    {
     "output_type": "execute_result",
     "data": {
      "text/plain": [
       "True"
      ]
     },
     "execution_count": 27,
     "metadata": {},
     "output_type": "execute_result"
    }
   ],
   "source": [
    "# Deleting some blob content to make room\n",
    "dbutils.fs.rm(f'{team_blob_url}/IN_NA_fold_1_train_NA/', recurse=True)\n",
    "dbutils.fs.rm(f'{team_blob_url}/IN_NA_fold_1_val_NA/', recurse=True)\n",
    "dbutils.fs.rm(f'{team_blob_url}/IN_NA_fold_2_train_NA/', recurse=True)\n",
    "dbutils.fs.rm(f'{team_blob_url}/IN_NA_fold_2_val_NA/', recurse=True)\n",
    "dbutils.fs.rm(f'{team_blob_url}/IN_NA_fold_3_train_NA/', recurse=True)\n",
    "dbutils.fs.rm(f'{team_blob_url}/IN_NA_fold_3_val_NA/', recurse=True)\n",
    "dbutils.fs.rm(f'{team_blob_url}/IN_NA_fold_4_train_NA/', recurse=True)\n",
    "dbutils.fs.rm(f'{team_blob_url}/IN_NA_fold_4_val_NA/', recurse=True)\n",
    "dbutils.fs.rm(f'{team_blob_url}/IN_NA_fold_5_train_NA/', recurse=True)\n",
    "dbutils.fs.rm(f'{team_blob_url}/IN_NA_fold_5_val_NA/', recurse=True)\n",
    "\n",
    "dbutils.fs.rm(f'{team_blob_url}/60m_take_3_sorted_data/', recurse=True)\n",
    "\n",
    "dbutils.fs.rm(f'{team_blob_url}/20241117_cols_to_be_assembled_lr_12m//', recurse=True)\n",
    "dbutils.fs.rm(f'{team_blob_url}/20241117_cols_to_be_assembled_lr_12m_backup//', recurse=True)\n",
    "dbutils.fs.rm(f'{team_blob_url}/20241117_data_encoded_scaled_12m//', recurse=True)\n",
    "dbutils.fs.rm(f'{team_blob_url}/20241117_data_encoded_scaled_12m_backup//', recurse=True)\n",
    "dbutils.fs.rm(f'{team_blob_url}/20241117_data_encoded_scaled_ordered_12m//', recurse=True)\n",
    "dbutils.fs.rm(f'{team_blob_url}/20241117_data_encoded_scaled_ordered_12m_backup//', recurse=True)\n",
    "dbutils.fs.rm(f'{team_blob_url}/20241118_fold_1_train//', recurse=True)\n",
    "dbutils.fs.rm(f'{team_blob_url}/20241118_fold_1_train_10pctval//', recurse=True)\n",
    "dbutils.fs.rm(f'{team_blob_url}/20241118_fold_1_val//', recurse=True)\n",
    "dbutils.fs.rm(f'{team_blob_url}/20241118_fold_1_val_10pctval//', recurse=True)\n",
    "dbutils.fs.rm(f'{team_blob_url}/20241118_fold_2_train//', recurse=True)\n",
    "dbutils.fs.rm(f'{team_blob_url}/20241118_fold_2_val//', recurse=True)\n",
    "\n",
    "dbutils.fs.rm(f'{team_blob_url}/20241118_fold_2_val_10pctval///', recurse=True)\n",
    "dbutils.fs.rm(f'{team_blob_url}/20241118_fold_3_val///', recurse=True)\n",
    "dbutils.fs.rm(f'{team_blob_url}/20241118_fold_3_val_10pctval///', recurse=True)\n",
    "dbutils.fs.rm(f'{team_blob_url}/20241118_fold_4_train///', recurse=True)\n",
    "dbutils.fs.rm(f'{team_blob_url}/20241118_fold_4_train_10pctval///', recurse=True)\n",
    "dbutils.fs.rm(f'{team_blob_url}/20241118_fold_5_train///', recurse=True)\n",
    "\n",
    "dbutils.fs.rm(f'{team_blob_url}/20241118_fold_5_train_10pctval///', recurse=True)\n",
    "dbutils.fs.rm(f'{team_blob_url}/20241118_test_10pctval////', recurse=True)\n",
    "\n",
    "dbutils.fs.rm(f'{team_blob_url}/20241118_fold_2_train_10pctval///', recurse=True)\n",
    "dbutils.fs.rm(f'{team_blob_url}/20241118_fold_3_train///', recurse=True)\n",
    "dbutils.fs.rm(f'{team_blob_url}/20241118_fold_3_train_10pctval///', recurse=True)\n",
    "dbutils.fs.rm(f'{team_blob_url}/20241118_fold_4_val///', recurse=True)\n",
    "\n",
    "\n",
    "dbutils.fs.rm(f'{team_blob_url}/20241118_fold_4_val_10pctval////', recurse=True)\n",
    "dbutils.fs.rm(f'{team_blob_url}/20241118_fold_5_val////', recurse=True)\n",
    "dbutils.fs.rm(f'{team_blob_url}/20241118_fold_5_val_10pctval////', recurse=True)\n",
    "dbutils.fs.rm(f'{team_blob_url}/20241118_test////', recurse=True)\n",
    "\n",
    "\n",
    "dbutils.fs.rm(f'{team_blob_url}/TP/////', recurse=True)\n",
    "dbutils.fs.rm(f'{team_blob_url}/TP2/////', recurse=True)\n",
    "dbutils.fs.rm(f'{team_blob_url}/phase1/////', recurse=True)\n"
   ]
  },
  {
   "cell_type": "markdown",
   "metadata": {
    "application/vnd.databricks.v1+cell": {
     "cellMetadata": {
      "byteLimit": 2048000,
      "rowLimit": 10000
     },
     "inputWidgets": {},
     "nuid": "4af9a84b-45f0-4b2a-a66e-2b33e2512a11",
     "showTitle": false,
     "tableResultSettingsMap": {},
     "title": ""
    }
   },
   "source": [
    "\n",
    "# Know your mount\n",
    "Here is the mounting for this class, your source for the original data! Remember, you only have Read access, not Write! Also, become familiar with `dbutils` the equivalent of `gcp` in DataProc"
   ]
  },
  {
   "cell_type": "code",
   "execution_count": 0,
   "metadata": {
    "application/vnd.databricks.v1+cell": {
     "cellMetadata": {
      "byteLimit": 2048000,
      "rowLimit": 10000
     },
     "inputWidgets": {},
     "nuid": "8ea5cf50-f7c0-415d-9894-734ac509088c",
     "showTitle": false,
     "tableResultSettingsMap": {},
     "title": ""
    }
   },
   "outputs": [
    {
     "output_type": "display_data",
     "data": {
      "text/html": [
       "<style scoped>\n",
       "  .table-result-container {\n",
       "    max-height: 300px;\n",
       "    overflow: auto;\n",
       "  }\n",
       "  table, th, td {\n",
       "    border: 1px solid black;\n",
       "    border-collapse: collapse;\n",
       "  }\n",
       "  th, td {\n",
       "    padding: 5px;\n",
       "  }\n",
       "  th {\n",
       "    text-align: left;\n",
       "  }\n",
       "</style><div class='table-result-container'><table class='table-result'><thead style='background-color: white'><tr><th>path</th><th>name</th><th>size</th><th>modificationTime</th></tr></thead><tbody><tr><td>dbfs:/mnt/mids-w261/2014_flights/</td><td>2014_flights/</td><td>0</td><td>1731598242000</td></tr><tr><td>dbfs:/mnt/mids-w261/HW5/</td><td>HW5/</td><td>0</td><td>0</td></tr><tr><td>dbfs:/mnt/mids-w261/OTPW_12M/</td><td>OTPW_12M/</td><td>0</td><td>1721794777000</td></tr><tr><td>dbfs:/mnt/mids-w261/OTPW_12M_2015.parquet/</td><td>OTPW_12M_2015.parquet/</td><td>0</td><td>1721930011000</td></tr><tr><td>dbfs:/mnt/mids-w261/OTPW_12M_2015_cleaned_sorted.parquet/</td><td>OTPW_12M_2015_cleaned_sorted.parquet/</td><td>0</td><td>1731788138000</td></tr><tr><td>dbfs:/mnt/mids-w261/OTPW_12M_2015_sorted.parquet/</td><td>OTPW_12M_2015_sorted.parquet/</td><td>0</td><td>1731652365000</td></tr><tr><td>dbfs:/mnt/mids-w261/OTPW_1D_CSV/</td><td>OTPW_1D_CSV/</td><td>0</td><td>0</td></tr><tr><td>dbfs:/mnt/mids-w261/OTPW_36M/</td><td>OTPW_36M/</td><td>0</td><td>0</td></tr><tr><td>dbfs:/mnt/mids-w261/OTPW_3M/</td><td>OTPW_3M/</td><td>0</td><td>1721832995000</td></tr><tr><td>dbfs:/mnt/mids-w261/OTPW_3M_2015.csv</td><td>OTPW_3M_2015.csv</td><td>1500620247</td><td>1679772070000</td></tr><tr><td>dbfs:/mnt/mids-w261/OTPW_3M_2015.parquet/</td><td>OTPW_3M_2015.parquet/</td><td>0</td><td>1721605420000</td></tr><tr><td>dbfs:/mnt/mids-w261/OTPW_3M_2015_cleaned_sorted.parquet/</td><td>OTPW_3M_2015_cleaned_sorted.parquet/</td><td>0</td><td>1731788153000</td></tr><tr><td>dbfs:/mnt/mids-w261/OTPW_3M_2015_parquet/</td><td>OTPW_3M_2015_parquet/</td><td>0</td><td>1731538428000</td></tr><tr><td>dbfs:/mnt/mids-w261/OTPW_3M_2015_sorted.parquet/</td><td>OTPW_3M_2015_sorted.parquet/</td><td>0</td><td>1731301112000</td></tr><tr><td>dbfs:/mnt/mids-w261/OTPW_60M/</td><td>OTPW_60M/</td><td>0</td><td>1722391443000</td></tr><tr><td>dbfs:/mnt/mids-w261/airport-codes_csv.csv</td><td>airport-codes_csv.csv</td><td>6232459</td><td>1677623514000</td></tr><tr><td>dbfs:/mnt/mids-w261/ak/</td><td>ak/</td><td>0</td><td>1731700560000</td></tr><tr><td>dbfs:/mnt/mids-w261/datasets_final_project/</td><td>datasets_final_project/</td><td>0</td><td>1722025627000</td></tr><tr><td>dbfs:/mnt/mids-w261/datasets_final_project_2022/</td><td>datasets_final_project_2022/</td><td>0</td><td>1722025903000</td></tr><tr><td>dbfs:/mnt/mids-w261/df_joined.parquet/</td><td>df_joined.parquet/</td><td>0</td><td>1731125169000</td></tr><tr><td>dbfs:/mnt/mids-w261/flights/</td><td>flights/</td><td>0</td><td>1731730441000</td></tr><tr><td>dbfs:/mnt/mids-w261/jdh/</td><td>jdh/</td><td>0</td><td>1731368078000</td></tr><tr><td>dbfs:/mnt/mids-w261/prophet_forecast.parquet/</td><td>prophet_forecast.parquet/</td><td>0</td><td>1731645434000</td></tr><tr><td>dbfs:/mnt/mids-w261/weather/</td><td>weather/</td><td>0</td><td>1731706158000</td></tr></tbody></table></div>"
      ]
     },
     "metadata": {
      "application/vnd.databricks.v1+output": {
       "addedWidgets": {},
       "aggData": [],
       "aggError": "",
       "aggOverflow": false,
       "aggSchema": [],
       "aggSeriesLimitReached": false,
       "aggType": "",
       "arguments": {},
       "columnCustomDisplayInfos": {},
       "data": [
        [
         "dbfs:/mnt/mids-w261/2014_flights/",
         "2014_flights/",
         0,
         1731598242000
        ],
        [
         "dbfs:/mnt/mids-w261/HW5/",
         "HW5/",
         0,
         0
        ],
        [
         "dbfs:/mnt/mids-w261/OTPW_12M/",
         "OTPW_12M/",
         0,
         1721794777000
        ],
        [
         "dbfs:/mnt/mids-w261/OTPW_12M_2015.parquet/",
         "OTPW_12M_2015.parquet/",
         0,
         1721930011000
        ],
        [
         "dbfs:/mnt/mids-w261/OTPW_12M_2015_cleaned_sorted.parquet/",
         "OTPW_12M_2015_cleaned_sorted.parquet/",
         0,
         1731788138000
        ],
        [
         "dbfs:/mnt/mids-w261/OTPW_12M_2015_sorted.parquet/",
         "OTPW_12M_2015_sorted.parquet/",
         0,
         1731652365000
        ],
        [
         "dbfs:/mnt/mids-w261/OTPW_1D_CSV/",
         "OTPW_1D_CSV/",
         0,
         0
        ],
        [
         "dbfs:/mnt/mids-w261/OTPW_36M/",
         "OTPW_36M/",
         0,
         0
        ],
        [
         "dbfs:/mnt/mids-w261/OTPW_3M/",
         "OTPW_3M/",
         0,
         1721832995000
        ],
        [
         "dbfs:/mnt/mids-w261/OTPW_3M_2015.csv",
         "OTPW_3M_2015.csv",
         1500620247,
         1679772070000
        ],
        [
         "dbfs:/mnt/mids-w261/OTPW_3M_2015.parquet/",
         "OTPW_3M_2015.parquet/",
         0,
         1721605420000
        ],
        [
         "dbfs:/mnt/mids-w261/OTPW_3M_2015_cleaned_sorted.parquet/",
         "OTPW_3M_2015_cleaned_sorted.parquet/",
         0,
         1731788153000
        ],
        [
         "dbfs:/mnt/mids-w261/OTPW_3M_2015_parquet/",
         "OTPW_3M_2015_parquet/",
         0,
         1731538428000
        ],
        [
         "dbfs:/mnt/mids-w261/OTPW_3M_2015_sorted.parquet/",
         "OTPW_3M_2015_sorted.parquet/",
         0,
         1731301112000
        ],
        [
         "dbfs:/mnt/mids-w261/OTPW_60M/",
         "OTPW_60M/",
         0,
         1722391443000
        ],
        [
         "dbfs:/mnt/mids-w261/airport-codes_csv.csv",
         "airport-codes_csv.csv",
         6232459,
         1677623514000
        ],
        [
         "dbfs:/mnt/mids-w261/ak/",
         "ak/",
         0,
         1731700560000
        ],
        [
         "dbfs:/mnt/mids-w261/datasets_final_project/",
         "datasets_final_project/",
         0,
         1722025627000
        ],
        [
         "dbfs:/mnt/mids-w261/datasets_final_project_2022/",
         "datasets_final_project_2022/",
         0,
         1722025903000
        ],
        [
         "dbfs:/mnt/mids-w261/df_joined.parquet/",
         "df_joined.parquet/",
         0,
         1731125169000
        ],
        [
         "dbfs:/mnt/mids-w261/flights/",
         "flights/",
         0,
         1731730441000
        ],
        [
         "dbfs:/mnt/mids-w261/jdh/",
         "jdh/",
         0,
         1731368078000
        ],
        [
         "dbfs:/mnt/mids-w261/prophet_forecast.parquet/",
         "prophet_forecast.parquet/",
         0,
         1731645434000
        ],
        [
         "dbfs:/mnt/mids-w261/weather/",
         "weather/",
         0,
         1731706158000
        ]
       ],
       "datasetInfos": [],
       "dbfsResultPath": null,
       "isJsonSchema": true,
       "metadata": {},
       "overflow": false,
       "plotOptions": {
        "customPlotOptions": {},
        "displayType": "table",
        "pivotAggregation": null,
        "pivotColumns": null,
        "xColumns": null,
        "yColumns": null
       },
       "removedWidgets": [],
       "schema": [
        {
         "metadata": "{}",
         "name": "path",
         "type": "\"string\""
        },
        {
         "metadata": "{}",
         "name": "name",
         "type": "\"string\""
        },
        {
         "metadata": "{}",
         "name": "size",
         "type": "\"long\""
        },
        {
         "metadata": "{}",
         "name": "modificationTime",
         "type": "\"long\""
        }
       ],
       "type": "table"
      }
     },
     "output_type": "display_data"
    }
   ],
   "source": [
    "data_BASE_DIR = \"dbfs:/mnt/mids-w261/\"\n",
    "display(dbutils.fs.ls(f\"{data_BASE_DIR}\"))"
   ]
  },
  {
   "cell_type": "markdown",
   "metadata": {
    "application/vnd.databricks.v1+cell": {
     "cellMetadata": {
      "byteLimit": 2048000,
      "rowLimit": 10000
     },
     "inputWidgets": {},
     "nuid": "ffee6d30-9a08-4d13-9cdc-c594fd3aa3c1",
     "showTitle": false,
     "tableResultSettingsMap": {},
     "title": ""
    }
   },
   "source": [
    "# Functions"
   ]
  },
  {
   "cell_type": "code",
   "execution_count": 0,
   "metadata": {
    "application/vnd.databricks.v1+cell": {
     "cellMetadata": {
      "byteLimit": 2048000,
      "rowLimit": 10000
     },
     "inputWidgets": {},
     "nuid": "38612977-b2e2-46de-aa81-93701ae335a0",
     "showTitle": false,
     "tableResultSettingsMap": {},
     "title": ""
    }
   },
   "outputs": [],
   "source": [
    "def connect_to_team_blob_and_start_spark():\n",
    "  # The following blob storage is accessible to team members only (read and write)\n",
    "  # access key is valid til TTL\n",
    "  # after that you will need to create a new SAS key and authenticate access again via DataBrick command line\n",
    "  blob_container  = \"team-3-2-project261\"       # The name of your container created in https://portal.azure.com\n",
    "  storage_account = \"fall2024team32\"  # The name of your Storage account created in https://portal.azure.com\n",
    "  secret_scope    = \"scope_team_3_2\"           # The name of the scope created in your local computer using the Databricks CLI\n",
    "  secret_key      = \"key_team_3_2\"             # The name of the secret key created in your local computer using the Databricks CLI\n",
    "  team_blob_url   = f\"wasbs://{blob_container}@{storage_account}.blob.core.windows.net\"  #points to the root of your team storage bucket\n",
    "\n",
    "\n",
    "  # the 261 course blob storage is mounted here.\n",
    "  mids261_mount_path      = \"/mnt/mids-w261\"\n",
    "\n",
    "  # SAS Token: Grant the team limited access to Azure Storage resources\n",
    "  spark.conf.set(\n",
    "    f\"fs.azure.sas.{blob_container}.{storage_account}.blob.core.windows.net\",\n",
    "    dbutils.secrets.get(scope = secret_scope, key = secret_key)\n",
    "  )\n",
    "\n",
    "  return team_blob_url, mids261_mount_path\n",
    "\n",
    "def make_departure_related_features_from_other_flights_simplified(input_df, tgt_feat_names):\n",
    "    input_df = input_df.withColumn(\"two_hours_prior_depart_UTC\", to_timestamp(\"two_hours_prior_depart_UTC\", \"yyyy-MM-dd HH:mm:ss\"))\n",
    "    input_df = input_df.withColumn(\"two_hours_prior_depart_UTC_EPOCH\", unix_timestamp(\"two_hours_prior_depart_UTC\", \"yyyy-MM-dd HH:mm:ss\"))\n",
    "    input_df = input_df.orderBy('two_hours_prior_depart_UTC_EPOCH')\n",
    "\n",
    "    # IN: an approximation of the avg of the departure delay and taxi out time of the other flights, over the most recent 2 hour window, which is available at 2hr before departure\n",
    "    # IN: so this is calculated by ordering records by 2hr ahead of departure time, then look for instances 4 to 2 hours ahead of current record. Before they are the ones\n",
    "    # IN: most likely have already departed by then, because their 2hr ahead of departure time is 2.5hrs ahead of the time of prediction (2hr ahead of current record's departure)\n",
    "    # IN: this is less accurate than using join with explicit condition, but hopefully faster by avoiding join\n",
    "\n",
    "    window_spec = Window.partitionBy('ORIGIN').orderBy('two_hours_prior_depart_UTC_EPOCH').rangeBetween(-int(5.5*3600), -int(2.5*3600))\n",
    "\n",
    "    # calculate the avg\n",
    "    for col_name in tgt_feat_names:\n",
    "        input_df = input_df.withColumn(f'Avg_{col_name}_other_flights', F.avg(col_name).over(window_spec))\n",
    "        input_df = input_df.withColumn(f'Last_{col_name}_other_flights', F.last(col_name).over(window_spec))    \n",
    "    \n",
    "    input_df = input_df.drop('two_hours_prior_depart_UTC_EPOCH')\n",
    "\n",
    "    return input_df\n",
    "\n",
    "def make_departure_related_features_from_other_flights_4_2hr_prior_dep(input_df, tgt_feat_names):\n",
    "    input_df = input_df.withColumn(\"two_hours_prior_depart_UTC\", to_timestamp(\"two_hours_prior_depart_UTC\", \"yyyy-MM-dd HH:mm:ss\"))\n",
    "    input_df = input_df.withColumn('row_id', F.monotonically_increasing_id())\n",
    "    input_df_sel = input_df.select(['row_id', 'two_hours_prior_depart_UTC', 'ORIGIN', 'four_hours_prior_depart_UTC', 'Actual_departure_time_UTC']+tgt_feat_names)\n",
    "\n",
    "    df_joined = broadcast(input_df_sel).alias('df0').join(input_df_sel.alias('df_cond'),\n",
    "                                                    (F.col('df_cond.Actual_departure_time_UTC') > F.col('df0.four_hours_prior_depart_UTC'))&\n",
    "                                                    (F.col('df_cond.Actual_departure_time_UTC') < F.col('df0.two_hours_prior_depart_UTC'))&\n",
    "                                                    (F.col('df_cond.ORIGIN') == F.col('df0.ORIGIN')),\n",
    "                                                    how='left')\n",
    "    \n",
    "    # calculate the avg\n",
    "    agg_exprs_avg = [F.avg(f'df_cond.{col}').alias(f'Avg_{col}_other_flights') for col in tgt_feat_names]\n",
    "\n",
    "    df_avg = df_joined.groupBy('df0.row_id').agg(*agg_exprs_avg)\\\n",
    "                                                 .select(['row_id']+[f'Avg_{col}_other_flights' for col in tgt_feat_names])\n",
    "    ''''''\n",
    "    # calculate the last - 1 - the native collect list does not work well if we want to sort by time; turn to applyINPandas\n",
    "    def process_group(pdf):\n",
    "        pdf_sorted = pdf.sort_values('Actual_departure_time_UTC')\n",
    "        result_dic = {'row_id': pdf_sorted['row_id'].iloc[0]}\n",
    "\n",
    "        for col_name in tgt_feat_names:\n",
    "            result_dic[f'Last_{col_name}_other_flights'] = pdf_sorted[f'{col_name}'].iloc[-1]\n",
    "        return pd.DataFrame(result_dic, index=[0])\n",
    "\n",
    "    schema_spec = StructType([StructField('row_id', LongType(), True)] + \n",
    "                    [StructField(f'Last_{col_name}_other_flights', DoubleType(), True) for col_name in tgt_feat_names])\n",
    "    \n",
    "    #IN: note in side applyInPandas, can't refer df0.row_id ect, need to use explicit column names, so select first\n",
    "    # df_last = df_joined.select(['df0.row_id', 'df_cond.Actual_departure_time_UTC']+\n",
    "    #                            [f'df_cond.{col}' for col in tgt_feat_names])\\\n",
    "    #                                .groupBy('df0.row_id').applyInPandas(process_group, schema=schema_spec)\\\n",
    "    #                                              .select(['row_id']+[f'Last_{col}_other_flights' for col in tgt_feat_names])\n",
    "    ''''''\n",
    "\n",
    "    # join to original data\n",
    "    # input_df = (input_df).join(broadcast(df_avg), on='row_id', how='left')\\\n",
    "    #     .join(broadcast(df_last), on='row_id', how='left').drop('row_id')\n",
    "    \n",
    "    # IN: if skip last flight metrics, only join the average\n",
    "    input_df = (input_df).join(broadcast(df_avg), on='row_id', how='left').drop('row_id')\n",
    "\n",
    "    return input_df\n",
    "\n",
    "def make_arrival_related_features_from_other_flights_4_2hr_prior_dep(input_df, tgt_feat_names):\n",
    "    input_df = input_df.withColumn('row_id', F.monotonically_increasing_id())\n",
    "    input_df_sel = input_df.select(['row_id', 'two_hours_prior_depart_UTC', 'ORIGIN', 'DEST', 'four_hours_prior_depart_UTC','Actual_arrival_time_UTC']+tgt_feat_names)\n",
    "\n",
    "    df_joined = (broadcast(input_df_sel).alias('df0')).join(input_df_sel.alias('df_cond'),\n",
    "                                                    (F.col('df_cond.Actual_arrival_time_UTC') > F.col('df0.four_hours_prior_depart_UTC'))&\n",
    "                                                    (F.col('df_cond.Actual_arrival_time_UTC') < F.col('df0.two_hours_prior_depart_UTC'))&\n",
    "                                                    (F.col('df_cond.DEST') == F.col('df0.ORIGIN')),\n",
    "                                                    how='left')\n",
    "    # calculate the avg\n",
    "    agg_exprs_avg = [F.avg(f'df_cond.{col}').alias(f'Avg_{col}_other_flights') for col in tgt_feat_names]\n",
    "\n",
    "    df_avg = df_joined.groupBy('df0.row_id').agg(*agg_exprs_avg)\\\n",
    "                                                 .select(['row_id']+[f'Avg_{col}_other_flights' for col in tgt_feat_names])\n",
    "\n",
    "    # calculate the last\n",
    "    def process_group(pdf):\n",
    "        pdf_sorted = pdf.sort_values('Actual_arrival_time_UTC')\n",
    "        result_dic = {'row_id': pdf_sorted['row_id'].iloc[0]}\n",
    "\n",
    "        for col_name in tgt_feat_names:\n",
    "            result_dic[f'Last_{col_name}_other_flights'] = pdf_sorted[f'{col_name}'].iloc[-1]\n",
    "        return pd.DataFrame(result_dic, index=[0])\n",
    "\n",
    "    schema_spec = StructType([StructField('row_id', LongType(), True)] + \n",
    "                    [StructField(f'Last_{col_name}_other_flights', DoubleType(), True) for col_name in tgt_feat_names])\n",
    "    \n",
    "    #IN: note inside applyInPandas, can't refer df0.row_id ect, need to use explicit column names, so select first\n",
    "    # df_last = df_joined.select(['df0.row_id', 'df_cond.Actual_arrival_time_UTC']+\n",
    "    #                            [f'df_cond.{col}' for col in tgt_feat_names])\\\n",
    "    #                                .groupBy('df0.row_id').applyInPandas(process_group, schema=schema_spec)\\\n",
    "    #                                              .select(['row_id']+[f'Last_{col}_other_flights' for col in tgt_feat_names])\n",
    "\n",
    "    # join to original data\n",
    "    # input_df = (input_df).join(broadcast(df_avg), on='row_id', how='left')\\\n",
    "    #     .join(broadcast(df_last), on='row_id', how='left').drop('row_id')\n",
    "    \n",
    "    # IN: if skip last flight metrics, only join the average\n",
    "    input_df = (input_df).join(broadcast(df_avg), on='row_id', how='left').drop('row_id')\n",
    "\n",
    "    return input_df\n",
    "  \n",
    "def apply_rolling_forecast_weekly(pdf):\n",
    "    res = pd.DataFrame(columns=['origin_type', 'ds', 'yhat'])\n",
    "    group_name = pdf.iloc[0]['origin_type']\n",
    "    # pdf = pdf.groupby('ds').agg(F.mean('y').alias('y')).cache()\n",
    "    # rolling_windows = pdf['ds'].rolling(window=30)\n",
    "\n",
    "    for i, row in pdf.iterrows():\n",
    "        # Define the rolling window (last 30 days)\n",
    "        current_week = row[\"ds\"]\n",
    "        window_data = pdf[\n",
    "            (pdf[\"ds\"] <= current_week) & \n",
    "            (pdf[\"ds\"] > (current_week - pd.Timedelta(weeks=52)))\n",
    "        ]\n",
    "        \n",
    "        try:\n",
    "            ts_mod = Prophet(interval_width=0.95, growth='linear',\n",
    "                            daily_seasonality=False,\n",
    "                            weekly_seasonality=False,\n",
    "                            yearly_seasonality=True,\n",
    "                            seasonality_mode='multiplicative')\n",
    "            ts_mod.fit(window_data)\n",
    "            curr_1delta = ts_mod.make_future_dataframe(periods=1, freq='W-MON', include_history=False)\n",
    "            forecast = ts_mod.predict(curr_1delta)\n",
    "        except Exception as e:\n",
    "            print(e)\n",
    "            forecast = pd.DataFrame(columns=['ds', 'yhat'])\n",
    "      \n",
    "        res = pd.concat([res,  \\\n",
    "            pd.DataFrame({'origin_type': [str(group_name)]}).\\\n",
    "            join(forecast[['ds', 'yhat']].iloc[-1:])])\n",
    "    \n",
    "    return res\n",
    "\n",
    "def add_prophet_features_weekly(input_df, new_features, tgt_feat_name):\n",
    "    groupby_name = 'origin_type'\n",
    "    df_used = input_df.withColumn('year_month_week', date_trunc('week', col('FL_DATE'))) \\\n",
    "        .select('year_month_week',groupby_name, tgt_feat_name).orderBy('year_month_week')\\\n",
    "            .groupBy(groupby_name, 'year_month_week').agg(F.mean(tgt_feat_name).alias(f'Weekly_avg_{tgt_feat_name}')).cache()\n",
    "    df_new = df_used.withColumn('ds', col('year_month_week')).withColumn('y', col(f'Weekly_avg_{tgt_feat_name}'))\\\n",
    "        .groupBy(groupby_name).applyInPandas(apply_rolling_forecast_weekly, schema=f'{groupby_name} string, ds timestamp, yhat double').cache()\n",
    "\n",
    "    output_df = (input_df.withColumn('year_month_week', date_trunc('week', col('FL_DATE'))))\\\n",
    "    .join(broadcast(df_new.select(col(groupby_name), col('ds').alias('year_month_week'), col('yhat').alias(f'Weekly_avg_{tgt_feat_name}_hat'))), \\\n",
    "        on=[groupby_name,'year_month_week'], how='left').cache()\n",
    "\n",
    "    new_features.append(f'Weekly_avg_{tgt_feat_name}_hat')\n",
    "\n",
    "    return output_df, new_features, df_used, df_new\n",
    "\n",
    "\n",
    "def apply_rolling_forecast_monthly(pdf):\n",
    "    res = pd.DataFrame(columns=['origin_type', 'ds', 'yhat'])\n",
    "    group_name = pdf.iloc[0]['origin_type']\n",
    "    # pdf = pdf.groupby('ds').agg(F.mean('y').alias('y')).cache()\n",
    "    # rolling_windows = pdf['ds'].rolling(window=30)\n",
    "\n",
    "    for i, row in pdf.iterrows():\n",
    "        # Define the rolling window (last 30 days)\n",
    "        current_month = row[\"ds\"]\n",
    "        window_data = pdf[\n",
    "            (pdf[\"ds\"] <= current_month) & \n",
    "            (pdf[\"ds\"] > (current_month - pd.DateOffset(months=12)))\n",
    "        ]\n",
    "\n",
    "        try:\n",
    "            ts_mod = Prophet(interval_width=0.95, growth='linear',\n",
    "                            daily_seasonality=False,\n",
    "                            weekly_seasonality=False,\n",
    "                            yearly_seasonality=True,\n",
    "                            seasonality_mode='multiplicative')\n",
    "            ts_mod.fit(window_data)\n",
    "            curr_1delta = ts_mod.make_future_dataframe(periods=1, freq='MS', include_history=False)  #IN: 'MS' is to make the prediction dates as the start of the month, default: end of month\n",
    "            forecast = ts_mod.predict(curr_1delta)\n",
    "        except Exception as e:\n",
    "            print(e)\n",
    "            forecast = pd.DataFrame(columns=['ds', 'yhat'])\n",
    "        res = pd.concat([res,  \\\n",
    "            pd.DataFrame({'origin_type': [str(group_name)]}).\\\n",
    "            join(forecast[['ds', 'yhat']].iloc[-1:])])\n",
    "    \n",
    "    return res\n",
    "\n",
    "\n",
    "def add_prophet_features_monthly(input_df, new_features, tgt_feat_name):\n",
    "\n",
    "    groupby_name = 'origin_type'\n",
    "    df_used = input_df.withColumn('year_month', date_trunc('month', col('FL_DATE'))) \\\n",
    "        .select('year_month',groupby_name, tgt_feat_name).orderBy('year_month')\\\n",
    "            .groupBy(groupby_name, 'year_month').agg(F.mean(tgt_feat_name).alias(f'Monthly_avg_{tgt_feat_name}')).cache()\n",
    "\n",
    "    df_new = df_used.withColumn('ds', col('year_month')).withColumn('y', col(f'Monthly_avg_{tgt_feat_name}'))\\\n",
    "        .groupBy(groupby_name).applyInPandas(apply_rolling_forecast_monthly, schema=f'{groupby_name} string, ds timestamp, yhat double').cache()\n",
    "\n",
    "    output_df = (input_df.withColumn('year_month', date_trunc('month', col('FL_DATE'))))\\\n",
    "    .join(broadcast(df_new.select(col(groupby_name), col('ds').alias('year_month'), col('yhat').alias(f'Monthly_avg_{tgt_feat_name}_hat'))), \\\n",
    "        on=[groupby_name,'year_month'], how='left').cache()\n",
    "\n",
    "    new_features.append(f'Monthly_avg_{tgt_feat_name}_hat')\n",
    "\n",
    "    return output_df, new_features, df_used, df_new\n",
    "\n",
    "\n",
    "def make_degree_centrality_features_scheduled(input_df):\n",
    "    input_df = input_df.withColumn(\"two_hours_prior_depart_UTC\", to_timestamp(\"two_hours_prior_depart_UTC\", \"yyyy-MM-dd HH:mm:ss\"))\n",
    "    input_df = input_df.withColumn(\"two_hours_prior_depart_UTC_EPOCH\", unix_timestamp(\"two_hours_prior_depart_UTC\", \"yyyy-MM-dd HH:mm:ss\"))\n",
    "    input_df = input_df.orderBy('two_hours_prior_depart_UTC_EPOCH')\n",
    "    # input_df = input_df.withColumn('row_id', F.monotonically_increasing_id())\n",
    "\n",
    "    # input_df_sel = input_df.select(['two_hours_prior_depart_UTC_EPOCH', 'ORIGIN']+tgt_feat_names)\n",
    "\n",
    "    # IN: an approximation of the number of flights departing from current records' origin airport, and the number of flights arriving in current records' destination ariport; here we simply use the number of flights scheduled to depart and arrive in the past 3 hours preceeding the current records' 2hr ahead departure time (prediction time) as approximation. Given this information is by schedule so it is already knonw even though such event may not have happened  \n",
    "\n",
    "    window_spec_origin = Window.partitionBy('ORIGIN').orderBy('two_hours_prior_depart_UTC_EPOCH').rangeBetween(-int(3*3600), -1)\n",
    "    window_spec_dest = Window.partitionBy('DEST').orderBy('two_hours_prior_depart_UTC_EPOCH').rangeBetween(-int(3*3600), -1)\n",
    "\n",
    "    # calculate the avg\n",
    "    # input_df = input_df.withColumn(f'In_degree_same_origin_past_3hr', F.count('two_hours_prior_depart_UTC_EPOCH').over(window_spec_origin))\n",
    "    # input_df = input_df.withColumn(f'Out_degree_same_dest_past_3hr', F.count('two_hours_prior_depart_UTC_EPOCH').over(window_spec_dest))    \n",
    "\n",
    "    input_df = input_df.withColumn(f'Out_degree_same_origin_past_3hr', F.count('two_hours_prior_depart_UTC_EPOCH').over(window_spec_origin))\n",
    "    input_df = input_df.withColumn(f'In_degree_same_dest_past_3hr', F.count('two_hours_prior_depart_UTC_EPOCH').over(window_spec_dest))  \n",
    "    \n",
    "    input_df = input_df.drop('two_hours_prior_depart_UTC_EPOCH')\n",
    "\n",
    "    return input_df\n",
    "\n",
    "def create_binary_representation_for_origin_dest(input_df):\n",
    "    ## Convert origin and dest to binary representation - From MM\n",
    "    def create_pandas_airport_codes_df(spark_df):\n",
    "        # Print number of unique values in the origin_icao and dest_icao columns\n",
    "        # print(f\"Unique Origin airport codes: {spark_df.select('ORIGIN').distinct().count()}\")\n",
    "        # print(f\"Unique Destination airport codes: {spark_df.select('DEST').distinct().count()}\")\n",
    "\n",
    "        pandas_orig_df  = spark_df.select(\"ORIGIN\").distinct().toPandas()\n",
    "        pandas_dest_df = spark_df.select(\"DEST\").distinct().toPandas()\n",
    "\n",
    "        # Create a superset of airport codes from origin and destination airports\n",
    "        pandas_icao_df = pd.merge(pandas_orig_df, pandas_dest_df, left_on='ORIGIN', right_on='DEST', how='outer')\n",
    "        if pandas_icao_df['ORIGIN'].count() < pandas_icao_df['DEST'].count():\n",
    "            pandas_icao_df.drop('ORIGIN', axis=1, inplace=True)\n",
    "            pandas_icao_df.rename(columns={'DEST':'icao'}, inplace=True)\n",
    "        else:\n",
    "            pandas_icao_df.drop('DEST', axis=1, inplace=True)\n",
    "            pandas_icao_df.rename(columns={'ORIGIN':'icao'}, inplace=True)\n",
    "\n",
    "        del pandas_orig_df\n",
    "        del pandas_dest_df\n",
    "        \n",
    "        return pandas_icao_df\n",
    "\n",
    "    def int_to_bits_array(num, embed_size):\n",
    "        import numpy as np\n",
    "        \"\"\"\n",
    "        Converts an integer to a list of bits, limited by the specified embedding size\n",
    "        Note: The bit array is always zero padded to the specified embedding size\n",
    "        \"\"\"\n",
    "        # start from 2nd field because the bit array is prefixed with 0b\n",
    "        return np.array([int(bit) for bit in bin(num)[2:].zfill(embed_size)])\n",
    "\n",
    "    def create_binary_embeddings_for_airport_codes(pandas_icao_df):\n",
    "        le = LabelEncoder()\n",
    "        pandas_icao_df['le_index'] = le.fit_transform(pandas_icao_df['icao'])\n",
    "        # unique_indices = pandas_icao_df[\"le_index\"].values.astype(np.int32)\n",
    "        unique_indices = pandas_icao_df[\"le_index\"].values.astype(int)\n",
    "\n",
    "        # Create embedding layer\n",
    "        vocab_size = len(unique_indices)\n",
    "        embedding_dim = math.floor(math.log2(vocab_size)) + 1\n",
    "\n",
    "        embeddings = []\n",
    "        for i in range(vocab_size):\n",
    "            embeddings.append(int_to_bits_array(unique_indices[i], embedding_dim))\n",
    "\n",
    "        embeddings = np.array(embeddings)\n",
    "        return embeddings, embeddings.shape[1]\n",
    "    \n",
    "    # EMBEDDING_DIMENSION = airport_code_embeddings.shape[1]\n",
    "\n",
    "    def create_spark_airport_embeddings_df(pandas_icao_df, embeddings):\n",
    "        # Drop the le_index column, because we don't need it anymore\n",
    "        pandas_icao_df.drop('le_index', axis=1, inplace=True)\n",
    "\n",
    "        # Create copies of pandas_icao_df - one each for origin and destination\n",
    "        pandas_origin_icao_df = pandas_icao_df.copy()\n",
    "        pandas_dest_icao_df = pandas_icao_df.copy()\n",
    "\n",
    "        embeddings_orig_df = pd.DataFrame(embeddings, columns=[f'origin_icao_embedding_{i}' for i in range(embeddings.shape[1])])\n",
    "        pandas_origin_icao_df.rename(columns={'icao':'ORIGIN'}, inplace=True)\n",
    "        pandas_origin_icao_df = pd.concat([pandas_origin_icao_df, embeddings_orig_df], axis=1)\n",
    "\n",
    "        embeddings_dest_df = pd.DataFrame(embeddings, columns=[f'dest_icao_embedding_{i}' for i in range(embeddings.shape[1])])\n",
    "        pandas_dest_icao_df.rename(columns={'icao':'DEST'}, inplace=True)\n",
    "        pandas_dest_icao_df = pd.concat([pandas_dest_icao_df, embeddings_dest_df], axis=1)\n",
    "\n",
    "        airport_origin_emb_df = spark.createDataFrame(pandas_origin_icao_df)\n",
    "        airport_dest_emb_df = spark.createDataFrame(pandas_dest_icao_df)\n",
    "\n",
    "        return airport_origin_emb_df, airport_dest_emb_df\n",
    "\n",
    "    def assemble_airport_code_columns(spark_flights_df, embed_size):\n",
    "        # IN: fill na with zero before assemble\n",
    "        col_names = [f'origin_icao_embedding_{i}' for i in range(embed_size)] + [f'dest_icao_embedding_{i}' for i in range(embed_size)]\n",
    "        for col_name in col_names:\n",
    "            spark_flights_df = spark_flights_df.fillna({col_name: 0})\n",
    "\n",
    "        cols_to_be_assembled = [f'origin_icao_embedding_{i}' for i in range(embed_size)] \n",
    "        assembler = VectorAssembler(inputCols=cols_to_be_assembled, outputCol='origin_code_vector')\n",
    "        spark_flights_df = assembler.transform(spark_flights_df).drop(*cols_to_be_assembled)\n",
    "        # spark_flights_df = assembler.transform(spark_flights_df)\n",
    "\n",
    "        cols_to_be_assembled = [f'dest_icao_embedding_{i}' for i in range(embed_size)]\n",
    "        assembler = VectorAssembler(inputCols=cols_to_be_assembled, outputCol='dest_code_vector')\n",
    "        spark_flights_df = assembler.transform(spark_flights_df).drop(*cols_to_be_assembled)\n",
    "        # spark_flights_df = assembler.transform(spark_flights_df)\n",
    "        \n",
    "        return spark_flights_df\n",
    "\n",
    "    def create_embedding_columns_in_flights_df(spark_flights_df, airport_origin_emb_df, airport_dest_emb_df, EMBEDDING_DIMENSION):\n",
    "\n",
    "        # Perform an outer join of origin airport embeddings\n",
    "        spark_flights_df = (spark_flights_df).join(broadcast(airport_origin_emb_df), \n",
    "                    spark_flights_df.ORIGIN == airport_origin_emb_df.ORIGIN,\n",
    "                    how=\"left\").drop(airport_origin_emb_df.ORIGIN).cache()\n",
    "\n",
    "        # Perform an outer join of destination airport embeddings\n",
    "        spark_flights_df = (spark_flights_df).join(broadcast(airport_dest_emb_df), \n",
    "                    spark_flights_df.DEST == airport_dest_emb_df.DEST,\n",
    "                    how=\"left\").drop(airport_dest_emb_df.DEST).cache()\n",
    "        \n",
    "        # Put in assembled columns\n",
    "        spark_flights_df = assemble_airport_code_columns(spark_flights_df, EMBEDDING_DIMENSION).cache()\n",
    "\n",
    "        return spark_flights_df\n",
    "    \n",
    "    ## put it together\n",
    "    pandas_icao_df = create_pandas_airport_codes_df(input_df)\n",
    "    airport_code_embeddings, EMBEDDING_DIMENSION = create_binary_embeddings_for_airport_codes(pandas_icao_df)\n",
    "    airport_origin_emb_df, airport_dest_emb_df = create_spark_airport_embeddings_df(pandas_icao_df, airport_code_embeddings)\n",
    "    input_df = create_embedding_columns_in_flights_df(input_df, airport_origin_emb_df, airport_dest_emb_df, EMBEDDING_DIMENSION)\n",
    "\n",
    "    return input_df\n",
    "\n",
    "def make_flight_tail_related_features(input_df, tgt_feat_names):\n",
    "    input_df = input_df.withColumn(\"two_hours_prior_depart_UTC\", \n",
    "                                    to_timestamp(\"two_hours_prior_depart_UTC\", \"yyyy-MM-dd HH:mm:ss\"))\n",
    "\n",
    "    '''method 1 (groupby, applyInPandas)'''\n",
    "    def process_group_shift(pdf):\n",
    "        pdf_sorted = pdf.sort_values('two_hours_prior_depart_UTC')\n",
    "\n",
    "        pdf_used = pd.concat([pdf_sorted[['TAIL_NUM','two_hours_prior_depart_UTC']], \n",
    "                                pdf_sorted[tgt_feat_names+['Actual_departure_time_UTC']].shift(1)], axis=1)\n",
    "        pdf_used['calculated_delay'] = (pdf_used['two_hours_prior_depart_UTC'].diff()\n",
    "                                        -pd.Timedelta(hours=2)).dt.total_seconds()/60.0\n",
    "\n",
    "        pdf_used[[f'Lag_same_flight_{col_name}' for col_name in tgt_feat_names]] \\\n",
    "            = pdf_used[tgt_feat_names].where(\n",
    "                (pdf_used['two_hours_prior_depart_UTC']>pdf_used['Actual_departure_time_UTC']),\\\n",
    "                (pdf_used['calculated_delay']), axis=0)\n",
    "\n",
    "        return pdf_used[['TAIL_NUM','two_hours_prior_depart_UTC']+[f'Lag_same_flight_{col_name}' for col_name in tgt_feat_names]]\n",
    "\n",
    "    schema_spec = StructType([StructField('TAIL_NUM', StringType(), True)]+\n",
    "                            [StructField('two_hours_prior_depart_UTC', TimestampType(), True)] + \n",
    "                    [StructField(f'Lag_same_flight_{col_name}', DoubleType(), True) for col_name in tgt_feat_names])\n",
    "                                \n",
    "    tail_df = input_df.select(['TAIL_NUM','two_hours_prior_depart_UTC','Actual_departure_time_UTC']+tgt_feat_names).\\\n",
    "                            groupBy('TAIL_NUM').applyInPandas(process_group_shift, schema_spec)\n",
    "\n",
    "    \n",
    "    # join to original data\n",
    "    input_df = input_df.join((tail_df), on=['TAIL_NUM', 'two_hours_prior_depart_UTC'], how='left')\n",
    "\n",
    "    return input_df\n",
    "\n",
    "def create_additional_features(data_col_cleaned_fe, new_features, team_blob_url):\n",
    "    # collecting new features:\n",
    "    # new_features = []\n",
    "\n",
    "    # Derive actual arrival and actual departure UTC\n",
    "    data_col_cleaned_fe = data_col_cleaned_fe.withColumn(\n",
    "        \"Actual_departure_time_UTC\",\n",
    "        to_timestamp(\n",
    "            from_unixtime(\n",
    "                unix_timestamp(col(\"sched_depart_date_time_UTC\"))\n",
    "                + col(\"DEP_DELAY_NEW\") * 60\n",
    "            )\n",
    "        ),\n",
    "    ).cache()\n",
    "\n",
    "    data_col_cleaned_fe = data_col_cleaned_fe.withColumn(\n",
    "        \"Actual_arrival_time_UTC\",\n",
    "        to_timestamp(\n",
    "            from_unixtime(\n",
    "                unix_timestamp(col(\"Actual_departure_time_UTC\"))\n",
    "                + col(\"ACTUAL_ELAPSED_TIME\") * 60\n",
    "            )\n",
    "        ),\n",
    "    ).cache()\n",
    "\n",
    "    # Derive features that's related to the airplane iteself\n",
    "    print ('Derive features based on the flight itself..')    \n",
    "    tgt_feat_names_tail =['DEP_DELAY_NEW']\n",
    "    data_col_cleaned_fe = make_flight_tail_related_features(data_col_cleaned_fe, tgt_feat_names_tail).cache()\n",
    "    ## if load from blob\n",
    "    # data_col_cleaned_fe = spark.read.parquet(f\"{team_blob_url}/data_cleaned_ordered_with_lag_feature_{data_months_label}_{output_version}\")\n",
    "    new_features.extend([f'Lag_same_flight_{col}' for col in tgt_feat_names_tail])\n",
    "\n",
    "    # # Checkpoint the data with lag features before splitting\n",
    "    # data_col_cleaned_fe.write.mode(\"overwrite\").parquet(\n",
    "    #   f\"{team_blob_url}/data_cleaned_with_lag_feature_{data_months_label}_{output_version}\")\n",
    "    # print(f\"saved data with lag feature\")\n",
    "\n",
    "    # Derive features from other flights departure status\n",
    "    # print ('Derive features from other flights departure status (full)..')\n",
    "    # tgt_feat_names_dep = [\"DEP_DELAY_NEW\", \"TAXI_OUT\"]\n",
    "    # data_col_cleaned_fe = (\n",
    "    #     make_departure_related_features_from_other_flights_4_2hr_prior_dep(\n",
    "    #         data_col_cleaned_fe, tgt_feat_names_dep\n",
    "    #     )\n",
    "    # ).cache()\n",
    "    # new_features.extend([f\"Avg_{col}_other_flights\" for col in tgt_feat_names_dep])\n",
    "    # # new_features.extend([f\"Last_{col}_other_flights\" for col in tgt_feat_names_dep])\n",
    "\n",
    "    print (f'Total number of rows after lag based features: {data_col_cleaned_fe.count()}')\n",
    "\n",
    "    print ('Derive features from other flights departure status (simpflied)..')\n",
    "    tgt_feat_names_dep = [\"DEP_DELAY_NEW\", \"TAXI_OUT\"]\n",
    "    data_col_cleaned_fe = (\n",
    "        make_departure_related_features_from_other_flights_simplified(\n",
    "            data_col_cleaned_fe, tgt_feat_names_dep\n",
    "        )\n",
    "    ).cache()\n",
    "\n",
    "    new_features.extend([f\"Avg_{col}_other_flights\" for col in tgt_feat_names_dep])\n",
    "    new_features.extend([f\"Last_{col}_other_flights\" for col in tgt_feat_names_dep])\n",
    "\n",
    "    print (f'Total number of rows after departure based features: {data_col_cleaned_fe.count()}')\n",
    "\n",
    "    # # Checkpoint the data with departure features before splitting\n",
    "    # data_col_cleaned_fe.write.mode(\"overwrite\").parquet(\n",
    "    #   f\"{team_blob_url}/data_cleaned_with_departure_features_{data_months_label}_{output_version}\")\n",
    "    # print(f\"saved data with departure related feature\")\n",
    "\n",
    "    # Derive features from other flights' arrival status - disabled for >60m\n",
    "    # print ('Derive features from other flights arrival status..')\n",
    "    # # tgt_feat_names_arr =['ARR_DELAY_NEW', 'TAXI_IN', 'Actual_vs_CRS_elapsed_time']\n",
    "    # tgt_feat_names_arr = [\"ARR_DELAY_NEW\", \"TAXI_IN\"]\n",
    "    # data_col_cleaned_fe = (\n",
    "    #     make_arrival_related_features_from_other_flights_4_2hr_prior_dep(\n",
    "    #         data_col_cleaned_fe, tgt_feat_names_arr\n",
    "    #     )\n",
    "    # ).cache()\n",
    "    # new_features.extend([f\"Avg_{col}_other_flights\" for col in tgt_feat_names_arr])\n",
    "    # # new_features.extend([f\"Last_{col}_other_flights\" for col in tgt_feat_names_arr])\n",
    "    # # new_features.remove(\"Actual_vs_CRS_elapsed_time\")\n",
    "\n",
    "    # # # Checkpoint the data with arrival features before splitting\n",
    "    # # data_col_cleaned_fe.write.mode(\"overwrite\").parquet(\n",
    "    # #   f\"{team_blob_url}/data_cleaned_with_arrival_related_features_{data_months_label}_{output_version}\")\n",
    "    # # print(f\"saved data with arrival related feature\")\n",
    "    \n",
    "    # # Derive rolling window prophet forecast for a given type of airport - weekly - not for 60m\n",
    "    # print ('Derive features from rolling weekly prophet forecast..')\n",
    "    # tgt_feat_name = 'DEP_DELAY_NEW'\n",
    "    # data_col_cleaned_fe, new_features, df_used, df_new = \\\n",
    "    #     add_prophet_features_weekly(data_col_cleaned_fe.drop(f'Weekly_avg_{tgt_feat_name}_hat'), new_features, tgt_feat_name)\n",
    "    # new_features.append(f'Weekly_avg_{tgt_feat_name}_hat')\n",
    "\n",
    "    # Derive rolling window prophet forecast for a given type of airport - monthly - only for 60m\n",
    "    print ('Derive features from rolling monthly prophet forecast..')\n",
    "    tgt_feat_name = 'DEP_DELAY_NEW'\n",
    "    data_col_cleaned_fe, new_features, df_used, df_new = \\\n",
    "        add_prophet_features_monthly(data_col_cleaned_fe.drop('Monthly_avg_DEP_DELAY_NEW_hat'), new_features, tgt_feat_name)\n",
    "    \n",
    "    print (f'Total number of rows after prophet based features: {data_col_cleaned_fe.count()}')\n",
    "\n",
    "    # # Checkpoint the data with prophet features before splitting\n",
    "    # data_col_cleaned_fe.write.mode(\"overwrite\").parquet(\n",
    "    #   f\"{team_blob_url}/data_cleaned_with_prophet_related_features_{data_months_label}_{output_version}\")\n",
    "    # print(f\"saved data with prophet related feature\")\n",
    "\n",
    "    # Convert ORIGIN and DEST to binary representation\n",
    "    print ('Convert ORIGIN and DEST to binary representation..')\n",
    "    data_col_cleaned_fe = create_binary_representation_for_origin_dest(data_col_cleaned_fe).cache()\n",
    "    new_features.extend(['origin_code_vector', 'dest_code_vector'])\n",
    "\n",
    "    print (f'Total number of rows after ORIGIN and DEST binary vector: {data_col_cleaned_fe.count()}')\n",
    "\n",
    "    # # Checkpoint the data with ORIGIN and DEST binary representation features before splitting\n",
    "    # data_col_cleaned_fe.write.mode(\"overwrite\").parquet(\n",
    "    #   f\"{team_blob_url}/data_cleaned_with_origin_desk_vector_features_{data_months_label}_{output_version}\")\n",
    "    # print(f\"saved data with origin and desk vector related feature\")\n",
    "\n",
    "    # Create degree_centrality based on schedule\n",
    "    print ('Create degree_centrality based on scheduled flight in past three hours..')\n",
    "    data_col_cleaned_fe = make_degree_centrality_features_scheduled(data_col_cleaned_fe).cache()\n",
    "    # new_features.extend(['In_degree_same_origin_past_3hr', 'Out_degree_same_dest_past_3hr'])\n",
    "    new_features.extend(['Out_degree_same_origin_past_3hr', 'In_degree_same_dest_past_3hr'])\n",
    "\n",
    "    print (f'Total number of rows after degree_centrality in past three hours: {data_col_cleaned_fe.count()}')\n",
    "\n",
    "    return data_col_cleaned_fe, new_features\n",
    "\n",
    "\n",
    "def label_encoding_with_order(input_df, col_name, order_label_list):\n",
    "    mapping_label = {label: i for i, label in enumerate(order_label_list)}\n",
    "\n",
    "    # create udf to map the labels according to the order\n",
    "    label_udf = udf(lambda x: mapping_label.get(x), IntegerType())\n",
    "\n",
    "    # Skip StringIndexer, create columns with revised name and intended label indexing\n",
    "    encoded_df2 = input_df.withColumn(col_name+'_Encoded', label_udf(col(col_name)))\n",
    "\n",
    "    # check results\n",
    "    encoded_df2.groupBy(col_name).agg(F.last_value(col_name+'_Encoded')).show()\n",
    "    \n",
    "    return encoded_df2\n",
    "\n",
    "\n",
    "def one_hot_encoding(col_list_for_one_hot, input_df_to_fit, input_df_to_transform_list):\n",
    "  stages = []\n",
    "\n",
    "  for col in col_list_for_one_hot:\n",
    "    # step 1: StringIndexer\n",
    "    indexer = StringIndexer(inputCol=col, outputCol=col+'_Indexed', handleInvalid='keep')\n",
    "    # step 2: OneHot Encoder\n",
    "    encoder = OneHotEncoder(inputCol=col+'_Indexed', outputCol = col+'_Encoded')\n",
    "    # step 3: add stages to the pipeline\n",
    "    stages += [indexer, encoder]\n",
    "\n",
    "  pipeline = Pipeline(stages=stages)\n",
    "\n",
    "  output_df_list = []\n",
    "  for input_df_to_transform in input_df_to_transform_list:\n",
    "    print ('input_df_to_transform.count(): ', input_df_to_transform.count())\n",
    "    df_encoded = pipeline.fit(input_df_to_fit).transform(input_df_to_transform)\n",
    "    print ('df_encoded.count(): ', df_encoded.count())\n",
    "    df_encoded = df_encoded.drop(*[col+'_Indexed' for col in col_list_for_one_hot]).cache()\n",
    "    print ('df_encoded.count(): ', df_encoded.count())\n",
    "    output_df_list.append(df_encoded)\n",
    "    \n",
    "    # check results\n",
    "    df_encoded.select(*[col+'_Encoded' for col in col_list_for_one_hot]).show(10)\n",
    "\n",
    "  return output_df_list\n",
    "\n",
    "\n",
    "def scaling(cols_to_be_scaled, input_df_to_fit, input_df_to_transform_list, scaling_flag):\n",
    "    # fill na first\n",
    "    ## fill with zero\n",
    "    # input_df_filled = input_df.fillna(dict(zip(cols_to_be_scaled, [0]*len(cols_to_be_scaled))))\n",
    "\n",
    "    ## fill with mean\n",
    "    imputer = Imputer(\n",
    "    inputCols=cols_to_be_scaled,\n",
    "    outputCols=cols_to_be_scaled  # Use the same names to overwrite\n",
    "    ).setStrategy(\"mean\")\n",
    "\n",
    "    # Step 2: Fit the imputer model and transform the DataFrame\n",
    "    input_df_to_fit_filled = imputer.fit(input_df_to_fit).transform(input_df_to_fit)\n",
    "\n",
    "    assembler = VectorAssembler(inputCols=cols_to_be_scaled, outputCol='features_to_be_scaled', handleInvalid='keep')\n",
    "    df_vector_to_fit = assembler.transform(input_df_to_fit_filled)\n",
    "\n",
    "    if scaling_flag == 'standard':\n",
    "        scaler = StandardScaler(inputCol='features_to_be_scaled', outputCol = 'scaled_features').fit(df_vector_to_fit)\n",
    "\n",
    "    elif scaling_flag == 'minmax':\n",
    "        scaler = MinMaxScaler(inputCol='features_to_be_scaled', outputCol = 'scaled_features').fit(df_vector_to_fit)\n",
    "        # df_scaled = scaler.fit(df_vector_to_fit).transform(df_vector_to_transform)\n",
    "\n",
    "    output_df_list = []\n",
    "    for input_df_to_transform in input_df_to_transform_list:\n",
    "        input_df_to_transform_filled = imputer.fit(input_df_to_transform).transform(input_df_to_transform)\n",
    "        df_vector_to_transform = assembler.transform(input_df_to_transform_filled)\n",
    "        \n",
    "        df_scaled = scaler.transform(df_vector_to_transform)\n",
    "        # check results\n",
    "        df_scaled.select('features_to_be_scaled', 'scaled_features').show(5)\n",
    "        output_df_list.append(df_scaled.drop('features_to_be_scaled').cache())\n",
    "\n",
    "    return output_df_list\n",
    "  \n",
    "def split_train_val_test(input_df, split_ratio, data_months_label):\n",
    "    if data_months_label is None or data_months_label == '3m':\n",
    "        '''if using limit, subtract'''\n",
    "        # input_df = input_df.withColumn(\"two_hours_prior_depart_UTC\", to_timestamp(\"two_hours_prior_depart_UTC\", \"yyyy-MM-dd HH:mm:ss\"))\n",
    "        # # input_df = input_df.orderBy('two_hours_prior_depart_UTC').cache()\n",
    "        # total_rows = input_df.count()\n",
    "        # train_val_limit = int(total_rows*split_ratio)\n",
    "\n",
    "        # train_val_df = input_df.orderBy('two_hours_prior_depart_UTC').limit(train_val_limit).cache()\n",
    "        # test_df = input_df.subtract(train_val_df).cache() \n",
    "\n",
    "        '''if using row_id'''\n",
    "        input_df = input_df.withColumn(\"two_hours_prior_depart_UTC\", \n",
    "                                       to_timestamp(\"two_hours_prior_depart_UTC\", \"yyyy-MM-dd HH:mm:ss\"))\n",
    "        input_df = input_df.withColumn('row_id', row_number().over(Window.partitionBy().orderBy('two_hours_prior_depart_UTC')))\n",
    "        total_rows = input_df.count()\n",
    "        train_val_limit = int(total_rows*split_ratio)\n",
    "        \n",
    "        train_val_df = input_df.where(col('row_id') <= train_val_limit).cache()\n",
    "        test_df = input_df.where(col('row_id')>train_val_limit).cache()\n",
    "    \n",
    "    elif data_months_label == '12m':\n",
    "        train_val_df, test_df = split_train_val_test_12m(input_df, split_ratio)\n",
    "    \n",
    "    elif data_months_label == '60m':\n",
    "        train_val_df, test_df = split_train_val_test_60m(input_df, split_ratio)\n",
    "\n",
    "    return train_val_df, test_df\n",
    "\n",
    "def split_train_val_test_12m(input_df, split_ratio):\n",
    "    input_df = input_df.withColumn(\"two_hours_prior_depart_UTC\", \n",
    "                                   to_timestamp(\"two_hours_prior_depart_UTC\", \"yyyy-MM-dd HH:mm:ss\"))\n",
    "    input_df = input_df.orderBy('two_hours_prior_depart_UTC').cache()\n",
    "    # total_rows = input_df.count()\n",
    "    # train_val_limit = int(total_rows*split_ratio)\n",
    "\n",
    "    train_val_df = input_df.filter(col('QUARTER').isin([1,2,3])).cache()\n",
    "    test_df = input_df.filter(col('QUARTER').isin([4])).cache()    \n",
    "\n",
    "    return train_val_df, test_df\n",
    "  \n",
    "def split_train_val_test_60m(input_df, split_ratio):\n",
    "    input_df = input_df.withColumn(\"two_hours_prior_depart_UTC\", \n",
    "                                   to_timestamp(\"two_hours_prior_depart_UTC\", \"yyyy-MM-dd HH:mm:ss\"))\n",
    "    input_df = input_df.orderBy('two_hours_prior_depart_UTC').cache()\n",
    "    # total_rows = input_df.count()\n",
    "    # train_val_limit = int(total_rows*split_ratio)\n",
    "\n",
    "    train_val_df = input_df.filter(col('YEAR')<=2018).cache()\n",
    "    test_df = input_df.filter(col('YEAR')>2018).cache()    \n",
    "\n",
    "    return train_val_df, test_df\n",
    "\n",
    "def execute_main(input_path, data_months_label, split_ratio, output_version):\n",
    "    # connect to the blob and start spark\n",
    "    team_blob_url, mids261_mount_path = connect_to_team_blob_and_start_spark()\n",
    "\n",
    "    # read in pre processing data\n",
    "    # data_col_cleaned = (spark.read.parquet(f\"{team_blob_url}/12m_final_data/\"))\n",
    "    # data_col_cleaned = spark.read.parquet(f\"{team_blob_url}/12m_final_data_deduped/\")\n",
    "    data_col_cleaned = spark.read.parquet(f\"{team_blob_url}/{input_path}/\")\n",
    "    print(f\"data_col_cleaned rows: {data_col_cleaned.count()}\")\n",
    "\n",
    "    # list of features to be used in analytical stages\n",
    "    tgt_var = [\"DEP_DELAY_GROUP\"]  #'DEP_DELAY_GROUP' will be regrouped later\n",
    "    key_time_features = [\n",
    "        \"two_hours_prior_depart_UTC\",\n",
    "        # \"sched_depart_date_time\", # IN: doesn't exist in 60m data\n",
    "        \"sched_depart_date_time_UTC\",\n",
    "        \"four_hours_prior_depart_UTC\",\n",
    "        \"FL_DATE\",\n",
    "    ]\n",
    "\n",
    "    important_num_features = [\n",
    "        \"DEP_DELAY_NEW\",\n",
    "        \"TAXI_OUT\",\n",
    "        \"TAXI_IN\",\n",
    "        \"ARR_DELAY_NEW\",\n",
    "        \"CRS_ELAPSED_TIME\",\n",
    "        \"ACTUAL_ELAPSED_TIME\",\n",
    "        \"DISTANCE\",\n",
    "        \"ELEVATION\",\n",
    "        \"HourlyAltimeterSetting\",\n",
    "        # \"HourlyDewPointTemperature\", #IN: highly correlated with drytemp, drop\n",
    "        \"HourlyDryBulbTemperature\",\n",
    "        \"HourlyPrecipitation\",\n",
    "        \"HourlyRelativeHumidity\",\n",
    "        \"HourlySeaLevelPressure\",\n",
    "        \"HourlyStationPressure\",\n",
    "        \"HourlyVisibility\",\n",
    "        # \"HourlyWetBulbTemperature\", #IN: highly correlated with drytemp, drop\n",
    "        # NOTE: Not found in 12m previously, but maybe Irene's new dataset will work.\n",
    "        \"HourlyWindDirection\",\n",
    "        \"HourlyWindSpeed\",\n",
    "    ] # 17 in total\n",
    "\n",
    "    # IN: before fixing the original data, let's not include CANCELLED and DIVERTED as features\n",
    "    # IN: when we have <1 year data, exclude 'YEAR', for 3m data, exclude 'QUARTER'\n",
    "    important_cat_features = [\n",
    "        \"MONTH\",\n",
    "        \"DAY_OF_MONTH\",\n",
    "        \"DAY_OF_WEEK\",\n",
    "        \"DEP_TIME_BLK\",\n",
    "        \"ARR_TIME_BLK\",\n",
    "        \"origin_type\",\n",
    "        \"dest_type\",\n",
    "        \"OP_UNIQUE_CARRIER\",\n",
    "        \"ORIGIN\",\n",
    "        \"DEST\",\n",
    "        'TAIL_NUM',\n",
    "        # NOTE: Added for 12m\n",
    "        \"QUARTER\",\n",
    "        # NOTE: Added for >12m\n",
    "        'YEAR'\n",
    "    ]\n",
    "\n",
    "    other_relevant_cat_features = [\n",
    "        \"DEP_TIMESTAMP_ACTUAL_UTC\",\n",
    "        \"ARR_TIMESTAMP_ACTUAL_UTC\",\n",
    "        \"DEP_DEL15\",\n",
    "        \"ARR_DEL15\",\n",
    "        \"ORIGIN_CITY_NAME\",\n",
    "        \"ORIGIN_STATE_ABR\",\n",
    "        \"DEST_CITY_NAME\",\n",
    "        \"DEST_STATE_ABR\",\n",
    "    ]\n",
    "\n",
    "    features_not_directly_available = [\n",
    "        \"DEP_DELAY_NEW\",\n",
    "        \"ARR_DELAY_NEW\",\n",
    "        \"TAXI_OUT\",\n",
    "        \"TAXI_IN\",\n",
    "        \"CANCELLED\",\n",
    "        \"DIVERTED\",\n",
    "        \"ACTUAL_ELAPSED_TIME\",\n",
    "        \"Actual_vs_scheduled_elapsed_time\",\n",
    "    ]\n",
    "\n",
    "    # new_features = []\n",
    "\n",
    "    new_features = [\n",
    "        \"DEP_DELAY_COUNT_3600sec\",\n",
    "        \"DEP_DELAY_COUNT_7200sec\",\n",
    "        \"ARR_DELAY_COUNT_3600sec\",\n",
    "        \"ARR_DELAY_COUNT_7200sec\",\n",
    "        \"CANCELLED_DELAY_COUNT_3600sec\",\n",
    "        \"CANCELLED_DELAY_COUNT_7200sec\",\n",
    "        # 'InDegreeOrigin', \n",
    "        # 'OutDegreeOrigin', \n",
    "        # 'TotalDegreeOrigin'\n",
    "    ] # IN: only for 12month onwards (maybe Rahul's new 3m has it all already)\n",
    "\n",
    "    # select most relevant features to proceed with analysis\n",
    "    included_cols = (\n",
    "        tgt_var\n",
    "        + key_time_features\n",
    "        + important_num_features\n",
    "        + important_cat_features\n",
    "        + new_features\n",
    "    )\n",
    "\n",
    "    data_col_cleaned_fe = data_col_cleaned.select(*included_cols)\n",
    "    # print(f\"After data_col_cleaned.select - data_col_cleaned_fe rows: {data_col_cleaned_fe.count()}\")\n",
    "\n",
    "    # NOTE: Not found in 12m - included since take-3\n",
    "    data_col_cleaned_fe = data_col_cleaned_fe.withColumn('HourlyWindDirection', col('HourlyWindDirection').cast('float'))\n",
    "    # IN: this needs to be fixed at pre-processing level\n",
    "\n",
    "    # create additional features\n",
    "    data_col_cleaned_fe, new_features = create_additional_features(\n",
    "        data_col_cleaned_fe,\n",
    "        new_features,\n",
    "        team_blob_url\n",
    "    )\n",
    "    print(\n",
    "        f\"After create_additional_features - data_col_cleaned_fe rows: {data_col_cleaned_fe.count()}\"\n",
    "    )\n",
    "\n",
    "    # rebucketize target variable\n",
    "    data_col_cleaned_fe = data_col_cleaned_fe.withColumn(\n",
    "        \"DEP_DELAY_GROUP_NEW\",\n",
    "        when(data_col_cleaned[\"DEP_DELAY_GROUP\"] < 0, 0)\n",
    "        .when(data_col_cleaned[\"DEP_DELAY_GROUP\"] == 0, 1)\n",
    "        .otherwise(2),\n",
    "    )\n",
    "    # print(\n",
    "    #     f\"After rebucketize target variable - data_col_cleaned_fe rows: {data_col_cleaned_fe.count()}\"\n",
    "    # )\n",
    "\n",
    "\n",
    "    # Order the dataframe for later splitting (note: will still need to order right before the split to make sure)\n",
    "    data_col_cleaned_fe = data_col_cleaned_fe.orderBy('two_hours_prior_depart_UTC').cache()\n",
    "\n",
    "    # Checkpoint the data with all relevant features before splitting\n",
    "    data_col_cleaned_fe.write.mode(\"overwrite\").parquet(\n",
    "      f\"{team_blob_url}/data_cleaned_ordered_with_feature_engineerings_{data_months_label}_{output_version}\")\n",
    "    print(f\"After saving to blob, data_col_cleaned_fe rows: {data_col_cleaned_fe.count()}\")\n",
    "\n",
    "    '''if already have full data with features'''\n",
    "    # data_col_cleaned_fe = spark.read.parquet(f\"{team_blob_url}/data_cleaned_ordered_with_feature_engineerings_{data_months_label}_{output_version}\")\n",
    "\n",
    "    # print(f\"data_col_cleaned_fe rows: {data_col_cleaned_fe.count()}\")\n",
    "\n",
    "    # new_features.extend(['Lag_same_flight_DEP_DELAY_NEW',\n",
    "    #     'Avg_DEP_DELAY_NEW_other_flights',\n",
    "    #     'Avg_TAXI_OUT_other_flights',\n",
    "    #     'Last_DEP_DELAY_NEW_other_flights',\n",
    "    #     'Last_TAXI_OUT_other_flights',\n",
    "    #     'Avg_ARR_DELAY_NEW_other_flights',\n",
    "    #     'Avg_TAXI_IN_other_flights',\n",
    "    #     'Last_ARR_DELAY_NEW_other_flights',\n",
    "    #     'Last_TAXI_IN_other_flights',\n",
    "    #     'Weekly_avg_DEP_DELAY_NEW_hat',\n",
    "    #     'origin_code_vector',\n",
    "    #     'dest_code_vector'])\n",
    "\n",
    "    ''''''\n",
    "\n",
    "    # Splitting data into train_val_df, test_df\n",
    "    train_val_df, test_df = split_train_val_test(data_col_cleaned_fe, split_ratio, data_months_label)\n",
    "\n",
    "    print(\n",
    "        f\"After data splitting - train_val_df rows: {train_val_df.count()}\"\n",
    "    )\n",
    "    print(\n",
    "        f\"After data splitting - test_df rows: {test_df.count()}\"\n",
    "    )\n",
    "\n",
    "    # Encoding\n",
    "    ## Label Encoding\n",
    "    encoded_cols = []\n",
    "\n",
    "    # define the desired order\n",
    "    order_label = [\"small_airport\", \"medium_airport\", \"large_airport\"]\n",
    "\n",
    "    print ('Label encoding train_val..')\n",
    "    train_val_df = label_encoding_with_order(train_val_df, 'origin_type', \n",
    "                                                    order_label).cache()\n",
    "\n",
    "    train_val_df = label_encoding_with_order(train_val_df, 'dest_type', \n",
    "                                                    order_label).cache() \n",
    "\n",
    "    # process test\n",
    "    print ('Label encoding test..')\n",
    "    test_df = label_encoding_with_order(test_df, 'origin_type', \n",
    "                                                    order_label).cache()\n",
    "\n",
    "    test_df = label_encoding_with_order(test_df, 'dest_type', \n",
    "                                                    order_label).cache() \n",
    "\n",
    "    print(\n",
    "        f\"After label_encoding_with_order for both origin_type/dest_type - train_val_df rows: {train_val_df.count()}\"\n",
    "    )\n",
    "    print(\n",
    "        f\"After label_encoding_with_order for both origin_type/dest_type - test_df rows: {test_df.count()}\"\n",
    "    )\n",
    "\n",
    "    encoded_cols.append(\"origin_type_Encoded\")\n",
    "    encoded_cols.append(\"dest_type_Encoded\")\n",
    "\n",
    "    ## One-hot Encoding\n",
    "    # IN: for 3m data, Year AND QUARTER can't be included\n",
    "    # IN: BEFORE FIXING THE DATA, do not include 'CANCELLED'and 'DIVERTED' as a column\n",
    "    col_for_one_hot = [\n",
    "        \"MONTH\",\n",
    "        \"DAY_OF_MONTH\",\n",
    "        \"DAY_OF_WEEK\",\n",
    "        \"OP_UNIQUE_CARRIER\",\n",
    "        \"DEP_TIME_BLK\",\n",
    "        \"ARR_TIME_BLK\",\n",
    "        # NOTE: Added for 12m\n",
    "        \"QUARTER\",\n",
    "        # NOTE: Added for >12m\n",
    "        'YEAR'\n",
    "    ]\n",
    "\n",
    "    print ('One hot encoding train_val and test_df using train_val encoder..')\n",
    "    train_val_df, test_df = one_hot_encoding(col_for_one_hot, train_val_df, \n",
    "                                         [train_val_df, \n",
    "                                          test_df])\n",
    "\n",
    "    print(\n",
    "        f\"After one_hot_encoding - train_val_df rows: {train_val_df.count()}\"\n",
    "    )\n",
    "    print(\n",
    "        f\"After one_hot_encoding - test_df rows: {test_df.count()}\"\n",
    "    )\n",
    "\n",
    "    encoded_cols.extend([col + \"_Endoded\" for col in col_for_one_hot])\n",
    "\n",
    "    # Scaling numerical and label encoded variables\n",
    "    scaling_flag = 'minmax'  #IN: 'minmax' or 'standard'\n",
    "\n",
    "    # scaled_cols = list(\n",
    "    #     set(important_num_features).union(set(new_features))\n",
    "    #     - {\"ACTUAL_ELAPSED_TIME\", \"CRS_ELAPSED_TIME\"}\n",
    "    #     - set(features_not_directly_available)\n",
    "    #     - set(['origin_code_vector', 'dest_code_vector'])\n",
    "    # ) + [\"origin_type_Encoded\", \"dest_type_Encoded\"]\n",
    "\n",
    "    scaled_cols = sorted(list(set(important_num_features).union(set(new_features))- {'ACTUAL_ELAPSED_TIME','CRS_ELAPSED_TIME'} - set(features_not_directly_available)\n",
    "                   -set(['origin_code_vector', 'dest_code_vector']))+ ['origin_type_Encoded', 'dest_type_Encoded'])\n",
    "    print ('scaled_cols are: ')\n",
    "    print (scaled_cols) \n",
    "    print ()\n",
    "    # IN:using sorted() to keep the order of columns more consistent and understandable (11 original, 19 new, 2 label encoding - should be 32 in total)\n",
    "\n",
    "    print ('scaling train_val_df and test_df using train_val scaler..')\n",
    "    train_val_df, test_df = scaling(scaled_cols, train_val_df, \n",
    "                                    [train_val_df, test_df], scaling_flag)\n",
    "    \n",
    "    print(\n",
    "        f\"After standard_scaling - train_val_df rows: {train_val_df.count()}\"\n",
    "    )\n",
    "\n",
    "    print(\n",
    "        f\"After standard_scaling - test_df rows: {test_df.count()}\"\n",
    "    )\n",
    "\n",
    "    # Order the train_val_df and test_df given the encoding may shuffle the order\n",
    "    train_val_df  = train_val_df.orderBy('two_hours_prior_depart_UTC').cache()\n",
    "    test_df  = test_df.orderBy('two_hours_prior_depart_UTC').cache()\n",
    "\n",
    "    print(f\"End: train_val_df rows: {train_val_df.count()}\")\n",
    "    print(f\"End: test_df rows: {test_df.count()}\")\n",
    "\n",
    "    # checkpoint the feature selected and encoded, scaled data to blob\n",
    "    train_val_df.write.mode(\"overwrite\").parquet(\n",
    "        f\"{team_blob_url}/train_val_data_encoded_scaled_ordered_{data_months_label}_{output_version}\"\n",
    "    )\n",
    "\n",
    "    test_df.write.mode(\"overwrite\").parquet(\n",
    "      f\"{team_blob_url}/test_data_encoded_scaled_ordered_{data_months_label}_{output_version}\"\n",
    "    )\n",
    "\n",
    "    # save scaled_cols too\n",
    "    spark.createDataFrame(pd.DataFrame(scaled_cols)).write.mode('overwrite').parquet(\n",
    "        f'{team_blob_url}/scaled_cols_{data_months_label}_{output_version}')\n",
    "    \n",
    "    # DONE on 20241116\n",
    "    # data_col_cleaned_fe.write.mode(\"overwrite\").parquet(f\"{team_blob_url}/data_encoded_scaled_12m\")\n",
    "\n",
    "    return (\n",
    "        train_val_df, \n",
    "        test_df,\n",
    "        data_col_cleaned_fe,\n",
    "        encoded_cols,\n",
    "        scaled_cols,\n",
    "        new_features,\n",
    "        important_cat_features,\n",
    "        important_num_features,\n",
    "        tgt_var,\n",
    "        key_time_features,\n",
    "        other_relevant_cat_features,\n",
    "    )\n"
   ]
  },
  {
   "cell_type": "markdown",
   "metadata": {
    "application/vnd.databricks.v1+cell": {
     "cellMetadata": {},
     "inputWidgets": {},
     "nuid": "e4566ce4-02fe-4156-ab02-4b4da4a8efaf",
     "showTitle": false,
     "tableResultSettingsMap": {},
     "title": ""
    }
   },
   "source": [
    "# Option one - Combined Execution - in main"
   ]
  },
  {
   "cell_type": "code",
   "execution_count": 0,
   "metadata": {
    "application/vnd.databricks.v1+cell": {
     "cellMetadata": {
      "byteLimit": 2048000,
      "rowLimit": 10000
     },
     "inputWidgets": {},
     "nuid": "3d856f3a-2c08-42ef-8d50-7a140da5c093",
     "showTitle": false,
     "tableResultSettingsMap": {},
     "title": ""
    }
   },
   "outputs": [
    {
     "output_type": "stream",
     "name": "stdout",
     "output_type": "stream",
     "text": [
      "[Row(MONTH=6), Row(MONTH=3), Row(MONTH=5), Row(MONTH=4), Row(MONTH=8), Row(MONTH=7), Row(MONTH=2), Row(MONTH=9), Row(MONTH=1)]\n[Row(MONTH=12), Row(MONTH=10), Row(MONTH=11)]\n"
     ]
    }
   ],
   "source": [
    "output_version = 'v4'\n",
    "split_ratio = 0.75\n",
    "input_path = '60m_take_4_final'  # '60m_take_4_final', 12m_take_5_final', 12m_take_4_final', 12m_take_3_final_data' , '12m_take_2_final_data'\n",
    "data_months_label = '60m'\n",
    "# spark.catalog.clearCache() # IN: note this should only clear cache for the current spark session instead of the entire cluster\n",
    "\n",
    "(   train_val_df, \n",
    "    test_df,\n",
    "    data_col_cleaned_fe,\n",
    "    encoded_cols,\n",
    "    scaled_cols,\n",
    "    new_features,\n",
    "    important_cat_features,\n",
    "    important_num_features,\n",
    "    tgt_var,\n",
    "    key_time_features,\n",
    "    other_relevant_cat_features,\n",
    ") = execute_main(input_path,\n",
    "                    data_months_label,\n",
    "                    split_ratio,\n",
    "                    output_version)"
   ]
  },
  {
   "cell_type": "markdown",
   "metadata": {
    "application/vnd.databricks.v1+cell": {
     "cellMetadata": {},
     "inputWidgets": {},
     "nuid": "4a7d88f0-5d50-463b-9577-9e3b6efb35d7",
     "showTitle": false,
     "tableResultSettingsMap": {},
     "title": ""
    }
   },
   "source": [
    "# Option two - Separate execution"
   ]
  },
  {
   "cell_type": "code",
   "execution_count": 0,
   "metadata": {
    "application/vnd.databricks.v1+cell": {
     "cellMetadata": {
      "byteLimit": 2048000,
      "rowLimit": 10000
     },
     "inputWidgets": {},
     "nuid": "7bce47da-9b97-4cfe-8ddf-5765cfc09f06",
     "showTitle": false,
     "tableResultSettingsMap": {},
     "title": ""
    }
   },
   "outputs": [],
   "source": [
    "## set up\n",
    "output_version = 'v4' # 'v3', 'v2'\n",
    "split_ratio = 0.75\n",
    "input_path = '60m_take_4_final'  # '60m_take_4_final', 12m_take_5_final', 12m_take_4_final', 12m_take_3_final_data' , '12m_take_2_final_data'\n",
    "data_months_label = '60m'\n",
    "spark.catalog.clearCache() # IN: note this should only clear cache for the current spark session instead of the entire cluster"
   ]
  },
  {
   "cell_type": "markdown",
   "metadata": {
    "application/vnd.databricks.v1+cell": {
     "cellMetadata": {},
     "inputWidgets": {},
     "nuid": "b60a9d7e-c8a1-4f70-8b5d-9554a34ccf6c",
     "showTitle": false,
     "tableResultSettingsMap": {},
     "title": ""
    }
   },
   "source": [
    "## 1. Feature engineering"
   ]
  },
  {
   "cell_type": "code",
   "execution_count": 0,
   "metadata": {
    "application/vnd.databricks.v1+cell": {
     "cellMetadata": {
      "byteLimit": 2048000,
      "rowLimit": 10000
     },
     "inputWidgets": {},
     "nuid": "c906976c-8927-4dda-9a00-5c613efdc535",
     "showTitle": false,
     "tableResultSettingsMap": {},
     "title": ""
    }
   },
   "outputs": [
    {
     "output_type": "stream",
     "name": "stdout",
     "output_type": "stream",
     "text": [
      "data_col_cleaned rows: 31099553\nDerive features based on the flight itself..\nTotal number of rows after lag based features: 31105479\nDerive features from other flights departure status (simpflied)..\nTotal number of rows after departure based features: 31105479\nDerive features from rolling monthly prophet forecast..\nTotal number of rows after prophet based features: 31105479\nConvert ORIGIN and DEST to binary representation..\nTotal number of rows after ORIGIN and DEST binary vector: 31105479\nCreate degree_centrality based on scheduled flight in past three hours..\nTotal number of rows after degree_centrality in past three hours: 31105479\nAfter create_additional_features - data_col_cleaned_fe rows: 31105479\nAfter rebucketize target variable - data_col_cleaned_fe rows: 31105479\nAfter saving to blob, data_col_cleaned_fe rows: 31105479\n"
     ]
    }
   ],
   "source": [
    "team_blob_url, mids261_mount_path = connect_to_team_blob_and_start_spark()\n",
    "\n",
    "# read in pre processing data\n",
    "# data_col_cleaned = (spark.read.parquet(f\"{team_blob_url}/12m_final_data/\"))\n",
    "# data_col_cleaned = spark.read.parquet(f\"{team_blob_url}/12m_final_data_deduped/\")\n",
    "data_col_cleaned = spark.read.parquet(f\"{team_blob_url}/{input_path}/\")\n",
    "print(f\"data_col_cleaned rows: {data_col_cleaned.count()}\")\n",
    "\n",
    "# list of features to be used in analytical stages\n",
    "tgt_var = [\"DEP_DELAY_GROUP\"]  #'DEP_DELAY_GROUP' will be regrouped later\n",
    "key_time_features = [\n",
    "    \"two_hours_prior_depart_UTC\",\n",
    "    # \"sched_depart_date_time\", # IN: doesn't exist in 60m data\n",
    "    \"sched_depart_date_time_UTC\",\n",
    "    \"four_hours_prior_depart_UTC\",\n",
    "    \"FL_DATE\",\n",
    "]\n",
    "\n",
    "important_num_features = [\n",
    "    \"DEP_DELAY_NEW\",\n",
    "    \"TAXI_OUT\",\n",
    "    \"TAXI_IN\",\n",
    "    \"ARR_DELAY_NEW\",\n",
    "    \"CRS_ELAPSED_TIME\",\n",
    "    \"ACTUAL_ELAPSED_TIME\",\n",
    "    \"DISTANCE\",\n",
    "    \"ELEVATION\",\n",
    "    \"HourlyAltimeterSetting\",\n",
    "    # \"HourlyDewPointTemperature\", #IN: highly correlated with drytemp, drop\n",
    "    \"HourlyDryBulbTemperature\",\n",
    "    \"HourlyPrecipitation\",\n",
    "    \"HourlyRelativeHumidity\",\n",
    "    \"HourlySeaLevelPressure\",\n",
    "    \"HourlyStationPressure\",\n",
    "    \"HourlyVisibility\",\n",
    "    # \"HourlyWetBulbTemperature\", #IN: highly correlated with drytemp, drop\n",
    "    # NOTE: Not found in 12m previously, but maybe Irene's new dataset will work.\n",
    "    \"HourlyWindDirection\",\n",
    "    \"HourlyWindSpeed\",\n",
    "] # 17 in total\n",
    "\n",
    "# IN: before fixing the original data, let's not include CANCELLED and DIVERTED as features\n",
    "# IN: when we have <1 year data, exclude 'YEAR', for 3m data, exclude 'QUARTER'\n",
    "important_cat_features = [\n",
    "    \"MONTH\",\n",
    "    \"DAY_OF_MONTH\",\n",
    "    \"DAY_OF_WEEK\",\n",
    "    \"DEP_TIME_BLK\",\n",
    "    \"ARR_TIME_BLK\",\n",
    "    \"origin_type\",\n",
    "    \"dest_type\",\n",
    "    \"OP_UNIQUE_CARRIER\",\n",
    "    \"ORIGIN\",\n",
    "    \"DEST\",\n",
    "    'TAIL_NUM',\n",
    "    # NOTE: Added for 12m\n",
    "    \"QUARTER\",\n",
    "    # NOTE: Added for >12m\n",
    "    'YEAR'\n",
    "]\n",
    "\n",
    "other_relevant_cat_features = [\n",
    "    \"DEP_TIMESTAMP_ACTUAL_UTC\",\n",
    "    \"ARR_TIMESTAMP_ACTUAL_UTC\",\n",
    "    \"DEP_DEL15\",\n",
    "    \"ARR_DEL15\",\n",
    "    \"ORIGIN_CITY_NAME\",\n",
    "    \"ORIGIN_STATE_ABR\",\n",
    "    \"DEST_CITY_NAME\",\n",
    "    \"DEST_STATE_ABR\",\n",
    "]\n",
    "\n",
    "features_not_directly_available = [\n",
    "    \"DEP_DELAY_NEW\",\n",
    "    \"ARR_DELAY_NEW\",\n",
    "    \"TAXI_OUT\",\n",
    "    \"TAXI_IN\",\n",
    "    \"CANCELLED\",\n",
    "    \"DIVERTED\",\n",
    "    \"ACTUAL_ELAPSED_TIME\",\n",
    "    \"Actual_vs_scheduled_elapsed_time\",\n",
    "]\n",
    "\n",
    "# new_features = []\n",
    "\n",
    "new_features = [\n",
    "    \"DEP_DELAY_COUNT_3600sec\",\n",
    "    \"DEP_DELAY_COUNT_7200sec\",\n",
    "    \"ARR_DELAY_COUNT_3600sec\",\n",
    "    \"ARR_DELAY_COUNT_7200sec\",\n",
    "    \"CANCELLED_DELAY_COUNT_3600sec\",\n",
    "    \"CANCELLED_DELAY_COUNT_7200sec\",\n",
    "    # 'InDegreeOrigin', \n",
    "    # 'OutDegreeOrigin', \n",
    "    # 'TotalDegreeOrigin'\n",
    "] # IN: only for 12month onwards (maybe Rahul's new 3m has it all already)\n",
    "\n",
    "# select most relevant features to proceed with analysis\n",
    "included_cols = (\n",
    "    tgt_var\n",
    "    + key_time_features\n",
    "    + important_num_features\n",
    "    + important_cat_features\n",
    "    + new_features\n",
    ")\n",
    "\n",
    "data_col_cleaned_fe = data_col_cleaned.select(*included_cols)\n",
    "# print(f\"After data_col_cleaned.select - data_col_cleaned_fe rows: {data_col_cleaned_fe.count()}\")\n",
    "\n",
    "# NOTE: Not found in 12m - included since take-3\n",
    "data_col_cleaned_fe = data_col_cleaned_fe.withColumn('HourlyWindDirection', col('HourlyWindDirection').cast('float'))\n",
    "# IN: this needs to be fixed at pre-processing level\n",
    "\n",
    "# create additional features\n",
    "data_col_cleaned_fe, new_features = create_additional_features(\n",
    "    data_col_cleaned_fe,\n",
    "    new_features,\n",
    "    team_blob_url\n",
    ")\n",
    "print(\n",
    "    f\"After create_additional_features - data_col_cleaned_fe rows: {data_col_cleaned_fe.count()}\"\n",
    ")\n",
    "\n",
    "# rebucketize target variable\n",
    "data_col_cleaned_fe = data_col_cleaned_fe.withColumn(\n",
    "    \"DEP_DELAY_GROUP_NEW\",\n",
    "    when(data_col_cleaned[\"DEP_DELAY_GROUP\"] < 0, 0)\n",
    "    .when(data_col_cleaned[\"DEP_DELAY_GROUP\"] == 0, 1)\n",
    "    .otherwise(2),\n",
    ")\n",
    "print(\n",
    "    f\"After rebucketize target variable - data_col_cleaned_fe rows: {data_col_cleaned_fe.count()}\"\n",
    ")\n",
    "\n",
    "\n",
    "# Order the dataframe for later splitting (note: will still need to order right before the split to make sure)\n",
    "data_col_cleaned_fe = data_col_cleaned_fe.orderBy('two_hours_prior_depart_UTC').cache()\n",
    "\n",
    "# Checkpoint the data with all relevant features before splitting\n",
    "data_col_cleaned_fe.write.mode(\"overwrite\").parquet(\n",
    "    f\"{team_blob_url}/data_cleaned_ordered_with_feature_engineerings_{data_months_label}_{output_version}\")\n",
    "print(f\"After saving to blob, data_col_cleaned_fe rows: {data_col_cleaned_fe.count()}\")\n",
    "\n"
   ]
  },
  {
   "cell_type": "code",
   "execution_count": 0,
   "metadata": {
    "application/vnd.databricks.v1+cell": {
     "cellMetadata": {
      "byteLimit": 2048000,
      "rowLimit": 10000
     },
     "inputWidgets": {},
     "nuid": "8d4863b5-e94e-40c7-a94f-f39a57053fab",
     "showTitle": false,
     "tableResultSettingsMap": {},
     "title": ""
    }
   },
   "outputs": [
    {
     "output_type": "execute_result",
     "data": {
      "text/plain": [
       "['DEP_DELAY_COUNT_3600sec',\n",
       " 'DEP_DELAY_COUNT_7200sec',\n",
       " 'ARR_DELAY_COUNT_3600sec',\n",
       " 'ARR_DELAY_COUNT_7200sec',\n",
       " 'CANCELLED_DELAY_COUNT_3600sec',\n",
       " 'CANCELLED_DELAY_COUNT_7200sec',\n",
       " 'Lag_same_flight_DEP_DELAY_NEW',\n",
       " 'Avg_DEP_DELAY_NEW_other_flights',\n",
       " 'Avg_TAXI_OUT_other_flights',\n",
       " 'Last_DEP_DELAY_NEW_other_flights',\n",
       " 'Last_TAXI_OUT_other_flights',\n",
       " 'Monthly_avg_DEP_DELAY_NEW_hat',\n",
       " 'origin_code_vector',\n",
       " 'dest_code_vector',\n",
       " 'Out_degree_same_origin_past_3hr',\n",
       " 'In_degree_same_dest_past_3hr']"
      ]
     },
     "execution_count": 8,
     "metadata": {},
     "output_type": "execute_result"
    }
   ],
   "source": [
    "new_features"
   ]
  },
  {
   "cell_type": "code",
   "execution_count": 0,
   "metadata": {
    "application/vnd.databricks.v1+cell": {
     "cellMetadata": {
      "byteLimit": 2048000,
      "rowLimit": 10000
     },
     "inputWidgets": {},
     "nuid": "e85bc34e-67a6-487c-9289-716fd35e0c7b",
     "showTitle": false,
     "tableResultSettingsMap": {},
     "title": ""
    }
   },
   "outputs": [],
   "source": [
    "# How it should be - for reference\n",
    "new_features = ['DEP_DELAY_COUNT_3600sec',\n",
    " 'DEP_DELAY_COUNT_7200sec',\n",
    " 'ARR_DELAY_COUNT_3600sec',\n",
    " 'ARR_DELAY_COUNT_7200sec',\n",
    " 'CANCELLED_DELAY_COUNT_3600sec',\n",
    " 'CANCELLED_DELAY_COUNT_7200sec',\n",
    " 'Lag_same_flight_DEP_DELAY_NEW',\n",
    " 'Avg_DEP_DELAY_NEW_other_flights',\n",
    " 'Avg_TAXI_OUT_other_flights',\n",
    " 'Last_DEP_DELAY_NEW_other_flights',\n",
    " 'Last_TAXI_OUT_other_flights',\n",
    " 'Monthly_avg_DEP_DELAY_NEW_hat',\n",
    " 'origin_code_vector',\n",
    " 'dest_code_vector',\n",
    " 'Out_degree_same_origin_past_3hr', # corrected from 'In_degree_same_origin_past_3hr'\n",
    " 'In_degree_same_dest_past_3hr'] # corrected from 'Out_degree_same_dest_past_3hr'"
   ]
  },
  {
   "cell_type": "code",
   "execution_count": 0,
   "metadata": {
    "application/vnd.databricks.v1+cell": {
     "cellMetadata": {
      "byteLimit": 2048000,
      "rowLimit": 10000
     },
     "inputWidgets": {},
     "nuid": "bf211099-14c7-4a1f-b53a-a377f2e661f5",
     "showTitle": false,
     "tableResultSettingsMap": {},
     "title": ""
    }
   },
   "outputs": [
    {
     "output_type": "display_data",
     "data": {
      "text/html": [
       "<style scoped>\n",
       "  .table-result-container {\n",
       "    max-height: 300px;\n",
       "    overflow: auto;\n",
       "  }\n",
       "  table, th, td {\n",
       "    border: 1px solid black;\n",
       "    border-collapse: collapse;\n",
       "  }\n",
       "  th, td {\n",
       "    padding: 5px;\n",
       "  }\n",
       "  th {\n",
       "    text-align: left;\n",
       "  }\n",
       "</style><div class='table-result-container'><table class='table-result'><thead style='background-color: white'><tr><th>_1</th><th>_2</th></tr></thead><tbody><tr><td>origin_type</td><td>string</td></tr><tr><td>year_month</td><td>timestamp</td></tr><tr><td>TAIL_NUM</td><td>string</td></tr><tr><td>two_hours_prior_depart_UTC</td><td>timestamp</td></tr><tr><td>DEP_DELAY_GROUP</td><td>int</td></tr><tr><td>sched_depart_date_time_UTC</td><td>timestamp</td></tr><tr><td>four_hours_prior_depart_UTC</td><td>timestamp</td></tr><tr><td>FL_DATE</td><td>date</td></tr><tr><td>DEP_DELAY_NEW</td><td>double</td></tr><tr><td>TAXI_OUT</td><td>double</td></tr><tr><td>TAXI_IN</td><td>double</td></tr><tr><td>ARR_DELAY_NEW</td><td>double</td></tr><tr><td>CRS_ELAPSED_TIME</td><td>double</td></tr><tr><td>ACTUAL_ELAPSED_TIME</td><td>double</td></tr><tr><td>DISTANCE</td><td>double</td></tr><tr><td>ELEVATION</td><td>double</td></tr><tr><td>HourlyAltimeterSetting</td><td>double</td></tr><tr><td>HourlyDryBulbTemperature</td><td>double</td></tr><tr><td>HourlyPrecipitation</td><td>double</td></tr><tr><td>HourlyRelativeHumidity</td><td>double</td></tr><tr><td>HourlySeaLevelPressure</td><td>double</td></tr><tr><td>HourlyStationPressure</td><td>double</td></tr><tr><td>HourlyVisibility</td><td>double</td></tr><tr><td>HourlyWindDirection</td><td>float</td></tr><tr><td>HourlyWindSpeed</td><td>double</td></tr><tr><td>MONTH</td><td>int</td></tr><tr><td>DAY_OF_MONTH</td><td>int</td></tr><tr><td>DAY_OF_WEEK</td><td>int</td></tr><tr><td>DEP_TIME_BLK</td><td>string</td></tr><tr><td>ARR_TIME_BLK</td><td>string</td></tr><tr><td>dest_type</td><td>string</td></tr><tr><td>OP_UNIQUE_CARRIER</td><td>string</td></tr><tr><td>ORIGIN</td><td>string</td></tr><tr><td>DEST</td><td>string</td></tr><tr><td>QUARTER</td><td>int</td></tr><tr><td>YEAR</td><td>int</td></tr><tr><td>DEP_DELAY_COUNT_3600sec</td><td>bigint</td></tr><tr><td>DEP_DELAY_COUNT_7200sec</td><td>bigint</td></tr><tr><td>ARR_DELAY_COUNT_3600sec</td><td>bigint</td></tr><tr><td>ARR_DELAY_COUNT_7200sec</td><td>bigint</td></tr><tr><td>CANCELLED_DELAY_COUNT_3600sec</td><td>bigint</td></tr><tr><td>CANCELLED_DELAY_COUNT_7200sec</td><td>bigint</td></tr><tr><td>Actual_departure_time_UTC</td><td>timestamp</td></tr><tr><td>Actual_arrival_time_UTC</td><td>timestamp</td></tr><tr><td>Lag_same_flight_DEP_DELAY_NEW</td><td>double</td></tr><tr><td>Avg_DEP_DELAY_NEW_other_flights</td><td>double</td></tr><tr><td>Last_DEP_DELAY_NEW_other_flights</td><td>double</td></tr><tr><td>Avg_TAXI_OUT_other_flights</td><td>double</td></tr><tr><td>Last_TAXI_OUT_other_flights</td><td>double</td></tr><tr><td>Monthly_avg_DEP_DELAY_NEW_hat</td><td>double</td></tr><tr><td>origin_code_vector</td><td>vector</td></tr><tr><td>dest_code_vector</td><td>vector</td></tr><tr><td>Out_degree_same_origin_past_3hr</td><td>bigint</td></tr><tr><td>In_degree_same_dest_past_3hr</td><td>bigint</td></tr><tr><td>DEP_DELAY_GROUP_NEW</td><td>int</td></tr></tbody></table></div>"
      ]
     },
     "metadata": {
      "application/vnd.databricks.v1+output": {
       "addedWidgets": {},
       "aggData": [],
       "aggError": "",
       "aggOverflow": false,
       "aggSchema": [],
       "aggSeriesLimitReached": false,
       "aggType": "",
       "arguments": {},
       "columnCustomDisplayInfos": {},
       "data": [
        [
         "origin_type",
         "string"
        ],
        [
         "year_month",
         "timestamp"
        ],
        [
         "TAIL_NUM",
         "string"
        ],
        [
         "two_hours_prior_depart_UTC",
         "timestamp"
        ],
        [
         "DEP_DELAY_GROUP",
         "int"
        ],
        [
         "sched_depart_date_time_UTC",
         "timestamp"
        ],
        [
         "four_hours_prior_depart_UTC",
         "timestamp"
        ],
        [
         "FL_DATE",
         "date"
        ],
        [
         "DEP_DELAY_NEW",
         "double"
        ],
        [
         "TAXI_OUT",
         "double"
        ],
        [
         "TAXI_IN",
         "double"
        ],
        [
         "ARR_DELAY_NEW",
         "double"
        ],
        [
         "CRS_ELAPSED_TIME",
         "double"
        ],
        [
         "ACTUAL_ELAPSED_TIME",
         "double"
        ],
        [
         "DISTANCE",
         "double"
        ],
        [
         "ELEVATION",
         "double"
        ],
        [
         "HourlyAltimeterSetting",
         "double"
        ],
        [
         "HourlyDryBulbTemperature",
         "double"
        ],
        [
         "HourlyPrecipitation",
         "double"
        ],
        [
         "HourlyRelativeHumidity",
         "double"
        ],
        [
         "HourlySeaLevelPressure",
         "double"
        ],
        [
         "HourlyStationPressure",
         "double"
        ],
        [
         "HourlyVisibility",
         "double"
        ],
        [
         "HourlyWindDirection",
         "float"
        ],
        [
         "HourlyWindSpeed",
         "double"
        ],
        [
         "MONTH",
         "int"
        ],
        [
         "DAY_OF_MONTH",
         "int"
        ],
        [
         "DAY_OF_WEEK",
         "int"
        ],
        [
         "DEP_TIME_BLK",
         "string"
        ],
        [
         "ARR_TIME_BLK",
         "string"
        ],
        [
         "dest_type",
         "string"
        ],
        [
         "OP_UNIQUE_CARRIER",
         "string"
        ],
        [
         "ORIGIN",
         "string"
        ],
        [
         "DEST",
         "string"
        ],
        [
         "QUARTER",
         "int"
        ],
        [
         "YEAR",
         "int"
        ],
        [
         "DEP_DELAY_COUNT_3600sec",
         "bigint"
        ],
        [
         "DEP_DELAY_COUNT_7200sec",
         "bigint"
        ],
        [
         "ARR_DELAY_COUNT_3600sec",
         "bigint"
        ],
        [
         "ARR_DELAY_COUNT_7200sec",
         "bigint"
        ],
        [
         "CANCELLED_DELAY_COUNT_3600sec",
         "bigint"
        ],
        [
         "CANCELLED_DELAY_COUNT_7200sec",
         "bigint"
        ],
        [
         "Actual_departure_time_UTC",
         "timestamp"
        ],
        [
         "Actual_arrival_time_UTC",
         "timestamp"
        ],
        [
         "Lag_same_flight_DEP_DELAY_NEW",
         "double"
        ],
        [
         "Avg_DEP_DELAY_NEW_other_flights",
         "double"
        ],
        [
         "Last_DEP_DELAY_NEW_other_flights",
         "double"
        ],
        [
         "Avg_TAXI_OUT_other_flights",
         "double"
        ],
        [
         "Last_TAXI_OUT_other_flights",
         "double"
        ],
        [
         "Monthly_avg_DEP_DELAY_NEW_hat",
         "double"
        ],
        [
         "origin_code_vector",
         "vector"
        ],
        [
         "dest_code_vector",
         "vector"
        ],
        [
         "Out_degree_same_origin_past_3hr",
         "bigint"
        ],
        [
         "In_degree_same_dest_past_3hr",
         "bigint"
        ],
        [
         "DEP_DELAY_GROUP_NEW",
         "int"
        ]
       ],
       "datasetInfos": [],
       "dbfsResultPath": null,
       "isJsonSchema": true,
       "metadata": {},
       "overflow": false,
       "plotOptions": {
        "customPlotOptions": {},
        "displayType": "table",
        "pivotAggregation": null,
        "pivotColumns": null,
        "xColumns": null,
        "yColumns": null
       },
       "removedWidgets": [],
       "schema": [
        {
         "metadata": "{}",
         "name": "_1",
         "type": "\"string\""
        },
        {
         "metadata": "{}",
         "name": "_2",
         "type": "\"string\""
        }
       ],
       "type": "table"
      }
     },
     "output_type": "display_data"
    }
   ],
   "source": [
    "display(data_col_cleaned_fe.dtypes)"
   ]
  },
  {
   "cell_type": "code",
   "execution_count": 0,
   "metadata": {
    "application/vnd.databricks.v1+cell": {
     "cellMetadata": {
      "byteLimit": 2048000,
      "rowLimit": 10000
     },
     "inputWidgets": {},
     "nuid": "1840809b-8586-46c0-b763-d41608199914",
     "showTitle": false,
     "tableResultSettingsMap": {},
     "title": ""
    }
   },
   "outputs": [
    {
     "output_type": "execute_result",
     "data": {
      "text/plain": [
       "31105479"
      ]
     },
     "execution_count": 10,
     "metadata": {},
     "output_type": "execute_result"
    }
   ],
   "source": [
    "data_col_cleaned_fe.count()"
   ]
  },
  {
   "cell_type": "markdown",
   "metadata": {
    "application/vnd.databricks.v1+cell": {
     "cellMetadata": {},
     "inputWidgets": {},
     "nuid": "4d79015f-ef9a-4fdb-ac88-4f443698f590",
     "showTitle": false,
     "tableResultSettingsMap": {},
     "title": ""
    }
   },
   "source": [
    "## 2. Split data into train_val and test"
   ]
  },
  {
   "cell_type": "code",
   "execution_count": 0,
   "metadata": {
    "application/vnd.databricks.v1+cell": {
     "cellMetadata": {
      "byteLimit": 2048000,
      "rowLimit": 10000
     },
     "inputWidgets": {},
     "nuid": "9c8b91e0-aa08-4f4b-851f-202376c023fe",
     "showTitle": false,
     "tableResultSettingsMap": {},
     "title": ""
    }
   },
   "outputs": [
    {
     "output_type": "stream",
     "name": "stdout",
     "output_type": "stream",
     "text": [
      "After data splitting - train_val_df rows: 23863442\nAfter data splitting - test_df rows: 7242037\n"
     ]
    }
   ],
   "source": [
    "'''if already have full data with features'''\n",
    "# data_col_cleaned_fe = spark.read.parquet(f\"{team_blob_url}/data_cleaned_ordered_with_feature_engineerings_{data_months_label}_{output_version}\")\n",
    "\n",
    "# print(f\"data_col_cleaned_fe rows: {data_col_cleaned_fe.count()}\")\n",
    "\n",
    "# new_features.extend(['Lag_same_flight_DEP_DELAY_NEW',\n",
    "#     'Avg_DEP_DELAY_NEW_other_flights',\n",
    "#     'Avg_TAXI_OUT_other_flights',\n",
    "#     'Last_DEP_DELAY_NEW_other_flights',\n",
    "#     'Last_TAXI_OUT_other_flights',\n",
    "#     'Avg_ARR_DELAY_NEW_other_flights',\n",
    "#     'Avg_TAXI_IN_other_flights',\n",
    "#     'Last_ARR_DELAY_NEW_other_flights',\n",
    "#     'Last_TAXI_IN_other_flights',\n",
    "#     'Weekly_avg_DEP_DELAY_NEW_hat',\n",
    "#     'origin_code_vector',\n",
    "#     'dest_code_vector'])\n",
    "\n",
    "''''''\n",
    "\n",
    "# Splitting data into train_val_df, test_df\n",
    "train_val_df, test_df = split_train_val_test(data_col_cleaned_fe, split_ratio, data_months_label)\n",
    "\n",
    "print(\n",
    "    f\"After data splitting - train_val_df rows: {train_val_df.count()}\"\n",
    ")\n",
    "print(\n",
    "    f\"After data splitting - test_df rows: {test_df.count()}\"\n",
    ")"
   ]
  },
  {
   "cell_type": "code",
   "execution_count": 0,
   "metadata": {
    "application/vnd.databricks.v1+cell": {
     "cellMetadata": {
      "byteLimit": 2048000,
      "rowLimit": 10000
     },
     "inputWidgets": {},
     "nuid": "4d658750-7684-4dd2-a28d-a1a442f64780",
     "showTitle": false,
     "tableResultSettingsMap": {},
     "title": ""
    }
   },
   "outputs": [],
   "source": [
    "# spark.catalog.clearCache()"
   ]
  },
  {
   "cell_type": "markdown",
   "metadata": {
    "application/vnd.databricks.v1+cell": {
     "cellMetadata": {},
     "inputWidgets": {},
     "nuid": "bd16dc9c-1be0-4ead-8543-585e0db1b9de",
     "showTitle": false,
     "tableResultSettingsMap": {},
     "title": ""
    }
   },
   "source": [
    "## 3 Encoding"
   ]
  },
  {
   "cell_type": "code",
   "execution_count": 0,
   "metadata": {
    "application/vnd.databricks.v1+cell": {
     "cellMetadata": {
      "byteLimit": 2048000,
      "rowLimit": 10000
     },
     "inputWidgets": {},
     "nuid": "c132b9ef-428f-4eff-a04d-544f674638e9",
     "showTitle": false,
     "tableResultSettingsMap": {},
     "title": ""
    }
   },
   "outputs": [
    {
     "output_type": "stream",
     "name": "stdout",
     "output_type": "stream",
     "text": [
      "Label encoding train_val..\n+--------------+-------------------------------+\n|   origin_type|last_value(origin_type_Encoded)|\n+--------------+-------------------------------+\n| large_airport|                              2|\n|medium_airport|                              1|\n| small_airport|                              0|\n+--------------+-------------------------------+\n\n+--------------+-----------------------------+\n|     dest_type|last_value(dest_type_Encoded)|\n+--------------+-----------------------------+\n| large_airport|                            2|\n|medium_airport|                            1|\n| small_airport|                            0|\n+--------------+-----------------------------+\n\nLabel encoding test..\n+--------------+-------------------------------+\n|   origin_type|last_value(origin_type_Encoded)|\n+--------------+-------------------------------+\n| large_airport|                              2|\n|medium_airport|                              1|\n| small_airport|                              0|\n+--------------+-------------------------------+\n\n+--------------+-----------------------------+\n|     dest_type|last_value(dest_type_Encoded)|\n+--------------+-----------------------------+\n| large_airport|                            2|\n|medium_airport|                            1|\n| small_airport|                            0|\n+--------------+-----------------------------+\n\nAfter label_encoding_with_order for both origin_type/dest_type - train_val_df rows: 23863442\nAfter label_encoding_with_order for both origin_type/dest_type - test_df rows: 7242037\nOne hot encoding train_val and test_df using train_val encoder..\ninput_df_to_transform.count():  23863442\n"
     ]
    },
    {
     "output_type": "display_data",
     "data": {
      "application/vnd.jupyter.widget-view+json": {
       "model_id": "33d7b51b1e1747f492c250412a83fc74",
       "version_major": 2,
       "version_minor": 0
      },
      "text/plain": [
       "Downloading artifacts:   0%|          | 0/165 [00:00<?, ?it/s]"
      ]
     },
     "metadata": {},
     "output_type": "display_data"
    },
    {
     "output_type": "display_data",
     "data": {
      "application/vnd.jupyter.widget-view+json": {
       "model_id": "24f61367337e46489e0c46caf8813ce0",
       "version_major": 2,
       "version_minor": 0
      },
      "text/plain": [
       "Uploading artifacts:   0%|          | 0/4 [00:00<?, ?it/s]"
      ]
     },
     "metadata": {},
     "output_type": "display_data"
    },
    {
     "output_type": "stream",
     "name": "stdout",
     "output_type": "stream",
     "text": [
      "df_encoded.count():  23863442\ndf_encoded.count():  23863442\n+---------------+--------------------+-------------------+-------------------------+--------------------+--------------------+---------------+-------------+\n|  MONTH_Encoded|DAY_OF_MONTH_Encoded|DAY_OF_WEEK_Encoded|OP_UNIQUE_CARRIER_Encoded|DEP_TIME_BLK_Encoded|ARR_TIME_BLK_Encoded|QUARTER_Encoded| YEAR_Encoded|\n+---------------+--------------------+-------------------+-------------------------+--------------------+--------------------+---------------+-------------+\n|(12,[10],[1.0])|     (31,[23],[1.0])|      (7,[1],[1.0])|           (19,[8],[1.0])|     (19,[16],[1.0])|     (19,[17],[1.0])|  (4,[3],[1.0])|(4,[1],[1.0])|\n|(12,[10],[1.0])|     (31,[23],[1.0])|      (7,[1],[1.0])|           (19,[8],[1.0])|     (19,[16],[1.0])|     (19,[17],[1.0])|  (4,[3],[1.0])|(4,[1],[1.0])|\n|(12,[10],[1.0])|     (31,[23],[1.0])|      (7,[1],[1.0])|           (19,[8],[1.0])|     (19,[16],[1.0])|     (19,[17],[1.0])|  (4,[3],[1.0])|(4,[1],[1.0])|\n|(12,[10],[1.0])|     (31,[23],[1.0])|      (7,[1],[1.0])|           (19,[2],[1.0])|     (19,[16],[1.0])|     (19,[16],[1.0])|  (4,[3],[1.0])|(4,[1],[1.0])|\n|(12,[10],[1.0])|     (31,[23],[1.0])|      (7,[1],[1.0])|           (19,[8],[1.0])|     (19,[16],[1.0])|     (19,[17],[1.0])|  (4,[3],[1.0])|(4,[1],[1.0])|\n|(12,[10],[1.0])|     (31,[23],[1.0])|      (7,[1],[1.0])|           (19,[2],[1.0])|     (19,[16],[1.0])|     (19,[16],[1.0])|  (4,[3],[1.0])|(4,[1],[1.0])|\n|(12,[10],[1.0])|     (31,[23],[1.0])|      (7,[1],[1.0])|           (19,[1],[1.0])|     (19,[16],[1.0])|     (19,[16],[1.0])|  (4,[3],[1.0])|(4,[1],[1.0])|\n|(12,[10],[1.0])|     (31,[23],[1.0])|      (7,[1],[1.0])|           (19,[8],[1.0])|     (19,[16],[1.0])|     (19,[17],[1.0])|  (4,[3],[1.0])|(4,[1],[1.0])|\n|(12,[10],[1.0])|     (31,[23],[1.0])|      (7,[1],[1.0])|           (19,[2],[1.0])|     (19,[16],[1.0])|      (19,[9],[1.0])|  (4,[3],[1.0])|(4,[1],[1.0])|\n|(12,[10],[1.0])|     (31,[23],[1.0])|      (7,[1],[1.0])|           (19,[8],[1.0])|     (19,[16],[1.0])|     (19,[17],[1.0])|  (4,[3],[1.0])|(4,[1],[1.0])|\n+---------------+--------------------+-------------------+-------------------------+--------------------+--------------------+---------------+-------------+\nonly showing top 10 rows\n\ninput_df_to_transform.count():  7242037\n"
     ]
    },
    {
     "output_type": "display_data",
     "data": {
      "application/vnd.jupyter.widget-view+json": {
       "model_id": "82391812c3b1490b82cae08a288eebcc",
       "version_major": 2,
       "version_minor": 0
      },
      "text/plain": [
       "Downloading artifacts:   0%|          | 0/165 [00:00<?, ?it/s]"
      ]
     },
     "metadata": {},
     "output_type": "display_data"
    },
    {
     "output_type": "display_data",
     "data": {
      "application/vnd.jupyter.widget-view+json": {
       "model_id": "b7188240ada74471a3b4054d0b14ae51",
       "version_major": 2,
       "version_minor": 0
      },
      "text/plain": [
       "Uploading artifacts:   0%|          | 0/4 [00:00<?, ?it/s]"
      ]
     },
     "metadata": {},
     "output_type": "display_data"
    },
    {
     "output_type": "stream",
     "name": "stdout",
     "output_type": "stream",
     "text": [
      "df_encoded.count():  7242037\ndf_encoded.count():  7242037\n+---------------+--------------------+-------------------+-------------------------+--------------------+--------------------+---------------+------------+\n|  MONTH_Encoded|DAY_OF_MONTH_Encoded|DAY_OF_WEEK_Encoded|OP_UNIQUE_CARRIER_Encoded|DEP_TIME_BLK_Encoded|ARR_TIME_BLK_Encoded|QUARTER_Encoded|YEAR_Encoded|\n+---------------+--------------------+-------------------+-------------------------+--------------------+--------------------+---------------+------------+\n|(12,[10],[1.0])|     (31,[23],[1.0])|      (7,[4],[1.0])|           (19,[8],[1.0])|     (19,[16],[1.0])|     (19,[17],[1.0])|  (4,[3],[1.0])|   (4,[],[])|\n|(12,[10],[1.0])|     (31,[23],[1.0])|      (7,[4],[1.0])|           (19,[8],[1.0])|     (19,[16],[1.0])|     (19,[18],[1.0])|  (4,[3],[1.0])|   (4,[],[])|\n|(12,[10],[1.0])|     (31,[23],[1.0])|      (7,[4],[1.0])|           (19,[2],[1.0])|     (19,[16],[1.0])|     (19,[16],[1.0])|  (4,[3],[1.0])|   (4,[],[])|\n|(12,[10],[1.0])|     (31,[23],[1.0])|      (7,[4],[1.0])|           (19,[2],[1.0])|     (19,[16],[1.0])|     (19,[16],[1.0])|  (4,[3],[1.0])|   (4,[],[])|\n|(12,[10],[1.0])|     (31,[23],[1.0])|      (7,[4],[1.0])|           (19,[7],[1.0])|     (19,[16],[1.0])|     (19,[17],[1.0])|  (4,[3],[1.0])|   (4,[],[])|\n|(12,[10],[1.0])|     (31,[23],[1.0])|      (7,[4],[1.0])|           (19,[2],[1.0])|     (19,[16],[1.0])|     (19,[16],[1.0])|  (4,[3],[1.0])|   (4,[],[])|\n|(12,[10],[1.0])|     (31,[23],[1.0])|      (7,[4],[1.0])|           (19,[2],[1.0])|     (19,[16],[1.0])|     (19,[17],[1.0])|  (4,[3],[1.0])|   (4,[],[])|\n|(12,[10],[1.0])|     (31,[23],[1.0])|      (7,[4],[1.0])|           (19,[8],[1.0])|     (19,[16],[1.0])|     (19,[17],[1.0])|  (4,[3],[1.0])|   (4,[],[])|\n|(12,[10],[1.0])|     (31,[23],[1.0])|      (7,[4],[1.0])|           (19,[6],[1.0])|     (19,[16],[1.0])|     (19,[16],[1.0])|  (4,[3],[1.0])|   (4,[],[])|\n|(12,[10],[1.0])|     (31,[23],[1.0])|      (7,[4],[1.0])|           (19,[4],[1.0])|     (19,[16],[1.0])|     (19,[17],[1.0])|  (4,[3],[1.0])|   (4,[],[])|\n+---------------+--------------------+-------------------+-------------------------+--------------------+--------------------+---------------+------------+\nonly showing top 10 rows\n\nAfter one_hot_encoding - train_val_df rows: 23863442\nAfter one_hot_encoding - test_df rows: 7242037\nscaled_cols are: \n['ARR_DELAY_COUNT_3600sec', 'ARR_DELAY_COUNT_7200sec', 'Avg_DEP_DELAY_NEW_other_flights', 'Avg_TAXI_OUT_other_flights', 'CANCELLED_DELAY_COUNT_3600sec', 'CANCELLED_DELAY_COUNT_7200sec', 'DEP_DELAY_COUNT_3600sec', 'DEP_DELAY_COUNT_7200sec', 'DISTANCE', 'ELEVATION', 'HourlyAltimeterSetting', 'HourlyDryBulbTemperature', 'HourlyPrecipitation', 'HourlyRelativeHumidity', 'HourlySeaLevelPressure', 'HourlyStationPressure', 'HourlyVisibility', 'HourlyWindDirection', 'HourlyWindSpeed', 'In_degree_same_dest_past_3hr', 'Lag_same_flight_DEP_DELAY_NEW', 'Last_DEP_DELAY_NEW_other_flights', 'Last_TAXI_OUT_other_flights', 'Monthly_avg_DEP_DELAY_NEW_hat', 'Out_degree_same_origin_past_3hr', 'dest_type_Encoded', 'origin_type_Encoded']\n\nscaling train_val_df and test_df using train_val scaler..\n+---------------------+--------------------+\n|features_to_be_scaled|     scaled_features|\n+---------------------+--------------------+\n| [0.0,0.0,10.27083...|[0.0,0.0,0.005117...|\n| [0.0,0.0,10.27083...|[0.0,0.0,0.005117...|\n| [0.0,0.0,10.27083...|[0.0,0.0,0.005117...|\n| [0.0,0.0,10.27083...|[0.0,0.0,0.005117...|\n| [0.0,0.0,10.27083...|[0.0,0.0,0.005117...|\n+---------------------+--------------------+\nonly showing top 5 rows\n\n+---------------------+--------------------+\n|features_to_be_scaled|     scaled_features|\n+---------------------+--------------------+\n| [0.0,0.0,11.66425...|[0.0,0.0,0.005811...|\n| [0.0,0.0,11.66425...|[0.0,0.0,0.005811...|\n| [0.0,0.0,39.45238...|[0.0,0.0,0.019657...|\n| [0.0,0.0,39.45238...|[0.0,0.0,0.019657...|\n| [0.0,0.0,39.45238...|[0.0,0.0,0.019657...|\n+---------------------+--------------------+\nonly showing top 5 rows\n\nAfter standard_scaling - train_val_df rows: 23863442\nAfter standard_scaling - test_df rows: 7242037\nEnd: train_val_df rows: 23863442\nEnd: test_df rows: 7242037\n"
     ]
    }
   ],
   "source": [
    "# Encoding\n",
    "## Label Encoding\n",
    "encoded_cols = []\n",
    "\n",
    "# define the desired order\n",
    "order_label = [\"small_airport\", \"medium_airport\", \"large_airport\"]\n",
    "\n",
    "print ('Label encoding train_val..')\n",
    "train_val_df = label_encoding_with_order(train_val_df, 'origin_type', \n",
    "                                                order_label).cache()\n",
    "\n",
    "train_val_df = label_encoding_with_order(train_val_df, 'dest_type', \n",
    "                                                order_label).cache() \n",
    "\n",
    "# process test\n",
    "print ('Label encoding test..')\n",
    "test_df = label_encoding_with_order(test_df, 'origin_type', \n",
    "                                                order_label).cache()\n",
    "\n",
    "test_df = label_encoding_with_order(test_df, 'dest_type', \n",
    "                                                order_label).cache() \n",
    "\n",
    "print(\n",
    "    f\"After label_encoding_with_order for both origin_type/dest_type - train_val_df rows: {train_val_df.count()}\"\n",
    ")\n",
    "print(\n",
    "    f\"After label_encoding_with_order for both origin_type/dest_type - test_df rows: {test_df.count()}\"\n",
    ")\n",
    "\n",
    "encoded_cols.append(\"origin_type_Encoded\")\n",
    "encoded_cols.append(\"dest_type_Encoded\")\n",
    "\n",
    "## One-hot Encoding\n",
    "# IN: for 3m data, Year AND QUARTER can't be included\n",
    "# IN: BEFORE FIXING THE DATA, do not include 'CANCELLED'and 'DIVERTED' as a column\n",
    "col_for_one_hot = [\n",
    "    \"MONTH\",\n",
    "    \"DAY_OF_MONTH\",\n",
    "    \"DAY_OF_WEEK\",\n",
    "    \"OP_UNIQUE_CARRIER\",\n",
    "    \"DEP_TIME_BLK\",\n",
    "    \"ARR_TIME_BLK\",\n",
    "    # NOTE: Added for 12m\n",
    "    \"QUARTER\",\n",
    "    # NOTE: Added for >12m\n",
    "    'YEAR'\n",
    "]\n",
    "\n",
    "print ('One hot encoding train_val and test_df using train_val encoder..')\n",
    "train_val_df, test_df = one_hot_encoding(col_for_one_hot, train_val_df, \n",
    "                                      [train_val_df, \n",
    "                                      test_df])\n",
    "\n",
    "print(\n",
    "    f\"After one_hot_encoding - train_val_df rows: {train_val_df.count()}\"\n",
    ")\n",
    "print(\n",
    "    f\"After one_hot_encoding - test_df rows: {test_df.count()}\"\n",
    ")\n",
    "\n",
    "encoded_cols.extend([col + \"_Endoded\" for col in col_for_one_hot])\n",
    "\n",
    "# Scaling numerical and label encoded variables\n",
    "scaling_flag = 'minmax'  #IN: 'minmax' or 'standard'\n",
    "\n",
    "# scaled_cols = list(\n",
    "#     set(important_num_features).union(set(new_features))\n",
    "#     - {\"ACTUAL_ELAPSED_TIME\", \"CRS_ELAPSED_TIME\"}\n",
    "#     - set(features_not_directly_available)\n",
    "#     - set(['origin_code_vector', 'dest_code_vector'])\n",
    "# ) + [\"origin_type_Encoded\", \"dest_type_Encoded\"]\n",
    "\n",
    "scaled_cols = sorted(list(set(important_num_features).union(set(new_features))- {'ACTUAL_ELAPSED_TIME','CRS_ELAPSED_TIME'} - set(features_not_directly_available)\n",
    "                -set(['origin_code_vector', 'dest_code_vector']))+ ['origin_type_Encoded', 'dest_type_Encoded'])\n",
    "print ('scaled_cols are: ')\n",
    "print (scaled_cols) \n",
    "print ()\n",
    "# IN:using sorted() to keep the order of columns more consistent and understandable (11 original, 19 new, 2 label encoding - should be 32 in total)\n",
    "\n",
    "print ('scaling train_val_df and test_df using train_val scaler..')\n",
    "train_val_df, test_df = scaling(scaled_cols, train_val_df, \n",
    "                                [train_val_df, test_df], scaling_flag)\n",
    "\n",
    "print(\n",
    "    f\"After standard_scaling - train_val_df rows: {train_val_df.count()}\"\n",
    ")\n",
    "\n",
    "print(\n",
    "    f\"After standard_scaling - test_df rows: {test_df.count()}\"\n",
    ")\n",
    "\n",
    "# Order the train_val_df and test_df given the encoding may shuffle the order\n",
    "train_val_df  = train_val_df.orderBy('two_hours_prior_depart_UTC').cache()\n",
    "test_df  = test_df.orderBy('two_hours_prior_depart_UTC').cache()\n",
    "\n",
    "print(f\"End: train_val_df rows: {train_val_df.count()}\")\n",
    "print(f\"End: test_df rows: {test_df.count()}\")\n",
    "\n",
    "# checkpoint the feature selected and encoded, scaled data to blob\n",
    "train_val_df.write.mode(\"overwrite\").parquet(\n",
    "    f\"{team_blob_url}/train_val_data_encoded_scaled_ordered_{data_months_label}_{output_version}\"\n",
    ")\n",
    "\n",
    "test_df.write.mode(\"overwrite\").parquet(\n",
    "  f\"{team_blob_url}/test_data_encoded_scaled_ordered_{data_months_label}_{output_version}\"\n",
    ")\n",
    "\n",
    "# save scaled_cols too\n",
    "spark.createDataFrame(pd.DataFrame(scaled_cols)).write.mode('overwrite').parquet(\n",
    "    f'{team_blob_url}/scaled_cols_{data_months_label}_{output_version}')\n"
   ]
  },
  {
   "cell_type": "code",
   "execution_count": 0,
   "metadata": {
    "application/vnd.databricks.v1+cell": {
     "cellMetadata": {
      "byteLimit": 2048000,
      "rowLimit": 10000
     },
     "inputWidgets": {},
     "nuid": "f1b0ba6a-2a91-4737-a511-9b093114d6ac",
     "showTitle": false,
     "tableResultSettingsMap": {},
     "title": ""
    }
   },
   "outputs": [
    {
     "output_type": "execute_result",
     "data": {
      "text/plain": [
       "['ARR_DELAY_COUNT_3600sec',\n",
       " 'ARR_DELAY_COUNT_7200sec',\n",
       " 'Avg_DEP_DELAY_NEW_other_flights',\n",
       " 'Avg_TAXI_OUT_other_flights',\n",
       " 'CANCELLED_DELAY_COUNT_3600sec',\n",
       " 'CANCELLED_DELAY_COUNT_7200sec',\n",
       " 'DEP_DELAY_COUNT_3600sec',\n",
       " 'DEP_DELAY_COUNT_7200sec',\n",
       " 'DISTANCE',\n",
       " 'ELEVATION',\n",
       " 'HourlyAltimeterSetting',\n",
       " 'HourlyDryBulbTemperature',\n",
       " 'HourlyPrecipitation',\n",
       " 'HourlyRelativeHumidity',\n",
       " 'HourlySeaLevelPressure',\n",
       " 'HourlyStationPressure',\n",
       " 'HourlyVisibility',\n",
       " 'HourlyWindDirection',\n",
       " 'HourlyWindSpeed',\n",
       " 'In_degree_same_dest_past_3hr',\n",
       " 'Lag_same_flight_DEP_DELAY_NEW',\n",
       " 'Last_DEP_DELAY_NEW_other_flights',\n",
       " 'Last_TAXI_OUT_other_flights',\n",
       " 'Monthly_avg_DEP_DELAY_NEW_hat',\n",
       " 'Out_degree_same_origin_past_3hr',\n",
       " 'dest_type_Encoded',\n",
       " 'origin_type_Encoded']"
      ]
     },
     "execution_count": 13,
     "metadata": {},
     "output_type": "execute_result"
    }
   ],
   "source": [
    "scaled_cols"
   ]
  },
  {
   "cell_type": "code",
   "execution_count": 0,
   "metadata": {
    "application/vnd.databricks.v1+cell": {
     "cellMetadata": {
      "byteLimit": 2048000,
      "rowLimit": 10000
     },
     "inputWidgets": {},
     "nuid": "69dfb06f-c8b4-48e6-ba15-57070dcc7444",
     "showTitle": false,
     "tableResultSettingsMap": {},
     "title": ""
    }
   },
   "outputs": [],
   "source": [
    "# replicate the potential features to use\n",
    "cols_to_be_assembled_mod = ['scaled_features'] + list({x for x in train_val_df.columns if '_Encoded' in x} - {'origin_type_Encoded', 'dest_type_Encoded'} - {'ORIGIN_Encoded', 'DEST_Encoded'})\\\n",
    "    + ['origin_code_vector', 'dest_code_vector']"
   ]
  },
  {
   "cell_type": "code",
   "execution_count": 0,
   "metadata": {
    "application/vnd.databricks.v1+cell": {
     "cellMetadata": {
      "byteLimit": 2048000,
      "rowLimit": 10000
     },
     "inputWidgets": {},
     "nuid": "e089c3e6-f157-4d03-9638-4a76fe45355f",
     "showTitle": false,
     "tableResultSettingsMap": {},
     "title": ""
    }
   },
   "outputs": [
    {
     "output_type": "execute_result",
     "data": {
      "text/plain": [
       "['scaled_features',\n",
       " 'DEP_TIME_BLK_Encoded',\n",
       " 'DAY_OF_WEEK_Encoded',\n",
       " 'MONTH_Encoded',\n",
       " 'QUARTER_Encoded',\n",
       " 'OP_UNIQUE_CARRIER_Encoded',\n",
       " 'YEAR_Encoded',\n",
       " 'ARR_TIME_BLK_Encoded',\n",
       " 'DAY_OF_MONTH_Encoded',\n",
       " 'origin_code_vector',\n",
       " 'dest_code_vector']"
      ]
     },
     "execution_count": 15,
     "metadata": {},
     "output_type": "execute_result"
    }
   ],
   "source": [
    "# for reference\n",
    "cols_to_be_assembled_mod"
   ]
  },
  {
   "cell_type": "code",
   "execution_count": 0,
   "metadata": {
    "application/vnd.databricks.v1+cell": {
     "cellMetadata": {
      "byteLimit": 2048000,
      "rowLimit": 10000
     },
     "inputWidgets": {},
     "nuid": "55fd0a95-a4b1-48b8-83ee-aa749926ed65",
     "showTitle": false,
     "tableResultSettingsMap": {},
     "title": ""
    }
   },
   "outputs": [
    {
     "output_type": "execute_result",
     "data": {
      "text/plain": [
       "['ARR_DELAY_COUNT_3600sec',\n",
       " 'ARR_DELAY_COUNT_7200sec',\n",
       " 'Avg_DEP_DELAY_NEW_other_flights',\n",
       " 'Avg_TAXI_OUT_other_flights',\n",
       " 'CANCELLED_DELAY_COUNT_3600sec',\n",
       " 'CANCELLED_DELAY_COUNT_7200sec',\n",
       " 'DEP_DELAY_COUNT_3600sec',\n",
       " 'DEP_DELAY_COUNT_7200sec',\n",
       " 'DISTANCE',\n",
       " 'ELEVATION',\n",
       " 'HourlyAltimeterSetting',\n",
       " 'HourlyDryBulbTemperature',\n",
       " 'HourlyPrecipitation',\n",
       " 'HourlyRelativeHumidity',\n",
       " 'HourlySeaLevelPressure',\n",
       " 'HourlyStationPressure',\n",
       " 'HourlyVisibility',\n",
       " 'HourlyWindDirection',\n",
       " 'HourlyWindSpeed',\n",
       " 'In_degree_same_dest_past_3hr',\n",
       " 'Lag_same_flight_DEP_DELAY_NEW',\n",
       " 'Last_DEP_DELAY_NEW_other_flights',\n",
       " 'Last_TAXI_OUT_other_flights',\n",
       " 'Monthly_avg_DEP_DELAY_NEW_hat',\n",
       " 'Out_degree_same_origin_past_3hr',\n",
       " 'dest_type_Encoded',\n",
       " 'origin_type_Encoded',\n",
       " 'DEP_TIME_BLK_Encoded',\n",
       " 'DAY_OF_WEEK_Encoded',\n",
       " 'MONTH_Encoded',\n",
       " 'QUARTER_Encoded',\n",
       " 'OP_UNIQUE_CARRIER_Encoded',\n",
       " 'YEAR_Encoded',\n",
       " 'ARR_TIME_BLK_Encoded',\n",
       " 'DAY_OF_MONTH_Encoded',\n",
       " 'origin_code_vector',\n",
       " 'dest_code_vector']"
      ]
     },
     "execution_count": 16,
     "metadata": {},
     "output_type": "execute_result"
    }
   ],
   "source": [
    "# Total mod features for reference\n",
    "all_mod_features = (scaled_cols + cols_to_be_assembled_mod)\n",
    "all_mod_features.remove('scaled_features')\n",
    "all_mod_features"
   ]
  },
  {
   "cell_type": "code",
   "execution_count": 0,
   "metadata": {
    "application/vnd.databricks.v1+cell": {
     "cellMetadata": {},
     "inputWidgets": {},
     "nuid": "43833ab2-60dc-403b-af79-edfb5cdc85c4",
     "showTitle": false,
     "tableResultSettingsMap": {},
     "title": ""
    }
   },
   "outputs": [],
   "source": []
  }
 ],
 "metadata": {
  "application/vnd.databricks.v1+notebook": {
   "computePreferences": null,
   "dashboards": [
    {
     "elements": [],
     "globalVars": {},
     "guid": "",
     "layoutOption": {
      "grid": true,
      "stack": true
     },
     "nuid": "848a23e1-4a38-4b97-b84c-de53113ea481",
     "origId": 3614068644991824,
     "title": "Untitled",
     "version": "DashboardViewV1",
     "width": 1024
    }
   ],
   "environmentMetadata": {
    "base_environment": "",
    "client": "1"
   },
   "language": "python",
   "notebookMetadata": {
    "pythonIndentUnit": 4
   },
   "notebookName": "IN- feature-engineering-encoding-notebook-version",
   "widgets": {}
  },
  "language_info": {
   "name": "python"
  }
 },
 "nbformat": 4,
 "nbformat_minor": 0
}