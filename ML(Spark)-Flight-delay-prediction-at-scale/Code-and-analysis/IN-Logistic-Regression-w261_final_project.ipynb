{
 "cells": [
  {
   "cell_type": "markdown",
   "metadata": {
    "application/vnd.databricks.v1+cell": {
     "cellMetadata": {
      "byteLimit": 2048000,
      "rowLimit": 10000
     },
     "inputWidgets": {},
     "nuid": "056ff3a5-6f46-4a99-a174-2153abd510db",
     "showTitle": false,
     "tableResultSettingsMap": {},
     "title": ""
    }
   },
   "source": [
    "# IN - Analysis Notebook - Logistic - Regression"
   ]
  },
  {
   "cell_type": "code",
   "execution_count": 0,
   "metadata": {
    "application/vnd.databricks.v1+cell": {
     "cellMetadata": {
      "byteLimit": 2048000,
      "rowLimit": 10000
     },
     "inputWidgets": {},
     "nuid": "860d1e18-8843-40ec-9b06-baca76a0b902",
     "showTitle": false,
     "tableResultSettingsMap": {},
     "title": ""
    }
   },
   "outputs": [
    {
     "output_type": "stream",
     "name": "stdout",
     "output_type": "stream",
     "text": [
      "Welcome to the W261 final project!\n"
     ]
    }
   ],
   "source": [
    "from pyspark.sql.functions import col, udf, expr, pandas_udf, to_date, date_trunc, concat_ws, collect_list, struct, broadcast, row_number\n",
    "import pyspark.sql.functions as F\n",
    "import matplotlib.pyplot as plt\n",
    "import seaborn as sns\n",
    "from pyspark.sql.functions import when\n",
    "from pyspark.ml.feature import StringIndexer, OneHotEncoder\n",
    "from pyspark.ml import Pipeline\n",
    "from pyspark.sql.types import IntegerType, StringType, StructType, StructField, DoubleType, DateType, TimestampType, ArrayType, FloatType, LongType\n",
    "from pyspark.ml.feature import VectorAssembler, StandardScaler, MinMaxScaler\n",
    "from pyspark.mllib.evaluation import MulticlassMetrics\n",
    "from pyspark.ml.classification import LogisticRegression\n",
    "from pyspark.ml.evaluation import MulticlassClassificationEvaluator\n",
    "from sklearn.metrics import confusion_matrix\n",
    "import numpy as np\n",
    "from pyspark.sql import Window\n",
    "from pyspark.sql.functions import date_add, to_timestamp, PandasUDFType\n",
    "from pyspark.sql.functions import col, unix_timestamp, from_unixtime\n",
    "import pandas as pd\n",
    "from prophet import Prophet\n",
    "# import tensorflow\n",
    "# import xgboost\n",
    "# import graphframes\n",
    "from pyspark.ml.feature import Imputer\n",
    "from sklearn.preprocessing import LabelEncoder\n",
    "# import numpy as np\n",
    "import math\n",
    "from xgboost.spark import SparkXGBClassifier\n",
    "from pyspark.ml.tuning import ParamGridBuilder, CrossValidator\n",
    "import mlflow\n",
    "\n",
    "print(\"Welcome to the W261 final project!\") "
   ]
  },
  {
   "cell_type": "markdown",
   "metadata": {
    "application/vnd.databricks.v1+cell": {
     "cellMetadata": {
      "byteLimit": 2048000,
      "rowLimit": 10000
     },
     "inputWidgets": {},
     "nuid": "a3c67972-057f-4de7-bc5b-6eed935af559",
     "showTitle": false,
     "tableResultSettingsMap": {},
     "title": ""
    }
   },
   "source": [
    "# Connect to team storage blob"
   ]
  },
  {
   "cell_type": "code",
   "execution_count": 0,
   "metadata": {
    "application/vnd.databricks.v1+cell": {
     "cellMetadata": {
      "byteLimit": 2048000,
      "rowLimit": 10000
     },
     "inputWidgets": {},
     "nuid": "4524310b-43f8-4c90-9195-9b0c9a7dab4b",
     "showTitle": false,
     "tableResultSettingsMap": {},
     "title": ""
    }
   },
   "outputs": [],
   "source": [
    "# The following blob storage is accessible to team members only (read and write)\n",
    "# access key is valid til TTL\n",
    "# after that you will need to create a new SAS key and authenticate access again via DataBrick command line\n",
    "blob_container  = \"team-3-2-project261\"       # The name of your container created in https://portal.azure.com\n",
    "storage_account = \"fall2024team32\"  # The name of your Storage account created in https://portal.azure.com\n",
    "secret_scope    = \"scope_team_3_2\"           # The name of the scope created in your local computer using the Databricks CLI\n",
    "secret_key      = \"key_team_3_2\"             # The name of the secret key created in your local computer using the Databricks CLI\n",
    "team_blob_url   = f\"wasbs://{blob_container}@{storage_account}.blob.core.windows.net\"  #points to the root of your team storage bucket\n",
    "\n",
    "\n",
    "# the 261 course blob storage is mounted here.\n",
    "mids261_mount_path      = \"/mnt/mids-w261\"\n",
    "\n",
    "# SAS Token: Grant the team limited access to Azure Storage resources\n",
    "spark.conf.set(\n",
    "  f\"fs.azure.sas.{blob_container}.{storage_account}.blob.core.windows.net\",\n",
    "  dbutils.secrets.get(scope = secret_scope, key = secret_key)\n",
    ")"
   ]
  },
  {
   "cell_type": "code",
   "execution_count": 0,
   "metadata": {
    "application/vnd.databricks.v1+cell": {
     "cellMetadata": {
      "byteLimit": 2048000,
      "rowLimit": 10000
     },
     "inputWidgets": {},
     "nuid": "644160f2-3b6d-411a-ac0b-217cb59ae018",
     "showTitle": false,
     "tableResultSettingsMap": {},
     "title": ""
    }
   },
   "outputs": [
    {
     "output_type": "display_data",
     "data": {
      "text/html": [
       "<style scoped>\n",
       "  .table-result-container {\n",
       "    max-height: 300px;\n",
       "    overflow: auto;\n",
       "  }\n",
       "  table, th, td {\n",
       "    border: 1px solid black;\n",
       "    border-collapse: collapse;\n",
       "  }\n",
       "  th, td {\n",
       "    padding: 5px;\n",
       "  }\n",
       "  th {\n",
       "    text-align: left;\n",
       "  }\n",
       "</style><div class='table-result-container'><table class='table-result'><thead style='background-color: white'><tr><th>path</th><th>name</th><th>size</th><th>modificationTime</th></tr></thead><tbody><tr><td>wasbs://team-3-2-project261@fall2024team32.blob.core.windows.net/12m_cancelled_data/</td><td>12m_cancelled_data/</td><td>0</td><td>1731754303000</td></tr><tr><td>wasbs://team-3-2-project261@fall2024team32.blob.core.windows.net/12m_diverted_data/</td><td>12m_diverted_data/</td><td>0</td><td>1731754311000</td></tr><tr><td>wasbs://team-3-2-project261@fall2024team32.blob.core.windows.net/12m_duplicates_removed/</td><td>12m_duplicates_removed/</td><td>0</td><td>1733298522000</td></tr><tr><td>wasbs://team-3-2-project261@fall2024team32.blob.core.windows.net/12m_final_data/</td><td>12m_final_data/</td><td>0</td><td>1731755226000</td></tr><tr><td>wasbs://team-3-2-project261@fall2024team32.blob.core.windows.net/12m_final_data_deduped/</td><td>12m_final_data_deduped/</td><td>0</td><td>1731805979000</td></tr><tr><td>wasbs://team-3-2-project261@fall2024team32.blob.core.windows.net/12m_mean_year_month_destination/</td><td>12m_mean_year_month_destination/</td><td>0</td><td>1731754740000</td></tr><tr><td>wasbs://team-3-2-project261@fall2024team32.blob.core.windows.net/12m_mean_year_month_origin/</td><td>12m_mean_year_month_origin/</td><td>0</td><td>1731754736000</td></tr><tr><td>wasbs://team-3-2-project261@fall2024team32.blob.core.windows.net/12m_null_summary/</td><td>12m_null_summary/</td><td>0</td><td>1731754630000</td></tr><tr><td>wasbs://team-3-2-project261@fall2024team32.blob.core.windows.net/12m_sorted_data/</td><td>12m_sorted_data/</td><td>0</td><td>1731754292000</td></tr><tr><td>wasbs://team-3-2-project261@fall2024team32.blob.core.windows.net/12m_summary_statistics/</td><td>12m_summary_statistics/</td><td>0</td><td>1731756196000</td></tr><tr><td>wasbs://team-3-2-project261@fall2024team32.blob.core.windows.net/12m_summary_statistics_before_imputing/</td><td>12m_summary_statistics_before_imputing/</td><td>0</td><td>1731754727000</td></tr><tr><td>wasbs://team-3-2-project261@fall2024team32.blob.core.windows.net/12m_take_5_cancelled_data/</td><td>12m_take_5_cancelled_data/</td><td>0</td><td>1732908439000</td></tr><tr><td>wasbs://team-3-2-project261@fall2024team32.blob.core.windows.net/12m_take_5_diverted_data/</td><td>12m_take_5_diverted_data/</td><td>0</td><td>1732908443000</td></tr><tr><td>wasbs://team-3-2-project261@fall2024team32.blob.core.windows.net/12m_take_5_duplicates_removed/</td><td>12m_take_5_duplicates_removed/</td><td>0</td><td>1732908397000</td></tr><tr><td>wasbs://team-3-2-project261@fall2024team32.blob.core.windows.net/12m_take_5_final/</td><td>12m_take_5_final/</td><td>0</td><td>1732916796000</td></tr><tr><td>wasbs://team-3-2-project261@fall2024team32.blob.core.windows.net/12m_take_5_final_data/</td><td>12m_take_5_final_data/</td><td>0</td><td>1732911951000</td></tr><tr><td>wasbs://team-3-2-project261@fall2024team32.blob.core.windows.net/12m_take_5_mean_year_month_destination/</td><td>12m_take_5_mean_year_month_destination/</td><td>0</td><td>1732908884000</td></tr><tr><td>wasbs://team-3-2-project261@fall2024team32.blob.core.windows.net/12m_take_5_mean_year_month_origin/</td><td>12m_take_5_mean_year_month_origin/</td><td>0</td><td>1732908880000</td></tr><tr><td>wasbs://team-3-2-project261@fall2024team32.blob.core.windows.net/12m_take_5_null_summary/</td><td>12m_take_5_null_summary/</td><td>0</td><td>1732908793000</td></tr><tr><td>wasbs://team-3-2-project261@fall2024team32.blob.core.windows.net/12m_take_5_sorted_data/</td><td>12m_take_5_sorted_data/</td><td>0</td><td>1732908434000</td></tr><tr><td>wasbs://team-3-2-project261@fall2024team32.blob.core.windows.net/12m_take_5_summary_statistics/</td><td>12m_take_5_summary_statistics/</td><td>0</td><td>1732912795000</td></tr><tr><td>wasbs://team-3-2-project261@fall2024team32.blob.core.windows.net/12m_take_5_summary_statistics_before_imputing/</td><td>12m_take_5_summary_statistics_before_imputing/</td><td>0</td><td>1732908871000</td></tr><tr><td>wasbs://team-3-2-project261@fall2024team32.blob.core.windows.net/3m_cancelled_data/</td><td>3m_cancelled_data/</td><td>0</td><td>1731752430000</td></tr><tr><td>wasbs://team-3-2-project261@fall2024team32.blob.core.windows.net/3m_diverted_data/</td><td>3m_diverted_data/</td><td>0</td><td>1731752432000</td></tr><tr><td>wasbs://team-3-2-project261@fall2024team32.blob.core.windows.net/3m_duplicates_removed/</td><td>3m_duplicates_removed/</td><td>0</td><td>1733297180000</td></tr><tr><td>wasbs://team-3-2-project261@fall2024team32.blob.core.windows.net/3m_final_data/</td><td>3m_final_data/</td><td>0</td><td>1731752911000</td></tr><tr><td>wasbs://team-3-2-project261@fall2024team32.blob.core.windows.net/3m_mean_year_month_destination/</td><td>3m_mean_year_month_destination/</td><td>0</td><td>1731752487000</td></tr><tr><td>wasbs://team-3-2-project261@fall2024team32.blob.core.windows.net/3m_mean_year_month_origin/</td><td>3m_mean_year_month_origin/</td><td>0</td><td>1731752484000</td></tr><tr><td>wasbs://team-3-2-project261@fall2024team32.blob.core.windows.net/3m_null_summary/</td><td>3m_null_summary/</td><td>0</td><td>1731740830000</td></tr><tr><td>wasbs://team-3-2-project261@fall2024team32.blob.core.windows.net/3m_sorted_data/</td><td>3m_sorted_data/</td><td>0</td><td>1731720582000</td></tr><tr><td>wasbs://team-3-2-project261@fall2024team32.blob.core.windows.net/3m_spearman_corr/</td><td>3m_spearman_corr/</td><td>0</td><td>1733299754000</td></tr><tr><td>wasbs://team-3-2-project261@fall2024team32.blob.core.windows.net/3m_summary_statistics/</td><td>3m_summary_statistics/</td><td>0</td><td>1731752692000</td></tr><tr><td>wasbs://team-3-2-project261@fall2024team32.blob.core.windows.net/3m_summary_statistics_before_imputing/</td><td>3m_summary_statistics_before_imputing/</td><td>0</td><td>1731752480000</td></tr><tr><td>wasbs://team-3-2-project261@fall2024team32.blob.core.windows.net/3m_take_2_cancelled_data/</td><td>3m_take_2_cancelled_data/</td><td>0</td><td>1732831119000</td></tr><tr><td>wasbs://team-3-2-project261@fall2024team32.blob.core.windows.net/3m_take_2_diverted_data/</td><td>3m_take_2_diverted_data/</td><td>0</td><td>1732831122000</td></tr><tr><td>wasbs://team-3-2-project261@fall2024team32.blob.core.windows.net/3m_take_2_duplicates_removed/</td><td>3m_take_2_duplicates_removed/</td><td>0</td><td>1732831083000</td></tr><tr><td>wasbs://team-3-2-project261@fall2024team32.blob.core.windows.net/3m_take_2_final/</td><td>3m_take_2_final/</td><td>0</td><td>1732834735000</td></tr><tr><td>wasbs://team-3-2-project261@fall2024team32.blob.core.windows.net/3m_take_2_final_data/</td><td>3m_take_2_final_data/</td><td>0</td><td>1732833291000</td></tr><tr><td>wasbs://team-3-2-project261@fall2024team32.blob.core.windows.net/3m_take_2_mean_year_month_destination/</td><td>3m_take_2_mean_year_month_destination/</td><td>0</td><td>1732832425000</td></tr><tr><td>wasbs://team-3-2-project261@fall2024team32.blob.core.windows.net/3m_take_2_mean_year_month_origin/</td><td>3m_take_2_mean_year_month_origin/</td><td>0</td><td>1732832421000</td></tr><tr><td>wasbs://team-3-2-project261@fall2024team32.blob.core.windows.net/3m_take_2_null_summary/</td><td>3m_take_2_null_summary/</td><td>0</td><td>1732832353000</td></tr><tr><td>wasbs://team-3-2-project261@fall2024team32.blob.core.windows.net/3m_take_2_sorted_data/</td><td>3m_take_2_sorted_data/</td><td>0</td><td>1732831114000</td></tr><tr><td>wasbs://team-3-2-project261@fall2024team32.blob.core.windows.net/3m_take_2_summary_statistics/</td><td>3m_take_2_summary_statistics/</td><td>0</td><td>1732833688000</td></tr><tr><td>wasbs://team-3-2-project261@fall2024team32.blob.core.windows.net/3m_take_2_summary_statistics_before_imputing/</td><td>3m_take_2_summary_statistics_before_imputing/</td><td>0</td><td>1732832412000</td></tr><tr><td>wasbs://team-3-2-project261@fall2024team32.blob.core.windows.net/60m_take_3_cancelled_data/</td><td>60m_take_3_cancelled_data/</td><td>0</td><td>1733302534000</td></tr><tr><td>wasbs://team-3-2-project261@fall2024team32.blob.core.windows.net/60m_take_3_diverted_data/</td><td>60m_take_3_diverted_data/</td><td>0</td><td>1733302544000</td></tr><tr><td>wasbs://team-3-2-project261@fall2024team32.blob.core.windows.net/60m_take_3_duplicates_removed/</td><td>60m_take_3_duplicates_removed/</td><td>0</td><td>1733302403000</td></tr><tr><td>wasbs://team-3-2-project261@fall2024team32.blob.core.windows.net/60m_take_3_final/</td><td>60m_take_3_final/</td><td>0</td><td>1733702185000</td></tr><tr><td>wasbs://team-3-2-project261@fall2024team32.blob.core.windows.net/60m_take_3_mean_year_month_destination/</td><td>60m_take_3_mean_year_month_destination/</td><td>0</td><td>1733303190000</td></tr><tr><td>wasbs://team-3-2-project261@fall2024team32.blob.core.windows.net/60m_take_3_mean_year_month_origin/</td><td>60m_take_3_mean_year_month_origin/</td><td>0</td><td>1733303180000</td></tr><tr><td>wasbs://team-3-2-project261@fall2024team32.blob.core.windows.net/60m_take_3_null_summary/</td><td>60m_take_3_null_summary/</td><td>0</td><td>1733303035000</td></tr><tr><td>wasbs://team-3-2-project261@fall2024team32.blob.core.windows.net/60m_take_3_parquet/</td><td>60m_take_3_parquet/</td><td>0</td><td>1733301811000</td></tr><tr><td>wasbs://team-3-2-project261@fall2024team32.blob.core.windows.net/60m_take_3_sorted_data/</td><td>60m_take_3_sorted_data/</td><td>0</td><td>1733700987000</td></tr><tr><td>wasbs://team-3-2-project261@fall2024team32.blob.core.windows.net/60m_take_3_spearman_corr/</td><td>60m_take_3_spearman_corr/</td><td>0</td><td>1733346181000</td></tr><tr><td>wasbs://team-3-2-project261@fall2024team32.blob.core.windows.net/60m_take_3_summary_statistics/</td><td>60m_take_3_summary_statistics/</td><td>0</td><td>1733345319000</td></tr><tr><td>wasbs://team-3-2-project261@fall2024team32.blob.core.windows.net/60m_take_3_summary_statistics_before_imputing/</td><td>60m_take_3_summary_statistics_before_imputing/</td><td>0</td><td>1733303158000</td></tr><tr><td>wasbs://team-3-2-project261@fall2024team32.blob.core.windows.net/60m_take_4_cancelled_data/</td><td>60m_take_4_cancelled_data/</td><td>0</td><td>1733351953000</td></tr><tr><td>wasbs://team-3-2-project261@fall2024team32.blob.core.windows.net/60m_take_4_diverted_data/</td><td>60m_take_4_diverted_data/</td><td>0</td><td>1733351963000</td></tr><tr><td>wasbs://team-3-2-project261@fall2024team32.blob.core.windows.net/60m_take_4_duplicates_removed/</td><td>60m_take_4_duplicates_removed/</td><td>0</td><td>1733351829000</td></tr><tr><td>wasbs://team-3-2-project261@fall2024team32.blob.core.windows.net/60m_take_4_final/</td><td>60m_take_4_final/</td><td>0</td><td>1733353994000</td></tr><tr><td>wasbs://team-3-2-project261@fall2024team32.blob.core.windows.net/60m_take_4_mean_year_month_destination/</td><td>60m_take_4_mean_year_month_destination/</td><td>0</td><td>1733352462000</td></tr><tr><td>wasbs://team-3-2-project261@fall2024team32.blob.core.windows.net/60m_take_4_mean_year_month_origin/</td><td>60m_take_4_mean_year_month_origin/</td><td>0</td><td>1733352454000</td></tr><tr><td>wasbs://team-3-2-project261@fall2024team32.blob.core.windows.net/60m_take_4_null_summary/</td><td>60m_take_4_null_summary/</td><td>0</td><td>1733352331000</td></tr><tr><td>wasbs://team-3-2-project261@fall2024team32.blob.core.windows.net/60m_take_4_parquet/</td><td>60m_take_4_parquet/</td><td>0</td><td>1733351330000</td></tr><tr><td>wasbs://team-3-2-project261@fall2024team32.blob.core.windows.net/60m_take_4_sorted_data/</td><td>60m_take_4_sorted_data/</td><td>0</td><td>1733351944000</td></tr><tr><td>wasbs://team-3-2-project261@fall2024team32.blob.core.windows.net/60m_take_4_spearman_corr/</td><td>60m_take_4_spearman_corr/</td><td>0</td><td>1733355318000</td></tr><tr><td>wasbs://team-3-2-project261@fall2024team32.blob.core.windows.net/60m_take_4_summary_statistics/</td><td>60m_take_4_summary_statistics/</td><td>0</td><td>1733354371000</td></tr><tr><td>wasbs://team-3-2-project261@fall2024team32.blob.core.windows.net/60m_take_4_summary_statistics_before_imputing/</td><td>60m_take_4_summary_statistics_before_imputing/</td><td>0</td><td>1733352434000</td></tr><tr><td>wasbs://team-3-2-project261@fall2024team32.blob.core.windows.net/IN_12m_fold_1_train_v4/</td><td>IN_12m_fold_1_train_v4/</td><td>0</td><td>1732828676000</td></tr><tr><td>wasbs://team-3-2-project261@fall2024team32.blob.core.windows.net/IN_12m_fold_1_val_v4/</td><td>IN_12m_fold_1_val_v4/</td><td>0</td><td>1732828730000</td></tr><tr><td>wasbs://team-3-2-project261@fall2024team32.blob.core.windows.net/IN_12m_fold_2_train_v4/</td><td>IN_12m_fold_2_train_v4/</td><td>0</td><td>1732828834000</td></tr><tr><td>wasbs://team-3-2-project261@fall2024team32.blob.core.windows.net/IN_12m_fold_2_val_v4/</td><td>IN_12m_fold_2_val_v4/</td><td>0</td><td>1732828886000</td></tr><tr><td>wasbs://team-3-2-project261@fall2024team32.blob.core.windows.net/IN_12m_fold_3_train_v4/</td><td>IN_12m_fold_3_train_v4/</td><td>0</td><td>1732828983000</td></tr><tr><td>wasbs://team-3-2-project261@fall2024team32.blob.core.windows.net/IN_12m_fold_3_val_v4/</td><td>IN_12m_fold_3_val_v4/</td><td>0</td><td>1732829052000</td></tr><tr><td>wasbs://team-3-2-project261@fall2024team32.blob.core.windows.net/IN_12m_fold_4_train_v4/</td><td>IN_12m_fold_4_train_v4/</td><td>0</td><td>1732829156000</td></tr><tr><td>wasbs://team-3-2-project261@fall2024team32.blob.core.windows.net/IN_12m_fold_4_val_v4/</td><td>IN_12m_fold_4_val_v4/</td><td>0</td><td>1732829210000</td></tr><tr><td>wasbs://team-3-2-project261@fall2024team32.blob.core.windows.net/IN_12m_fold_5_train_v4/</td><td>IN_12m_fold_5_train_v4/</td><td>0</td><td>1732829301000</td></tr><tr><td>wasbs://team-3-2-project261@fall2024team32.blob.core.windows.net/IN_12m_fold_5_val_v4/</td><td>IN_12m_fold_5_val_v4/</td><td>0</td><td>1732829352000</td></tr><tr><td>wasbs://team-3-2-project261@fall2024team32.blob.core.windows.net/IN_60m_fold_1_train_v2/</td><td>IN_60m_fold_1_train_v2/</td><td>0</td><td>1733467187000</td></tr><tr><td>wasbs://team-3-2-project261@fall2024team32.blob.core.windows.net/IN_60m_fold_1_train_v3/</td><td>IN_60m_fold_1_train_v3/</td><td>0</td><td>1733516744000</td></tr><tr><td>wasbs://team-3-2-project261@fall2024team32.blob.core.windows.net/IN_60m_fold_1_val_v2/</td><td>IN_60m_fold_1_val_v2/</td><td>0</td><td>1733467532000</td></tr><tr><td>wasbs://team-3-2-project261@fall2024team32.blob.core.windows.net/IN_60m_fold_1_val_v3/</td><td>IN_60m_fold_1_val_v3/</td><td>0</td><td>1733517120000</td></tr><tr><td>wasbs://team-3-2-project261@fall2024team32.blob.core.windows.net/IN_60m_fold_2_train_v2/</td><td>IN_60m_fold_2_train_v2/</td><td>0</td><td>1733468050000</td></tr><tr><td>wasbs://team-3-2-project261@fall2024team32.blob.core.windows.net/IN_60m_fold_2_train_v3/</td><td>IN_60m_fold_2_train_v3/</td><td>0</td><td>1733517668000</td></tr><tr><td>wasbs://team-3-2-project261@fall2024team32.blob.core.windows.net/IN_60m_fold_2_val_v2/</td><td>IN_60m_fold_2_val_v2/</td><td>0</td><td>1733468407000</td></tr><tr><td>wasbs://team-3-2-project261@fall2024team32.blob.core.windows.net/IN_60m_fold_2_val_v3/</td><td>IN_60m_fold_2_val_v3/</td><td>0</td><td>1733518037000</td></tr><tr><td>wasbs://team-3-2-project261@fall2024team32.blob.core.windows.net/IN_60m_fold_3_train_v2/</td><td>IN_60m_fold_3_train_v2/</td><td>0</td><td>1733468892000</td></tr><tr><td>wasbs://team-3-2-project261@fall2024team32.blob.core.windows.net/IN_60m_fold_3_train_v3/</td><td>IN_60m_fold_3_train_v3/</td><td>0</td><td>1733518613000</td></tr><tr><td>wasbs://team-3-2-project261@fall2024team32.blob.core.windows.net/IN_60m_fold_3_val_v2/</td><td>IN_60m_fold_3_val_v2/</td><td>0</td><td>1733469214000</td></tr><tr><td>wasbs://team-3-2-project261@fall2024team32.blob.core.windows.net/IN_60m_fold_3_val_v3/</td><td>IN_60m_fold_3_val_v3/</td><td>0</td><td>1733518965000</td></tr><tr><td>wasbs://team-3-2-project261@fall2024team32.blob.core.windows.net/IN_60m_fold_4_train_v2/</td><td>IN_60m_fold_4_train_v2/</td><td>0</td><td>1733469747000</td></tr><tr><td>wasbs://team-3-2-project261@fall2024team32.blob.core.windows.net/IN_60m_fold_4_train_v3/</td><td>IN_60m_fold_4_train_v3/</td><td>0</td><td>1733519547000</td></tr><tr><td>wasbs://team-3-2-project261@fall2024team32.blob.core.windows.net/IN_60m_fold_4_val_v2/</td><td>IN_60m_fold_4_val_v2/</td><td>0</td><td>1733470084000</td></tr><tr><td>wasbs://team-3-2-project261@fall2024team32.blob.core.windows.net/IN_60m_fold_4_val_v3/</td><td>IN_60m_fold_4_val_v3/</td><td>0</td><td>1733519925000</td></tr><tr><td>wasbs://team-3-2-project261@fall2024team32.blob.core.windows.net/IN_60m_fold_5_train_v2/</td><td>IN_60m_fold_5_train_v2/</td><td>0</td><td>1733470619000</td></tr><tr><td>wasbs://team-3-2-project261@fall2024team32.blob.core.windows.net/IN_60m_fold_5_train_v3/</td><td>IN_60m_fold_5_train_v3/</td><td>0</td><td>1733520455000</td></tr><tr><td>wasbs://team-3-2-project261@fall2024team32.blob.core.windows.net/IN_60m_fold_5_val_v2/</td><td>IN_60m_fold_5_val_v2/</td><td>0</td><td>1733470980000</td></tr><tr><td>wasbs://team-3-2-project261@fall2024team32.blob.core.windows.net/IN_60m_fold_5_val_v3/</td><td>IN_60m_fold_5_val_v3/</td><td>0</td><td>1733520793000</td></tr><tr><td>wasbs://team-3-2-project261@fall2024team32.blob.core.windows.net/IN_LR_test_pred_w_new_features_60m/</td><td>IN_LR_test_pred_w_new_features_60m/</td><td>0</td><td>1733980272000</td></tr><tr><td>wasbs://team-3-2-project261@fall2024team32.blob.core.windows.net/IN_best_params_test_xgboost_12m_v2/</td><td>IN_best_params_test_xgboost_12m_v2/</td><td>0</td><td>1732892823000</td></tr><tr><td>wasbs://team-3-2-project261@fall2024team32.blob.core.windows.net/IN_best_params_test_xgboost_12m_v3/</td><td>IN_best_params_test_xgboost_12m_v3/</td><td>0</td><td>1733194055000</td></tr><tr><td>wasbs://team-3-2-project261@fall2024team32.blob.core.windows.net/IN_best_params_test_xgboost_60m_v2/</td><td>IN_best_params_test_xgboost_60m_v2/</td><td>0</td><td>1733513218000</td></tr><tr><td>wasbs://team-3-2-project261@fall2024team32.blob.core.windows.net/IN_best_params_test_xgboost_60m_v3_1/</td><td>IN_best_params_test_xgboost_60m_v3_1/</td><td>0</td><td>1733625513000</td></tr><tr><td>wasbs://team-3-2-project261@fall2024team32.blob.core.windows.net/IN_best_params_test_xgboost_60m_v3_2/</td><td>IN_best_params_test_xgboost_60m_v3_2/</td><td>0</td><td>1733629120000</td></tr><tr><td>wasbs://team-3-2-project261@fall2024team32.blob.core.windows.net/IN_best_params_test_xgboost_60m_v3_3/</td><td>IN_best_params_test_xgboost_60m_v3_3/</td><td>0</td><td>1733668710000</td></tr><tr><td>wasbs://team-3-2-project261@fall2024team32.blob.core.windows.net/IN_best_params_test_xgboost_60m_v3_comb/</td><td>IN_best_params_test_xgboost_60m_v3_comb/</td><td>0</td><td>1733678222000</td></tr><tr><td>wasbs://team-3-2-project261@fall2024team32.blob.core.windows.net/IN_best_params_test_xgboost_v1/</td><td>IN_best_params_test_xgboost_v1/</td><td>0</td><td>1732827177000</td></tr><tr><td>wasbs://team-3-2-project261@fall2024team32.blob.core.windows.net/IN_cv_results_test_xgboost_12m_v2/</td><td>IN_cv_results_test_xgboost_12m_v2/</td><td>0</td><td>1732892826000</td></tr><tr><td>wasbs://team-3-2-project261@fall2024team32.blob.core.windows.net/IN_cv_results_test_xgboost_12m_v3/</td><td>IN_cv_results_test_xgboost_12m_v3/</td><td>0</td><td>1733194057000</td></tr><tr><td>wasbs://team-3-2-project261@fall2024team32.blob.core.windows.net/IN_cv_results_test_xgboost_60m_v2/</td><td>IN_cv_results_test_xgboost_60m_v2/</td><td>0</td><td>1733513219000</td></tr><tr><td>wasbs://team-3-2-project261@fall2024team32.blob.core.windows.net/IN_cv_results_test_xgboost_60m_v3_1/</td><td>IN_cv_results_test_xgboost_60m_v3_1/</td><td>0</td><td>1733625518000</td></tr><tr><td>wasbs://team-3-2-project261@fall2024team32.blob.core.windows.net/IN_cv_results_test_xgboost_60m_v3_2/</td><td>IN_cv_results_test_xgboost_60m_v3_2/</td><td>0</td><td>1733629130000</td></tr><tr><td>wasbs://team-3-2-project261@fall2024team32.blob.core.windows.net/IN_cv_results_test_xgboost_60m_v3_3/</td><td>IN_cv_results_test_xgboost_60m_v3_3/</td><td>0</td><td>1733668712000</td></tr><tr><td>wasbs://team-3-2-project261@fall2024team32.blob.core.windows.net/IN_cv_results_test_xgboost_60m_v3_comb/</td><td>IN_cv_results_test_xgboost_60m_v3_comb/</td><td>0</td><td>1733678226000</td></tr><tr><td>wasbs://team-3-2-project261@fall2024team32.blob.core.windows.net/IN_saved_xgboost_model_v3_12m/</td><td>IN_saved_xgboost_model_v3_12m/</td><td>0</td><td>1733429895000</td></tr><tr><td>wasbs://team-3-2-project261@fall2024team32.blob.core.windows.net/IN_xgboost_model_test_pred_v2_after_cv_60m/</td><td>IN_xgboost_model_test_pred_v2_after_cv_60m/</td><td>0</td><td>1733984954000</td></tr><tr><td>wasbs://team-3-2-project261@fall2024team32.blob.core.windows.net/IN_xgboost_model_v3_12m/</td><td>IN_xgboost_model_v3_12m/</td><td>0</td><td>1733456859000</td></tr><tr><td>wasbs://team-3-2-project261@fall2024team32.blob.core.windows.net/MM_RFC_grid_results_1/</td><td>MM_RFC_grid_results_1/</td><td>0</td><td>1733107508000</td></tr><tr><td>wasbs://team-3-2-project261@fall2024team32.blob.core.windows.net/MM_RFC_grid_results_2/</td><td>MM_RFC_grid_results_2/</td><td>0</td><td>1733240932000</td></tr><tr><td>wasbs://team-3-2-project261@fall2024team32.blob.core.windows.net/MM_RFC_grid_results_3/</td><td>MM_RFC_grid_results_3/</td><td>0</td><td>1733536336000</td></tr><tr><td>wasbs://team-3-2-project261@fall2024team32.blob.core.windows.net/MM_RFC_grid_results_4/</td><td>MM_RFC_grid_results_4/</td><td>0</td><td>1733587384000</td></tr><tr><td>wasbs://team-3-2-project261@fall2024team32.blob.core.windows.net/MM_RFC_grid_results_5/</td><td>MM_RFC_grid_results_5/</td><td>0</td><td>1733608672000</td></tr><tr><td>wasbs://team-3-2-project261@fall2024team32.blob.core.windows.net/MM_RF_MODEL/</td><td>MM_RF_MODEL/</td><td>0</td><td>1733366925000</td></tr><tr><td>wasbs://team-3-2-project261@fall2024team32.blob.core.windows.net/MM_RF_MODEL_T10_D10/</td><td>MM_RF_MODEL_T10_D10/</td><td>0</td><td>1733531143000</td></tr><tr><td>wasbs://team-3-2-project261@fall2024team32.blob.core.windows.net/MM_RF_MODEL_T10_D25/</td><td>MM_RF_MODEL_T10_D25/</td><td>0</td><td>1733368235000</td></tr><tr><td>wasbs://team-3-2-project261@fall2024team32.blob.core.windows.net/MM_RF_MODEL_T10_D5/</td><td>MM_RF_MODEL_T10_D5/</td><td>0</td><td>1733531089000</td></tr><tr><td>wasbs://team-3-2-project261@fall2024team32.blob.core.windows.net/MM_RF_MODEL_T20_D10/</td><td>MM_RF_MODEL_T20_D10/</td><td>0</td><td>1733531255000</td></tr><tr><td>wasbs://team-3-2-project261@fall2024team32.blob.core.windows.net/MM_RF_MODEL_T20_D5/</td><td>MM_RF_MODEL_T20_D5/</td><td>0</td><td>1733531193000</td></tr><tr><td>wasbs://team-3-2-project261@fall2024team32.blob.core.windows.net/MM_RF_MODEL_T30_D10/</td><td>MM_RF_MODEL_T30_D10/</td><td>0</td><td>1733532242000</td></tr><tr><td>wasbs://team-3-2-project261@fall2024team32.blob.core.windows.net/MM_RF_MODEL_T30_D15/</td><td>MM_RF_MODEL_T30_D15/</td><td>0</td><td>1733895631000</td></tr><tr><td>wasbs://team-3-2-project261@fall2024team32.blob.core.windows.net/MM_RF_MODEL_T40_D10/</td><td>MM_RF_MODEL_T40_D10/</td><td>0</td><td>1733531764000</td></tr><tr><td>wasbs://team-3-2-project261@fall2024team32.blob.core.windows.net/MM_RF_MODEL_T40_D15/</td><td>MM_RF_MODEL_T40_D15/</td><td>0</td><td>1733545237000</td></tr><tr><td>wasbs://team-3-2-project261@fall2024team32.blob.core.windows.net/MM_RF_MODEL_T5_D10/</td><td>MM_RF_MODEL_T5_D10/</td><td>0</td><td>1733528985000</td></tr><tr><td>wasbs://team-3-2-project261@fall2024team32.blob.core.windows.net/MM_RF_MODEL_T5_D5/</td><td>MM_RF_MODEL_T5_D5/</td><td>0</td><td>1733528933000</td></tr><tr><td>wasbs://team-3-2-project261@fall2024team32.blob.core.windows.net/clean_data_3m_parquet/</td><td>clean_data_3m_parquet/</td><td>0</td><td>1732946343000</td></tr><tr><td>wasbs://team-3-2-project261@fall2024team32.blob.core.windows.net/data_cleaned_ordered_with_feature_engineerings_12m/</td><td>data_cleaned_ordered_with_feature_engineerings_12m/</td><td>0</td><td>1732306150000</td></tr><tr><td>wasbs://team-3-2-project261@fall2024team32.blob.core.windows.net/data_cleaned_ordered_with_feature_engineerings_12m_v2/</td><td>data_cleaned_ordered_with_feature_engineerings_12m_v2/</td><td>0</td><td>1732607402000</td></tr><tr><td>wasbs://team-3-2-project261@fall2024team32.blob.core.windows.net/data_cleaned_ordered_with_feature_engineerings_12m_v3/</td><td>data_cleaned_ordered_with_feature_engineerings_12m_v3/</td><td>0</td><td>1732715668000</td></tr><tr><td>wasbs://team-3-2-project261@fall2024team32.blob.core.windows.net/data_cleaned_ordered_with_feature_engineerings_12m_v4/</td><td>data_cleaned_ordered_with_feature_engineerings_12m_v4/</td><td>0</td><td>1732777212000</td></tr><tr><td>wasbs://team-3-2-project261@fall2024team32.blob.core.windows.net/data_cleaned_ordered_with_feature_engineerings_12m_v5/</td><td>data_cleaned_ordered_with_feature_engineerings_12m_v5/</td><td>0</td><td>1732936321000</td></tr><tr><td>wasbs://team-3-2-project261@fall2024team32.blob.core.windows.net/data_cleaned_ordered_with_feature_engineerings_3m/</td><td>data_cleaned_ordered_with_feature_engineerings_3m/</td><td>0</td><td>1732674212000</td></tr><tr><td>wasbs://team-3-2-project261@fall2024team32.blob.core.windows.net/data_cleaned_ordered_with_feature_engineerings_3m_v2/</td><td>data_cleaned_ordered_with_feature_engineerings_3m_v2/</td><td>0</td><td>1732598002000</td></tr><tr><td>wasbs://team-3-2-project261@fall2024team32.blob.core.windows.net/data_cleaned_ordered_with_feature_engineerings_3m_v3/</td><td>data_cleaned_ordered_with_feature_engineerings_3m_v3/</td><td>0</td><td>1732694796000</td></tr><tr><td>wasbs://team-3-2-project261@fall2024team32.blob.core.windows.net/data_cleaned_ordered_with_feature_engineerings_3m_v4/</td><td>data_cleaned_ordered_with_feature_engineerings_3m_v4/</td><td>0</td><td>1732748553000</td></tr><tr><td>wasbs://team-3-2-project261@fall2024team32.blob.core.windows.net/data_cleaned_ordered_with_feature_engineerings_60m_v1/</td><td>data_cleaned_ordered_with_feature_engineerings_60m_v1/</td><td>0</td><td>1733450392000</td></tr><tr><td>wasbs://team-3-2-project261@fall2024team32.blob.core.windows.net/data_cleaned_ordered_with_feature_engineerings_60m_v2/</td><td>data_cleaned_ordered_with_feature_engineerings_60m_v2/</td><td>0</td><td>1733459965000</td></tr><tr><td>wasbs://team-3-2-project261@fall2024team32.blob.core.windows.net/data_cleaned_ordered_with_feature_engineerings_60m_v3/</td><td>data_cleaned_ordered_with_feature_engineerings_60m_v3/</td><td>0</td><td>1733513782000</td></tr><tr><td>wasbs://team-3-2-project261@fall2024team32.blob.core.windows.net/data_cleaned_ordered_with_feature_engineerings_60m_v4/</td><td>data_cleaned_ordered_with_feature_engineerings_60m_v4/</td><td>0</td><td>1733686178000</td></tr><tr><td>wasbs://team-3-2-project261@fall2024team32.blob.core.windows.net/data_cleaned_ordered_with_lag_feature_60m_v1/</td><td>data_cleaned_ordered_with_lag_feature_60m_v1/</td><td>0</td><td>1733371510000</td></tr><tr><td>wasbs://team-3-2-project261@fall2024team32.blob.core.windows.net/data_cleaned_with_lag_feature_60m_v1/</td><td>data_cleaned_with_lag_feature_60m_v1/</td><td>0</td><td>1733446792000</td></tr><tr><td>wasbs://team-3-2-project261@fall2024team32.blob.core.windows.net/data_col_cleaned_fe_test/</td><td>data_col_cleaned_fe_test/</td><td>0</td><td>1732145545000</td></tr><tr><td>wasbs://team-3-2-project261@fall2024team32.blob.core.windows.net/data_col_cleaned_fe_ts_features/</td><td>data_col_cleaned_fe_ts_features/</td><td>0</td><td>1732148939000</td></tr><tr><td>wasbs://team-3-2-project261@fall2024team32.blob.core.windows.net/data_col_cleaned_fe_with_new_features_3m/</td><td>data_col_cleaned_fe_with_new_features_3m/</td><td>0</td><td>1732149056000</td></tr><tr><td>wasbs://team-3-2-project261@fall2024team32.blob.core.windows.net/data_col_cleaned_with_all_feature_engineerings_3m/</td><td>data_col_cleaned_with_all_feature_engineerings_3m/</td><td>0</td><td>1732168298000</td></tr><tr><td>wasbs://team-3-2-project261@fall2024team32.blob.core.windows.net/data_encoded_scaled_12m/</td><td>data_encoded_scaled_12m/</td><td>0</td><td>1731787432000</td></tr><tr><td>wasbs://team-3-2-project261@fall2024team32.blob.core.windows.net/data_encoded_scaled_3m/</td><td>data_encoded_scaled_3m/</td><td>0</td><td>1732159425000</td></tr><tr><td>wasbs://team-3-2-project261@fall2024team32.blob.core.windows.net/data_encoded_scaled_ordered_3m/</td><td>data_encoded_scaled_ordered_3m/</td><td>0</td><td>1732159452000</td></tr><tr><td>wasbs://team-3-2-project261@fall2024team32.blob.core.windows.net/df_new_rolling_window_forecast_3m/</td><td>df_new_rolling_window_forecast_3m/</td><td>0</td><td>1732145461000</td></tr><tr><td>wasbs://team-3-2-project261@fall2024team32.blob.core.windows.net/df_new_weekly_rolling_window_forecast_3m/</td><td>df_new_weekly_rolling_window_forecast_3m/</td><td>0</td><td>1732148957000</td></tr><tr><td>wasbs://team-3-2-project261@fall2024team32.blob.core.windows.net/null_summary_3m_parquet/</td><td>null_summary_3m_parquet/</td><td>0</td><td>1731291980000</td></tr><tr><td>wasbs://team-3-2-project261@fall2024team32.blob.core.windows.net/phase1_otpw_null_counts_sp/</td><td>phase1_otpw_null_counts_sp/</td><td>0</td><td>1730350949000</td></tr><tr><td>wasbs://team-3-2-project261@fall2024team32.blob.core.windows.net/rf_t30_d15_pred.parquet/</td><td>rf_t30_d15_pred.parquet/</td><td>0</td><td>1733896116000</td></tr><tr><td>wasbs://team-3-2-project261@fall2024team32.blob.core.windows.net/scaled_cols_12m_v5/</td><td>scaled_cols_12m_v5/</td><td>0</td><td>1732950113000</td></tr><tr><td>wasbs://team-3-2-project261@fall2024team32.blob.core.windows.net/scaled_cols_60m_v1/</td><td>scaled_cols_60m_v1/</td><td>0</td><td>1733451549000</td></tr><tr><td>wasbs://team-3-2-project261@fall2024team32.blob.core.windows.net/scaled_cols_60m_v2/</td><td>scaled_cols_60m_v2/</td><td>0</td><td>1733465666000</td></tr><tr><td>wasbs://team-3-2-project261@fall2024team32.blob.core.windows.net/scaled_cols_60m_v3/</td><td>scaled_cols_60m_v3/</td><td>0</td><td>1733515757000</td></tr><tr><td>wasbs://team-3-2-project261@fall2024team32.blob.core.windows.net/scaled_cols_60m_v4/</td><td>scaled_cols_60m_v4/</td><td>0</td><td>1733687344000</td></tr><tr><td>wasbs://team-3-2-project261@fall2024team32.blob.core.windows.net/spearman_corr_3m_parquet/</td><td>spearman_corr_3m_parquet/</td><td>0</td><td>1732239991000</td></tr><tr><td>wasbs://team-3-2-project261@fall2024team32.blob.core.windows.net/spearman_corr_df_1/</td><td>spearman_corr_df_1/</td><td>0</td><td>1730680822000</td></tr><tr><td>wasbs://team-3-2-project261@fall2024team32.blob.core.windows.net/summary_3m_parquet/</td><td>summary_3m_parquet/</td><td>0</td><td>1730705001000</td></tr><tr><td>wasbs://team-3-2-project261@fall2024team32.blob.core.windows.net/test_data_encoded_scaled_3m/</td><td>test_data_encoded_scaled_3m/</td><td>0</td><td>1732221664000</td></tr><tr><td>wasbs://team-3-2-project261@fall2024team32.blob.core.windows.net/test_data_encoded_scaled_ordered_12m/</td><td>test_data_encoded_scaled_ordered_12m/</td><td>0</td><td>1732402691000</td></tr><tr><td>wasbs://team-3-2-project261@fall2024team32.blob.core.windows.net/test_data_encoded_scaled_ordered_12m_20241122/</td><td>test_data_encoded_scaled_ordered_12m_20241122/</td><td>0</td><td>1732326096000</td></tr><tr><td>wasbs://team-3-2-project261@fall2024team32.blob.core.windows.net/test_data_encoded_scaled_ordered_12m_v2/</td><td>test_data_encoded_scaled_ordered_12m_v2/</td><td>0</td><td>1732611486000</td></tr><tr><td>wasbs://team-3-2-project261@fall2024team32.blob.core.windows.net/test_data_encoded_scaled_ordered_12m_v3/</td><td>test_data_encoded_scaled_ordered_12m_v3/</td><td>0</td><td>1732723217000</td></tr><tr><td>wasbs://team-3-2-project261@fall2024team32.blob.core.windows.net/test_data_encoded_scaled_ordered_12m_v4/</td><td>test_data_encoded_scaled_ordered_12m_v4/</td><td>0</td><td>1732797807000</td></tr><tr><td>wasbs://team-3-2-project261@fall2024team32.blob.core.windows.net/test_data_encoded_scaled_ordered_12m_v5/</td><td>test_data_encoded_scaled_ordered_12m_v5/</td><td>0</td><td>1732950029000</td></tr><tr><td>wasbs://team-3-2-project261@fall2024team32.blob.core.windows.net/test_data_encoded_scaled_ordered_3m/</td><td>test_data_encoded_scaled_ordered_3m/</td><td>0</td><td>1732412332000</td></tr><tr><td>wasbs://team-3-2-project261@fall2024team32.blob.core.windows.net/test_data_encoded_scaled_ordered_3m_v2/</td><td>test_data_encoded_scaled_ordered_3m_v2/</td><td>0</td><td>1732600034000</td></tr><tr><td>wasbs://team-3-2-project261@fall2024team32.blob.core.windows.net/test_data_encoded_scaled_ordered_3m_v3/</td><td>test_data_encoded_scaled_ordered_3m_v3/</td><td>0</td><td>1732696186000</td></tr><tr><td>wasbs://team-3-2-project261@fall2024team32.blob.core.windows.net/test_data_encoded_scaled_ordered_3m_v4/</td><td>test_data_encoded_scaled_ordered_3m_v4/</td><td>0</td><td>1732750486000</td></tr><tr><td>wasbs://team-3-2-project261@fall2024team32.blob.core.windows.net/test_data_encoded_scaled_ordered_60m_v1/</td><td>test_data_encoded_scaled_ordered_60m_v1/</td><td>0</td><td>1733451545000</td></tr><tr><td>wasbs://team-3-2-project261@fall2024team32.blob.core.windows.net/test_data_encoded_scaled_ordered_60m_v2/</td><td>test_data_encoded_scaled_ordered_60m_v2/</td><td>0</td><td>1733465665000</td></tr><tr><td>wasbs://team-3-2-project261@fall2024team32.blob.core.windows.net/test_data_encoded_scaled_ordered_60m_v3/</td><td>test_data_encoded_scaled_ordered_60m_v3/</td><td>0</td><td>1733515752000</td></tr><tr><td>wasbs://team-3-2-project261@fall2024team32.blob.core.windows.net/test_data_encoded_scaled_ordered_60m_v4/</td><td>test_data_encoded_scaled_ordered_60m_v4/</td><td>0</td><td>1733973949000</td></tr><tr><td>wasbs://team-3-2-project261@fall2024team32.blob.core.windows.net/train_val_data_encoded_scaled_3m/</td><td>train_val_data_encoded_scaled_3m/</td><td>0</td><td>1732228633000</td></tr><tr><td>wasbs://team-3-2-project261@fall2024team32.blob.core.windows.net/train_val_data_encoded_scaled_ordered_12m/</td><td>train_val_data_encoded_scaled_ordered_12m/</td><td>0</td><td>1732402683000</td></tr><tr><td>wasbs://team-3-2-project261@fall2024team32.blob.core.windows.net/train_val_data_encoded_scaled_ordered_12m_20241122/</td><td>train_val_data_encoded_scaled_ordered_12m_20241122/</td><td>0</td><td>1732326090000</td></tr><tr><td>wasbs://team-3-2-project261@fall2024team32.blob.core.windows.net/train_val_data_encoded_scaled_ordered_12m_v2/</td><td>train_val_data_encoded_scaled_ordered_12m_v2/</td><td>0</td><td>1732611480000</td></tr><tr><td>wasbs://team-3-2-project261@fall2024team32.blob.core.windows.net/train_val_data_encoded_scaled_ordered_12m_v3/</td><td>train_val_data_encoded_scaled_ordered_12m_v3/</td><td>0</td><td>1732723180000</td></tr><tr><td>wasbs://team-3-2-project261@fall2024team32.blob.core.windows.net/train_val_data_encoded_scaled_ordered_12m_v4/</td><td>train_val_data_encoded_scaled_ordered_12m_v4/</td><td>0</td><td>1732797698000</td></tr><tr><td>wasbs://team-3-2-project261@fall2024team32.blob.core.windows.net/train_val_data_encoded_scaled_ordered_12m_v5/</td><td>train_val_data_encoded_scaled_ordered_12m_v5/</td><td>0</td><td>1732949931000</td></tr><tr><td>wasbs://team-3-2-project261@fall2024team32.blob.core.windows.net/train_val_data_encoded_scaled_ordered_3m/</td><td>train_val_data_encoded_scaled_ordered_3m/</td><td>0</td><td>1732412322000</td></tr><tr><td>wasbs://team-3-2-project261@fall2024team32.blob.core.windows.net/train_val_data_encoded_scaled_ordered_3m_v2/</td><td>train_val_data_encoded_scaled_ordered_3m_v2/</td><td>0</td><td>1732600027000</td></tr><tr><td>wasbs://team-3-2-project261@fall2024team32.blob.core.windows.net/train_val_data_encoded_scaled_ordered_3m_v3/</td><td>train_val_data_encoded_scaled_ordered_3m_v3/</td><td>0</td><td>1732696127000</td></tr><tr><td>wasbs://team-3-2-project261@fall2024team32.blob.core.windows.net/train_val_data_encoded_scaled_ordered_3m_v4/</td><td>train_val_data_encoded_scaled_ordered_3m_v4/</td><td>0</td><td>1732750482000</td></tr><tr><td>wasbs://team-3-2-project261@fall2024team32.blob.core.windows.net/train_val_data_encoded_scaled_ordered_60m_v1/</td><td>train_val_data_encoded_scaled_ordered_60m_v1/</td><td>0</td><td>1733451526000</td></tr><tr><td>wasbs://team-3-2-project261@fall2024team32.blob.core.windows.net/train_val_data_encoded_scaled_ordered_60m_v2/</td><td>train_val_data_encoded_scaled_ordered_60m_v2/</td><td>0</td><td>1733465651000</td></tr><tr><td>wasbs://team-3-2-project261@fall2024team32.blob.core.windows.net/train_val_data_encoded_scaled_ordered_60m_v3/</td><td>train_val_data_encoded_scaled_ordered_60m_v3/</td><td>0</td><td>1733515730000</td></tr><tr><td>wasbs://team-3-2-project261@fall2024team32.blob.core.windows.net/train_val_data_encoded_scaled_ordered_60m_v4/</td><td>train_val_data_encoded_scaled_ordered_60m_v4/</td><td>0</td><td>1733687319000</td></tr></tbody></table></div>"
      ]
     },
     "metadata": {
      "application/vnd.databricks.v1+output": {
       "addedWidgets": {},
       "aggData": [],
       "aggError": "",
       "aggOverflow": false,
       "aggSchema": [],
       "aggSeriesLimitReached": false,
       "aggType": "",
       "arguments": {},
       "columnCustomDisplayInfos": {},
       "data": [
        [
         "wasbs://team-3-2-project261@fall2024team32.blob.core.windows.net/12m_cancelled_data/",
         "12m_cancelled_data/",
         0,
         1731754303000
        ],
        [
         "wasbs://team-3-2-project261@fall2024team32.blob.core.windows.net/12m_diverted_data/",
         "12m_diverted_data/",
         0,
         1731754311000
        ],
        [
         "wasbs://team-3-2-project261@fall2024team32.blob.core.windows.net/12m_duplicates_removed/",
         "12m_duplicates_removed/",
         0,
         1733298522000
        ],
        [
         "wasbs://team-3-2-project261@fall2024team32.blob.core.windows.net/12m_final_data/",
         "12m_final_data/",
         0,
         1731755226000
        ],
        [
         "wasbs://team-3-2-project261@fall2024team32.blob.core.windows.net/12m_final_data_deduped/",
         "12m_final_data_deduped/",
         0,
         1731805979000
        ],
        [
         "wasbs://team-3-2-project261@fall2024team32.blob.core.windows.net/12m_mean_year_month_destination/",
         "12m_mean_year_month_destination/",
         0,
         1731754740000
        ],
        [
         "wasbs://team-3-2-project261@fall2024team32.blob.core.windows.net/12m_mean_year_month_origin/",
         "12m_mean_year_month_origin/",
         0,
         1731754736000
        ],
        [
         "wasbs://team-3-2-project261@fall2024team32.blob.core.windows.net/12m_null_summary/",
         "12m_null_summary/",
         0,
         1731754630000
        ],
        [
         "wasbs://team-3-2-project261@fall2024team32.blob.core.windows.net/12m_sorted_data/",
         "12m_sorted_data/",
         0,
         1731754292000
        ],
        [
         "wasbs://team-3-2-project261@fall2024team32.blob.core.windows.net/12m_summary_statistics/",
         "12m_summary_statistics/",
         0,
         1731756196000
        ],
        [
         "wasbs://team-3-2-project261@fall2024team32.blob.core.windows.net/12m_summary_statistics_before_imputing/",
         "12m_summary_statistics_before_imputing/",
         0,
         1731754727000
        ],
        [
         "wasbs://team-3-2-project261@fall2024team32.blob.core.windows.net/12m_take_5_cancelled_data/",
         "12m_take_5_cancelled_data/",
         0,
         1732908439000
        ],
        [
         "wasbs://team-3-2-project261@fall2024team32.blob.core.windows.net/12m_take_5_diverted_data/",
         "12m_take_5_diverted_data/",
         0,
         1732908443000
        ],
        [
         "wasbs://team-3-2-project261@fall2024team32.blob.core.windows.net/12m_take_5_duplicates_removed/",
         "12m_take_5_duplicates_removed/",
         0,
         1732908397000
        ],
        [
         "wasbs://team-3-2-project261@fall2024team32.blob.core.windows.net/12m_take_5_final/",
         "12m_take_5_final/",
         0,
         1732916796000
        ],
        [
         "wasbs://team-3-2-project261@fall2024team32.blob.core.windows.net/12m_take_5_final_data/",
         "12m_take_5_final_data/",
         0,
         1732911951000
        ],
        [
         "wasbs://team-3-2-project261@fall2024team32.blob.core.windows.net/12m_take_5_mean_year_month_destination/",
         "12m_take_5_mean_year_month_destination/",
         0,
         1732908884000
        ],
        [
         "wasbs://team-3-2-project261@fall2024team32.blob.core.windows.net/12m_take_5_mean_year_month_origin/",
         "12m_take_5_mean_year_month_origin/",
         0,
         1732908880000
        ],
        [
         "wasbs://team-3-2-project261@fall2024team32.blob.core.windows.net/12m_take_5_null_summary/",
         "12m_take_5_null_summary/",
         0,
         1732908793000
        ],
        [
         "wasbs://team-3-2-project261@fall2024team32.blob.core.windows.net/12m_take_5_sorted_data/",
         "12m_take_5_sorted_data/",
         0,
         1732908434000
        ],
        [
         "wasbs://team-3-2-project261@fall2024team32.blob.core.windows.net/12m_take_5_summary_statistics/",
         "12m_take_5_summary_statistics/",
         0,
         1732912795000
        ],
        [
         "wasbs://team-3-2-project261@fall2024team32.blob.core.windows.net/12m_take_5_summary_statistics_before_imputing/",
         "12m_take_5_summary_statistics_before_imputing/",
         0,
         1732908871000
        ],
        [
         "wasbs://team-3-2-project261@fall2024team32.blob.core.windows.net/3m_cancelled_data/",
         "3m_cancelled_data/",
         0,
         1731752430000
        ],
        [
         "wasbs://team-3-2-project261@fall2024team32.blob.core.windows.net/3m_diverted_data/",
         "3m_diverted_data/",
         0,
         1731752432000
        ],
        [
         "wasbs://team-3-2-project261@fall2024team32.blob.core.windows.net/3m_duplicates_removed/",
         "3m_duplicates_removed/",
         0,
         1733297180000
        ],
        [
         "wasbs://team-3-2-project261@fall2024team32.blob.core.windows.net/3m_final_data/",
         "3m_final_data/",
         0,
         1731752911000
        ],
        [
         "wasbs://team-3-2-project261@fall2024team32.blob.core.windows.net/3m_mean_year_month_destination/",
         "3m_mean_year_month_destination/",
         0,
         1731752487000
        ],
        [
         "wasbs://team-3-2-project261@fall2024team32.blob.core.windows.net/3m_mean_year_month_origin/",
         "3m_mean_year_month_origin/",
         0,
         1731752484000
        ],
        [
         "wasbs://team-3-2-project261@fall2024team32.blob.core.windows.net/3m_null_summary/",
         "3m_null_summary/",
         0,
         1731740830000
        ],
        [
         "wasbs://team-3-2-project261@fall2024team32.blob.core.windows.net/3m_sorted_data/",
         "3m_sorted_data/",
         0,
         1731720582000
        ],
        [
         "wasbs://team-3-2-project261@fall2024team32.blob.core.windows.net/3m_spearman_corr/",
         "3m_spearman_corr/",
         0,
         1733299754000
        ],
        [
         "wasbs://team-3-2-project261@fall2024team32.blob.core.windows.net/3m_summary_statistics/",
         "3m_summary_statistics/",
         0,
         1731752692000
        ],
        [
         "wasbs://team-3-2-project261@fall2024team32.blob.core.windows.net/3m_summary_statistics_before_imputing/",
         "3m_summary_statistics_before_imputing/",
         0,
         1731752480000
        ],
        [
         "wasbs://team-3-2-project261@fall2024team32.blob.core.windows.net/3m_take_2_cancelled_data/",
         "3m_take_2_cancelled_data/",
         0,
         1732831119000
        ],
        [
         "wasbs://team-3-2-project261@fall2024team32.blob.core.windows.net/3m_take_2_diverted_data/",
         "3m_take_2_diverted_data/",
         0,
         1732831122000
        ],
        [
         "wasbs://team-3-2-project261@fall2024team32.blob.core.windows.net/3m_take_2_duplicates_removed/",
         "3m_take_2_duplicates_removed/",
         0,
         1732831083000
        ],
        [
         "wasbs://team-3-2-project261@fall2024team32.blob.core.windows.net/3m_take_2_final/",
         "3m_take_2_final/",
         0,
         1732834735000
        ],
        [
         "wasbs://team-3-2-project261@fall2024team32.blob.core.windows.net/3m_take_2_final_data/",
         "3m_take_2_final_data/",
         0,
         1732833291000
        ],
        [
         "wasbs://team-3-2-project261@fall2024team32.blob.core.windows.net/3m_take_2_mean_year_month_destination/",
         "3m_take_2_mean_year_month_destination/",
         0,
         1732832425000
        ],
        [
         "wasbs://team-3-2-project261@fall2024team32.blob.core.windows.net/3m_take_2_mean_year_month_origin/",
         "3m_take_2_mean_year_month_origin/",
         0,
         1732832421000
        ],
        [
         "wasbs://team-3-2-project261@fall2024team32.blob.core.windows.net/3m_take_2_null_summary/",
         "3m_take_2_null_summary/",
         0,
         1732832353000
        ],
        [
         "wasbs://team-3-2-project261@fall2024team32.blob.core.windows.net/3m_take_2_sorted_data/",
         "3m_take_2_sorted_data/",
         0,
         1732831114000
        ],
        [
         "wasbs://team-3-2-project261@fall2024team32.blob.core.windows.net/3m_take_2_summary_statistics/",
         "3m_take_2_summary_statistics/",
         0,
         1732833688000
        ],
        [
         "wasbs://team-3-2-project261@fall2024team32.blob.core.windows.net/3m_take_2_summary_statistics_before_imputing/",
         "3m_take_2_summary_statistics_before_imputing/",
         0,
         1732832412000
        ],
        [
         "wasbs://team-3-2-project261@fall2024team32.blob.core.windows.net/60m_take_3_cancelled_data/",
         "60m_take_3_cancelled_data/",
         0,
         1733302534000
        ],
        [
         "wasbs://team-3-2-project261@fall2024team32.blob.core.windows.net/60m_take_3_diverted_data/",
         "60m_take_3_diverted_data/",
         0,
         1733302544000
        ],
        [
         "wasbs://team-3-2-project261@fall2024team32.blob.core.windows.net/60m_take_3_duplicates_removed/",
         "60m_take_3_duplicates_removed/",
         0,
         1733302403000
        ],
        [
         "wasbs://team-3-2-project261@fall2024team32.blob.core.windows.net/60m_take_3_final/",
         "60m_take_3_final/",
         0,
         1733702185000
        ],
        [
         "wasbs://team-3-2-project261@fall2024team32.blob.core.windows.net/60m_take_3_mean_year_month_destination/",
         "60m_take_3_mean_year_month_destination/",
         0,
         1733303190000
        ],
        [
         "wasbs://team-3-2-project261@fall2024team32.blob.core.windows.net/60m_take_3_mean_year_month_origin/",
         "60m_take_3_mean_year_month_origin/",
         0,
         1733303180000
        ],
        [
         "wasbs://team-3-2-project261@fall2024team32.blob.core.windows.net/60m_take_3_null_summary/",
         "60m_take_3_null_summary/",
         0,
         1733303035000
        ],
        [
         "wasbs://team-3-2-project261@fall2024team32.blob.core.windows.net/60m_take_3_parquet/",
         "60m_take_3_parquet/",
         0,
         1733301811000
        ],
        [
         "wasbs://team-3-2-project261@fall2024team32.blob.core.windows.net/60m_take_3_sorted_data/",
         "60m_take_3_sorted_data/",
         0,
         1733700987000
        ],
        [
         "wasbs://team-3-2-project261@fall2024team32.blob.core.windows.net/60m_take_3_spearman_corr/",
         "60m_take_3_spearman_corr/",
         0,
         1733346181000
        ],
        [
         "wasbs://team-3-2-project261@fall2024team32.blob.core.windows.net/60m_take_3_summary_statistics/",
         "60m_take_3_summary_statistics/",
         0,
         1733345319000
        ],
        [
         "wasbs://team-3-2-project261@fall2024team32.blob.core.windows.net/60m_take_3_summary_statistics_before_imputing/",
         "60m_take_3_summary_statistics_before_imputing/",
         0,
         1733303158000
        ],
        [
         "wasbs://team-3-2-project261@fall2024team32.blob.core.windows.net/60m_take_4_cancelled_data/",
         "60m_take_4_cancelled_data/",
         0,
         1733351953000
        ],
        [
         "wasbs://team-3-2-project261@fall2024team32.blob.core.windows.net/60m_take_4_diverted_data/",
         "60m_take_4_diverted_data/",
         0,
         1733351963000
        ],
        [
         "wasbs://team-3-2-project261@fall2024team32.blob.core.windows.net/60m_take_4_duplicates_removed/",
         "60m_take_4_duplicates_removed/",
         0,
         1733351829000
        ],
        [
         "wasbs://team-3-2-project261@fall2024team32.blob.core.windows.net/60m_take_4_final/",
         "60m_take_4_final/",
         0,
         1733353994000
        ],
        [
         "wasbs://team-3-2-project261@fall2024team32.blob.core.windows.net/60m_take_4_mean_year_month_destination/",
         "60m_take_4_mean_year_month_destination/",
         0,
         1733352462000
        ],
        [
         "wasbs://team-3-2-project261@fall2024team32.blob.core.windows.net/60m_take_4_mean_year_month_origin/",
         "60m_take_4_mean_year_month_origin/",
         0,
         1733352454000
        ],
        [
         "wasbs://team-3-2-project261@fall2024team32.blob.core.windows.net/60m_take_4_null_summary/",
         "60m_take_4_null_summary/",
         0,
         1733352331000
        ],
        [
         "wasbs://team-3-2-project261@fall2024team32.blob.core.windows.net/60m_take_4_parquet/",
         "60m_take_4_parquet/",
         0,
         1733351330000
        ],
        [
         "wasbs://team-3-2-project261@fall2024team32.blob.core.windows.net/60m_take_4_sorted_data/",
         "60m_take_4_sorted_data/",
         0,
         1733351944000
        ],
        [
         "wasbs://team-3-2-project261@fall2024team32.blob.core.windows.net/60m_take_4_spearman_corr/",
         "60m_take_4_spearman_corr/",
         0,
         1733355318000
        ],
        [
         "wasbs://team-3-2-project261@fall2024team32.blob.core.windows.net/60m_take_4_summary_statistics/",
         "60m_take_4_summary_statistics/",
         0,
         1733354371000
        ],
        [
         "wasbs://team-3-2-project261@fall2024team32.blob.core.windows.net/60m_take_4_summary_statistics_before_imputing/",
         "60m_take_4_summary_statistics_before_imputing/",
         0,
         1733352434000
        ],
        [
         "wasbs://team-3-2-project261@fall2024team32.blob.core.windows.net/IN_12m_fold_1_train_v4/",
         "IN_12m_fold_1_train_v4/",
         0,
         1732828676000
        ],
        [
         "wasbs://team-3-2-project261@fall2024team32.blob.core.windows.net/IN_12m_fold_1_val_v4/",
         "IN_12m_fold_1_val_v4/",
         0,
         1732828730000
        ],
        [
         "wasbs://team-3-2-project261@fall2024team32.blob.core.windows.net/IN_12m_fold_2_train_v4/",
         "IN_12m_fold_2_train_v4/",
         0,
         1732828834000
        ],
        [
         "wasbs://team-3-2-project261@fall2024team32.blob.core.windows.net/IN_12m_fold_2_val_v4/",
         "IN_12m_fold_2_val_v4/",
         0,
         1732828886000
        ],
        [
         "wasbs://team-3-2-project261@fall2024team32.blob.core.windows.net/IN_12m_fold_3_train_v4/",
         "IN_12m_fold_3_train_v4/",
         0,
         1732828983000
        ],
        [
         "wasbs://team-3-2-project261@fall2024team32.blob.core.windows.net/IN_12m_fold_3_val_v4/",
         "IN_12m_fold_3_val_v4/",
         0,
         1732829052000
        ],
        [
         "wasbs://team-3-2-project261@fall2024team32.blob.core.windows.net/IN_12m_fold_4_train_v4/",
         "IN_12m_fold_4_train_v4/",
         0,
         1732829156000
        ],
        [
         "wasbs://team-3-2-project261@fall2024team32.blob.core.windows.net/IN_12m_fold_4_val_v4/",
         "IN_12m_fold_4_val_v4/",
         0,
         1732829210000
        ],
        [
         "wasbs://team-3-2-project261@fall2024team32.blob.core.windows.net/IN_12m_fold_5_train_v4/",
         "IN_12m_fold_5_train_v4/",
         0,
         1732829301000
        ],
        [
         "wasbs://team-3-2-project261@fall2024team32.blob.core.windows.net/IN_12m_fold_5_val_v4/",
         "IN_12m_fold_5_val_v4/",
         0,
         1732829352000
        ],
        [
         "wasbs://team-3-2-project261@fall2024team32.blob.core.windows.net/IN_60m_fold_1_train_v2/",
         "IN_60m_fold_1_train_v2/",
         0,
         1733467187000
        ],
        [
         "wasbs://team-3-2-project261@fall2024team32.blob.core.windows.net/IN_60m_fold_1_train_v3/",
         "IN_60m_fold_1_train_v3/",
         0,
         1733516744000
        ],
        [
         "wasbs://team-3-2-project261@fall2024team32.blob.core.windows.net/IN_60m_fold_1_val_v2/",
         "IN_60m_fold_1_val_v2/",
         0,
         1733467532000
        ],
        [
         "wasbs://team-3-2-project261@fall2024team32.blob.core.windows.net/IN_60m_fold_1_val_v3/",
         "IN_60m_fold_1_val_v3/",
         0,
         1733517120000
        ],
        [
         "wasbs://team-3-2-project261@fall2024team32.blob.core.windows.net/IN_60m_fold_2_train_v2/",
         "IN_60m_fold_2_train_v2/",
         0,
         1733468050000
        ],
        [
         "wasbs://team-3-2-project261@fall2024team32.blob.core.windows.net/IN_60m_fold_2_train_v3/",
         "IN_60m_fold_2_train_v3/",
         0,
         1733517668000
        ],
        [
         "wasbs://team-3-2-project261@fall2024team32.blob.core.windows.net/IN_60m_fold_2_val_v2/",
         "IN_60m_fold_2_val_v2/",
         0,
         1733468407000
        ],
        [
         "wasbs://team-3-2-project261@fall2024team32.blob.core.windows.net/IN_60m_fold_2_val_v3/",
         "IN_60m_fold_2_val_v3/",
         0,
         1733518037000
        ],
        [
         "wasbs://team-3-2-project261@fall2024team32.blob.core.windows.net/IN_60m_fold_3_train_v2/",
         "IN_60m_fold_3_train_v2/",
         0,
         1733468892000
        ],
        [
         "wasbs://team-3-2-project261@fall2024team32.blob.core.windows.net/IN_60m_fold_3_train_v3/",
         "IN_60m_fold_3_train_v3/",
         0,
         1733518613000
        ],
        [
         "wasbs://team-3-2-project261@fall2024team32.blob.core.windows.net/IN_60m_fold_3_val_v2/",
         "IN_60m_fold_3_val_v2/",
         0,
         1733469214000
        ],
        [
         "wasbs://team-3-2-project261@fall2024team32.blob.core.windows.net/IN_60m_fold_3_val_v3/",
         "IN_60m_fold_3_val_v3/",
         0,
         1733518965000
        ],
        [
         "wasbs://team-3-2-project261@fall2024team32.blob.core.windows.net/IN_60m_fold_4_train_v2/",
         "IN_60m_fold_4_train_v2/",
         0,
         1733469747000
        ],
        [
         "wasbs://team-3-2-project261@fall2024team32.blob.core.windows.net/IN_60m_fold_4_train_v3/",
         "IN_60m_fold_4_train_v3/",
         0,
         1733519547000
        ],
        [
         "wasbs://team-3-2-project261@fall2024team32.blob.core.windows.net/IN_60m_fold_4_val_v2/",
         "IN_60m_fold_4_val_v2/",
         0,
         1733470084000
        ],
        [
         "wasbs://team-3-2-project261@fall2024team32.blob.core.windows.net/IN_60m_fold_4_val_v3/",
         "IN_60m_fold_4_val_v3/",
         0,
         1733519925000
        ],
        [
         "wasbs://team-3-2-project261@fall2024team32.blob.core.windows.net/IN_60m_fold_5_train_v2/",
         "IN_60m_fold_5_train_v2/",
         0,
         1733470619000
        ],
        [
         "wasbs://team-3-2-project261@fall2024team32.blob.core.windows.net/IN_60m_fold_5_train_v3/",
         "IN_60m_fold_5_train_v3/",
         0,
         1733520455000
        ],
        [
         "wasbs://team-3-2-project261@fall2024team32.blob.core.windows.net/IN_60m_fold_5_val_v2/",
         "IN_60m_fold_5_val_v2/",
         0,
         1733470980000
        ],
        [
         "wasbs://team-3-2-project261@fall2024team32.blob.core.windows.net/IN_60m_fold_5_val_v3/",
         "IN_60m_fold_5_val_v3/",
         0,
         1733520793000
        ],
        [
         "wasbs://team-3-2-project261@fall2024team32.blob.core.windows.net/IN_LR_test_pred_w_new_features_60m/",
         "IN_LR_test_pred_w_new_features_60m/",
         0,
         1733980272000
        ],
        [
         "wasbs://team-3-2-project261@fall2024team32.blob.core.windows.net/IN_best_params_test_xgboost_12m_v2/",
         "IN_best_params_test_xgboost_12m_v2/",
         0,
         1732892823000
        ],
        [
         "wasbs://team-3-2-project261@fall2024team32.blob.core.windows.net/IN_best_params_test_xgboost_12m_v3/",
         "IN_best_params_test_xgboost_12m_v3/",
         0,
         1733194055000
        ],
        [
         "wasbs://team-3-2-project261@fall2024team32.blob.core.windows.net/IN_best_params_test_xgboost_60m_v2/",
         "IN_best_params_test_xgboost_60m_v2/",
         0,
         1733513218000
        ],
        [
         "wasbs://team-3-2-project261@fall2024team32.blob.core.windows.net/IN_best_params_test_xgboost_60m_v3_1/",
         "IN_best_params_test_xgboost_60m_v3_1/",
         0,
         1733625513000
        ],
        [
         "wasbs://team-3-2-project261@fall2024team32.blob.core.windows.net/IN_best_params_test_xgboost_60m_v3_2/",
         "IN_best_params_test_xgboost_60m_v3_2/",
         0,
         1733629120000
        ],
        [
         "wasbs://team-3-2-project261@fall2024team32.blob.core.windows.net/IN_best_params_test_xgboost_60m_v3_3/",
         "IN_best_params_test_xgboost_60m_v3_3/",
         0,
         1733668710000
        ],
        [
         "wasbs://team-3-2-project261@fall2024team32.blob.core.windows.net/IN_best_params_test_xgboost_60m_v3_comb/",
         "IN_best_params_test_xgboost_60m_v3_comb/",
         0,
         1733678222000
        ],
        [
         "wasbs://team-3-2-project261@fall2024team32.blob.core.windows.net/IN_best_params_test_xgboost_v1/",
         "IN_best_params_test_xgboost_v1/",
         0,
         1732827177000
        ],
        [
         "wasbs://team-3-2-project261@fall2024team32.blob.core.windows.net/IN_cv_results_test_xgboost_12m_v2/",
         "IN_cv_results_test_xgboost_12m_v2/",
         0,
         1732892826000
        ],
        [
         "wasbs://team-3-2-project261@fall2024team32.blob.core.windows.net/IN_cv_results_test_xgboost_12m_v3/",
         "IN_cv_results_test_xgboost_12m_v3/",
         0,
         1733194057000
        ],
        [
         "wasbs://team-3-2-project261@fall2024team32.blob.core.windows.net/IN_cv_results_test_xgboost_60m_v2/",
         "IN_cv_results_test_xgboost_60m_v2/",
         0,
         1733513219000
        ],
        [
         "wasbs://team-3-2-project261@fall2024team32.blob.core.windows.net/IN_cv_results_test_xgboost_60m_v3_1/",
         "IN_cv_results_test_xgboost_60m_v3_1/",
         0,
         1733625518000
        ],
        [
         "wasbs://team-3-2-project261@fall2024team32.blob.core.windows.net/IN_cv_results_test_xgboost_60m_v3_2/",
         "IN_cv_results_test_xgboost_60m_v3_2/",
         0,
         1733629130000
        ],
        [
         "wasbs://team-3-2-project261@fall2024team32.blob.core.windows.net/IN_cv_results_test_xgboost_60m_v3_3/",
         "IN_cv_results_test_xgboost_60m_v3_3/",
         0,
         1733668712000
        ],
        [
         "wasbs://team-3-2-project261@fall2024team32.blob.core.windows.net/IN_cv_results_test_xgboost_60m_v3_comb/",
         "IN_cv_results_test_xgboost_60m_v3_comb/",
         0,
         1733678226000
        ],
        [
         "wasbs://team-3-2-project261@fall2024team32.blob.core.windows.net/IN_saved_xgboost_model_v3_12m/",
         "IN_saved_xgboost_model_v3_12m/",
         0,
         1733429895000
        ],
        [
         "wasbs://team-3-2-project261@fall2024team32.blob.core.windows.net/IN_xgboost_model_test_pred_v2_after_cv_60m/",
         "IN_xgboost_model_test_pred_v2_after_cv_60m/",
         0,
         1733984954000
        ],
        [
         "wasbs://team-3-2-project261@fall2024team32.blob.core.windows.net/IN_xgboost_model_v3_12m/",
         "IN_xgboost_model_v3_12m/",
         0,
         1733456859000
        ],
        [
         "wasbs://team-3-2-project261@fall2024team32.blob.core.windows.net/MM_RFC_grid_results_1/",
         "MM_RFC_grid_results_1/",
         0,
         1733107508000
        ],
        [
         "wasbs://team-3-2-project261@fall2024team32.blob.core.windows.net/MM_RFC_grid_results_2/",
         "MM_RFC_grid_results_2/",
         0,
         1733240932000
        ],
        [
         "wasbs://team-3-2-project261@fall2024team32.blob.core.windows.net/MM_RFC_grid_results_3/",
         "MM_RFC_grid_results_3/",
         0,
         1733536336000
        ],
        [
         "wasbs://team-3-2-project261@fall2024team32.blob.core.windows.net/MM_RFC_grid_results_4/",
         "MM_RFC_grid_results_4/",
         0,
         1733587384000
        ],
        [
         "wasbs://team-3-2-project261@fall2024team32.blob.core.windows.net/MM_RFC_grid_results_5/",
         "MM_RFC_grid_results_5/",
         0,
         1733608672000
        ],
        [
         "wasbs://team-3-2-project261@fall2024team32.blob.core.windows.net/MM_RF_MODEL/",
         "MM_RF_MODEL/",
         0,
         1733366925000
        ],
        [
         "wasbs://team-3-2-project261@fall2024team32.blob.core.windows.net/MM_RF_MODEL_T10_D10/",
         "MM_RF_MODEL_T10_D10/",
         0,
         1733531143000
        ],
        [
         "wasbs://team-3-2-project261@fall2024team32.blob.core.windows.net/MM_RF_MODEL_T10_D25/",
         "MM_RF_MODEL_T10_D25/",
         0,
         1733368235000
        ],
        [
         "wasbs://team-3-2-project261@fall2024team32.blob.core.windows.net/MM_RF_MODEL_T10_D5/",
         "MM_RF_MODEL_T10_D5/",
         0,
         1733531089000
        ],
        [
         "wasbs://team-3-2-project261@fall2024team32.blob.core.windows.net/MM_RF_MODEL_T20_D10/",
         "MM_RF_MODEL_T20_D10/",
         0,
         1733531255000
        ],
        [
         "wasbs://team-3-2-project261@fall2024team32.blob.core.windows.net/MM_RF_MODEL_T20_D5/",
         "MM_RF_MODEL_T20_D5/",
         0,
         1733531193000
        ],
        [
         "wasbs://team-3-2-project261@fall2024team32.blob.core.windows.net/MM_RF_MODEL_T30_D10/",
         "MM_RF_MODEL_T30_D10/",
         0,
         1733532242000
        ],
        [
         "wasbs://team-3-2-project261@fall2024team32.blob.core.windows.net/MM_RF_MODEL_T30_D15/",
         "MM_RF_MODEL_T30_D15/",
         0,
         1733895631000
        ],
        [
         "wasbs://team-3-2-project261@fall2024team32.blob.core.windows.net/MM_RF_MODEL_T40_D10/",
         "MM_RF_MODEL_T40_D10/",
         0,
         1733531764000
        ],
        [
         "wasbs://team-3-2-project261@fall2024team32.blob.core.windows.net/MM_RF_MODEL_T40_D15/",
         "MM_RF_MODEL_T40_D15/",
         0,
         1733545237000
        ],
        [
         "wasbs://team-3-2-project261@fall2024team32.blob.core.windows.net/MM_RF_MODEL_T5_D10/",
         "MM_RF_MODEL_T5_D10/",
         0,
         1733528985000
        ],
        [
         "wasbs://team-3-2-project261@fall2024team32.blob.core.windows.net/MM_RF_MODEL_T5_D5/",
         "MM_RF_MODEL_T5_D5/",
         0,
         1733528933000
        ],
        [
         "wasbs://team-3-2-project261@fall2024team32.blob.core.windows.net/clean_data_3m_parquet/",
         "clean_data_3m_parquet/",
         0,
         1732946343000
        ],
        [
         "wasbs://team-3-2-project261@fall2024team32.blob.core.windows.net/data_cleaned_ordered_with_feature_engineerings_12m/",
         "data_cleaned_ordered_with_feature_engineerings_12m/",
         0,
         1732306150000
        ],
        [
         "wasbs://team-3-2-project261@fall2024team32.blob.core.windows.net/data_cleaned_ordered_with_feature_engineerings_12m_v2/",
         "data_cleaned_ordered_with_feature_engineerings_12m_v2/",
         0,
         1732607402000
        ],
        [
         "wasbs://team-3-2-project261@fall2024team32.blob.core.windows.net/data_cleaned_ordered_with_feature_engineerings_12m_v3/",
         "data_cleaned_ordered_with_feature_engineerings_12m_v3/",
         0,
         1732715668000
        ],
        [
         "wasbs://team-3-2-project261@fall2024team32.blob.core.windows.net/data_cleaned_ordered_with_feature_engineerings_12m_v4/",
         "data_cleaned_ordered_with_feature_engineerings_12m_v4/",
         0,
         1732777212000
        ],
        [
         "wasbs://team-3-2-project261@fall2024team32.blob.core.windows.net/data_cleaned_ordered_with_feature_engineerings_12m_v5/",
         "data_cleaned_ordered_with_feature_engineerings_12m_v5/",
         0,
         1732936321000
        ],
        [
         "wasbs://team-3-2-project261@fall2024team32.blob.core.windows.net/data_cleaned_ordered_with_feature_engineerings_3m/",
         "data_cleaned_ordered_with_feature_engineerings_3m/",
         0,
         1732674212000
        ],
        [
         "wasbs://team-3-2-project261@fall2024team32.blob.core.windows.net/data_cleaned_ordered_with_feature_engineerings_3m_v2/",
         "data_cleaned_ordered_with_feature_engineerings_3m_v2/",
         0,
         1732598002000
        ],
        [
         "wasbs://team-3-2-project261@fall2024team32.blob.core.windows.net/data_cleaned_ordered_with_feature_engineerings_3m_v3/",
         "data_cleaned_ordered_with_feature_engineerings_3m_v3/",
         0,
         1732694796000
        ],
        [
         "wasbs://team-3-2-project261@fall2024team32.blob.core.windows.net/data_cleaned_ordered_with_feature_engineerings_3m_v4/",
         "data_cleaned_ordered_with_feature_engineerings_3m_v4/",
         0,
         1732748553000
        ],
        [
         "wasbs://team-3-2-project261@fall2024team32.blob.core.windows.net/data_cleaned_ordered_with_feature_engineerings_60m_v1/",
         "data_cleaned_ordered_with_feature_engineerings_60m_v1/",
         0,
         1733450392000
        ],
        [
         "wasbs://team-3-2-project261@fall2024team32.blob.core.windows.net/data_cleaned_ordered_with_feature_engineerings_60m_v2/",
         "data_cleaned_ordered_with_feature_engineerings_60m_v2/",
         0,
         1733459965000
        ],
        [
         "wasbs://team-3-2-project261@fall2024team32.blob.core.windows.net/data_cleaned_ordered_with_feature_engineerings_60m_v3/",
         "data_cleaned_ordered_with_feature_engineerings_60m_v3/",
         0,
         1733513782000
        ],
        [
         "wasbs://team-3-2-project261@fall2024team32.blob.core.windows.net/data_cleaned_ordered_with_feature_engineerings_60m_v4/",
         "data_cleaned_ordered_with_feature_engineerings_60m_v4/",
         0,
         1733686178000
        ],
        [
         "wasbs://team-3-2-project261@fall2024team32.blob.core.windows.net/data_cleaned_ordered_with_lag_feature_60m_v1/",
         "data_cleaned_ordered_with_lag_feature_60m_v1/",
         0,
         1733371510000
        ],
        [
         "wasbs://team-3-2-project261@fall2024team32.blob.core.windows.net/data_cleaned_with_lag_feature_60m_v1/",
         "data_cleaned_with_lag_feature_60m_v1/",
         0,
         1733446792000
        ],
        [
         "wasbs://team-3-2-project261@fall2024team32.blob.core.windows.net/data_col_cleaned_fe_test/",
         "data_col_cleaned_fe_test/",
         0,
         1732145545000
        ],
        [
         "wasbs://team-3-2-project261@fall2024team32.blob.core.windows.net/data_col_cleaned_fe_ts_features/",
         "data_col_cleaned_fe_ts_features/",
         0,
         1732148939000
        ],
        [
         "wasbs://team-3-2-project261@fall2024team32.blob.core.windows.net/data_col_cleaned_fe_with_new_features_3m/",
         "data_col_cleaned_fe_with_new_features_3m/",
         0,
         1732149056000
        ],
        [
         "wasbs://team-3-2-project261@fall2024team32.blob.core.windows.net/data_col_cleaned_with_all_feature_engineerings_3m/",
         "data_col_cleaned_with_all_feature_engineerings_3m/",
         0,
         1732168298000
        ],
        [
         "wasbs://team-3-2-project261@fall2024team32.blob.core.windows.net/data_encoded_scaled_12m/",
         "data_encoded_scaled_12m/",
         0,
         1731787432000
        ],
        [
         "wasbs://team-3-2-project261@fall2024team32.blob.core.windows.net/data_encoded_scaled_3m/",
         "data_encoded_scaled_3m/",
         0,
         1732159425000
        ],
        [
         "wasbs://team-3-2-project261@fall2024team32.blob.core.windows.net/data_encoded_scaled_ordered_3m/",
         "data_encoded_scaled_ordered_3m/",
         0,
         1732159452000
        ],
        [
         "wasbs://team-3-2-project261@fall2024team32.blob.core.windows.net/df_new_rolling_window_forecast_3m/",
         "df_new_rolling_window_forecast_3m/",
         0,
         1732145461000
        ],
        [
         "wasbs://team-3-2-project261@fall2024team32.blob.core.windows.net/df_new_weekly_rolling_window_forecast_3m/",
         "df_new_weekly_rolling_window_forecast_3m/",
         0,
         1732148957000
        ],
        [
         "wasbs://team-3-2-project261@fall2024team32.blob.core.windows.net/null_summary_3m_parquet/",
         "null_summary_3m_parquet/",
         0,
         1731291980000
        ],
        [
         "wasbs://team-3-2-project261@fall2024team32.blob.core.windows.net/phase1_otpw_null_counts_sp/",
         "phase1_otpw_null_counts_sp/",
         0,
         1730350949000
        ],
        [
         "wasbs://team-3-2-project261@fall2024team32.blob.core.windows.net/rf_t30_d15_pred.parquet/",
         "rf_t30_d15_pred.parquet/",
         0,
         1733896116000
        ],
        [
         "wasbs://team-3-2-project261@fall2024team32.blob.core.windows.net/scaled_cols_12m_v5/",
         "scaled_cols_12m_v5/",
         0,
         1732950113000
        ],
        [
         "wasbs://team-3-2-project261@fall2024team32.blob.core.windows.net/scaled_cols_60m_v1/",
         "scaled_cols_60m_v1/",
         0,
         1733451549000
        ],
        [
         "wasbs://team-3-2-project261@fall2024team32.blob.core.windows.net/scaled_cols_60m_v2/",
         "scaled_cols_60m_v2/",
         0,
         1733465666000
        ],
        [
         "wasbs://team-3-2-project261@fall2024team32.blob.core.windows.net/scaled_cols_60m_v3/",
         "scaled_cols_60m_v3/",
         0,
         1733515757000
        ],
        [
         "wasbs://team-3-2-project261@fall2024team32.blob.core.windows.net/scaled_cols_60m_v4/",
         "scaled_cols_60m_v4/",
         0,
         1733687344000
        ],
        [
         "wasbs://team-3-2-project261@fall2024team32.blob.core.windows.net/spearman_corr_3m_parquet/",
         "spearman_corr_3m_parquet/",
         0,
         1732239991000
        ],
        [
         "wasbs://team-3-2-project261@fall2024team32.blob.core.windows.net/spearman_corr_df_1/",
         "spearman_corr_df_1/",
         0,
         1730680822000
        ],
        [
         "wasbs://team-3-2-project261@fall2024team32.blob.core.windows.net/summary_3m_parquet/",
         "summary_3m_parquet/",
         0,
         1730705001000
        ],
        [
         "wasbs://team-3-2-project261@fall2024team32.blob.core.windows.net/test_data_encoded_scaled_3m/",
         "test_data_encoded_scaled_3m/",
         0,
         1732221664000
        ],
        [
         "wasbs://team-3-2-project261@fall2024team32.blob.core.windows.net/test_data_encoded_scaled_ordered_12m/",
         "test_data_encoded_scaled_ordered_12m/",
         0,
         1732402691000
        ],
        [
         "wasbs://team-3-2-project261@fall2024team32.blob.core.windows.net/test_data_encoded_scaled_ordered_12m_20241122/",
         "test_data_encoded_scaled_ordered_12m_20241122/",
         0,
         1732326096000
        ],
        [
         "wasbs://team-3-2-project261@fall2024team32.blob.core.windows.net/test_data_encoded_scaled_ordered_12m_v2/",
         "test_data_encoded_scaled_ordered_12m_v2/",
         0,
         1732611486000
        ],
        [
         "wasbs://team-3-2-project261@fall2024team32.blob.core.windows.net/test_data_encoded_scaled_ordered_12m_v3/",
         "test_data_encoded_scaled_ordered_12m_v3/",
         0,
         1732723217000
        ],
        [
         "wasbs://team-3-2-project261@fall2024team32.blob.core.windows.net/test_data_encoded_scaled_ordered_12m_v4/",
         "test_data_encoded_scaled_ordered_12m_v4/",
         0,
         1732797807000
        ],
        [
         "wasbs://team-3-2-project261@fall2024team32.blob.core.windows.net/test_data_encoded_scaled_ordered_12m_v5/",
         "test_data_encoded_scaled_ordered_12m_v5/",
         0,
         1732950029000
        ],
        [
         "wasbs://team-3-2-project261@fall2024team32.blob.core.windows.net/test_data_encoded_scaled_ordered_3m/",
         "test_data_encoded_scaled_ordered_3m/",
         0,
         1732412332000
        ],
        [
         "wasbs://team-3-2-project261@fall2024team32.blob.core.windows.net/test_data_encoded_scaled_ordered_3m_v2/",
         "test_data_encoded_scaled_ordered_3m_v2/",
         0,
         1732600034000
        ],
        [
         "wasbs://team-3-2-project261@fall2024team32.blob.core.windows.net/test_data_encoded_scaled_ordered_3m_v3/",
         "test_data_encoded_scaled_ordered_3m_v3/",
         0,
         1732696186000
        ],
        [
         "wasbs://team-3-2-project261@fall2024team32.blob.core.windows.net/test_data_encoded_scaled_ordered_3m_v4/",
         "test_data_encoded_scaled_ordered_3m_v4/",
         0,
         1732750486000
        ],
        [
         "wasbs://team-3-2-project261@fall2024team32.blob.core.windows.net/test_data_encoded_scaled_ordered_60m_v1/",
         "test_data_encoded_scaled_ordered_60m_v1/",
         0,
         1733451545000
        ],
        [
         "wasbs://team-3-2-project261@fall2024team32.blob.core.windows.net/test_data_encoded_scaled_ordered_60m_v2/",
         "test_data_encoded_scaled_ordered_60m_v2/",
         0,
         1733465665000
        ],
        [
         "wasbs://team-3-2-project261@fall2024team32.blob.core.windows.net/test_data_encoded_scaled_ordered_60m_v3/",
         "test_data_encoded_scaled_ordered_60m_v3/",
         0,
         1733515752000
        ],
        [
         "wasbs://team-3-2-project261@fall2024team32.blob.core.windows.net/test_data_encoded_scaled_ordered_60m_v4/",
         "test_data_encoded_scaled_ordered_60m_v4/",
         0,
         1733973949000
        ],
        [
         "wasbs://team-3-2-project261@fall2024team32.blob.core.windows.net/train_val_data_encoded_scaled_3m/",
         "train_val_data_encoded_scaled_3m/",
         0,
         1732228633000
        ],
        [
         "wasbs://team-3-2-project261@fall2024team32.blob.core.windows.net/train_val_data_encoded_scaled_ordered_12m/",
         "train_val_data_encoded_scaled_ordered_12m/",
         0,
         1732402683000
        ],
        [
         "wasbs://team-3-2-project261@fall2024team32.blob.core.windows.net/train_val_data_encoded_scaled_ordered_12m_20241122/",
         "train_val_data_encoded_scaled_ordered_12m_20241122/",
         0,
         1732326090000
        ],
        [
         "wasbs://team-3-2-project261@fall2024team32.blob.core.windows.net/train_val_data_encoded_scaled_ordered_12m_v2/",
         "train_val_data_encoded_scaled_ordered_12m_v2/",
         0,
         1732611480000
        ],
        [
         "wasbs://team-3-2-project261@fall2024team32.blob.core.windows.net/train_val_data_encoded_scaled_ordered_12m_v3/",
         "train_val_data_encoded_scaled_ordered_12m_v3/",
         0,
         1732723180000
        ],
        [
         "wasbs://team-3-2-project261@fall2024team32.blob.core.windows.net/train_val_data_encoded_scaled_ordered_12m_v4/",
         "train_val_data_encoded_scaled_ordered_12m_v4/",
         0,
         1732797698000
        ],
        [
         "wasbs://team-3-2-project261@fall2024team32.blob.core.windows.net/train_val_data_encoded_scaled_ordered_12m_v5/",
         "train_val_data_encoded_scaled_ordered_12m_v5/",
         0,
         1732949931000
        ],
        [
         "wasbs://team-3-2-project261@fall2024team32.blob.core.windows.net/train_val_data_encoded_scaled_ordered_3m/",
         "train_val_data_encoded_scaled_ordered_3m/",
         0,
         1732412322000
        ],
        [
         "wasbs://team-3-2-project261@fall2024team32.blob.core.windows.net/train_val_data_encoded_scaled_ordered_3m_v2/",
         "train_val_data_encoded_scaled_ordered_3m_v2/",
         0,
         1732600027000
        ],
        [
         "wasbs://team-3-2-project261@fall2024team32.blob.core.windows.net/train_val_data_encoded_scaled_ordered_3m_v3/",
         "train_val_data_encoded_scaled_ordered_3m_v3/",
         0,
         1732696127000
        ],
        [
         "wasbs://team-3-2-project261@fall2024team32.blob.core.windows.net/train_val_data_encoded_scaled_ordered_3m_v4/",
         "train_val_data_encoded_scaled_ordered_3m_v4/",
         0,
         1732750482000
        ],
        [
         "wasbs://team-3-2-project261@fall2024team32.blob.core.windows.net/train_val_data_encoded_scaled_ordered_60m_v1/",
         "train_val_data_encoded_scaled_ordered_60m_v1/",
         0,
         1733451526000
        ],
        [
         "wasbs://team-3-2-project261@fall2024team32.blob.core.windows.net/train_val_data_encoded_scaled_ordered_60m_v2/",
         "train_val_data_encoded_scaled_ordered_60m_v2/",
         0,
         1733465651000
        ],
        [
         "wasbs://team-3-2-project261@fall2024team32.blob.core.windows.net/train_val_data_encoded_scaled_ordered_60m_v3/",
         "train_val_data_encoded_scaled_ordered_60m_v3/",
         0,
         1733515730000
        ],
        [
         "wasbs://team-3-2-project261@fall2024team32.blob.core.windows.net/train_val_data_encoded_scaled_ordered_60m_v4/",
         "train_val_data_encoded_scaled_ordered_60m_v4/",
         0,
         1733687319000
        ]
       ],
       "datasetInfos": [],
       "dbfsResultPath": null,
       "isJsonSchema": true,
       "metadata": {},
       "overflow": false,
       "plotOptions": {
        "customPlotOptions": {},
        "displayType": "table",
        "pivotAggregation": null,
        "pivotColumns": null,
        "xColumns": null,
        "yColumns": null
       },
       "removedWidgets": [],
       "schema": [
        {
         "metadata": "{}",
         "name": "path",
         "type": "\"string\""
        },
        {
         "metadata": "{}",
         "name": "name",
         "type": "\"string\""
        },
        {
         "metadata": "{}",
         "name": "size",
         "type": "\"long\""
        },
        {
         "metadata": "{}",
         "name": "modificationTime",
         "type": "\"long\""
        }
       ],
       "type": "table"
      }
     },
     "output_type": "display_data"
    }
   ],
   "source": [
    "# IN check the listing in team blob\n",
    "display(dbutils.fs.ls(f\"{team_blob_url}\"))"
   ]
  },
  {
   "cell_type": "markdown",
   "metadata": {
    "application/vnd.databricks.v1+cell": {
     "cellMetadata": {
      "byteLimit": 2048000,
      "rowLimit": 10000
     },
     "inputWidgets": {},
     "nuid": "4af9a84b-45f0-4b2a-a66e-2b33e2512a11",
     "showTitle": false,
     "tableResultSettingsMap": {},
     "title": ""
    }
   },
   "source": [
    "\n",
    "# Know your mount\n",
    "Here is the mounting for this class, your source for the original data! Remember, you only have Read access, not Write! Also, become familiar with `dbutils` the equivalent of `gcp` in DataProc"
   ]
  },
  {
   "cell_type": "code",
   "execution_count": 0,
   "metadata": {
    "application/vnd.databricks.v1+cell": {
     "cellMetadata": {
      "byteLimit": 2048000,
      "rowLimit": 10000
     },
     "inputWidgets": {},
     "nuid": "8ea5cf50-f7c0-415d-9894-734ac509088c",
     "showTitle": false,
     "tableResultSettingsMap": {},
     "title": ""
    }
   },
   "outputs": [
    {
     "output_type": "display_data",
     "data": {
      "text/html": [
       "<style scoped>\n",
       "  .table-result-container {\n",
       "    max-height: 300px;\n",
       "    overflow: auto;\n",
       "  }\n",
       "  table, th, td {\n",
       "    border: 1px solid black;\n",
       "    border-collapse: collapse;\n",
       "  }\n",
       "  th, td {\n",
       "    padding: 5px;\n",
       "  }\n",
       "  th {\n",
       "    text-align: left;\n",
       "  }\n",
       "</style><div class='table-result-container'><table class='table-result'><thead style='background-color: white'><tr><th>path</th><th>name</th><th>size</th><th>modificationTime</th></tr></thead><tbody><tr><td>dbfs:/mnt/mids-w261/2014_flights/</td><td>2014_flights/</td><td>0</td><td>1731598242000</td></tr><tr><td>dbfs:/mnt/mids-w261/HW5/</td><td>HW5/</td><td>0</td><td>0</td></tr><tr><td>dbfs:/mnt/mids-w261/OTPW_12M/</td><td>OTPW_12M/</td><td>0</td><td>1721794777000</td></tr><tr><td>dbfs:/mnt/mids-w261/OTPW_12M_2015.parquet/</td><td>OTPW_12M_2015.parquet/</td><td>0</td><td>1721930011000</td></tr><tr><td>dbfs:/mnt/mids-w261/OTPW_12M_2015_cleaned_sorted.parquet/</td><td>OTPW_12M_2015_cleaned_sorted.parquet/</td><td>0</td><td>1731788138000</td></tr><tr><td>dbfs:/mnt/mids-w261/OTPW_12M_2015_sorted.parquet/</td><td>OTPW_12M_2015_sorted.parquet/</td><td>0</td><td>1731652365000</td></tr><tr><td>dbfs:/mnt/mids-w261/OTPW_1D_CSV/</td><td>OTPW_1D_CSV/</td><td>0</td><td>0</td></tr><tr><td>dbfs:/mnt/mids-w261/OTPW_36M/</td><td>OTPW_36M/</td><td>0</td><td>0</td></tr><tr><td>dbfs:/mnt/mids-w261/OTPW_3M/</td><td>OTPW_3M/</td><td>0</td><td>1721832995000</td></tr><tr><td>dbfs:/mnt/mids-w261/OTPW_3M_2015.csv</td><td>OTPW_3M_2015.csv</td><td>1500620247</td><td>1679772070000</td></tr><tr><td>dbfs:/mnt/mids-w261/OTPW_3M_2015.parquet/</td><td>OTPW_3M_2015.parquet/</td><td>0</td><td>1721605420000</td></tr><tr><td>dbfs:/mnt/mids-w261/OTPW_3M_2015_cleaned_sorted.parquet/</td><td>OTPW_3M_2015_cleaned_sorted.parquet/</td><td>0</td><td>1731788153000</td></tr><tr><td>dbfs:/mnt/mids-w261/OTPW_3M_2015_parquet/</td><td>OTPW_3M_2015_parquet/</td><td>0</td><td>1731538428000</td></tr><tr><td>dbfs:/mnt/mids-w261/OTPW_3M_2015_sorted.parquet/</td><td>OTPW_3M_2015_sorted.parquet/</td><td>0</td><td>1731301112000</td></tr><tr><td>dbfs:/mnt/mids-w261/OTPW_60M/</td><td>OTPW_60M/</td><td>0</td><td>1722391443000</td></tr><tr><td>dbfs:/mnt/mids-w261/airport-codes_csv.csv</td><td>airport-codes_csv.csv</td><td>6232459</td><td>1677623514000</td></tr><tr><td>dbfs:/mnt/mids-w261/ak/</td><td>ak/</td><td>0</td><td>1731700560000</td></tr><tr><td>dbfs:/mnt/mids-w261/datasets_final_project/</td><td>datasets_final_project/</td><td>0</td><td>1722025627000</td></tr><tr><td>dbfs:/mnt/mids-w261/datasets_final_project_2022/</td><td>datasets_final_project_2022/</td><td>0</td><td>1722025903000</td></tr><tr><td>dbfs:/mnt/mids-w261/df_joined.parquet/</td><td>df_joined.parquet/</td><td>0</td><td>1731125169000</td></tr><tr><td>dbfs:/mnt/mids-w261/flights/</td><td>flights/</td><td>0</td><td>1731730441000</td></tr><tr><td>dbfs:/mnt/mids-w261/jdh/</td><td>jdh/</td><td>0</td><td>1731368078000</td></tr><tr><td>dbfs:/mnt/mids-w261/prophet_forecast.parquet/</td><td>prophet_forecast.parquet/</td><td>0</td><td>1731645434000</td></tr><tr><td>dbfs:/mnt/mids-w261/weather/</td><td>weather/</td><td>0</td><td>1731706158000</td></tr></tbody></table></div>"
      ]
     },
     "metadata": {
      "application/vnd.databricks.v1+output": {
       "addedWidgets": {},
       "aggData": [],
       "aggError": "",
       "aggOverflow": false,
       "aggSchema": [],
       "aggSeriesLimitReached": false,
       "aggType": "",
       "arguments": {},
       "columnCustomDisplayInfos": {},
       "data": [
        [
         "dbfs:/mnt/mids-w261/2014_flights/",
         "2014_flights/",
         0,
         1731598242000
        ],
        [
         "dbfs:/mnt/mids-w261/HW5/",
         "HW5/",
         0,
         0
        ],
        [
         "dbfs:/mnt/mids-w261/OTPW_12M/",
         "OTPW_12M/",
         0,
         1721794777000
        ],
        [
         "dbfs:/mnt/mids-w261/OTPW_12M_2015.parquet/",
         "OTPW_12M_2015.parquet/",
         0,
         1721930011000
        ],
        [
         "dbfs:/mnt/mids-w261/OTPW_12M_2015_cleaned_sorted.parquet/",
         "OTPW_12M_2015_cleaned_sorted.parquet/",
         0,
         1731788138000
        ],
        [
         "dbfs:/mnt/mids-w261/OTPW_12M_2015_sorted.parquet/",
         "OTPW_12M_2015_sorted.parquet/",
         0,
         1731652365000
        ],
        [
         "dbfs:/mnt/mids-w261/OTPW_1D_CSV/",
         "OTPW_1D_CSV/",
         0,
         0
        ],
        [
         "dbfs:/mnt/mids-w261/OTPW_36M/",
         "OTPW_36M/",
         0,
         0
        ],
        [
         "dbfs:/mnt/mids-w261/OTPW_3M/",
         "OTPW_3M/",
         0,
         1721832995000
        ],
        [
         "dbfs:/mnt/mids-w261/OTPW_3M_2015.csv",
         "OTPW_3M_2015.csv",
         1500620247,
         1679772070000
        ],
        [
         "dbfs:/mnt/mids-w261/OTPW_3M_2015.parquet/",
         "OTPW_3M_2015.parquet/",
         0,
         1721605420000
        ],
        [
         "dbfs:/mnt/mids-w261/OTPW_3M_2015_cleaned_sorted.parquet/",
         "OTPW_3M_2015_cleaned_sorted.parquet/",
         0,
         1731788153000
        ],
        [
         "dbfs:/mnt/mids-w261/OTPW_3M_2015_parquet/",
         "OTPW_3M_2015_parquet/",
         0,
         1731538428000
        ],
        [
         "dbfs:/mnt/mids-w261/OTPW_3M_2015_sorted.parquet/",
         "OTPW_3M_2015_sorted.parquet/",
         0,
         1731301112000
        ],
        [
         "dbfs:/mnt/mids-w261/OTPW_60M/",
         "OTPW_60M/",
         0,
         1722391443000
        ],
        [
         "dbfs:/mnt/mids-w261/airport-codes_csv.csv",
         "airport-codes_csv.csv",
         6232459,
         1677623514000
        ],
        [
         "dbfs:/mnt/mids-w261/ak/",
         "ak/",
         0,
         1731700560000
        ],
        [
         "dbfs:/mnt/mids-w261/datasets_final_project/",
         "datasets_final_project/",
         0,
         1722025627000
        ],
        [
         "dbfs:/mnt/mids-w261/datasets_final_project_2022/",
         "datasets_final_project_2022/",
         0,
         1722025903000
        ],
        [
         "dbfs:/mnt/mids-w261/df_joined.parquet/",
         "df_joined.parquet/",
         0,
         1731125169000
        ],
        [
         "dbfs:/mnt/mids-w261/flights/",
         "flights/",
         0,
         1731730441000
        ],
        [
         "dbfs:/mnt/mids-w261/jdh/",
         "jdh/",
         0,
         1731368078000
        ],
        [
         "dbfs:/mnt/mids-w261/prophet_forecast.parquet/",
         "prophet_forecast.parquet/",
         0,
         1731645434000
        ],
        [
         "dbfs:/mnt/mids-w261/weather/",
         "weather/",
         0,
         1731706158000
        ]
       ],
       "datasetInfos": [],
       "dbfsResultPath": null,
       "isJsonSchema": true,
       "metadata": {},
       "overflow": false,
       "plotOptions": {
        "customPlotOptions": {},
        "displayType": "table",
        "pivotAggregation": null,
        "pivotColumns": null,
        "xColumns": null,
        "yColumns": null
       },
       "removedWidgets": [],
       "schema": [
        {
         "metadata": "{}",
         "name": "path",
         "type": "\"string\""
        },
        {
         "metadata": "{}",
         "name": "name",
         "type": "\"string\""
        },
        {
         "metadata": "{}",
         "name": "size",
         "type": "\"long\""
        },
        {
         "metadata": "{}",
         "name": "modificationTime",
         "type": "\"long\""
        }
       ],
       "type": "table"
      }
     },
     "output_type": "display_data"
    }
   ],
   "source": [
    "data_BASE_DIR = \"dbfs:/mnt/mids-w261/\"\n",
    "display(dbutils.fs.ls(f\"{data_BASE_DIR}\"))"
   ]
  },
  {
   "cell_type": "code",
   "execution_count": 0,
   "metadata": {
    "application/vnd.databricks.v1+cell": {
     "cellMetadata": {
      "byteLimit": 2048000,
      "rowLimit": 10000
     },
     "inputWidgets": {},
     "nuid": "7628f4ac-4467-4fbd-a8f1-ba6d1c30e6b3",
     "showTitle": false,
     "tableResultSettingsMap": {},
     "title": ""
    }
   },
   "outputs": [
    {
     "output_type": "display_data",
     "data": {
      "text/plain": [
       "com.databricks.backend.common.rpc.CommandSkippedException\n",
       "\tat com.databricks.spark.chauffeur.SequenceExecutionState.$anonfun$cancel$3(SequenceExecutionState.scala:138)\n",
       "\tat com.databricks.spark.chauffeur.SequenceExecutionState.$anonfun$cancel$3$adapted(SequenceExecutionState.scala:133)\n",
       "\tat scala.collection.immutable.Range.foreach(Range.scala:158)\n",
       "\tat com.databricks.spark.chauffeur.SequenceExecutionState.cancel(SequenceExecutionState.scala:133)\n",
       "\tat com.databricks.spark.chauffeur.ExecContextState.cancelRunningSequence(ExecContextState.scala:728)\n",
       "\tat com.databricks.spark.chauffeur.ExecContextState.$anonfun$cancel$1(ExecContextState.scala:446)\n",
       "\tat scala.Option.getOrElse(Option.scala:189)\n",
       "\tat com.databricks.spark.chauffeur.ExecContextState.cancel(ExecContextState.scala:446)\n",
       "\tat com.databricks.spark.chauffeur.ExecutionContextManagerV1.cancelExecution(ExecutionContextManagerV1.scala:464)\n",
       "\tat com.databricks.spark.chauffeur.ChauffeurState.$anonfun$process$1(ChauffeurState.scala:571)\n",
       "\tat com.databricks.logging.UsageLogging.$anonfun$recordOperation$1(UsageLogging.scala:527)\n",
       "\tat com.databricks.logging.UsageLogging.executeThunkAndCaptureResultTags$1(UsageLogging.scala:631)\n",
       "\tat com.databricks.logging.UsageLogging.$anonfun$recordOperationWithResultTags$4(UsageLogging.scala:651)\n",
       "\tat com.databricks.logging.AttributionContextTracing.$anonfun$withAttributionContext$1(AttributionContextTracing.scala:48)\n",
       "\tat com.databricks.logging.AttributionContext$.$anonfun$withValue$1(AttributionContext.scala:276)\n",
       "\tat scala.util.DynamicVariable.withValue(DynamicVariable.scala:62)\n",
       "\tat com.databricks.logging.AttributionContext$.withValue(AttributionContext.scala:272)\n",
       "\tat com.databricks.logging.AttributionContextTracing.withAttributionContext(AttributionContextTracing.scala:46)\n",
       "\tat com.databricks.logging.AttributionContextTracing.withAttributionContext$(AttributionContextTracing.scala:43)\n",
       "\tat com.databricks.spark.chauffeur.ChauffeurState.withAttributionContext(ChauffeurState.scala:51)\n",
       "\tat com.databricks.logging.AttributionContextTracing.withAttributionTags(AttributionContextTracing.scala:95)\n",
       "\tat com.databricks.logging.AttributionContextTracing.withAttributionTags$(AttributionContextTracing.scala:76)\n",
       "\tat com.databricks.spark.chauffeur.ChauffeurState.withAttributionTags(ChauffeurState.scala:51)\n",
       "\tat com.databricks.logging.UsageLogging.recordOperationWithResultTags(UsageLogging.scala:626)\n",
       "\tat com.databricks.logging.UsageLogging.recordOperationWithResultTags$(UsageLogging.scala:536)\n",
       "\tat com.databricks.spark.chauffeur.ChauffeurState.recordOperationWithResultTags(ChauffeurState.scala:51)\n",
       "\tat com.databricks.logging.UsageLogging.recordOperation(UsageLogging.scala:528)\n",
       "\tat com.databricks.logging.UsageLogging.recordOperation$(UsageLogging.scala:496)\n",
       "\tat com.databricks.spark.chauffeur.ChauffeurState.recordOperation(ChauffeurState.scala:51)\n",
       "\tat com.databricks.spark.chauffeur.ChauffeurState.process(ChauffeurState.scala:553)\n",
       "\tat com.databricks.spark.chauffeur.Chauffeur$$anon$1$$anonfun$receive$1.handleDriverRequest$1(Chauffeur.scala:830)\n",
       "\tat com.databricks.spark.chauffeur.Chauffeur$$anon$1$$anonfun$receive$1.$anonfun$applyOrElse$5(Chauffeur.scala:856)\n",
       "\tat com.databricks.logging.UsageLogging.executeThunkAndCaptureResultTags$1(UsageLogging.scala:631)\n",
       "\tat com.databricks.logging.UsageLogging.$anonfun$recordOperationWithResultTags$4(UsageLogging.scala:651)\n",
       "\tat com.databricks.logging.AttributionContextTracing.$anonfun$withAttributionContext$1(AttributionContextTracing.scala:48)\n",
       "\tat com.databricks.logging.AttributionContext$.$anonfun$withValue$1(AttributionContext.scala:276)\n",
       "\tat scala.util.DynamicVariable.withValue(DynamicVariable.scala:62)\n",
       "\tat com.databricks.logging.AttributionContext$.withValue(AttributionContext.scala:272)\n",
       "\tat com.databricks.logging.AttributionContextTracing.withAttributionContext(AttributionContextTracing.scala:46)\n",
       "\tat com.databricks.logging.AttributionContextTracing.withAttributionContext$(AttributionContextTracing.scala:43)\n",
       "\tat com.databricks.rpc.ServerBackend.withAttributionContext(ServerBackend.scala:22)\n",
       "\tat com.databricks.logging.AttributionContextTracing.withAttributionTags(AttributionContextTracing.scala:95)\n",
       "\tat com.databricks.logging.AttributionContextTracing.withAttributionTags$(AttributionContextTracing.scala:76)\n",
       "\tat com.databricks.rpc.ServerBackend.withAttributionTags(ServerBackend.scala:22)\n",
       "\tat com.databricks.logging.UsageLogging.recordOperationWithResultTags(UsageLogging.scala:626)\n",
       "\tat com.databricks.logging.UsageLogging.recordOperationWithResultTags$(UsageLogging.scala:536)\n",
       "\tat com.databricks.rpc.ServerBackend.recordOperationWithResultTags(ServerBackend.scala:22)\n",
       "\tat com.databricks.spark.chauffeur.Chauffeur$$anon$1$$anonfun$receive$1.handleDriverRequestWithUsageLogging$1(Chauffeur.scala:855)\n",
       "\tat com.databricks.spark.chauffeur.Chauffeur$$anon$1$$anonfun$receive$1.applyOrElse(Chauffeur.scala:910)\n",
       "\tat com.databricks.spark.chauffeur.Chauffeur$$anon$1$$anonfun$receive$1.applyOrElse(Chauffeur.scala:703)\n",
       "\tat com.databricks.rpc.ServerBackend.$anonfun$internalReceive0$2(ServerBackend.scala:174)\n",
       "\tat com.databricks.rpc.ServerBackend$$anonfun$commonReceive$1.applyOrElse(ServerBackend.scala:200)\n",
       "\tat com.databricks.rpc.ServerBackend$$anonfun$commonReceive$1.applyOrElse(ServerBackend.scala:200)\n",
       "\tat com.databricks.rpc.ServerBackend.internalReceive0(ServerBackend.scala:171)\n",
       "\tat com.databricks.rpc.ServerBackend.$anonfun$internalReceive$1(ServerBackend.scala:147)\n",
       "\tat com.databricks.logging.UsageLogging.$anonfun$recordOperation$1(UsageLogging.scala:527)\n",
       "\tat com.databricks.logging.UsageLogging.executeThunkAndCaptureResultTags$1(UsageLogging.scala:631)\n",
       "\tat com.databricks.logging.UsageLogging.$anonfun$recordOperationWithResultTags$4(UsageLogging.scala:651)\n",
       "\tat com.databricks.logging.AttributionContextTracing.$anonfun$withAttributionContext$1(AttributionContextTracing.scala:48)\n",
       "\tat com.databricks.logging.AttributionContext$.$anonfun$withValue$1(AttributionContext.scala:276)\n",
       "\tat scala.util.DynamicVariable.withValue(DynamicVariable.scala:62)\n",
       "\tat com.databricks.logging.AttributionContext$.withValue(AttributionContext.scala:272)\n",
       "\tat com.databricks.logging.AttributionContextTracing.withAttributionContext(AttributionContextTracing.scala:46)\n",
       "\tat com.databricks.logging.AttributionContextTracing.withAttributionContext$(AttributionContextTracing.scala:43)\n",
       "\tat com.databricks.rpc.ServerBackend.withAttributionContext(ServerBackend.scala:22)\n",
       "\tat com.databricks.logging.AttributionContextTracing.withAttributionTags(AttributionContextTracing.scala:95)\n",
       "\tat com.databricks.logging.AttributionContextTracing.withAttributionTags$(AttributionContextTracing.scala:76)\n",
       "\tat com.databricks.rpc.ServerBackend.withAttributionTags(ServerBackend.scala:22)\n",
       "\tat com.databricks.logging.UsageLogging.recordOperationWithResultTags(UsageLogging.scala:626)\n",
       "\tat com.databricks.logging.UsageLogging.recordOperationWithResultTags$(UsageLogging.scala:536)\n",
       "\tat com.databricks.rpc.ServerBackend.recordOperationWithResultTags(ServerBackend.scala:22)\n",
       "\tat com.databricks.logging.UsageLogging.recordOperation(UsageLogging.scala:528)\n",
       "\tat com.databricks.logging.UsageLogging.recordOperation$(UsageLogging.scala:496)\n",
       "\tat com.databricks.rpc.ServerBackend.recordOperation(ServerBackend.scala:22)\n",
       "\tat com.databricks.rpc.ServerBackend.internalReceive(ServerBackend.scala:146)\n",
       "\tat com.databricks.rpc.JettyServer$RequestManager.handleRPC(JettyServer.scala:1021)\n",
       "\tat com.databricks.rpc.JettyServer$RequestManager.handleRequestAndRespond(JettyServer.scala:942)\n",
       "\tat com.databricks.rpc.JettyServer$RequestManager.$anonfun$handleHttp$6(JettyServer.scala:546)\n",
       "\tat com.databricks.rpc.JettyServer$RequestManager.$anonfun$handleHttp$6$adapted(JettyServer.scala:515)\n",
       "\tat com.databricks.logging.activity.ActivityContextFactory$.$anonfun$withActivityInternal$6(ActivityContextFactory.scala:545)\n",
       "\tat com.databricks.logging.AttributionContextTracing.$anonfun$withAttributionContext$1(AttributionContextTracing.scala:48)\n",
       "\tat com.databricks.logging.AttributionContext$.$anonfun$withValue$1(AttributionContext.scala:276)\n",
       "\tat scala.util.DynamicVariable.withValue(DynamicVariable.scala:62)\n",
       "\tat com.databricks.logging.AttributionContext$.withValue(AttributionContext.scala:272)\n",
       "\tat com.databricks.logging.AttributionContextTracing.withAttributionContext(AttributionContextTracing.scala:46)\n",
       "\tat com.databricks.logging.AttributionContextTracing.withAttributionContext$(AttributionContextTracing.scala:43)\n",
       "\tat com.databricks.logging.activity.ActivityContextFactory$.withAttributionContext(ActivityContextFactory.scala:48)\n",
       "\tat com.databricks.logging.activity.ActivityContextFactory$.$anonfun$withActivityInternal$3(ActivityContextFactory.scala:545)\n",
       "\tat com.databricks.context.integrity.IntegrityCheckContext$ThreadLocalStorage$.withValue(IntegrityCheckContext.scala:73)\n",
       "\tat com.databricks.logging.activity.ActivityContextFactory$.withActivityInternal(ActivityContextFactory.scala:523)\n",
       "\tat com.databricks.logging.activity.ActivityContextFactory$.withServiceRequestActivity(ActivityContextFactory.scala:175)\n",
       "\tat com.databricks.rpc.JettyServer$RequestManager.handleHttp(JettyServer.scala:515)\n",
       "\tat com.databricks.rpc.JettyServer$RequestManager.doPost(JettyServer.scala:405)\n",
       "\tat javax.servlet.http.HttpServlet.service(HttpServlet.java:665)\n",
       "\tat com.databricks.rpc.HttpServletWithPatch.service(HttpServletWithPatch.scala:33)\n",
       "\tat javax.servlet.http.HttpServlet.service(HttpServlet.java:750)\n",
       "\tat org.eclipse.jetty.servlet.ServletHolder.handle(ServletHolder.java:799)\n",
       "\tat org.eclipse.jetty.servlet.ServletHandler.doHandle(ServletHandler.java:554)\n",
       "\tat org.eclipse.jetty.server.handler.ScopedHandler.nextScope(ScopedHandler.java:190)\n",
       "\tat org.eclipse.jetty.servlet.ServletHandler.doScope(ServletHandler.java:505)\n",
       "\tat org.eclipse.jetty.server.handler.ScopedHandler.handle(ScopedHandler.java:141)\n",
       "\tat org.eclipse.jetty.server.handler.HandlerWrapper.handle(HandlerWrapper.java:127)\n",
       "\tat org.eclipse.jetty.server.Server.handle(Server.java:516)\n",
       "\tat org.eclipse.jetty.server.HttpChannel.lambda$handle$1(HttpChannel.java:487)\n",
       "\tat org.eclipse.jetty.server.HttpChannel.dispatch(HttpChannel.java:732)\n",
       "\tat org.eclipse.jetty.server.HttpChannel.handle(HttpChannel.java:479)\n",
       "\tat org.eclipse.jetty.server.HttpConnection.onFillable(HttpConnection.java:277)\n",
       "\tat org.eclipse.jetty.io.AbstractConnection$ReadCallback.succeeded(AbstractConnection.java:311)\n",
       "\tat org.eclipse.jetty.io.FillInterest.fillable(FillInterest.java:105)\n",
       "\tat org.eclipse.jetty.io.ssl.SslConnection$DecryptedEndPoint.onFillable(SslConnection.java:555)\n",
       "\tat org.eclipse.jetty.io.ssl.SslConnection.onFillable(SslConnection.java:410)\n",
       "\tat org.eclipse.jetty.io.ssl.SslConnection$2.succeeded(SslConnection.java:164)\n",
       "\tat org.eclipse.jetty.io.FillInterest.fillable(FillInterest.java:105)\n",
       "\tat org.eclipse.jetty.io.ChannelEndPoint$1.run(ChannelEndPoint.java:104)\n",
       "\tat org.eclipse.jetty.util.thread.strategy.EatWhatYouKill.runTask(EatWhatYouKill.java:338)\n",
       "\tat org.eclipse.jetty.util.thread.strategy.EatWhatYouKill.doProduce(EatWhatYouKill.java:315)\n",
       "\tat org.eclipse.jetty.util.thread.strategy.EatWhatYouKill.tryProduce(EatWhatYouKill.java:173)\n",
       "\tat org.eclipse.jetty.util.thread.strategy.EatWhatYouKill.run(EatWhatYouKill.java:131)\n",
       "\tat org.eclipse.jetty.util.thread.ReservedThreadExecutor$ReservedThread.run(ReservedThreadExecutor.java:409)\n",
       "\tat com.databricks.rpc.InstrumentedQueuedThreadPool$$anon$1.$anonfun$run$2(InstrumentedQueuedThreadPool.scala:105)\n",
       "\tat scala.runtime.java8.JFunction0$mcV$sp.apply(JFunction0$mcV$sp.java:23)\n",
       "\tat com.databricks.logging.AttributionContextTracing.$anonfun$withAttributionContext$1(AttributionContextTracing.scala:48)\n",
       "\tat com.databricks.logging.AttributionContext$.$anonfun$withValue$1(AttributionContext.scala:276)\n",
       "\tat scala.util.DynamicVariable.withValue(DynamicVariable.scala:62)\n",
       "\tat com.databricks.logging.AttributionContext$.withValue(AttributionContext.scala:272)\n",
       "\tat com.databricks.logging.AttributionContextTracing.withAttributionContext(AttributionContextTracing.scala:46)\n",
       "\tat com.databricks.logging.AttributionContextTracing.withAttributionContext$(AttributionContextTracing.scala:43)\n",
       "\tat com.databricks.rpc.InstrumentedQueuedThreadPool.withAttributionContext(InstrumentedQueuedThreadPool.scala:45)\n",
       "\tat com.databricks.rpc.InstrumentedQueuedThreadPool$$anon$1.$anonfun$run$1(InstrumentedQueuedThreadPool.scala:105)\n",
       "\tat scala.runtime.java8.JFunction0$mcV$sp.apply(JFunction0$mcV$sp.java:23)\n",
       "\tat com.databricks.instrumentation.QueuedThreadPoolInstrumenter.trackActiveThreads(QueuedThreadPoolInstrumenter.scala:110)\n",
       "\tat com.databricks.instrumentation.QueuedThreadPoolInstrumenter.trackActiveThreads$(QueuedThreadPoolInstrumenter.scala:107)\n",
       "\tat com.databricks.rpc.InstrumentedQueuedThreadPool.trackActiveThreads(InstrumentedQueuedThreadPool.scala:45)\n",
       "\tat com.databricks.rpc.InstrumentedQueuedThreadPool$$anon$1.run(InstrumentedQueuedThreadPool.scala:87)\n",
       "\tat org.eclipse.jetty.util.thread.QueuedThreadPool.runJob(QueuedThreadPool.java:883)\n",
       "\tat org.eclipse.jetty.util.thread.QueuedThreadPool$Runner.run(QueuedThreadPool.java:1034)\n",
       "\tat java.lang.Thread.run(Thread.java:750)"
      ]
     },
     "metadata": {
      "application/vnd.databricks.v1+output": {
       "addedWidgets": {},
       "arguments": {},
       "datasetInfos": [],
       "jupyterProps": null,
       "metadata": {
        "errorSummary": "Command skipped"
       },
       "removedWidgets": [],
       "sqlProps": null,
       "stackFrames": [
        "com.databricks.backend.common.rpc.CommandSkippedException",
        "\tat com.databricks.spark.chauffeur.SequenceExecutionState.$anonfun$cancel$3(SequenceExecutionState.scala:138)",
        "\tat com.databricks.spark.chauffeur.SequenceExecutionState.$anonfun$cancel$3$adapted(SequenceExecutionState.scala:133)",
        "\tat scala.collection.immutable.Range.foreach(Range.scala:158)",
        "\tat com.databricks.spark.chauffeur.SequenceExecutionState.cancel(SequenceExecutionState.scala:133)",
        "\tat com.databricks.spark.chauffeur.ExecContextState.cancelRunningSequence(ExecContextState.scala:728)",
        "\tat com.databricks.spark.chauffeur.ExecContextState.$anonfun$cancel$1(ExecContextState.scala:446)",
        "\tat scala.Option.getOrElse(Option.scala:189)",
        "\tat com.databricks.spark.chauffeur.ExecContextState.cancel(ExecContextState.scala:446)",
        "\tat com.databricks.spark.chauffeur.ExecutionContextManagerV1.cancelExecution(ExecutionContextManagerV1.scala:464)",
        "\tat com.databricks.spark.chauffeur.ChauffeurState.$anonfun$process$1(ChauffeurState.scala:571)",
        "\tat com.databricks.logging.UsageLogging.$anonfun$recordOperation$1(UsageLogging.scala:527)",
        "\tat com.databricks.logging.UsageLogging.executeThunkAndCaptureResultTags$1(UsageLogging.scala:631)",
        "\tat com.databricks.logging.UsageLogging.$anonfun$recordOperationWithResultTags$4(UsageLogging.scala:651)",
        "\tat com.databricks.logging.AttributionContextTracing.$anonfun$withAttributionContext$1(AttributionContextTracing.scala:48)",
        "\tat com.databricks.logging.AttributionContext$.$anonfun$withValue$1(AttributionContext.scala:276)",
        "\tat scala.util.DynamicVariable.withValue(DynamicVariable.scala:62)",
        "\tat com.databricks.logging.AttributionContext$.withValue(AttributionContext.scala:272)",
        "\tat com.databricks.logging.AttributionContextTracing.withAttributionContext(AttributionContextTracing.scala:46)",
        "\tat com.databricks.logging.AttributionContextTracing.withAttributionContext$(AttributionContextTracing.scala:43)",
        "\tat com.databricks.spark.chauffeur.ChauffeurState.withAttributionContext(ChauffeurState.scala:51)",
        "\tat com.databricks.logging.AttributionContextTracing.withAttributionTags(AttributionContextTracing.scala:95)",
        "\tat com.databricks.logging.AttributionContextTracing.withAttributionTags$(AttributionContextTracing.scala:76)",
        "\tat com.databricks.spark.chauffeur.ChauffeurState.withAttributionTags(ChauffeurState.scala:51)",
        "\tat com.databricks.logging.UsageLogging.recordOperationWithResultTags(UsageLogging.scala:626)",
        "\tat com.databricks.logging.UsageLogging.recordOperationWithResultTags$(UsageLogging.scala:536)",
        "\tat com.databricks.spark.chauffeur.ChauffeurState.recordOperationWithResultTags(ChauffeurState.scala:51)",
        "\tat com.databricks.logging.UsageLogging.recordOperation(UsageLogging.scala:528)",
        "\tat com.databricks.logging.UsageLogging.recordOperation$(UsageLogging.scala:496)",
        "\tat com.databricks.spark.chauffeur.ChauffeurState.recordOperation(ChauffeurState.scala:51)",
        "\tat com.databricks.spark.chauffeur.ChauffeurState.process(ChauffeurState.scala:553)",
        "\tat com.databricks.spark.chauffeur.Chauffeur$$anon$1$$anonfun$receive$1.handleDriverRequest$1(Chauffeur.scala:830)",
        "\tat com.databricks.spark.chauffeur.Chauffeur$$anon$1$$anonfun$receive$1.$anonfun$applyOrElse$5(Chauffeur.scala:856)",
        "\tat com.databricks.logging.UsageLogging.executeThunkAndCaptureResultTags$1(UsageLogging.scala:631)",
        "\tat com.databricks.logging.UsageLogging.$anonfun$recordOperationWithResultTags$4(UsageLogging.scala:651)",
        "\tat com.databricks.logging.AttributionContextTracing.$anonfun$withAttributionContext$1(AttributionContextTracing.scala:48)",
        "\tat com.databricks.logging.AttributionContext$.$anonfun$withValue$1(AttributionContext.scala:276)",
        "\tat scala.util.DynamicVariable.withValue(DynamicVariable.scala:62)",
        "\tat com.databricks.logging.AttributionContext$.withValue(AttributionContext.scala:272)",
        "\tat com.databricks.logging.AttributionContextTracing.withAttributionContext(AttributionContextTracing.scala:46)",
        "\tat com.databricks.logging.AttributionContextTracing.withAttributionContext$(AttributionContextTracing.scala:43)",
        "\tat com.databricks.rpc.ServerBackend.withAttributionContext(ServerBackend.scala:22)",
        "\tat com.databricks.logging.AttributionContextTracing.withAttributionTags(AttributionContextTracing.scala:95)",
        "\tat com.databricks.logging.AttributionContextTracing.withAttributionTags$(AttributionContextTracing.scala:76)",
        "\tat com.databricks.rpc.ServerBackend.withAttributionTags(ServerBackend.scala:22)",
        "\tat com.databricks.logging.UsageLogging.recordOperationWithResultTags(UsageLogging.scala:626)",
        "\tat com.databricks.logging.UsageLogging.recordOperationWithResultTags$(UsageLogging.scala:536)",
        "\tat com.databricks.rpc.ServerBackend.recordOperationWithResultTags(ServerBackend.scala:22)",
        "\tat com.databricks.spark.chauffeur.Chauffeur$$anon$1$$anonfun$receive$1.handleDriverRequestWithUsageLogging$1(Chauffeur.scala:855)",
        "\tat com.databricks.spark.chauffeur.Chauffeur$$anon$1$$anonfun$receive$1.applyOrElse(Chauffeur.scala:910)",
        "\tat com.databricks.spark.chauffeur.Chauffeur$$anon$1$$anonfun$receive$1.applyOrElse(Chauffeur.scala:703)",
        "\tat com.databricks.rpc.ServerBackend.$anonfun$internalReceive0$2(ServerBackend.scala:174)",
        "\tat com.databricks.rpc.ServerBackend$$anonfun$commonReceive$1.applyOrElse(ServerBackend.scala:200)",
        "\tat com.databricks.rpc.ServerBackend$$anonfun$commonReceive$1.applyOrElse(ServerBackend.scala:200)",
        "\tat com.databricks.rpc.ServerBackend.internalReceive0(ServerBackend.scala:171)",
        "\tat com.databricks.rpc.ServerBackend.$anonfun$internalReceive$1(ServerBackend.scala:147)",
        "\tat com.databricks.logging.UsageLogging.$anonfun$recordOperation$1(UsageLogging.scala:527)",
        "\tat com.databricks.logging.UsageLogging.executeThunkAndCaptureResultTags$1(UsageLogging.scala:631)",
        "\tat com.databricks.logging.UsageLogging.$anonfun$recordOperationWithResultTags$4(UsageLogging.scala:651)",
        "\tat com.databricks.logging.AttributionContextTracing.$anonfun$withAttributionContext$1(AttributionContextTracing.scala:48)",
        "\tat com.databricks.logging.AttributionContext$.$anonfun$withValue$1(AttributionContext.scala:276)",
        "\tat scala.util.DynamicVariable.withValue(DynamicVariable.scala:62)",
        "\tat com.databricks.logging.AttributionContext$.withValue(AttributionContext.scala:272)",
        "\tat com.databricks.logging.AttributionContextTracing.withAttributionContext(AttributionContextTracing.scala:46)",
        "\tat com.databricks.logging.AttributionContextTracing.withAttributionContext$(AttributionContextTracing.scala:43)",
        "\tat com.databricks.rpc.ServerBackend.withAttributionContext(ServerBackend.scala:22)",
        "\tat com.databricks.logging.AttributionContextTracing.withAttributionTags(AttributionContextTracing.scala:95)",
        "\tat com.databricks.logging.AttributionContextTracing.withAttributionTags$(AttributionContextTracing.scala:76)",
        "\tat com.databricks.rpc.ServerBackend.withAttributionTags(ServerBackend.scala:22)",
        "\tat com.databricks.logging.UsageLogging.recordOperationWithResultTags(UsageLogging.scala:626)",
        "\tat com.databricks.logging.UsageLogging.recordOperationWithResultTags$(UsageLogging.scala:536)",
        "\tat com.databricks.rpc.ServerBackend.recordOperationWithResultTags(ServerBackend.scala:22)",
        "\tat com.databricks.logging.UsageLogging.recordOperation(UsageLogging.scala:528)",
        "\tat com.databricks.logging.UsageLogging.recordOperation$(UsageLogging.scala:496)",
        "\tat com.databricks.rpc.ServerBackend.recordOperation(ServerBackend.scala:22)",
        "\tat com.databricks.rpc.ServerBackend.internalReceive(ServerBackend.scala:146)",
        "\tat com.databricks.rpc.JettyServer$RequestManager.handleRPC(JettyServer.scala:1021)",
        "\tat com.databricks.rpc.JettyServer$RequestManager.handleRequestAndRespond(JettyServer.scala:942)",
        "\tat com.databricks.rpc.JettyServer$RequestManager.$anonfun$handleHttp$6(JettyServer.scala:546)",
        "\tat com.databricks.rpc.JettyServer$RequestManager.$anonfun$handleHttp$6$adapted(JettyServer.scala:515)",
        "\tat com.databricks.logging.activity.ActivityContextFactory$.$anonfun$withActivityInternal$6(ActivityContextFactory.scala:545)",
        "\tat com.databricks.logging.AttributionContextTracing.$anonfun$withAttributionContext$1(AttributionContextTracing.scala:48)",
        "\tat com.databricks.logging.AttributionContext$.$anonfun$withValue$1(AttributionContext.scala:276)",
        "\tat scala.util.DynamicVariable.withValue(DynamicVariable.scala:62)",
        "\tat com.databricks.logging.AttributionContext$.withValue(AttributionContext.scala:272)",
        "\tat com.databricks.logging.AttributionContextTracing.withAttributionContext(AttributionContextTracing.scala:46)",
        "\tat com.databricks.logging.AttributionContextTracing.withAttributionContext$(AttributionContextTracing.scala:43)",
        "\tat com.databricks.logging.activity.ActivityContextFactory$.withAttributionContext(ActivityContextFactory.scala:48)",
        "\tat com.databricks.logging.activity.ActivityContextFactory$.$anonfun$withActivityInternal$3(ActivityContextFactory.scala:545)",
        "\tat com.databricks.context.integrity.IntegrityCheckContext$ThreadLocalStorage$.withValue(IntegrityCheckContext.scala:73)",
        "\tat com.databricks.logging.activity.ActivityContextFactory$.withActivityInternal(ActivityContextFactory.scala:523)",
        "\tat com.databricks.logging.activity.ActivityContextFactory$.withServiceRequestActivity(ActivityContextFactory.scala:175)",
        "\tat com.databricks.rpc.JettyServer$RequestManager.handleHttp(JettyServer.scala:515)",
        "\tat com.databricks.rpc.JettyServer$RequestManager.doPost(JettyServer.scala:405)",
        "\tat javax.servlet.http.HttpServlet.service(HttpServlet.java:665)",
        "\tat com.databricks.rpc.HttpServletWithPatch.service(HttpServletWithPatch.scala:33)",
        "\tat javax.servlet.http.HttpServlet.service(HttpServlet.java:750)",
        "\tat org.eclipse.jetty.servlet.ServletHolder.handle(ServletHolder.java:799)",
        "\tat org.eclipse.jetty.servlet.ServletHandler.doHandle(ServletHandler.java:554)",
        "\tat org.eclipse.jetty.server.handler.ScopedHandler.nextScope(ScopedHandler.java:190)",
        "\tat org.eclipse.jetty.servlet.ServletHandler.doScope(ServletHandler.java:505)",
        "\tat org.eclipse.jetty.server.handler.ScopedHandler.handle(ScopedHandler.java:141)",
        "\tat org.eclipse.jetty.server.handler.HandlerWrapper.handle(HandlerWrapper.java:127)",
        "\tat org.eclipse.jetty.server.Server.handle(Server.java:516)",
        "\tat org.eclipse.jetty.server.HttpChannel.lambda$handle$1(HttpChannel.java:487)",
        "\tat org.eclipse.jetty.server.HttpChannel.dispatch(HttpChannel.java:732)",
        "\tat org.eclipse.jetty.server.HttpChannel.handle(HttpChannel.java:479)",
        "\tat org.eclipse.jetty.server.HttpConnection.onFillable(HttpConnection.java:277)",
        "\tat org.eclipse.jetty.io.AbstractConnection$ReadCallback.succeeded(AbstractConnection.java:311)",
        "\tat org.eclipse.jetty.io.FillInterest.fillable(FillInterest.java:105)",
        "\tat org.eclipse.jetty.io.ssl.SslConnection$DecryptedEndPoint.onFillable(SslConnection.java:555)",
        "\tat org.eclipse.jetty.io.ssl.SslConnection.onFillable(SslConnection.java:410)",
        "\tat org.eclipse.jetty.io.ssl.SslConnection$2.succeeded(SslConnection.java:164)",
        "\tat org.eclipse.jetty.io.FillInterest.fillable(FillInterest.java:105)",
        "\tat org.eclipse.jetty.io.ChannelEndPoint$1.run(ChannelEndPoint.java:104)",
        "\tat org.eclipse.jetty.util.thread.strategy.EatWhatYouKill.runTask(EatWhatYouKill.java:338)",
        "\tat org.eclipse.jetty.util.thread.strategy.EatWhatYouKill.doProduce(EatWhatYouKill.java:315)",
        "\tat org.eclipse.jetty.util.thread.strategy.EatWhatYouKill.tryProduce(EatWhatYouKill.java:173)",
        "\tat org.eclipse.jetty.util.thread.strategy.EatWhatYouKill.run(EatWhatYouKill.java:131)",
        "\tat org.eclipse.jetty.util.thread.ReservedThreadExecutor$ReservedThread.run(ReservedThreadExecutor.java:409)",
        "\tat com.databricks.rpc.InstrumentedQueuedThreadPool$$anon$1.$anonfun$run$2(InstrumentedQueuedThreadPool.scala:105)",
        "\tat scala.runtime.java8.JFunction0$mcV$sp.apply(JFunction0$mcV$sp.java:23)",
        "\tat com.databricks.logging.AttributionContextTracing.$anonfun$withAttributionContext$1(AttributionContextTracing.scala:48)",
        "\tat com.databricks.logging.AttributionContext$.$anonfun$withValue$1(AttributionContext.scala:276)",
        "\tat scala.util.DynamicVariable.withValue(DynamicVariable.scala:62)",
        "\tat com.databricks.logging.AttributionContext$.withValue(AttributionContext.scala:272)",
        "\tat com.databricks.logging.AttributionContextTracing.withAttributionContext(AttributionContextTracing.scala:46)",
        "\tat com.databricks.logging.AttributionContextTracing.withAttributionContext$(AttributionContextTracing.scala:43)",
        "\tat com.databricks.rpc.InstrumentedQueuedThreadPool.withAttributionContext(InstrumentedQueuedThreadPool.scala:45)",
        "\tat com.databricks.rpc.InstrumentedQueuedThreadPool$$anon$1.$anonfun$run$1(InstrumentedQueuedThreadPool.scala:105)",
        "\tat scala.runtime.java8.JFunction0$mcV$sp.apply(JFunction0$mcV$sp.java:23)",
        "\tat com.databricks.instrumentation.QueuedThreadPoolInstrumenter.trackActiveThreads(QueuedThreadPoolInstrumenter.scala:110)",
        "\tat com.databricks.instrumentation.QueuedThreadPoolInstrumenter.trackActiveThreads$(QueuedThreadPoolInstrumenter.scala:107)",
        "\tat com.databricks.rpc.InstrumentedQueuedThreadPool.trackActiveThreads(InstrumentedQueuedThreadPool.scala:45)",
        "\tat com.databricks.rpc.InstrumentedQueuedThreadPool$$anon$1.run(InstrumentedQueuedThreadPool.scala:87)",
        "\tat org.eclipse.jetty.util.thread.QueuedThreadPool.runJob(QueuedThreadPool.java:883)",
        "\tat org.eclipse.jetty.util.thread.QueuedThreadPool$Runner.run(QueuedThreadPool.java:1034)",
        "\tat java.lang.Thread.run(Thread.java:750)"
       ],
       "type": "baseError"
      }
     },
     "output_type": "display_data"
    }
   ],
   "source": [
    "dbutils.fs.help()"
   ]
  },
  {
   "cell_type": "markdown",
   "metadata": {
    "application/vnd.databricks.v1+cell": {
     "cellMetadata": {
      "byteLimit": 2048000,
      "rowLimit": 10000
     },
     "inputWidgets": {},
     "nuid": "ffee6d30-9a08-4d13-9cdc-c594fd3aa3c1",
     "showTitle": false,
     "tableResultSettingsMap": {},
     "title": ""
    }
   },
   "source": [
    "# Gather data to prepare for model"
   ]
  },
  {
   "cell_type": "code",
   "execution_count": 0,
   "metadata": {
    "application/vnd.databricks.v1+cell": {
     "cellMetadata": {
      "byteLimit": 2048000,
      "rowLimit": 10000
     },
     "inputWidgets": {},
     "nuid": "970fd7bb-2aca-46eb-a8c9-78366e533251",
     "showTitle": false,
     "tableResultSettingsMap": {},
     "title": ""
    }
   },
   "outputs": [],
   "source": [
    "# If the ordered data is already in the blob\n",
    "# data_encoded_scaled_ordered = (spark.read.parquet(f\"{team_blob_url}/data_encoded_scaled_ordered_3m/\"))\n",
    "\n",
    "# retrieve the encoded scaled and ordered train and test data from the blob\n",
    "# train_val_df = (spark.read.parquet(f\"{team_blob_url}/train_val_data_encoded_scaled_ordered_3m/\"))\n",
    "# train_val_df = (spark.read.parquet(f\"{team_blob_url}/train_val_data_encoded_scaled_ordered_3m_v4/\"))\n",
    "# train_val_df = (spark.read.parquet(f\"{team_blob_url}/train_val_data_encoded_scaled_ordered_12m/\"))\n",
    "# train_val_df = (spark.read.parquet(f\"{team_blob_url}/train_val_data_encoded_scaled_ordered_12m_v5/\"))\n",
    "# train_val_df = (spark.read.parquet(f\"{team_blob_url}/train_val_data_encoded_scaled_ordered_60m_v2/\"))\n",
    "# train_val_df = (spark.read.parquet(f\"{team_blob_url}/train_val_data_encoded_scaled_ordered_60m_v3/\"))\n",
    "train_val_df = (spark.read.parquet(f\"{team_blob_url}/train_val_data_encoded_scaled_ordered_60m_v4/\"))\n",
    "\n",
    "# test_df = (spark.read.parquet(f\"{team_blob_url}/test_data_encoded_scaled_ordered_3m/\"))\n",
    "# test_df = (spark.read.parquet(f\"{team_blob_url}/test_data_encoded_scaled_ordered_3m_v4/\"))\n",
    "# test_df = (spark.read.parquet(f\"{team_blob_url}/test_data_encoded_scaled_ordered_12m/\"))\n",
    "# test_df = (spark.read.parquet(f\"{team_blob_url}/test_data_encoded_scaled_ordered_12m_v5/\"))\n",
    "# test_df = (spark.read.parquet(f\"{team_blob_url}/test_data_encoded_scaled_ordered_60m_v2/\"))\n",
    "# test_df = (spark.read.parquet(f\"{team_blob_url}/test_data_encoded_scaled_ordered_60m_v3/\"))\n",
    "test_df = (spark.read.parquet(f\"{team_blob_url}/test_data_encoded_scaled_ordered_60m_v4/\"))\n",
    "\n",
    "scaled_cols = (spark.read.parquet(f\"{team_blob_url}/scaled_cols_60m_v4/\"))"
   ]
  },
  {
   "cell_type": "markdown",
   "metadata": {
    "application/vnd.databricks.v1+cell": {
     "cellMetadata": {},
     "inputWidgets": {},
     "nuid": "4a7d88f0-5d50-463b-9577-9e3b6efb35d7",
     "showTitle": false,
     "tableResultSettingsMap": {},
     "title": ""
    }
   },
   "source": [
    "# Pipeline for CV and Grid Search"
   ]
  },
  {
   "cell_type": "markdown",
   "metadata": {
    "application/vnd.databricks.v1+cell": {
     "cellMetadata": {},
     "inputWidgets": {},
     "nuid": "c54196b9-717f-4a1f-b1f6-9313e7cf719b",
     "showTitle": false,
     "tableResultSettingsMap": {},
     "title": ""
    }
   },
   "source": [
    "## CV to split train_val_df to train_df and test_df"
   ]
  },
  {
   "cell_type": "code",
   "execution_count": 0,
   "metadata": {
    "application/vnd.databricks.v1+cell": {
     "cellMetadata": {
      "byteLimit": 2048000,
      "rowLimit": 10000
     },
     "inputWidgets": {},
     "nuid": "ffef7bc7-2e6b-4087-b215-7eb27007162f",
     "showTitle": false,
     "tableResultSettingsMap": {},
     "title": ""
    }
   },
   "outputs": [],
   "source": [
    "from pyspark.sql.functions import row_number, col\n",
    "from pyspark.sql.window import Window\n",
    "from pyspark.ml.tuning import ParamGridBuilder, CrossValidator\n",
    "\n",
    "# Undersample function from Muthum\n",
    "def delay_groups_fractions(df, source, tgt_label):\n",
    "    print(f'Dataset: {source}')\n",
    "    total_count = df.count()\n",
    "    label_counts_df = df.groupBy(tgt_label).count()\n",
    "\n",
    "    # Find the minimum class count\n",
    "    min_count = label_counts_df.agg(F.min('count')).collect()[0][0]\n",
    "\n",
    "    # Calculate percentage and fraction of min count\n",
    "    grouped_df = label_counts_df.\\\n",
    "                    withColumn(\"percentage\", (label_counts_df['count'] / total_count) * 100).\\\n",
    "                    withColumn(\"fraction\", min_count/label_counts_df['count'])\n",
    "\n",
    "    grouped_df.show()\n",
    "\n",
    "    # Assuming df is your DataFrame with 'key_column' and 'value_column'\n",
    "    fractions = dict(grouped_df.select(tgt_label, \"fraction\").\\\n",
    "                    rdd.map(lambda x: (x[0], x[1])).collect())\n",
    "\n",
    "    return fractions\n",
    "\n",
    "# From AG (mostly, with my modification)\n",
    "def split_folds_train_val(df, leakage_pct=0.02, val_pct=0.1, n_folds=6, delay_col=\"DEP_DELAY_GROUP_NEW\", version='NA', data_month_label='NA'):\n",
    "    # Split train, test\n",
    "    train_val_rows = df.count()\n",
    "\n",
    "    train_val_df = df.withColumn(\"row_id\", row_number().over(Window.partitionBy().orderBy(\"two_hours_prior_depart_UTC\")))\n",
    "\n",
    "    # Split folds.\n",
    "    fold_size = train_val_rows // n_folds\n",
    "    val_size = int(fold_size * val_pct)\n",
    "    splits = []\n",
    "\n",
    "    train_start_idx = 0\n",
    "    for fold in range(1, n_folds): # IN: added start from 1\n",
    "        # Define train and validation boundaries\n",
    "        if fold >1:\n",
    "            train_start_idx = val_end_idx #IN: add to do block train_df instead of expanding window train_df\n",
    "        train_end_idx = (fold) * fold_size # IN: remove 1+ to make sure the last train_end_idx is not the end of the entire window so that it leaves room for validation set for this split\n",
    "        leakage_cnt = int(fold_size * leakage_pct)\n",
    "        val_start_idx = train_end_idx - leakage_cnt\n",
    "        val_end_idx = train_end_idx + val_size + leakage_cnt\n",
    "\n",
    "        # Avoid caching too much. It runs out of memory.\n",
    "        train_df = train_val_df.filter(\n",
    "            (col(\"row_id\") >= train_start_idx) & (\n",
    "            col(\"row_id\") < train_end_idx))\n",
    "\n",
    "        # Get validation set\n",
    "        val_df = train_val_df.filter(\n",
    "            (col(\"row_id\") >= val_start_idx) & (col(\"row_id\") < val_end_idx)\n",
    "        )\n",
    "\n",
    "        print(f\"Fold: {fold}, train_start_idx: {train_start_idx}, train_end_idx: {train_end_idx}, val_start_idx: {val_start_idx}, val_end_idx: {val_end_idx}\")\n",
    "\n",
    "        # Show brief summary.\n",
    "        train_fraction = delay_groups_fractions(train_df, \"Train\", delay_col)\n",
    "\n",
    "        # Commented out to speed it up a little more.\n",
    "        val_fraction = delay_groups_fractions(val_df, \"Val\", delay_col)\n",
    "\n",
    "        # Safety bounds checking. We \"shouldn't\" need to do it for max(0.0, v).\n",
    "        train_fraction = {k: min(1.0, v) for k, v in train_fraction.items()}\n",
    "\n",
    "        # Undersample train data for imbalance treatment.\n",
    "        train_df = train_df.sampleBy(delay_col, train_fraction, seed=20)\n",
    "\n",
    "        # Save split data into blob\n",
    "        \n",
    "        train_df.write.mode(\"overwrite\").parquet(f\"{team_blob_url}/IN_{data_month_label}_fold_{fold}_train_{version}\")\n",
    "        val_df.write.mode(\"overwrite\").parquet(f\"{team_blob_url}/IN_{data_month_label}_fold_{fold}_val_{version}\")\n",
    "\n",
    "        # Append everything.\n",
    "        splits.append((train_df, val_df))\n",
    "\n",
    "    return splits"
   ]
  },
  {
   "cell_type": "code",
   "execution_count": 0,
   "metadata": {
    "application/vnd.databricks.v1+cell": {
     "cellMetadata": {
      "byteLimit": 2048000,
      "rowLimit": 10000
     },
     "inputWidgets": {},
     "nuid": "e4327c87-770b-44a1-928e-284c00cfb349",
     "showTitle": false,
     "tableResultSettingsMap": {},
     "title": ""
    }
   },
   "outputs": [],
   "source": [
    "def get_pipeline_lr():\n",
    "    # Defaults\n",
    "    label_col = \"DEP_DELAY_GROUP_NEW\"\n",
    "    features_col = \"final_features_mod\"\n",
    "    # regularization_params = [0.001, 0.01, 0.1, 0.5, 1.0]\n",
    "    # elastic_net_params = [0.0, 0.25, 0.5, 0.75, 1.0]\n",
    "    regularization_params = [0, 0.01, 0.1]\n",
    "    elastic_net_params = [0.0, 0.5, 1.0]\n",
    "\n",
    "    # Define Logistic Regression.\n",
    "    lr = LogisticRegression(featuresCol=features_col, labelCol=label_col)\n",
    "\n",
    "    # Define parameter grid search.\n",
    "    param_grid = (\n",
    "        ParamGridBuilder()\n",
    "        .addGrid(lr.regParam, regularization_params)\n",
    "        .addGrid(lr.elasticNetParam, elastic_net_params)\n",
    "        .build()\n",
    "    )\n",
    "\n",
    "    # Class we want to improve.\n",
    "    focused_class = 2.0\n",
    "\n",
    "    # Recall\n",
    "    f_beta = 2.0\n",
    "\n",
    "    evaluator = MulticlassClassificationEvaluator(\n",
    "        labelCol=label_col,\n",
    "        predictionCol=\"prediction\",\n",
    "        metricLabel=focused_class,\n",
    "        metricName=\"fMeasureByLabel\",\n",
    "        beta=f_beta,\n",
    "    )\n",
    "\n",
    "    # NOTE: We can put the assembler in the pipeline, but it consumed too much memory when training.\n",
    "    return Pipeline(stages=[lr]), param_grid, evaluator\n",
    "\n",
    "\n",
    "def train_and_evaluate_chunk(train_assembled_df, val_assembled_df, pipeline_with_params, evaluator):\n",
    "    pipeline_model = pipeline_with_params.fit(train_assembled_df)\n",
    "\n",
    "    # NOTE: Evaluating the train set won't fit in memory.\n",
    "\n",
    "    # Evaluate on the validation set\n",
    "    val_pred = pipeline_model.transform(val_assembled_df)\n",
    "\n",
    "    return evaluator.evaluate(val_pred)\n",
    "\n",
    "\n",
    "def evaluate_ema(ema_val_f_beta, fold_f_beta, alpha=0.3):\n",
    "    ema_val_f_beta = alpha * fold_f_beta + (1 - alpha) * ema_val_f_beta\n",
    "    return ema_val_f_beta\n",
    "\n",
    "def evaluate_w_weight(fold_idx, ema_val_f_beta, fold_f_beta):\n",
    "    weight_dic = {0:0.1, 1:0.15, 2:0.2, 3:0.25, 4:0.3}\n",
    "    return ema_val_f_beta + weight_dic[fold_idx]*fold_f_beta\n",
    "\n",
    "def train_pipeline(splits, pipeline, param_grid, evaluator):\n",
    "    best_params = None\n",
    "    best_val_f_beta = float(\"-inf\")\n",
    "\n",
    "    param_list = []\n",
    "    f_beta_list = []\n",
    "\n",
    "    # NOTE: `splits` is assembled already to save memory.\n",
    "\n",
    "    # Smoothing factor.\n",
    "    alpha = 0.3\n",
    "\n",
    "    # Iterate over each parameter combination\n",
    "    for params in param_grid:\n",
    "        # Set the parameters in the pipeline.\n",
    "        pipeline_with_params = pipeline.copy(params)\n",
    "\n",
    "        # Define exponential moving average.\n",
    "        ema_val_f_beta = 0\n",
    "\n",
    "        # Perform k-fold cross-validation\n",
    "        for fold_idx, (train_assembled_df, val_assembled_df) in enumerate(splits):\n",
    "            print(f\"Training Fold {fold_idx + 1}\")\n",
    "\n",
    "            # Train each chunk.\n",
    "            fold_f_beta = train_and_evaluate_chunk(\n",
    "                train_assembled_df, val_assembled_df, pipeline_with_params, evaluator\n",
    "            )\n",
    "\n",
    "            if fold_idx == 0:\n",
    "                # Initialize:\n",
    "                ema_val_f_beta = evaluate_w_weight(fold_idx, 0.0, fold_f_beta)\n",
    "                \n",
    "            else:\n",
    "                # Calculate EMA.\n",
    "                ema_val_f_beta = evaluate_w_weight(fold_idx, ema_val_f_beta, fold_f_beta)\n",
    "            \n",
    "            print(\n",
    "                f\"Fold {fold_idx + 1} F-beta: {fold_f_beta}, Updated EMA: {ema_val_f_beta}\"\n",
    "            )\n",
    "\n",
    "        print(\"----------------------------------------------\")\n",
    "        print(\"----------------------------------------------\")\n",
    "        print(f\"params: {params}, ema_val_f_beta: {ema_val_f_beta}\\n\\n\")\n",
    "\n",
    "        if ema_val_f_beta > best_val_f_beta:\n",
    "            best_val_f_beta = ema_val_f_beta\n",
    "            best_params = params\n",
    "        \n",
    "        # IN: to keep the results for all params\n",
    "        param_list.append(params)\n",
    "        f_beta_list.append(ema_val_f_beta)\n",
    "\n",
    "    return ({\n",
    "        \"best_params\": best_params,\n",
    "        \"best_val_f_beta\": best_val_f_beta,\n",
    "    }, param_list, f_beta_list)\n"
   ]
  },
  {
   "cell_type": "markdown",
   "metadata": {
    "application/vnd.databricks.v1+cell": {
     "cellMetadata": {},
     "inputWidgets": {},
     "nuid": "0ffce520-3a9a-4e8f-8407-851135498f4a",
     "showTitle": false,
     "tableResultSettingsMap": {},
     "title": ""
    }
   },
   "source": [
    "## Split the CV data"
   ]
  },
  {
   "cell_type": "code",
   "execution_count": 0,
   "metadata": {
    "application/vnd.databricks.v1+cell": {
     "cellMetadata": {},
     "inputWidgets": {},
     "nuid": "8b16484d-8161-438e-8698-13f92a8cd33e",
     "showTitle": false,
     "tableResultSettingsMap": {},
     "title": ""
    }
   },
   "outputs": [],
   "source": [
    "# Generate splits for CV\n",
    "# version, data_month_label = 'v4', '12m'\n",
    "version, data_month_label = 'v3_2', '60m'\n",
    "\n",
    "splits = split_folds_train_val(df=train_val_df, version=version, data_month_label=data_month_label)"
   ]
  },
  {
   "cell_type": "code",
   "execution_count": 0,
   "metadata": {
    "application/vnd.databricks.v1+cell": {
     "cellMetadata": {
      "byteLimit": 2048000,
      "rowLimit": 10000
     },
     "inputWidgets": {},
     "nuid": "bf920932-6739-4328-a49e-546d463e3c60",
     "showTitle": false,
     "tableResultSettingsMap": {},
     "title": ""
    }
   },
   "outputs": [
    {
     "output_type": "stream",
     "name": "stdout",
     "output_type": "stream",
     "text": [
      "Loading fold_1:\nLoading fold_2:\nLoading fold_3:\nLoading fold_4:\nLoading fold_5:\n"
     ]
    }
   ],
   "source": [
    "## if the split already exists, load the split from blob\n",
    "# version, data_month_label = 'v4', '12m'\n",
    "# version, data_month_label = 'v2', '60m'\n",
    "version, data_month_label = 'v3', '60m'\n",
    "\n",
    "# IN_12m_fold_1_train_v4/\n",
    "\n",
    "splits = []\n",
    "for fold in range(1,5+1):\n",
    "    print (f'Loading fold_{fold}:')\n",
    "    train_df_f = spark.read.parquet(f\"{team_blob_url}/IN_{data_month_label}_fold_{fold}_train_{version}\")\n",
    "    val_df_f = spark.read.parquet(f\"{team_blob_url}/IN_{data_month_label}_fold_{fold}_val_{version}\")\n",
    "    splits.append((train_df_f, val_df_f))\n"
   ]
  },
  {
   "cell_type": "markdown",
   "metadata": {
    "application/vnd.databricks.v1+cell": {
     "cellMetadata": {},
     "inputWidgets": {},
     "nuid": "3c4411e1-3c21-4776-aeca-10a78c2ff8ab",
     "showTitle": false,
     "tableResultSettingsMap": {},
     "title": ""
    }
   },
   "source": [
    "## Run Grid Search"
   ]
  },
  {
   "cell_type": "code",
   "execution_count": 0,
   "metadata": {
    "application/vnd.databricks.v1+cell": {
     "cellMetadata": {
      "byteLimit": 2048000,
      "rowLimit": 10000
     },
     "inputWidgets": {},
     "nuid": "245c92d3-e0eb-471e-9ca6-8418870db6f4",
     "showTitle": false,
     "tableResultSettingsMap": {},
     "title": ""
    }
   },
   "outputs": [],
   "source": [
    "# Assemble final features and create relevant columns for each CV split\n",
    "cols_to_be_assembled_mod = ['scaled_features'] + list({x for x in train_val_df.columns if '_Encoded' in x} - {'origin_type_Encoded', 'dest_type_Encoded'} - {'ORIGIN_Encoded', 'DEST_Encoded'})\\\n",
    "    + ['origin_code_vector', 'dest_code_vector']\n",
    "\n",
    "assembler = VectorAssembler(inputCols=cols_to_be_assembled_mod, outputCol='final_features_mod')\n",
    "\n",
    "assembled_CV_splits = [\n",
    "    (\n",
    "        assembler.transform(train_df).select(\"DEP_DELAY_GROUP_NEW\", \"final_features_mod\"),\n",
    "        assembler.transform(val_df).select(\"DEP_DELAY_GROUP_NEW\", \"final_features_mod\")\n",
    "    )\n",
    "    for train_df, val_df in splits\n",
    "]\n",
    "\n",
    "assembled_test_df = assembler.transform(test_df).select(\"DEP_DELAY_GROUP_NEW\", \"final_features_mod\")"
   ]
  },
  {
   "cell_type": "code",
   "execution_count": 0,
   "metadata": {
    "application/vnd.databricks.v1+cell": {
     "cellMetadata": {
      "byteLimit": 2048000,
      "rowLimit": 10000
     },
     "inputWidgets": {},
     "nuid": "1329ed90-8e76-4bab-b2e1-1b49ec4ec0d6",
     "showTitle": false,
     "tableResultSettingsMap": {},
     "title": ""
    }
   },
   "outputs": [],
   "source": [
    "# from 60m data output for reference:\n",
    "new_features = ['DEP_DELAY_COUNT_3600sec',\n",
    " 'DEP_DELAY_COUNT_7200sec',\n",
    " 'ARR_DELAY_COUNT_3600sec',\n",
    " 'ARR_DELAY_COUNT_7200sec',\n",
    " 'CANCELLED_DELAY_COUNT_3600sec',\n",
    " 'CANCELLED_DELAY_COUNT_7200sec',\n",
    " 'Lag_same_flight_DEP_DELAY_NEW',\n",
    " 'Avg_DEP_DELAY_NEW_other_flights',\n",
    " 'Avg_TAXI_OUT_other_flights',\n",
    " 'Last_DEP_DELAY_NEW_other_flights',\n",
    " 'Last_TAXI_OUT_other_flights',\n",
    " 'Monthly_avg_DEP_DELAY_NEW_hat',\n",
    " 'origin_code_vector',\n",
    " 'dest_code_vector',\n",
    " 'In_degree_same_origin_past_3hr',\n",
    " 'Out_degree_same_dest_past_3hr']\n",
    "\n",
    "\n",
    "scaled_cols = ['ARR_DELAY_COUNT_3600sec',\n",
    " 'ARR_DELAY_COUNT_7200sec',\n",
    " 'Avg_DEP_DELAY_NEW_other_flights',\n",
    " 'Avg_TAXI_OUT_other_flights',\n",
    " 'CANCELLED_DELAY_COUNT_3600sec',\n",
    " 'CANCELLED_DELAY_COUNT_7200sec',\n",
    " 'DEP_DELAY_COUNT_3600sec',\n",
    " 'DEP_DELAY_COUNT_7200sec',\n",
    " 'DISTANCE',\n",
    " 'ELEVATION',\n",
    " 'HourlyAltimeterSetting',\n",
    " 'HourlyDryBulbTemperature',\n",
    " 'HourlyPrecipitation',\n",
    " 'HourlyRelativeHumidity',\n",
    " 'HourlySeaLevelPressure',\n",
    " 'HourlyStationPressure',\n",
    " 'HourlyVisibility',\n",
    " 'HourlyWindDirection',\n",
    " 'HourlyWindSpeed',\n",
    " 'In_degree_same_origin_past_3hr',\n",
    " 'Lag_same_flight_DEP_DELAY_NEW',\n",
    " 'Last_DEP_DELAY_NEW_other_flights',\n",
    " 'Last_TAXI_OUT_other_flights',\n",
    " 'Monthly_avg_DEP_DELAY_NEW_hat',\n",
    " 'Out_degree_same_dest_past_3hr',\n",
    " 'dest_type_Encoded',\n",
    " 'origin_type_Encoded']\n",
    "\n",
    "\n",
    "cols_to_be_assembled_mod= ['scaled_features',\n",
    " 'DEP_TIME_BLK_Encoded',\n",
    " 'DAY_OF_WEEK_Encoded',\n",
    " 'MONTH_Encoded',\n",
    " 'QUARTER_Encoded',\n",
    " 'OP_UNIQUE_CARRIER_Encoded',\n",
    " 'YEAR_Encoded',\n",
    " 'ARR_TIME_BLK_Encoded',\n",
    " 'DAY_OF_MONTH_Encoded',\n",
    " 'origin_code_vector',\n",
    " 'dest_code_vector']\n",
    "\n",
    "all_mod_features =['ARR_DELAY_COUNT_3600sec',\n",
    " 'ARR_DELAY_COUNT_7200sec',\n",
    " 'Avg_DEP_DELAY_NEW_other_flights',\n",
    " 'Avg_TAXI_OUT_other_flights',\n",
    " 'CANCELLED_DELAY_COUNT_3600sec',\n",
    " 'CANCELLED_DELAY_COUNT_7200sec',\n",
    " 'DEP_DELAY_COUNT_3600sec',\n",
    " 'DEP_DELAY_COUNT_7200sec',\n",
    " 'DISTANCE',\n",
    " 'ELEVATION',\n",
    " 'HourlyAltimeterSetting',\n",
    " 'HourlyDryBulbTemperature',\n",
    " 'HourlyPrecipitation',\n",
    " 'HourlyRelativeHumidity',\n",
    " 'HourlySeaLevelPressure',\n",
    " 'HourlyStationPressure',\n",
    " 'HourlyVisibility',\n",
    " 'HourlyWindDirection',\n",
    " 'HourlyWindSpeed',\n",
    " 'In_degree_same_origin_past_3hr',\n",
    " 'Lag_same_flight_DEP_DELAY_NEW',\n",
    " 'Last_DEP_DELAY_NEW_other_flights',\n",
    " 'Last_TAXI_OUT_other_flights',\n",
    " 'Monthly_avg_DEP_DELAY_NEW_hat',\n",
    " 'Out_degree_same_dest_past_3hr',\n",
    " 'dest_type_Encoded',\n",
    " 'origin_type_Encoded',\n",
    " 'DEP_TIME_BLK_Encoded',\n",
    " 'DAY_OF_WEEK_Encoded',\n",
    " 'MONTH_Encoded',\n",
    " 'QUARTER_Encoded',\n",
    " 'OP_UNIQUE_CARRIER_Encoded',\n",
    " 'YEAR_Encoded',\n",
    " 'ARR_TIME_BLK_Encoded',\n",
    " 'DAY_OF_MONTH_Encoded',\n",
    " 'origin_code_vector',\n",
    " 'dest_code_vector']"
   ]
  },
  {
   "cell_type": "code",
   "execution_count": 0,
   "metadata": {
    "application/vnd.databricks.v1+cell": {
     "cellMetadata": {
      "byteLimit": 2048000,
      "rowLimit": 10000
     },
     "inputWidgets": {},
     "nuid": "f9d8fa41-14b6-4056-84de-4e3346708055",
     "showTitle": false,
     "tableResultSettingsMap": {},
     "title": ""
    }
   },
   "outputs": [
    {
     "output_type": "execute_result",
     "data": {
      "text/plain": [
       "['ARR_DELAY_COUNT_3600sec',\n",
       " 'ARR_DELAY_COUNT_7200sec',\n",
       " 'Avg_DEP_DELAY_NEW_other_flights',\n",
       " 'Avg_TAXI_OUT_other_flights',\n",
       " 'CANCELLED_DELAY_COUNT_3600sec',\n",
       " 'CANCELLED_DELAY_COUNT_7200sec',\n",
       " 'DEP_DELAY_COUNT_3600sec',\n",
       " 'DEP_DELAY_COUNT_7200sec',\n",
       " 'DISTANCE',\n",
       " 'ELEVATION',\n",
       " 'HourlyAltimeterSetting',\n",
       " 'HourlyDryBulbTemperature',\n",
       " 'HourlyPrecipitation',\n",
       " 'HourlyRelativeHumidity',\n",
       " 'HourlySeaLevelPressure',\n",
       " 'HourlyStationPressure',\n",
       " 'HourlyVisibility',\n",
       " 'HourlyWindDirection',\n",
       " 'HourlyWindSpeed',\n",
       " 'In_degree_same_origin_past_3hr',\n",
       " 'Lag_same_flight_DEP_DELAY_NEW',\n",
       " 'Last_DEP_DELAY_NEW_other_flights',\n",
       " 'Last_TAXI_OUT_other_flights',\n",
       " 'Monthly_avg_DEP_DELAY_NEW_hat',\n",
       " 'Out_degree_same_dest_past_3hr',\n",
       " 'dest_type_Encoded',\n",
       " 'origin_type_Encoded',\n",
       " 'DEP_TIME_BLK_Encoded',\n",
       " 'DAY_OF_WEEK_Encoded',\n",
       " 'MONTH_Encoded',\n",
       " 'QUARTER_Encoded',\n",
       " 'OP_UNIQUE_CARRIER_Encoded',\n",
       " 'YEAR_Encoded',\n",
       " 'ARR_TIME_BLK_Encoded',\n",
       " 'DAY_OF_MONTH_Encoded',\n",
       " 'origin_code_vector',\n",
       " 'dest_code_vector']"
      ]
     },
     "execution_count": 7,
     "metadata": {},
     "output_type": "execute_result"
    }
   ],
   "source": [
    "# Total mod features\n",
    "all_mod_features = (scaled_cols + cols_to_be_assembled_mod)\n",
    "all_mod_features.remove('scaled_features')\n",
    "all_mod_features"
   ]
  },
  {
   "cell_type": "code",
   "execution_count": 0,
   "metadata": {
    "application/vnd.databricks.v1+cell": {
     "cellMetadata": {
      "byteLimit": 2048000,
      "rowLimit": 10000
     },
     "inputWidgets": {},
     "nuid": "499570df-7179-41c3-911c-51c795c87e4a",
     "showTitle": false,
     "tableResultSettingsMap": {},
     "title": ""
    }
   },
   "outputs": [
    {
     "output_type": "stream",
     "name": "stderr",
     "output_type": "stream",
     "text": [
      "2024/12/12 23:20:16 WARNING mlflow.spark: With Pyspark >= 3.2, PYSPARK_PIN_THREAD environment variable must be set to false for Spark datasource autologging to work.\n"
     ]
    },
    {
     "output_type": "stream",
     "name": "stdout",
     "output_type": "stream",
     "text": [
      "Training Fold 1\n"
     ]
    },
    {
     "output_type": "display_data",
     "data": {
      "application/vnd.jupyter.widget-view+json": {
       "model_id": "c33557293acc42c7b0e53374f8db1de8",
       "version_major": 2,
       "version_minor": 0
      },
      "text/plain": [
       "Downloading artifacts:   0%|          | 0/15 [00:00<?, ?it/s]"
      ]
     },
     "metadata": {},
     "output_type": "display_data"
    },
    {
     "output_type": "display_data",
     "data": {
      "application/vnd.jupyter.widget-view+json": {
       "model_id": "efee7b2a97dc4424a5d03e4879b1029a",
       "version_major": 2,
       "version_minor": 0
      },
      "text/plain": [
       "Uploading artifacts:   0%|          | 0/4 [00:00<?, ?it/s]"
      ]
     },
     "metadata": {},
     "output_type": "display_data"
    },
    {
     "output_type": "stream",
     "name": "stdout",
     "output_type": "stream",
     "text": [
      "Fold 1 F-beta: 0.3177610707922298, Updated EMA: 0.03177610707922298\nTraining Fold 2\n"
     ]
    },
    {
     "output_type": "display_data",
     "data": {
      "application/vnd.jupyter.widget-view+json": {
       "model_id": "114ef8e34b574a96aa9df12f3b73990b",
       "version_major": 2,
       "version_minor": 0
      },
      "text/plain": [
       "Downloading artifacts:   0%|          | 0/15 [00:00<?, ?it/s]"
      ]
     },
     "metadata": {},
     "output_type": "display_data"
    },
    {
     "output_type": "display_data",
     "data": {
      "application/vnd.jupyter.widget-view+json": {
       "model_id": "3d69cba203e04617b21e230f873b3ca2",
       "version_major": 2,
       "version_minor": 0
      },
      "text/plain": [
       "Uploading artifacts:   0%|          | 0/4 [00:00<?, ?it/s]"
      ]
     },
     "metadata": {},
     "output_type": "display_data"
    },
    {
     "output_type": "stream",
     "name": "stdout",
     "output_type": "stream",
     "text": [
      "Fold 2 F-beta: 0.5201020278275513, Updated EMA: 0.10979141125335568\nTraining Fold 3\n"
     ]
    },
    {
     "output_type": "display_data",
     "data": {
      "application/vnd.jupyter.widget-view+json": {
       "model_id": "644801419e6f4d3783b18eca46772dca",
       "version_major": 2,
       "version_minor": 0
      },
      "text/plain": [
       "Downloading artifacts:   0%|          | 0/15 [00:00<?, ?it/s]"
      ]
     },
     "metadata": {},
     "output_type": "display_data"
    },
    {
     "output_type": "display_data",
     "data": {
      "application/vnd.jupyter.widget-view+json": {
       "model_id": "bc8d92fc6e1241329dc4134edede548f",
       "version_major": 2,
       "version_minor": 0
      },
      "text/plain": [
       "Uploading artifacts:   0%|          | 0/4 [00:00<?, ?it/s]"
      ]
     },
     "metadata": {},
     "output_type": "display_data"
    },
    {
     "output_type": "stream",
     "name": "stdout",
     "output_type": "stream",
     "text": [
      "Fold 3 F-beta: 0.4440771448668058, Updated EMA: 0.19860684022671682\nTraining Fold 4\n"
     ]
    },
    {
     "output_type": "display_data",
     "data": {
      "application/vnd.jupyter.widget-view+json": {
       "model_id": "335195ed57e64179b2bb68baeaebe067",
       "version_major": 2,
       "version_minor": 0
      },
      "text/plain": [
       "Downloading artifacts:   0%|          | 0/15 [00:00<?, ?it/s]"
      ]
     },
     "metadata": {},
     "output_type": "display_data"
    },
    {
     "output_type": "display_data",
     "data": {
      "application/vnd.jupyter.widget-view+json": {
       "model_id": "03b49b63c5844e1a962cf84a6901f030",
       "version_major": 2,
       "version_minor": 0
      },
      "text/plain": [
       "Uploading artifacts:   0%|          | 0/4 [00:00<?, ?it/s]"
      ]
     },
     "metadata": {},
     "output_type": "display_data"
    },
    {
     "output_type": "stream",
     "name": "stdout",
     "output_type": "stream",
     "text": [
      "Fold 4 F-beta: 0.2402454961262018, Updated EMA: 0.25866821425826725\nTraining Fold 5\n"
     ]
    },
    {
     "output_type": "display_data",
     "data": {
      "application/vnd.jupyter.widget-view+json": {
       "model_id": "30ffe33713364a8f81cf3bbf726f9d2d",
       "version_major": 2,
       "version_minor": 0
      },
      "text/plain": [
       "Downloading artifacts:   0%|          | 0/15 [00:00<?, ?it/s]"
      ]
     },
     "metadata": {},
     "output_type": "display_data"
    },
    {
     "output_type": "display_data",
     "data": {
      "application/vnd.jupyter.widget-view+json": {
       "model_id": "d63c2bdce4224bea9419185f49fd3557",
       "version_major": 2,
       "version_minor": 0
      },
      "text/plain": [
       "Uploading artifacts:   0%|          | 0/4 [00:00<?, ?it/s]"
      ]
     },
     "metadata": {},
     "output_type": "display_data"
    },
    {
     "output_type": "stream",
     "name": "stdout",
     "output_type": "stream",
     "text": [
      "Fold 5 F-beta: 0.5367921925545494, Updated EMA: 0.41970587202463205\n----------------------------------------------\n----------------------------------------------\nparams: {Param(parent='LogisticRegression_33bf74d2a821', name='regParam', doc='regularization parameter (>= 0).'): 0.0, Param(parent='LogisticRegression_33bf74d2a821', name='elasticNetParam', doc='the ElasticNet mixing parameter, in range [0, 1]. For alpha = 0, the penalty is an L2 penalty. For alpha = 1, it is an L1 penalty.'): 0.0}, ema_val_f_beta: 0.41970587202463205\n\n\nTraining Fold 1\n"
     ]
    },
    {
     "output_type": "display_data",
     "data": {
      "application/vnd.jupyter.widget-view+json": {
       "model_id": "a278e753739b4737aa38ad124e0d4a73",
       "version_major": 2,
       "version_minor": 0
      },
      "text/plain": [
       "Downloading artifacts:   0%|          | 0/15 [00:00<?, ?it/s]"
      ]
     },
     "metadata": {},
     "output_type": "display_data"
    },
    {
     "output_type": "display_data",
     "data": {
      "application/vnd.jupyter.widget-view+json": {
       "model_id": "0306310b8a274f5faba91453fe2b5c61",
       "version_major": 2,
       "version_minor": 0
      },
      "text/plain": [
       "Uploading artifacts:   0%|          | 0/4 [00:00<?, ?it/s]"
      ]
     },
     "metadata": {},
     "output_type": "display_data"
    },
    {
     "output_type": "stream",
     "name": "stdout",
     "output_type": "stream",
     "text": [
      "Fold 1 F-beta: 0.3177610707922298, Updated EMA: 0.03177610707922298\nTraining Fold 2\n"
     ]
    },
    {
     "output_type": "display_data",
     "data": {
      "application/vnd.jupyter.widget-view+json": {
       "model_id": "5f9646b3d34344079e8df1ec1ac53566",
       "version_major": 2,
       "version_minor": 0
      },
      "text/plain": [
       "Downloading artifacts:   0%|          | 0/15 [00:00<?, ?it/s]"
      ]
     },
     "metadata": {},
     "output_type": "display_data"
    },
    {
     "output_type": "display_data",
     "data": {
      "application/vnd.jupyter.widget-view+json": {
       "model_id": "2ee02dbe03ae40a1b3fadfbf1de86e83",
       "version_major": 2,
       "version_minor": 0
      },
      "text/plain": [
       "Uploading artifacts:   0%|          | 0/4 [00:00<?, ?it/s]"
      ]
     },
     "metadata": {},
     "output_type": "display_data"
    },
    {
     "output_type": "stream",
     "name": "stdout",
     "output_type": "stream",
     "text": [
      "Fold 2 F-beta: 0.5201129261247737, Updated EMA: 0.10979304599793901\nTraining Fold 3\n"
     ]
    },
    {
     "output_type": "display_data",
     "data": {
      "application/vnd.jupyter.widget-view+json": {
       "model_id": "5c883c7fbab5408581030b221a07c48a",
       "version_major": 2,
       "version_minor": 0
      },
      "text/plain": [
       "Downloading artifacts:   0%|          | 0/15 [00:00<?, ?it/s]"
      ]
     },
     "metadata": {},
     "output_type": "display_data"
    },
    {
     "output_type": "display_data",
     "data": {
      "application/vnd.jupyter.widget-view+json": {
       "model_id": "cd99203bc2d84e84b58abcf955e20a9d",
       "version_major": 2,
       "version_minor": 0
      },
      "text/plain": [
       "Uploading artifacts:   0%|          | 0/4 [00:00<?, ?it/s]"
      ]
     },
     "metadata": {},
     "output_type": "display_data"
    },
    {
     "output_type": "stream",
     "name": "stdout",
     "output_type": "stream",
     "text": [
      "Fold 3 F-beta: 0.4440771448668058, Updated EMA: 0.1986084749713002\nTraining Fold 4\n"
     ]
    },
    {
     "output_type": "display_data",
     "data": {
      "application/vnd.jupyter.widget-view+json": {
       "model_id": "b88e38cf2b4a47e0b093566a4a81c159",
       "version_major": 2,
       "version_minor": 0
      },
      "text/plain": [
       "Downloading artifacts:   0%|          | 0/15 [00:00<?, ?it/s]"
      ]
     },
     "metadata": {},
     "output_type": "display_data"
    },
    {
     "output_type": "display_data",
     "data": {
      "application/vnd.jupyter.widget-view+json": {
       "model_id": "1c8669dce0b740d885545fee4f246176",
       "version_major": 2,
       "version_minor": 0
      },
      "text/plain": [
       "Uploading artifacts:   0%|          | 0/4 [00:00<?, ?it/s]"
      ]
     },
     "metadata": {},
     "output_type": "display_data"
    },
    {
     "output_type": "stream",
     "name": "stdout",
     "output_type": "stream",
     "text": [
      "Fold 4 F-beta: 0.2402454961262018, Updated EMA: 0.2586698490028506\nTraining Fold 5\n"
     ]
    },
    {
     "output_type": "display_data",
     "data": {
      "application/vnd.jupyter.widget-view+json": {
       "model_id": "5976c472930d45a28cb37af7665a67bb",
       "version_major": 2,
       "version_minor": 0
      },
      "text/plain": [
       "Downloading artifacts:   0%|          | 0/15 [00:00<?, ?it/s]"
      ]
     },
     "metadata": {},
     "output_type": "display_data"
    },
    {
     "output_type": "display_data",
     "data": {
      "application/vnd.jupyter.widget-view+json": {
       "model_id": "ca8d51697ad84d6eb4bcecb8f6ded4c8",
       "version_major": 2,
       "version_minor": 0
      },
      "text/plain": [
       "Uploading artifacts:   0%|          | 0/4 [00:00<?, ?it/s]"
      ]
     },
     "metadata": {},
     "output_type": "display_data"
    },
    {
     "output_type": "stream",
     "name": "stdout",
     "output_type": "stream",
     "text": [
      "Fold 5 F-beta: 0.5367921925545494, Updated EMA: 0.4197075067692154\n----------------------------------------------\n----------------------------------------------\nparams: {Param(parent='LogisticRegression_33bf74d2a821', name='regParam', doc='regularization parameter (>= 0).'): 0.0, Param(parent='LogisticRegression_33bf74d2a821', name='elasticNetParam', doc='the ElasticNet mixing parameter, in range [0, 1]. For alpha = 0, the penalty is an L2 penalty. For alpha = 1, it is an L1 penalty.'): 0.5}, ema_val_f_beta: 0.4197075067692154\n\n\nTraining Fold 1\n"
     ]
    },
    {
     "output_type": "display_data",
     "data": {
      "application/vnd.jupyter.widget-view+json": {
       "model_id": "cda6b99b25854edcb22050c3256d3345",
       "version_major": 2,
       "version_minor": 0
      },
      "text/plain": [
       "Downloading artifacts:   0%|          | 0/15 [00:00<?, ?it/s]"
      ]
     },
     "metadata": {},
     "output_type": "display_data"
    },
    {
     "output_type": "display_data",
     "data": {
      "application/vnd.jupyter.widget-view+json": {
       "model_id": "054518b4923349b3b532538ad8e21c27",
       "version_major": 2,
       "version_minor": 0
      },
      "text/plain": [
       "Uploading artifacts:   0%|          | 0/4 [00:00<?, ?it/s]"
      ]
     },
     "metadata": {},
     "output_type": "display_data"
    },
    {
     "output_type": "stream",
     "name": "stdout",
     "output_type": "stream",
     "text": [
      "Fold 1 F-beta: 0.3177610707922298, Updated EMA: 0.03177610707922298\nTraining Fold 2\n"
     ]
    },
    {
     "output_type": "display_data",
     "data": {
      "application/vnd.jupyter.widget-view+json": {
       "model_id": "ac4029a30fc34d7195db1614af28dab3",
       "version_major": 2,
       "version_minor": 0
      },
      "text/plain": [
       "Downloading artifacts:   0%|          | 0/15 [00:00<?, ?it/s]"
      ]
     },
     "metadata": {},
     "output_type": "display_data"
    },
    {
     "output_type": "display_data",
     "data": {
      "application/vnd.jupyter.widget-view+json": {
       "model_id": "2a88b6aeba2b4809b5dfd8c57c17643d",
       "version_major": 2,
       "version_minor": 0
      },
      "text/plain": [
       "Uploading artifacts:   0%|          | 0/4 [00:00<?, ?it/s]"
      ]
     },
     "metadata": {},
     "output_type": "display_data"
    },
    {
     "output_type": "stream",
     "name": "stdout",
     "output_type": "stream",
     "text": [
      "Fold 2 F-beta: 0.5201059435783537, Updated EMA: 0.10979199861597602\nTraining Fold 3\n"
     ]
    },
    {
     "output_type": "display_data",
     "data": {
      "application/vnd.jupyter.widget-view+json": {
       "model_id": "d7c39b3a821447818f21475f40559548",
       "version_major": 2,
       "version_minor": 0
      },
      "text/plain": [
       "Downloading artifacts:   0%|          | 0/15 [00:00<?, ?it/s]"
      ]
     },
     "metadata": {},
     "output_type": "display_data"
    },
    {
     "output_type": "display_data",
     "data": {
      "application/vnd.jupyter.widget-view+json": {
       "model_id": "477ee656361b4b43b72d7fccb0764fdd",
       "version_major": 2,
       "version_minor": 0
      },
      "text/plain": [
       "Uploading artifacts:   0%|          | 0/4 [00:00<?, ?it/s]"
      ]
     },
     "metadata": {},
     "output_type": "display_data"
    },
    {
     "output_type": "stream",
     "name": "stdout",
     "output_type": "stream",
     "text": [
      "Fold 3 F-beta: 0.4440771448668058, Updated EMA: 0.1986074275893372\nTraining Fold 4\n"
     ]
    },
    {
     "output_type": "display_data",
     "data": {
      "application/vnd.jupyter.widget-view+json": {
       "model_id": "578dc6cd0fcb4e41a5d2812213c3c8ce",
       "version_major": 2,
       "version_minor": 0
      },
      "text/plain": [
       "Downloading artifacts:   0%|          | 0/15 [00:00<?, ?it/s]"
      ]
     },
     "metadata": {},
     "output_type": "display_data"
    },
    {
     "output_type": "display_data",
     "data": {
      "application/vnd.jupyter.widget-view+json": {
       "model_id": "4840bf46d75c4a5c86d532a3b7b0709e",
       "version_major": 2,
       "version_minor": 0
      },
      "text/plain": [
       "Uploading artifacts:   0%|          | 0/4 [00:00<?, ?it/s]"
      ]
     },
     "metadata": {},
     "output_type": "display_data"
    },
    {
     "output_type": "stream",
     "name": "stdout",
     "output_type": "stream",
     "text": [
      "Fold 4 F-beta: 0.2402454961262018, Updated EMA: 0.2586688016208876\nTraining Fold 5\n"
     ]
    },
    {
     "output_type": "display_data",
     "data": {
      "application/vnd.jupyter.widget-view+json": {
       "model_id": "f0d972ccf7244e86ba4fce7e3b333d37",
       "version_major": 2,
       "version_minor": 0
      },
      "text/plain": [
       "Downloading artifacts:   0%|          | 0/15 [00:00<?, ?it/s]"
      ]
     },
     "metadata": {},
     "output_type": "display_data"
    },
    {
     "output_type": "display_data",
     "data": {
      "application/vnd.jupyter.widget-view+json": {
       "model_id": "ff3cb29c0e444790a8586c23eb409363",
       "version_major": 2,
       "version_minor": 0
      },
      "text/plain": [
       "Uploading artifacts:   0%|          | 0/4 [00:00<?, ?it/s]"
      ]
     },
     "metadata": {},
     "output_type": "display_data"
    },
    {
     "output_type": "stream",
     "name": "stdout",
     "output_type": "stream",
     "text": [
      "Fold 5 F-beta: 0.5367921925545494, Updated EMA: 0.41970645938725243\n----------------------------------------------\n----------------------------------------------\nparams: {Param(parent='LogisticRegression_33bf74d2a821', name='regParam', doc='regularization parameter (>= 0).'): 0.0, Param(parent='LogisticRegression_33bf74d2a821', name='elasticNetParam', doc='the ElasticNet mixing parameter, in range [0, 1]. For alpha = 0, the penalty is an L2 penalty. For alpha = 1, it is an L1 penalty.'): 1.0}, ema_val_f_beta: 0.41970645938725243\n\n\nTraining Fold 1\n"
     ]
    },
    {
     "output_type": "display_data",
     "data": {
      "application/vnd.jupyter.widget-view+json": {
       "model_id": "fbd22eb4cd5846649d7987382274d0c8",
       "version_major": 2,
       "version_minor": 0
      },
      "text/plain": [
       "Downloading artifacts:   0%|          | 0/15 [00:00<?, ?it/s]"
      ]
     },
     "metadata": {},
     "output_type": "display_data"
    },
    {
     "output_type": "display_data",
     "data": {
      "application/vnd.jupyter.widget-view+json": {
       "model_id": "9175faaea2cd4ef0a935b85fa4a51da5",
       "version_major": 2,
       "version_minor": 0
      },
      "text/plain": [
       "Uploading artifacts:   0%|          | 0/4 [00:00<?, ?it/s]"
      ]
     },
     "metadata": {},
     "output_type": "display_data"
    },
    {
     "output_type": "stream",
     "name": "stdout",
     "output_type": "stream",
     "text": [
      "Fold 1 F-beta: 0.3168593064966122, Updated EMA: 0.03168593064966122\nTraining Fold 2\n"
     ]
    },
    {
     "output_type": "display_data",
     "data": {
      "application/vnd.jupyter.widget-view+json": {
       "model_id": "a058fd2c730543db92c1acc085ef1387",
       "version_major": 2,
       "version_minor": 0
      },
      "text/plain": [
       "Downloading artifacts:   0%|          | 0/15 [00:00<?, ?it/s]"
      ]
     },
     "metadata": {},
     "output_type": "display_data"
    },
    {
     "output_type": "display_data",
     "data": {
      "application/vnd.jupyter.widget-view+json": {
       "model_id": "d5fa1a84d1c44372b091eca6b2db8db8",
       "version_major": 2,
       "version_minor": 0
      },
      "text/plain": [
       "Uploading artifacts:   0%|          | 0/4 [00:00<?, ?it/s]"
      ]
     },
     "metadata": {},
     "output_type": "display_data"
    },
    {
     "output_type": "stream",
     "name": "stdout",
     "output_type": "stream",
     "text": [
      "Fold 2 F-beta: 0.5164843799879185, Updated EMA: 0.109158587647849\nTraining Fold 3\n"
     ]
    },
    {
     "output_type": "display_data",
     "data": {
      "application/vnd.jupyter.widget-view+json": {
       "model_id": "e35c8ce502d14ac2900bff28b12afeb0",
       "version_major": 2,
       "version_minor": 0
      },
      "text/plain": [
       "Downloading artifacts:   0%|          | 0/15 [00:00<?, ?it/s]"
      ]
     },
     "metadata": {},
     "output_type": "display_data"
    },
    {
     "output_type": "display_data",
     "data": {
      "application/vnd.jupyter.widget-view+json": {
       "model_id": "8aeec70d53b140518c5c32c5aaaf4bb8",
       "version_major": 2,
       "version_minor": 0
      },
      "text/plain": [
       "Uploading artifacts:   0%|          | 0/4 [00:00<?, ?it/s]"
      ]
     },
     "metadata": {},
     "output_type": "display_data"
    },
    {
     "output_type": "stream",
     "name": "stdout",
     "output_type": "stream",
     "text": [
      "Fold 3 F-beta: 0.44253709051080353, Updated EMA: 0.1976660057500097\nTraining Fold 4\n"
     ]
    },
    {
     "output_type": "display_data",
     "data": {
      "application/vnd.jupyter.widget-view+json": {
       "model_id": "08bfcef6fe7b4842b7d05d1acf921a28",
       "version_major": 2,
       "version_minor": 0
      },
      "text/plain": [
       "Downloading artifacts:   0%|          | 0/15 [00:00<?, ?it/s]"
      ]
     },
     "metadata": {},
     "output_type": "display_data"
    },
    {
     "output_type": "display_data",
     "data": {
      "application/vnd.jupyter.widget-view+json": {
       "model_id": "2b49f9d7f4a3457886c3d22b993e3fe2",
       "version_major": 2,
       "version_minor": 0
      },
      "text/plain": [
       "Uploading artifacts:   0%|          | 0/4 [00:00<?, ?it/s]"
      ]
     },
     "metadata": {},
     "output_type": "display_data"
    },
    {
     "output_type": "stream",
     "name": "stdout",
     "output_type": "stream",
     "text": [
      "Fold 4 F-beta: 0.23302105375940854, Updated EMA: 0.25592126918986186\nTraining Fold 5\n"
     ]
    },
    {
     "output_type": "display_data",
     "data": {
      "application/vnd.jupyter.widget-view+json": {
       "model_id": "3ce87d791776446bbcb1e7a2eefde0fc",
       "version_major": 2,
       "version_minor": 0
      },
      "text/plain": [
       "Downloading artifacts:   0%|          | 0/15 [00:00<?, ?it/s]"
      ]
     },
     "metadata": {},
     "output_type": "display_data"
    },
    {
     "output_type": "display_data",
     "data": {
      "application/vnd.jupyter.widget-view+json": {
       "model_id": "a9b1ecbbe3ae43c4bc79a8a1f8419eff",
       "version_major": 2,
       "version_minor": 0
      },
      "text/plain": [
       "Uploading artifacts:   0%|          | 0/4 [00:00<?, ?it/s]"
      ]
     },
     "metadata": {},
     "output_type": "display_data"
    },
    {
     "output_type": "stream",
     "name": "stdout",
     "output_type": "stream",
     "text": [
      "Fold 5 F-beta: 0.5352147946910311, Updated EMA: 0.4164857075971712\n----------------------------------------------\n----------------------------------------------\nparams: {Param(parent='LogisticRegression_33bf74d2a821', name='regParam', doc='regularization parameter (>= 0).'): 0.01, Param(parent='LogisticRegression_33bf74d2a821', name='elasticNetParam', doc='the ElasticNet mixing parameter, in range [0, 1]. For alpha = 0, the penalty is an L2 penalty. For alpha = 1, it is an L1 penalty.'): 0.0}, ema_val_f_beta: 0.4164857075971712\n\n\nTraining Fold 1\n"
     ]
    },
    {
     "output_type": "display_data",
     "data": {
      "application/vnd.jupyter.widget-view+json": {
       "model_id": "b6612ec2e6654b7388ea8193b9a0387d",
       "version_major": 2,
       "version_minor": 0
      },
      "text/plain": [
       "Downloading artifacts:   0%|          | 0/15 [00:00<?, ?it/s]"
      ]
     },
     "metadata": {},
     "output_type": "display_data"
    },
    {
     "output_type": "display_data",
     "data": {
      "application/vnd.jupyter.widget-view+json": {
       "model_id": "86ed36f57d024c82ba13fc88282c4c16",
       "version_major": 2,
       "version_minor": 0
      },
      "text/plain": [
       "Uploading artifacts:   0%|          | 0/4 [00:00<?, ?it/s]"
      ]
     },
     "metadata": {},
     "output_type": "display_data"
    },
    {
     "output_type": "stream",
     "name": "stdout",
     "output_type": "stream",
     "text": [
      "Fold 1 F-beta: 0.33148981681126927, Updated EMA: 0.03314898168112693\nTraining Fold 2\n"
     ]
    },
    {
     "output_type": "display_data",
     "data": {
      "application/vnd.jupyter.widget-view+json": {
       "model_id": "b27ba3b18571439e9aa599f94c40e51e",
       "version_major": 2,
       "version_minor": 0
      },
      "text/plain": [
       "Downloading artifacts:   0%|          | 0/15 [00:00<?, ?it/s]"
      ]
     },
     "metadata": {},
     "output_type": "display_data"
    },
    {
     "output_type": "display_data",
     "data": {
      "application/vnd.jupyter.widget-view+json": {
       "model_id": "76cb7aae57204c58af4ed9eb95b8ab5b",
       "version_major": 2,
       "version_minor": 0
      },
      "text/plain": [
       "Uploading artifacts:   0%|          | 0/4 [00:00<?, ?it/s]"
      ]
     },
     "metadata": {},
     "output_type": "display_data"
    },
    {
     "output_type": "stream",
     "name": "stdout",
     "output_type": "stream",
     "text": [
      "Fold 2 F-beta: 0.5068081302889248, Updated EMA: 0.10917020122446565\nTraining Fold 3\n"
     ]
    },
    {
     "output_type": "display_data",
     "data": {
      "application/vnd.jupyter.widget-view+json": {
       "model_id": "4777dc63ba1945389872ba28fc00eb73",
       "version_major": 2,
       "version_minor": 0
      },
      "text/plain": [
       "Downloading artifacts:   0%|          | 0/15 [00:00<?, ?it/s]"
      ]
     },
     "metadata": {},
     "output_type": "display_data"
    },
    {
     "output_type": "display_data",
     "data": {
      "application/vnd.jupyter.widget-view+json": {
       "model_id": "330c699bb7c449d4b14d97e33d1f5c02",
       "version_major": 2,
       "version_minor": 0
      },
      "text/plain": [
       "Uploading artifacts:   0%|          | 0/4 [00:00<?, ?it/s]"
      ]
     },
     "metadata": {},
     "output_type": "display_data"
    },
    {
     "output_type": "stream",
     "name": "stdout",
     "output_type": "stream",
     "text": [
      "Fold 3 F-beta: 0.4274406114950014, Updated EMA: 0.19465832352346593\nTraining Fold 4\n"
     ]
    },
    {
     "output_type": "display_data",
     "data": {
      "application/vnd.jupyter.widget-view+json": {
       "model_id": "b8a830fd9e8a4dbd9b0192ef60beb881",
       "version_major": 2,
       "version_minor": 0
      },
      "text/plain": [
       "Downloading artifacts:   0%|          | 0/15 [00:00<?, ?it/s]"
      ]
     },
     "metadata": {},
     "output_type": "display_data"
    },
    {
     "output_type": "display_data",
     "data": {
      "application/vnd.jupyter.widget-view+json": {
       "model_id": "4686e25c79cc4a60b8085b3e87265d6c",
       "version_major": 2,
       "version_minor": 0
      },
      "text/plain": [
       "Uploading artifacts:   0%|          | 0/4 [00:00<?, ?it/s]"
      ]
     },
     "metadata": {},
     "output_type": "display_data"
    },
    {
     "output_type": "stream",
     "name": "stdout",
     "output_type": "stream",
     "text": [
      "Fold 4 F-beta: 0.2781250502161302, Updated EMA: 0.2641895860774985\nTraining Fold 5\n"
     ]
    },
    {
     "output_type": "display_data",
     "data": {
      "application/vnd.jupyter.widget-view+json": {
       "model_id": "53866f45b63643538596b4a707007087",
       "version_major": 2,
       "version_minor": 0
      },
      "text/plain": [
       "Downloading artifacts:   0%|          | 0/15 [00:00<?, ?it/s]"
      ]
     },
     "metadata": {},
     "output_type": "display_data"
    },
    {
     "output_type": "display_data",
     "data": {
      "application/vnd.jupyter.widget-view+json": {
       "model_id": "d79c07e0349e4e8d9555664984b1bb42",
       "version_major": 2,
       "version_minor": 0
      },
      "text/plain": [
       "Uploading artifacts:   0%|          | 0/4 [00:00<?, ?it/s]"
      ]
     },
     "metadata": {},
     "output_type": "display_data"
    },
    {
     "output_type": "stream",
     "name": "stdout",
     "output_type": "stream",
     "text": [
      "Fold 5 F-beta: 0.5083515059200846, Updated EMA: 0.41669503785352385\n----------------------------------------------\n----------------------------------------------\nparams: {Param(parent='LogisticRegression_33bf74d2a821', name='regParam', doc='regularization parameter (>= 0).'): 0.01, Param(parent='LogisticRegression_33bf74d2a821', name='elasticNetParam', doc='the ElasticNet mixing parameter, in range [0, 1]. For alpha = 0, the penalty is an L2 penalty. For alpha = 1, it is an L1 penalty.'): 0.5}, ema_val_f_beta: 0.41669503785352385\n\n\nTraining Fold 1\n"
     ]
    },
    {
     "output_type": "display_data",
     "data": {
      "application/vnd.jupyter.widget-view+json": {
       "model_id": "8a32b646ede5415cabbc9a0106773744",
       "version_major": 2,
       "version_minor": 0
      },
      "text/plain": [
       "Downloading artifacts:   0%|          | 0/15 [00:00<?, ?it/s]"
      ]
     },
     "metadata": {},
     "output_type": "display_data"
    },
    {
     "output_type": "display_data",
     "data": {
      "application/vnd.jupyter.widget-view+json": {
       "model_id": "8c66136134f143f1bf5a78e6c38e80e7",
       "version_major": 2,
       "version_minor": 0
      },
      "text/plain": [
       "Uploading artifacts:   0%|          | 0/4 [00:00<?, ?it/s]"
      ]
     },
     "metadata": {},
     "output_type": "display_data"
    },
    {
     "output_type": "stream",
     "name": "stdout",
     "output_type": "stream",
     "text": [
      "Fold 1 F-beta: 0.32763389706008944, Updated EMA: 0.03276338970600894\nTraining Fold 2\n"
     ]
    },
    {
     "output_type": "display_data",
     "data": {
      "application/vnd.jupyter.widget-view+json": {
       "model_id": "32fbb7854f864115ac7a3fc32020f4c1",
       "version_major": 2,
       "version_minor": 0
      },
      "text/plain": [
       "Downloading artifacts:   0%|          | 0/15 [00:00<?, ?it/s]"
      ]
     },
     "metadata": {},
     "output_type": "display_data"
    },
    {
     "output_type": "display_data",
     "data": {
      "application/vnd.jupyter.widget-view+json": {
       "model_id": "0713689ed8b747beba4c05eeee5cfa6c",
       "version_major": 2,
       "version_minor": 0
      },
      "text/plain": [
       "Uploading artifacts:   0%|          | 0/4 [00:00<?, ?it/s]"
      ]
     },
     "metadata": {},
     "output_type": "display_data"
    },
    {
     "output_type": "stream",
     "name": "stdout",
     "output_type": "stream",
     "text": [
      "Fold 2 F-beta: 0.49959382615759546, Updated EMA: 0.10770246362964825\nTraining Fold 3\n"
     ]
    },
    {
     "output_type": "display_data",
     "data": {
      "application/vnd.jupyter.widget-view+json": {
       "model_id": "d0c7766ae0284525b477bd3889d2e659",
       "version_major": 2,
       "version_minor": 0
      },
      "text/plain": [
       "Downloading artifacts:   0%|          | 0/15 [00:00<?, ?it/s]"
      ]
     },
     "metadata": {},
     "output_type": "display_data"
    },
    {
     "output_type": "display_data",
     "data": {
      "application/vnd.jupyter.widget-view+json": {
       "model_id": "a480e4c0d1434017ad963a8b7606d520",
       "version_major": 2,
       "version_minor": 0
      },
      "text/plain": [
       "Uploading artifacts:   0%|          | 0/4 [00:00<?, ?it/s]"
      ]
     },
     "metadata": {},
     "output_type": "display_data"
    },
    {
     "output_type": "stream",
     "name": "stdout",
     "output_type": "stream",
     "text": [
      "Fold 3 F-beta: 0.40618679583827344, Updated EMA: 0.18893982279730293\nTraining Fold 4\n"
     ]
    },
    {
     "output_type": "display_data",
     "data": {
      "application/vnd.jupyter.widget-view+json": {
       "model_id": "01c6aacd4c55498e9aa4f694717d5cd0",
       "version_major": 2,
       "version_minor": 0
      },
      "text/plain": [
       "Downloading artifacts:   0%|          | 0/15 [00:00<?, ?it/s]"
      ]
     },
     "metadata": {},
     "output_type": "display_data"
    },
    {
     "output_type": "display_data",
     "data": {
      "application/vnd.jupyter.widget-view+json": {
       "model_id": "a44d2a66712947e6ade127573d653891",
       "version_major": 2,
       "version_minor": 0
      },
      "text/plain": [
       "Uploading artifacts:   0%|          | 0/4 [00:00<?, ?it/s]"
      ]
     },
     "metadata": {},
     "output_type": "display_data"
    },
    {
     "output_type": "stream",
     "name": "stdout",
     "output_type": "stream",
     "text": [
      "Fold 4 F-beta: 0.2681210072012614, Updated EMA: 0.2559700745976183\nTraining Fold 5\n"
     ]
    },
    {
     "output_type": "display_data",
     "data": {
      "application/vnd.jupyter.widget-view+json": {
       "model_id": "70dc6c430b4740958b33847b192c43a9",
       "version_major": 2,
       "version_minor": 0
      },
      "text/plain": [
       "Downloading artifacts:   0%|          | 0/15 [00:00<?, ?it/s]"
      ]
     },
     "metadata": {},
     "output_type": "display_data"
    },
    {
     "output_type": "display_data",
     "data": {
      "application/vnd.jupyter.widget-view+json": {
       "model_id": "f2d73aad8ea84a6bb9046fa6055e3238",
       "version_major": 2,
       "version_minor": 0
      },
      "text/plain": [
       "Uploading artifacts:   0%|          | 0/4 [00:00<?, ?it/s]"
      ]
     },
     "metadata": {},
     "output_type": "display_data"
    },
    {
     "output_type": "stream",
     "name": "stdout",
     "output_type": "stream",
     "text": [
      "Fold 5 F-beta: 0.49005285813056176, Updated EMA: 0.4029859320367868\n----------------------------------------------\n----------------------------------------------\nparams: {Param(parent='LogisticRegression_33bf74d2a821', name='regParam', doc='regularization parameter (>= 0).'): 0.01, Param(parent='LogisticRegression_33bf74d2a821', name='elasticNetParam', doc='the ElasticNet mixing parameter, in range [0, 1]. For alpha = 0, the penalty is an L2 penalty. For alpha = 1, it is an L1 penalty.'): 1.0}, ema_val_f_beta: 0.4029859320367868\n\n\nTraining Fold 1\n"
     ]
    },
    {
     "output_type": "display_data",
     "data": {
      "application/vnd.jupyter.widget-view+json": {
       "model_id": "c20a438f59404649a9b0b440b53e89b8",
       "version_major": 2,
       "version_minor": 0
      },
      "text/plain": [
       "Downloading artifacts:   0%|          | 0/15 [00:00<?, ?it/s]"
      ]
     },
     "metadata": {},
     "output_type": "display_data"
    },
    {
     "output_type": "display_data",
     "data": {
      "application/vnd.jupyter.widget-view+json": {
       "model_id": "83333280265541f38abaa53dbc91754f",
       "version_major": 2,
       "version_minor": 0
      },
      "text/plain": [
       "Uploading artifacts:   0%|          | 0/4 [00:00<?, ?it/s]"
      ]
     },
     "metadata": {},
     "output_type": "display_data"
    },
    {
     "output_type": "stream",
     "name": "stdout",
     "output_type": "stream",
     "text": [
      "Fold 1 F-beta: 0.3143748363520451, Updated EMA: 0.03143748363520451\nTraining Fold 2\n"
     ]
    },
    {
     "output_type": "display_data",
     "data": {
      "application/vnd.jupyter.widget-view+json": {
       "model_id": "3325cdce4d5b44a6a4195c8159c86ebf",
       "version_major": 2,
       "version_minor": 0
      },
      "text/plain": [
       "Downloading artifacts:   0%|          | 0/15 [00:00<?, ?it/s]"
      ]
     },
     "metadata": {},
     "output_type": "display_data"
    },
    {
     "output_type": "display_data",
     "data": {
      "application/vnd.jupyter.widget-view+json": {
       "model_id": "5da973f063bf4bb6a02933db9330e0e1",
       "version_major": 2,
       "version_minor": 0
      },
      "text/plain": [
       "Uploading artifacts:   0%|          | 0/4 [00:00<?, ?it/s]"
      ]
     },
     "metadata": {},
     "output_type": "display_data"
    },
    {
     "output_type": "stream",
     "name": "stdout",
     "output_type": "stream",
     "text": [
      "Fold 2 F-beta: 0.5058608841468427, Updated EMA: 0.1073166162572309\nTraining Fold 3\n"
     ]
    },
    {
     "output_type": "display_data",
     "data": {
      "application/vnd.jupyter.widget-view+json": {
       "model_id": "db49f7f5e05a4625bcb30435e9bf20e6",
       "version_major": 2,
       "version_minor": 0
      },
      "text/plain": [
       "Downloading artifacts:   0%|          | 0/15 [00:00<?, ?it/s]"
      ]
     },
     "metadata": {},
     "output_type": "display_data"
    },
    {
     "output_type": "display_data",
     "data": {
      "application/vnd.jupyter.widget-view+json": {
       "model_id": "945a9bcef7e34253a943281fad9a06ae",
       "version_major": 2,
       "version_minor": 0
      },
      "text/plain": [
       "Uploading artifacts:   0%|          | 0/4 [00:00<?, ?it/s]"
      ]
     },
     "metadata": {},
     "output_type": "display_data"
    },
    {
     "output_type": "stream",
     "name": "stdout",
     "output_type": "stream",
     "text": [
      "Fold 3 F-beta: 0.435526448283147, Updated EMA: 0.19442190591386033\nTraining Fold 4\n"
     ]
    },
    {
     "output_type": "display_data",
     "data": {
      "application/vnd.jupyter.widget-view+json": {
       "model_id": "05fa87bb1bd64ed6b8e7b4b91abcbb9c",
       "version_major": 2,
       "version_minor": 0
      },
      "text/plain": [
       "Downloading artifacts:   0%|          | 0/15 [00:00<?, ?it/s]"
      ]
     },
     "metadata": {},
     "output_type": "display_data"
    },
    {
     "output_type": "display_data",
     "data": {
      "application/vnd.jupyter.widget-view+json": {
       "model_id": "7d295d5fcc5447cfaf63101d52d2ffa4",
       "version_major": 2,
       "version_minor": 0
      },
      "text/plain": [
       "Uploading artifacts:   0%|          | 0/4 [00:00<?, ?it/s]"
      ]
     },
     "metadata": {},
     "output_type": "display_data"
    },
    {
     "output_type": "stream",
     "name": "stdout",
     "output_type": "stream",
     "text": [
      "Fold 4 F-beta: 0.2041470605198074, Updated EMA: 0.2454586710438122\nTraining Fold 5\n"
     ]
    },
    {
     "output_type": "display_data",
     "data": {
      "application/vnd.jupyter.widget-view+json": {
       "model_id": "f950cbc06e1a4be08fb384487c3b6d60",
       "version_major": 2,
       "version_minor": 0
      },
      "text/plain": [
       "Downloading artifacts:   0%|          | 0/15 [00:00<?, ?it/s]"
      ]
     },
     "metadata": {},
     "output_type": "display_data"
    },
    {
     "output_type": "display_data",
     "data": {
      "application/vnd.jupyter.widget-view+json": {
       "model_id": "c712b22cfa654fb8be02c82c0fb78c95",
       "version_major": 2,
       "version_minor": 0
      },
      "text/plain": [
       "Uploading artifacts:   0%|          | 0/4 [00:00<?, ?it/s]"
      ]
     },
     "metadata": {},
     "output_type": "display_data"
    },
    {
     "output_type": "stream",
     "name": "stdout",
     "output_type": "stream",
     "text": [
      "Fold 5 F-beta: 0.5270344488577229, Updated EMA: 0.4035690057011291\n----------------------------------------------\n----------------------------------------------\nparams: {Param(parent='LogisticRegression_33bf74d2a821', name='regParam', doc='regularization parameter (>= 0).'): 0.1, Param(parent='LogisticRegression_33bf74d2a821', name='elasticNetParam', doc='the ElasticNet mixing parameter, in range [0, 1]. For alpha = 0, the penalty is an L2 penalty. For alpha = 1, it is an L1 penalty.'): 0.0}, ema_val_f_beta: 0.4035690057011291\n\n\nTraining Fold 1\n"
     ]
    },
    {
     "output_type": "display_data",
     "data": {
      "application/vnd.jupyter.widget-view+json": {
       "model_id": "ba3db9cbf6c840c19f0b88f21345c1e2",
       "version_major": 2,
       "version_minor": 0
      },
      "text/plain": [
       "Downloading artifacts:   0%|          | 0/15 [00:00<?, ?it/s]"
      ]
     },
     "metadata": {},
     "output_type": "display_data"
    },
    {
     "output_type": "display_data",
     "data": {
      "application/vnd.jupyter.widget-view+json": {
       "model_id": "1e4f7444d56c4ede80a8540a7abe45d9",
       "version_major": 2,
       "version_minor": 0
      },
      "text/plain": [
       "Uploading artifacts:   0%|          | 0/4 [00:00<?, ?it/s]"
      ]
     },
     "metadata": {},
     "output_type": "display_data"
    },
    {
     "output_type": "stream",
     "name": "stdout",
     "output_type": "stream",
     "text": [
      "Fold 1 F-beta: 0.27645841120151804, Updated EMA: 0.027645841120151806\nTraining Fold 2\n"
     ]
    },
    {
     "output_type": "display_data",
     "data": {
      "application/vnd.jupyter.widget-view+json": {
       "model_id": "1385e8ff575745d6aa252981ad26c138",
       "version_major": 2,
       "version_minor": 0
      },
      "text/plain": [
       "Downloading artifacts:   0%|          | 0/15 [00:00<?, ?it/s]"
      ]
     },
     "metadata": {},
     "output_type": "display_data"
    },
    {
     "output_type": "display_data",
     "data": {
      "application/vnd.jupyter.widget-view+json": {
       "model_id": "6ecbac6440404ec390842a0d09901149",
       "version_major": 2,
       "version_minor": 0
      },
      "text/plain": [
       "Uploading artifacts:   0%|          | 0/4 [00:00<?, ?it/s]"
      ]
     },
     "metadata": {},
     "output_type": "display_data"
    },
    {
     "output_type": "stream",
     "name": "stdout",
     "output_type": "stream",
     "text": [
      "Fold 2 F-beta: 0.4940201597820979, Updated EMA: 0.10174886508746649\nTraining Fold 3\n"
     ]
    },
    {
     "output_type": "display_data",
     "data": {
      "application/vnd.jupyter.widget-view+json": {
       "model_id": "d994464443ea42edb7cb26055ebe0366",
       "version_major": 2,
       "version_minor": 0
      },
      "text/plain": [
       "Downloading artifacts:   0%|          | 0/15 [00:00<?, ?it/s]"
      ]
     },
     "metadata": {},
     "output_type": "display_data"
    },
    {
     "output_type": "display_data",
     "data": {
      "application/vnd.jupyter.widget-view+json": {
       "model_id": "0533aa3369cc40d9bdea66ffaaf717a8",
       "version_major": 2,
       "version_minor": 0
      },
      "text/plain": [
       "Uploading artifacts:   0%|          | 0/4 [00:00<?, ?it/s]"
      ]
     },
     "metadata": {},
     "output_type": "display_data"
    },
    {
     "output_type": "stream",
     "name": "stdout",
     "output_type": "stream",
     "text": [
      "Fold 3 F-beta: 0.38855702800088726, Updated EMA: 0.17946027068764395\nTraining Fold 4\n"
     ]
    },
    {
     "output_type": "display_data",
     "data": {
      "application/vnd.jupyter.widget-view+json": {
       "model_id": "4341c0d341bb4eb186694ebc29e586da",
       "version_major": 2,
       "version_minor": 0
      },
      "text/plain": [
       "Downloading artifacts:   0%|          | 0/15 [00:00<?, ?it/s]"
      ]
     },
     "metadata": {},
     "output_type": "display_data"
    },
    {
     "output_type": "display_data",
     "data": {
      "application/vnd.jupyter.widget-view+json": {
       "model_id": "d007df637205416dbcec94c03945022c",
       "version_major": 2,
       "version_minor": 0
      },
      "text/plain": [
       "Uploading artifacts:   0%|          | 0/4 [00:00<?, ?it/s]"
      ]
     },
     "metadata": {},
     "output_type": "display_data"
    },
    {
     "output_type": "stream",
     "name": "stdout",
     "output_type": "stream",
     "text": [
      "Fold 4 F-beta: 0.23768190654832516, Updated EMA: 0.23888074732472525\nTraining Fold 5\n"
     ]
    },
    {
     "output_type": "display_data",
     "data": {
      "application/vnd.jupyter.widget-view+json": {
       "model_id": "3629fb6104af4507988dec61f81f6f1d",
       "version_major": 2,
       "version_minor": 0
      },
      "text/plain": [
       "Downloading artifacts:   0%|          | 0/15 [00:00<?, ?it/s]"
      ]
     },
     "metadata": {},
     "output_type": "display_data"
    },
    {
     "output_type": "display_data",
     "data": {
      "application/vnd.jupyter.widget-view+json": {
       "model_id": "fbb709eca0b1442386bfecd7c7505694",
       "version_major": 2,
       "version_minor": 0
      },
      "text/plain": [
       "Uploading artifacts:   0%|          | 0/4 [00:00<?, ?it/s]"
      ]
     },
     "metadata": {},
     "output_type": "display_data"
    },
    {
     "output_type": "stream",
     "name": "stdout",
     "output_type": "stream",
     "text": [
      "Fold 5 F-beta: 0.42533240785552356, Updated EMA: 0.3664804696813823\n----------------------------------------------\n----------------------------------------------\nparams: {Param(parent='LogisticRegression_33bf74d2a821', name='regParam', doc='regularization parameter (>= 0).'): 0.1, Param(parent='LogisticRegression_33bf74d2a821', name='elasticNetParam', doc='the ElasticNet mixing parameter, in range [0, 1]. For alpha = 0, the penalty is an L2 penalty. For alpha = 1, it is an L1 penalty.'): 0.5}, ema_val_f_beta: 0.3664804696813823\n\n\nTraining Fold 1\n"
     ]
    },
    {
     "output_type": "display_data",
     "data": {
      "application/vnd.jupyter.widget-view+json": {
       "model_id": "a9d7496916b446acb80dabcea67e2317",
       "version_major": 2,
       "version_minor": 0
      },
      "text/plain": [
       "Downloading artifacts:   0%|          | 0/15 [00:00<?, ?it/s]"
      ]
     },
     "metadata": {},
     "output_type": "display_data"
    },
    {
     "output_type": "display_data",
     "data": {
      "application/vnd.jupyter.widget-view+json": {
       "model_id": "d65cfb6923114509aacfaa585435bd52",
       "version_major": 2,
       "version_minor": 0
      },
      "text/plain": [
       "Uploading artifacts:   0%|          | 0/4 [00:00<?, ?it/s]"
      ]
     },
     "metadata": {},
     "output_type": "display_data"
    },
    {
     "output_type": "stream",
     "name": "stdout",
     "output_type": "stream",
     "text": [
      "Fold 1 F-beta: 0.0, Updated EMA: 0.0\nTraining Fold 2\n"
     ]
    },
    {
     "output_type": "display_data",
     "data": {
      "application/vnd.jupyter.widget-view+json": {
       "model_id": "4f5ebf8a2bdf4eddbbd3fc3eadfee0da",
       "version_major": 2,
       "version_minor": 0
      },
      "text/plain": [
       "Downloading artifacts:   0%|          | 0/15 [00:00<?, ?it/s]"
      ]
     },
     "metadata": {},
     "output_type": "display_data"
    },
    {
     "output_type": "display_data",
     "data": {
      "application/vnd.jupyter.widget-view+json": {
       "model_id": "abaa5f15f90546e2b7bf58d262414467",
       "version_major": 2,
       "version_minor": 0
      },
      "text/plain": [
       "Uploading artifacts:   0%|          | 0/4 [00:00<?, ?it/s]"
      ]
     },
     "metadata": {},
     "output_type": "display_data"
    },
    {
     "output_type": "stream",
     "name": "stdout",
     "output_type": "stream",
     "text": [
      "Fold 2 F-beta: 0.554029542109305, Updated EMA: 0.08310443131639575\nTraining Fold 3\n"
     ]
    },
    {
     "output_type": "display_data",
     "data": {
      "application/vnd.jupyter.widget-view+json": {
       "model_id": "046292981da6409a89b9102d8cc41ea0",
       "version_major": 2,
       "version_minor": 0
      },
      "text/plain": [
       "Downloading artifacts:   0%|          | 0/15 [00:00<?, ?it/s]"
      ]
     },
     "metadata": {},
     "output_type": "display_data"
    },
    {
     "output_type": "display_data",
     "data": {
      "application/vnd.jupyter.widget-view+json": {
       "model_id": "178ca4e0a987473a87ec8e9f1a75b976",
       "version_major": 2,
       "version_minor": 0
      },
      "text/plain": [
       "Uploading artifacts:   0%|          | 0/4 [00:00<?, ?it/s]"
      ]
     },
     "metadata": {},
     "output_type": "display_data"
    },
    {
     "output_type": "stream",
     "name": "stdout",
     "output_type": "stream",
     "text": [
      "Fold 3 F-beta: 0.0, Updated EMA: 0.08310443131639575\nTraining Fold 4\n"
     ]
    },
    {
     "output_type": "display_data",
     "data": {
      "application/vnd.jupyter.widget-view+json": {
       "model_id": "fe255b8761ab4af4b074fb4fb724580e",
       "version_major": 2,
       "version_minor": 0
      },
      "text/plain": [
       "Downloading artifacts:   0%|          | 0/15 [00:00<?, ?it/s]"
      ]
     },
     "metadata": {},
     "output_type": "display_data"
    },
    {
     "output_type": "display_data",
     "data": {
      "application/vnd.jupyter.widget-view+json": {
       "model_id": "19459dbf80904251b56a1c9d0197fae1",
       "version_major": 2,
       "version_minor": 0
      },
      "text/plain": [
       "Uploading artifacts:   0%|          | 0/4 [00:00<?, ?it/s]"
      ]
     },
     "metadata": {},
     "output_type": "display_data"
    },
    {
     "output_type": "stream",
     "name": "stdout",
     "output_type": "stream",
     "text": [
      "Fold 4 F-beta: 0.0, Updated EMA: 0.08310443131639575\nTraining Fold 5\n"
     ]
    },
    {
     "output_type": "display_data",
     "data": {
      "application/vnd.jupyter.widget-view+json": {
       "model_id": "3c3e5c5ace044ab5ae4bf3e312216596",
       "version_major": 2,
       "version_minor": 0
      },
      "text/plain": [
       "Downloading artifacts:   0%|          | 0/15 [00:00<?, ?it/s]"
      ]
     },
     "metadata": {},
     "output_type": "display_data"
    },
    {
     "output_type": "display_data",
     "data": {
      "application/vnd.jupyter.widget-view+json": {
       "model_id": "f6953152728e4d6e8143156dcc8a4e6c",
       "version_major": 2,
       "version_minor": 0
      },
      "text/plain": [
       "Uploading artifacts:   0%|          | 0/4 [00:00<?, ?it/s]"
      ]
     },
     "metadata": {},
     "output_type": "display_data"
    },
    {
     "output_type": "stream",
     "name": "stdout",
     "output_type": "stream",
     "text": [
      "Fold 5 F-beta: 0.0, Updated EMA: 0.08310443131639575\n----------------------------------------------\n----------------------------------------------\nparams: {Param(parent='LogisticRegression_33bf74d2a821', name='regParam', doc='regularization parameter (>= 0).'): 0.1, Param(parent='LogisticRegression_33bf74d2a821', name='elasticNetParam', doc='the ElasticNet mixing parameter, in range [0, 1]. For alpha = 0, the penalty is an L2 penalty. For alpha = 1, it is an L1 penalty.'): 1.0}, ema_val_f_beta: 0.08310443131639575\n\n\n"
     ]
    }
   ],
   "source": [
    "mlflow.spark.autolog()\n",
    "\n",
    "pipeline_mod, param_grid, evaluator = get_pipeline_lr()\n",
    "\n",
    "best_params_and_metrics_dic, param_list, f_beta_list = train_pipeline(assembled_CV_splits, pipeline_mod, param_grid, evaluator)\n",
    "\n",
    "best_params = best_params_and_metrics_dic['best_params']\n",
    "best_metrics = best_params_and_metrics_dic['best_val_f_beta']\n",
    "\n",
    "cv_results = pd.DataFrame(columns=[param.name for param in best_params.keys()]+['f_beta'], index=range(len(param_list)))\n",
    "for i in range(len(param_list)):\n",
    "    # print(param_list[i], f_beta_list[i])\n",
    "    cv_results.iloc[i,:] = np.array(list(param_list[i].values())+[f_beta_list[i]])"
   ]
  },
  {
   "cell_type": "code",
   "execution_count": 0,
   "metadata": {
    "application/vnd.databricks.v1+cell": {
     "cellMetadata": {
      "byteLimit": 2048000,
      "rowLimit": 10000
     },
     "inputWidgets": {},
     "nuid": "8ec8ac06-98cb-4a4f-8a8c-efdfd77d6971",
     "showTitle": false,
     "tableResultSettingsMap": {},
     "title": ""
    }
   },
   "outputs": [],
   "source": [
    "cv_results = pd.DataFrame(columns=[param.name for param in best_params.keys()]+['f_beta'], index=range(len(param_list)))\n",
    "for i in range(len(param_list)):\n",
    "    # print(param_list[i], f_beta_list[i])\n",
    "    cv_results.iloc[i,:] = np.array(list(param_list[i].values())+[f_beta_list[i]])"
   ]
  },
  {
   "cell_type": "code",
   "execution_count": 0,
   "metadata": {
    "application/vnd.databricks.v1+cell": {
     "cellMetadata": {
      "byteLimit": 2048000,
      "rowLimit": 10000
     },
     "inputWidgets": {},
     "nuid": "bf9d071d-fe11-4616-b56c-dd550dcb5894",
     "showTitle": false,
     "tableResultSettingsMap": {},
     "title": ""
    }
   },
   "outputs": [
    {
     "output_type": "execute_result",
     "data": {
      "text/html": [
       "<div>\n",
       "<style scoped>\n",
       "    .dataframe tbody tr th:only-of-type {\n",
       "        vertical-align: middle;\n",
       "    }\n",
       "\n",
       "    .dataframe tbody tr th {\n",
       "        vertical-align: top;\n",
       "    }\n",
       "\n",
       "    .dataframe thead th {\n",
       "        text-align: right;\n",
       "    }\n",
       "</style>\n",
       "<table border=\"1\" class=\"dataframe\">\n",
       "  <thead>\n",
       "    <tr style=\"text-align: right;\">\n",
       "      <th></th>\n",
       "      <th>regParam</th>\n",
       "      <th>elasticNetParam</th>\n",
       "      <th>f_beta</th>\n",
       "    </tr>\n",
       "  </thead>\n",
       "  <tbody>\n",
       "    <tr>\n",
       "      <th>0</th>\n",
       "      <td>0.0</td>\n",
       "      <td>0.0</td>\n",
       "      <td>0.419706</td>\n",
       "    </tr>\n",
       "    <tr>\n",
       "      <th>1</th>\n",
       "      <td>0.0</td>\n",
       "      <td>0.5</td>\n",
       "      <td>0.419708</td>\n",
       "    </tr>\n",
       "    <tr>\n",
       "      <th>2</th>\n",
       "      <td>0.0</td>\n",
       "      <td>1.0</td>\n",
       "      <td>0.419706</td>\n",
       "    </tr>\n",
       "    <tr>\n",
       "      <th>3</th>\n",
       "      <td>0.01</td>\n",
       "      <td>0.0</td>\n",
       "      <td>0.416486</td>\n",
       "    </tr>\n",
       "    <tr>\n",
       "      <th>4</th>\n",
       "      <td>0.01</td>\n",
       "      <td>0.5</td>\n",
       "      <td>0.416695</td>\n",
       "    </tr>\n",
       "    <tr>\n",
       "      <th>5</th>\n",
       "      <td>0.01</td>\n",
       "      <td>1.0</td>\n",
       "      <td>0.402986</td>\n",
       "    </tr>\n",
       "    <tr>\n",
       "      <th>6</th>\n",
       "      <td>0.1</td>\n",
       "      <td>0.0</td>\n",
       "      <td>0.403569</td>\n",
       "    </tr>\n",
       "    <tr>\n",
       "      <th>7</th>\n",
       "      <td>0.1</td>\n",
       "      <td>0.5</td>\n",
       "      <td>0.36648</td>\n",
       "    </tr>\n",
       "    <tr>\n",
       "      <th>8</th>\n",
       "      <td>0.1</td>\n",
       "      <td>1.0</td>\n",
       "      <td>0.083104</td>\n",
       "    </tr>\n",
       "  </tbody>\n",
       "</table>\n",
       "</div>"
      ],
      "text/plain": [
       "  regParam elasticNetParam    f_beta\n",
       "0      0.0             0.0  0.419706\n",
       "1      0.0             0.5  0.419708\n",
       "2      0.0             1.0  0.419706\n",
       "3     0.01             0.0  0.416486\n",
       "4     0.01             0.5  0.416695\n",
       "5     0.01             1.0  0.402986\n",
       "6      0.1             0.0  0.403569\n",
       "7      0.1             0.5   0.36648\n",
       "8      0.1             1.0  0.083104"
      ]
     },
     "execution_count": 18,
     "metadata": {},
     "output_type": "execute_result"
    }
   ],
   "source": [
    "cv_results"
   ]
  },
  {
   "cell_type": "code",
   "execution_count": 0,
   "metadata": {
    "application/vnd.databricks.v1+cell": {
     "cellMetadata": {
      "byteLimit": 2048000,
      "rowLimit": 10000
     },
     "inputWidgets": {},
     "nuid": "89edcaaa-39cd-4abb-ab56-98e81334f801",
     "showTitle": false,
     "tableResultSettingsMap": {},
     "title": ""
    }
   },
   "outputs": [
    {
     "output_type": "execute_result",
     "data": {
      "text/plain": [
       "{Param(parent='LogisticRegression_33bf74d2a821', name='regParam', doc='regularization parameter (>= 0).'): 0.0,\n",
       " Param(parent='LogisticRegression_33bf74d2a821', name='elasticNetParam', doc='the ElasticNet mixing parameter, in range [0, 1]. For alpha = 0, the penalty is an L2 penalty. For alpha = 1, it is an L1 penalty.'): 0.5}"
      ]
     },
     "execution_count": 19,
     "metadata": {},
     "output_type": "execute_result"
    }
   ],
   "source": [
    "best_params"
   ]
  },
  {
   "cell_type": "markdown",
   "metadata": {
    "application/vnd.databricks.v1+cell": {
     "cellMetadata": {},
     "inputWidgets": {},
     "nuid": "d293e21f-bc7b-456b-b5c5-92f64781f75b",
     "showTitle": false,
     "tableResultSettingsMap": {},
     "title": ""
    }
   },
   "source": [
    "## Save CV results"
   ]
  },
  {
   "cell_type": "code",
   "execution_count": 0,
   "metadata": {
    "application/vnd.databricks.v1+cell": {
     "cellMetadata": {
      "byteLimit": 2048000,
      "rowLimit": 10000
     },
     "inputWidgets": {},
     "nuid": "cbb22648-c3ba-4a50-95a8-8ed374d58c7c",
     "showTitle": false,
     "tableResultSettingsMap": {},
     "title": ""
    }
   },
   "outputs": [],
   "source": [
    "# Save CV related dataframes to blob storage\n",
    "# res_saving_version = 'v3'  # 'v2'\n",
    "# res_data_month_label = '12m'\n",
    "\n",
    "res_saving_version = 'v2'  # 'v1','v2'\n",
    "res_data_month_label = '60m'\n",
    "\n",
    "spark.createDataFrame(pd.DataFrame([best_params])).write.mode('overwrite').parquet(f'{team_blob_url}/IN_best_params_LR_{res_data_month_label}_{res_saving_version}')\n",
    "spark.createDataFrame(cv_results).write.mode('overwrite').parquet(f'{team_blob_url}/IN_cv_results_LR_{res_data_month_label}_{res_saving_version}')"
   ]
  },
  {
   "cell_type": "markdown",
   "metadata": {
    "application/vnd.databricks.v1+cell": {
     "cellMetadata": {},
     "inputWidgets": {},
     "nuid": "c0f062f9-e896-48e6-a304-1c7fa75ee386",
     "showTitle": false,
     "tableResultSettingsMap": {},
     "title": ""
    }
   },
   "source": [
    "# Train final model section"
   ]
  },
  {
   "cell_type": "markdown",
   "metadata": {
    "application/vnd.databricks.v1+cell": {
     "cellMetadata": {},
     "inputWidgets": {},
     "nuid": "bb3f7737-b0e6-4915-b34c-4c5d107bda15",
     "showTitle": false,
     "tableResultSettingsMap": {},
     "title": ""
    }
   },
   "source": [
    "##  Gather the data in preparation of modeling"
   ]
  },
  {
   "cell_type": "code",
   "execution_count": 0,
   "metadata": {
    "application/vnd.databricks.v1+cell": {
     "cellMetadata": {
      "byteLimit": 2048000,
      "rowLimit": 10000
     },
     "inputWidgets": {},
     "nuid": "c132b9ef-428f-4eff-a04d-544f674638e9",
     "showTitle": false,
     "tableResultSettingsMap": {},
     "title": ""
    }
   },
   "outputs": [],
   "source": [
    "# If the ordered data is already in the blob\n",
    "# data_encoded_scaled_ordered = (spark.read.parquet(f\"{team_blob_url}/data_encoded_scaled_ordered_3m/\"))\n",
    "\n",
    "# retrieve the encoded scaled and ordered train and test data from the blob\n",
    "# train_val_df = (spark.read.parquet(f\"{team_blob_url}/train_val_data_encoded_scaled_ordered_3m/\"))\n",
    "# train_val_df = (spark.read.parquet(f\"{team_blob_url}/train_val_data_encoded_scaled_ordered_3m_v4/\"))\n",
    "# train_val_df = (spark.read.parquet(f\"{team_blob_url}/train_val_data_encoded_scaled_ordered_12m/\"))\n",
    "# train_val_df = (spark.read.parquet(f\"{team_blob_url}/train_val_data_encoded_scaled_ordered_12m_v5/\"))\n",
    "# train_val_df = (spark.read.parquet(f\"{team_blob_url}/train_val_data_encoded_scaled_ordered_60m_v2/\"))\n",
    "# train_val_df = (spark.read.parquet(f\"{team_blob_url}/train_val_data_encoded_scaled_ordered_60m_v3/\"))\n",
    "train_val_df = (spark.read.parquet(f\"{team_blob_url}/train_val_data_encoded_scaled_ordered_60m_v4/\"))\n",
    "\n",
    "# test_df = (spark.read.parquet(f\"{team_blob_url}/test_data_encoded_scaled_ordered_3m/\"))\n",
    "# test_df = (spark.read.parquet(f\"{team_blob_url}/test_data_encoded_scaled_ordered_3m_v4/\"))\n",
    "# test_df = (spark.read.parquet(f\"{team_blob_url}/test_data_encoded_scaled_ordered_12m/\"))\n",
    "# test_df = (spark.read.parquet(f\"{team_blob_url}/test_data_encoded_scaled_ordered_12m_v5/\"))\n",
    "# test_df = (spark.read.parquet(f\"{team_blob_url}/test_data_encoded_scaled_ordered_60m_v2/\"))\n",
    "# test_df = (spark.read.parquet(f\"{team_blob_url}/test_data_encoded_scaled_ordered_60m_v3/\"))\n",
    "test_df = (spark.read.parquet(f\"{team_blob_url}/test_data_encoded_scaled_ordered_60m_v4/\"))\n",
    "\n",
    "scaled_cols = (spark.read.parquet(f\"{team_blob_url}/scaled_cols_60m_v4/\"))"
   ]
  },
  {
   "cell_type": "code",
   "execution_count": 0,
   "metadata": {
    "application/vnd.databricks.v1+cell": {
     "cellMetadata": {
      "byteLimit": 2048000,
      "rowLimit": 10000
     },
     "inputWidgets": {},
     "nuid": "cb148c0b-db95-45d8-a499-0e3e4651f9b5",
     "showTitle": false,
     "tableResultSettingsMap": {},
     "title": ""
    }
   },
   "outputs": [
    {
     "output_type": "stream",
     "name": "stdout",
     "output_type": "stream",
     "text": [
      "[Row(YEAR=2018), Row(YEAR=2015), Row(YEAR=2017), Row(YEAR=2016)]\n[Row(YEAR=2019)]\n"
     ]
    }
   ],
   "source": [
    "print((train_val_df).select('YEAR').distinct().collect())\n",
    "# print((val_df).select('MONTH').distinct().collect())\n",
    "print((test_df).select('YEAR').distinct().collect())"
   ]
  },
  {
   "cell_type": "code",
   "execution_count": 0,
   "metadata": {
    "application/vnd.databricks.v1+cell": {
     "cellMetadata": {},
     "inputWidgets": {},
     "nuid": "6f54510c-c9c1-46f2-bb10-6f3186c9b233",
     "showTitle": false,
     "tableResultSettingsMap": {},
     "title": ""
    }
   },
   "outputs": [],
   "source": [
    "display(scaled_cols)\n",
    "scaled_cols = scaled_cols.toPandas()['0'].tolist()  #IN: note: the order is not reliable, in fact it is already changed, so can only used as reference of content; for order please refer to the encoding notebook print out"
   ]
  },
  {
   "cell_type": "code",
   "execution_count": 0,
   "metadata": {
    "application/vnd.databricks.v1+cell": {
     "cellMetadata": {
      "byteLimit": 2048000,
      "rowLimit": 10000
     },
     "inputWidgets": {},
     "nuid": "89454f0f-d450-4e07-84fa-4249f769bdd2",
     "showTitle": false,
     "tableResultSettingsMap": {},
     "title": ""
    }
   },
   "outputs": [],
   "source": [
    "# Splitting out the scaled columns which do not have newly engineered features\n",
    "\n",
    "# for 60m dataset\n",
    "new_features = ['DEP_DELAY_COUNT_3600sec',\n",
    " 'DEP_DELAY_COUNT_7200sec',\n",
    " 'ARR_DELAY_COUNT_3600sec',\n",
    " 'ARR_DELAY_COUNT_7200sec',\n",
    " 'CANCELLED_DELAY_COUNT_3600sec',\n",
    " 'CANCELLED_DELAY_COUNT_7200sec',\n",
    " 'Lag_same_flight_DEP_DELAY_NEW',\n",
    " 'Avg_DEP_DELAY_NEW_other_flights',\n",
    " 'Avg_TAXI_OUT_other_flights',\n",
    " 'Last_DEP_DELAY_NEW_other_flights',\n",
    " 'Last_TAXI_OUT_other_flights',\n",
    " 'Monthly_avg_DEP_DELAY_NEW_hat',\n",
    " 'origin_code_vector',\n",
    " 'dest_code_vector',\n",
    " 'In_degree_same_origin_past_3hr',\n",
    " 'Out_degree_same_dest_past_3hr']\n",
    "\n",
    "# for 60m dataset\n",
    "scaled_cols = ['ARR_DELAY_COUNT_3600sec',\n",
    " 'ARR_DELAY_COUNT_7200sec',\n",
    " 'Avg_DEP_DELAY_NEW_other_flights',\n",
    " 'Avg_TAXI_OUT_other_flights',\n",
    " 'CANCELLED_DELAY_COUNT_3600sec',\n",
    " 'CANCELLED_DELAY_COUNT_7200sec',\n",
    " 'DEP_DELAY_COUNT_3600sec',\n",
    " 'DEP_DELAY_COUNT_7200sec',\n",
    " 'DISTANCE',\n",
    " 'ELEVATION',\n",
    " 'HourlyAltimeterSetting',\n",
    " 'HourlyDryBulbTemperature',\n",
    " 'HourlyPrecipitation',\n",
    " 'HourlyRelativeHumidity',\n",
    " 'HourlySeaLevelPressure',\n",
    " 'HourlyStationPressure',\n",
    " 'HourlyVisibility',\n",
    " 'HourlyWindDirection',\n",
    " 'HourlyWindSpeed',\n",
    " 'In_degree_same_origin_past_3hr',\n",
    " 'Lag_same_flight_DEP_DELAY_NEW',\n",
    " 'Last_DEP_DELAY_NEW_other_flights',\n",
    " 'Last_TAXI_OUT_other_flights',\n",
    " 'Monthly_avg_DEP_DELAY_NEW_hat',\n",
    " 'Out_degree_same_dest_past_3hr',\n",
    " 'dest_type_Encoded',\n",
    " 'origin_type_Encoded']"
   ]
  },
  {
   "cell_type": "code",
   "execution_count": 0,
   "metadata": {
    "application/vnd.databricks.v1+cell": {
     "cellMetadata": {
      "byteLimit": 2048000,
      "rowLimit": 10000
     },
     "inputWidgets": {},
     "nuid": "bdc007e8-0cf6-40e1-9bb6-d939ada7448e",
     "showTitle": false,
     "tableResultSettingsMap": {},
     "title": ""
    }
   },
   "outputs": [],
   "source": [
    "# spark.catalog.clearCache()"
   ]
  },
  {
   "cell_type": "markdown",
   "metadata": {
    "application/vnd.databricks.v1+cell": {
     "cellMetadata": {},
     "inputWidgets": {},
     "nuid": "818969ef-e707-4435-81e3-fd9904ecb957",
     "showTitle": false,
     "tableResultSettingsMap": {},
     "title": ""
    }
   },
   "source": [
    "## Create sub-set of features which do not include new features for comparison analysis later"
   ]
  },
  {
   "cell_type": "code",
   "execution_count": 0,
   "metadata": {
    "application/vnd.databricks.v1+cell": {
     "cellMetadata": {
      "byteLimit": 2048000,
      "rowLimit": 10000
     },
     "inputWidgets": {},
     "nuid": "b11b3999-35cd-4ac1-b26d-6ec006be982a",
     "showTitle": false,
     "tableResultSettingsMap": {},
     "title": ""
    }
   },
   "outputs": [
    {
     "output_type": "display_data",
     "data": {
      "text/html": [
       "<style scoped>\n",
       "  .table-result-container {\n",
       "    max-height: 300px;\n",
       "    overflow: auto;\n",
       "  }\n",
       "  table, th, td {\n",
       "    border: 1px solid black;\n",
       "    border-collapse: collapse;\n",
       "  }\n",
       "  th, td {\n",
       "    padding: 5px;\n",
       "  }\n",
       "  th {\n",
       "    text-align: left;\n",
       "  }\n",
       "</style><div class='table-result-container'><table class='table-result'><thead style='background-color: white'><tr><th>scaled_DISTANCE</th><th>scaled_ELEVATION</th><th>scaled_HourlyAltimeterSetting</th><th>scaled_HourlyDryBulbTemperature</th><th>scaled_HourlyPrecipitation</th><th>scaled_HourlyRelativeHumidity</th><th>scaled_HourlySeaLevelPressure</th><th>scaled_HourlyStationPressure</th><th>scaled_HourlyVisibility</th><th>scaled_HourlyWindDirection</th><th>scaled_HourlyWindSpeed</th><th>scaled_dest_type_Encoded</th><th>scaled_origin_type_Encoded</th></tr></thead><tbody><tr><td>0.13784056508577194</td><td>0.0791397483849031</td><td>0.5547947934609297</td><td>0.7283236994219653</td><td>0.0</td><td>0.6161616161616162</td><td>0.44765327299594154</td><td>0.8317006790704911</td><td>0.10058338547750634</td><td>0.638888888888889</td><td>0.006705409029950827</td><td>1.0</td><td>1.0</td></tr><tr><td>0.1394550958627649</td><td>0.08564263855831351</td><td>0.5479453218030192</td><td>0.722543352601156</td><td>0.0</td><td>0.6363636363636365</td><td>0.44765327299594154</td><td>0.8245769099728012</td><td>0.10058338547750634</td><td>0.6666666666666667</td><td>0.009834599910594547</td><td>1.0</td><td>1.0</td></tr><tr><td>0.2768920282542886</td><td>0.012198231893913636</td><td>0.5924655811762984</td><td>0.7514450867052023</td><td>9.302475518938246E-4</td><td>0.8787878787878789</td><td>0.49630471046929847</td><td>0.8904719864314983</td><td>0.10058338547750634</td><td>0.3055555555555556</td><td>0.0022351363433169426</td><td>1.0</td><td>1.0</td></tr><tr><td>0.4131180625630676</td><td>0.001147568854131248</td><td>0.6059797148265597</td><td>0.699421965317919</td><td>2.7106074715622843E-4</td><td>0.6767676767676768</td><td>0.595667633882769</td><td>0.91807657045454</td><td>0.09997988094399447</td><td>0.5277777777777778</td><td>0.0049172999552972736</td><td>1.0</td><td>1.0</td></tr><tr><td>0.39374369323915237</td><td>0.001147568854131248</td><td>0.61040257449391</td><td>0.699421965317919</td><td>1.8450775989146243E-4</td><td>0.7575757575757577</td><td>0.595667633882769</td><td>0.91807657045454</td><td>0.09997988094399447</td><td>0.5277777777777778</td><td>0.004470272686633885</td><td>1.0</td><td>1.0</td></tr><tr><td>0.2036326942482341</td><td>0.12708262495749748</td><td>0.5616436119172707</td><td>0.722543352601156</td><td>0.0</td><td>0.686868686868687</td><td>0.4584838440023191</td><td>0.7996438030529128</td><td>0.10058338547750634</td><td>0.5833333333333334</td><td>0.006705409029950827</td><td>1.0</td><td>1.0</td></tr><tr><td>0.3977800201816347</td><td>0.020061203672220338</td><td>0.6072709609514385</td><td>0.6878612716763005</td><td>2.1101667221614488E-4</td><td>0.7575757575757577</td><td>0.5920574435473098</td><td>0.9038290322591603</td><td>0.09997988094399447</td><td>0.5599128723144532</td><td>0.0022351363433169426</td><td>1.0</td><td>1.0</td></tr><tr><td>0.13905146316851666</td><td>0.08564263855831351</td><td>0.5479453218030192</td><td>0.722543352601156</td><td>0.0</td><td>0.6363636363636365</td><td>0.44765327299594154</td><td>0.8245769099728012</td><td>0.10058338547750634</td><td>0.6666666666666667</td><td>0.009834599910594547</td><td>1.0</td><td>1.0</td></tr><tr><td>0.032492431886982844</td><td>0.05686841210472628</td><td>0.5890408453473431</td><td>0.7398843930635838</td><td>0.0</td><td>0.8181818181818182</td><td>0.48736467811259276</td><td>0.8521816638398955</td><td>0.10058338547750634</td><td>0.5555555555555556</td><td>0.003576218149307108</td><td>1.0</td><td>1.0</td></tr><tr><td>0.21553985872855702</td><td>0.0036127167630057807</td><td>0.6284663070216343</td><td>0.7745664739884393</td><td>0.0036900212489746308</td><td>0.8181818181818182</td><td>0.559566419101577</td><td>0.9127337860922858</td><td>0.09997988094399447</td><td>0.0</td><td>0.0</td><td>1.0</td><td>1.0</td></tr></tbody></table></div>"
      ]
     },
     "metadata": {
      "application/vnd.databricks.v1+output": {
       "addedWidgets": {},
       "aggData": [],
       "aggError": "",
       "aggOverflow": false,
       "aggSchema": [],
       "aggSeriesLimitReached": false,
       "aggType": "",
       "arguments": {},
       "columnCustomDisplayInfos": {},
       "data": [
        [
         0.13784056508577194,
         0.0791397483849031,
         0.5547947934609297,
         0.7283236994219653,
         0.0,
         0.6161616161616162,
         0.44765327299594154,
         0.8317006790704911,
         0.10058338547750634,
         0.638888888888889,
         0.006705409029950827,
         1.0,
         1.0
        ],
        [
         0.1394550958627649,
         0.08564263855831351,
         0.5479453218030192,
         0.722543352601156,
         0.0,
         0.6363636363636365,
         0.44765327299594154,
         0.8245769099728012,
         0.10058338547750634,
         0.6666666666666667,
         0.009834599910594547,
         1.0,
         1.0
        ],
        [
         0.2768920282542886,
         0.012198231893913636,
         0.5924655811762984,
         0.7514450867052023,
         9.302475518938246E-4,
         0.8787878787878789,
         0.49630471046929847,
         0.8904719864314983,
         0.10058338547750634,
         0.3055555555555556,
         0.0022351363433169426,
         1.0,
         1.0
        ],
        [
         0.4131180625630676,
         0.001147568854131248,
         0.6059797148265597,
         0.699421965317919,
         2.7106074715622843E-4,
         0.6767676767676768,
         0.595667633882769,
         0.91807657045454,
         0.09997988094399447,
         0.5277777777777778,
         0.0049172999552972736,
         1.0,
         1.0
        ],
        [
         0.39374369323915237,
         0.001147568854131248,
         0.61040257449391,
         0.699421965317919,
         1.8450775989146243E-4,
         0.7575757575757577,
         0.595667633882769,
         0.91807657045454,
         0.09997988094399447,
         0.5277777777777778,
         0.004470272686633885,
         1.0,
         1.0
        ],
        [
         0.2036326942482341,
         0.12708262495749748,
         0.5616436119172707,
         0.722543352601156,
         0.0,
         0.686868686868687,
         0.4584838440023191,
         0.7996438030529128,
         0.10058338547750634,
         0.5833333333333334,
         0.006705409029950827,
         1.0,
         1.0
        ],
        [
         0.3977800201816347,
         0.020061203672220338,
         0.6072709609514385,
         0.6878612716763005,
         2.1101667221614488E-4,
         0.7575757575757577,
         0.5920574435473098,
         0.9038290322591603,
         0.09997988094399447,
         0.5599128723144532,
         0.0022351363433169426,
         1.0,
         1.0
        ],
        [
         0.13905146316851666,
         0.08564263855831351,
         0.5479453218030192,
         0.722543352601156,
         0.0,
         0.6363636363636365,
         0.44765327299594154,
         0.8245769099728012,
         0.10058338547750634,
         0.6666666666666667,
         0.009834599910594547,
         1.0,
         1.0
        ],
        [
         0.032492431886982844,
         0.05686841210472628,
         0.5890408453473431,
         0.7398843930635838,
         0.0,
         0.8181818181818182,
         0.48736467811259276,
         0.8521816638398955,
         0.10058338547750634,
         0.5555555555555556,
         0.003576218149307108,
         1.0,
         1.0
        ],
        [
         0.21553985872855702,
         0.0036127167630057807,
         0.6284663070216343,
         0.7745664739884393,
         0.0036900212489746308,
         0.8181818181818182,
         0.559566419101577,
         0.9127337860922858,
         0.09997988094399447,
         0.0,
         0.0,
         1.0,
         1.0
        ]
       ],
       "datasetInfos": [],
       "dbfsResultPath": null,
       "isJsonSchema": true,
       "metadata": {},
       "overflow": false,
       "plotOptions": {
        "customPlotOptions": {},
        "displayType": "table",
        "pivotAggregation": null,
        "pivotColumns": null,
        "xColumns": null,
        "yColumns": null
       },
       "removedWidgets": [],
       "schema": [
        {
         "metadata": "{}",
         "name": "scaled_DISTANCE",
         "type": "\"double\""
        },
        {
         "metadata": "{}",
         "name": "scaled_ELEVATION",
         "type": "\"double\""
        },
        {
         "metadata": "{}",
         "name": "scaled_HourlyAltimeterSetting",
         "type": "\"double\""
        },
        {
         "metadata": "{}",
         "name": "scaled_HourlyDryBulbTemperature",
         "type": "\"double\""
        },
        {
         "metadata": "{}",
         "name": "scaled_HourlyPrecipitation",
         "type": "\"double\""
        },
        {
         "metadata": "{}",
         "name": "scaled_HourlyRelativeHumidity",
         "type": "\"double\""
        },
        {
         "metadata": "{}",
         "name": "scaled_HourlySeaLevelPressure",
         "type": "\"double\""
        },
        {
         "metadata": "{}",
         "name": "scaled_HourlyStationPressure",
         "type": "\"double\""
        },
        {
         "metadata": "{}",
         "name": "scaled_HourlyVisibility",
         "type": "\"double\""
        },
        {
         "metadata": "{}",
         "name": "scaled_HourlyWindDirection",
         "type": "\"double\""
        },
        {
         "metadata": "{}",
         "name": "scaled_HourlyWindSpeed",
         "type": "\"double\""
        },
        {
         "metadata": "{}",
         "name": "scaled_dest_type_Encoded",
         "type": "\"double\""
        },
        {
         "metadata": "{}",
         "name": "scaled_origin_type_Encoded",
         "type": "\"double\""
        }
       ],
       "type": "table"
      }
     },
     "output_type": "display_data"
    }
   ],
   "source": [
    "# Run this only if we want to study the model without new features\n",
    "# Split out the original numerical columns from scaled_features (for both train_val_df and test_df)\n",
    "from pyspark.ml.functions import vector_to_array\n",
    "from pyspark.sql.functions import col\n",
    "\n",
    "# train_val_df.select('scaled_features').show(10)\n",
    "# display(train_val_df.withColumn('scaled_', vector_to_array('scaled_features')).select([col('scaled_')[i].alias(f'scaled_{scaled_cols[i]}') for i in range(len(scaled_cols)) if scaled_cols[i] not in new_features]).limit(10))\n",
    "\n",
    "train_val_df = train_val_df.withColumn('scaled_', vector_to_array('scaled_features'))\n",
    "test_df = test_df.withColumn('scaled_', vector_to_array('scaled_features'))\n",
    "\n",
    "for i, col_name in enumerate(scaled_cols):\n",
    "    if col_name not in new_features:\n",
    "        train_val_df = train_val_df.withColumn(f'scaled_{scaled_cols[i]}', col('scaled_')[i]).cache()\n",
    "        test_df = test_df.withColumn(f'scaled_{scaled_cols[i]}', col('scaled_')[i]).cache()\n",
    "    # else:\n",
    "    #     train_val_df = train_val_df.drop(col('scaled_')[i]).cache()\n",
    "    #     test_df = test_df.drop(col('scaled_')[i]).cache()\n",
    "\n",
    "# test_df = test_df.withColumn('scaled_', vector_to_array('scaled_features')).select([col('scaled_')[i].alias(f'scaled_{scaled_cols[i]}') for i in range(len(scaled_cols)) if scaled_cols[i] not in new_features]).cache()\n",
    "\n",
    "scaled_original_num_cols = [f'scaled_{col}' for col in scaled_cols if col not in new_features]\n",
    "\n",
    "display(train_val_df.select(scaled_original_num_cols).limit(10))"
   ]
  },
  {
   "cell_type": "markdown",
   "metadata": {
    "application/vnd.databricks.v1+cell": {
     "cellMetadata": {},
     "inputWidgets": {},
     "nuid": "7a143eef-af07-40c3-ab75-6575412bcb6b",
     "showTitle": false,
     "tableResultSettingsMap": {},
     "title": ""
    }
   },
   "source": [
    "## Train the final model"
   ]
  },
  {
   "cell_type": "code",
   "execution_count": 0,
   "metadata": {
    "application/vnd.databricks.v1+cell": {
     "cellMetadata": {
      "byteLimit": 2048000,
      "rowLimit": 10000
     },
     "inputWidgets": {},
     "nuid": "cbc20c15-7d02-42d2-b102-246db3dd1df3",
     "showTitle": false,
     "tableResultSettingsMap": {},
     "title": ""
    }
   },
   "outputs": [],
   "source": [
    "# Utile functions for training (if not run before)\n",
    "# Undersample function from Muthum\n",
    "def delay_groups_fractions(df, source, tgt_label):\n",
    "    print(f'Dataset: {source}')\n",
    "    total_count = df.count()\n",
    "    label_counts_df = df.groupBy(tgt_label).count()\n",
    "\n",
    "    # Find the minimum class count\n",
    "    min_count = label_counts_df.agg(F.min('count')).collect()[0][0]\n",
    "\n",
    "    # Calculate percentage and fraction of min count\n",
    "    grouped_df = label_counts_df.\\\n",
    "                    withColumn(\"percentage\", (label_counts_df['count'] / total_count) * 100).\\\n",
    "                    withColumn(\"fraction\", min_count/label_counts_df['count'])\n",
    "\n",
    "    grouped_df.show()\n",
    "\n",
    "    # Assuming df is your DataFrame with 'key_column' and 'value_column'\n",
    "    fractions = dict(grouped_df.select(tgt_label, \"fraction\").\\\n",
    "                    rdd.map(lambda x: (x[0], x[1])).collect())\n",
    "\n",
    "    return fractions\n",
    "\n",
    "def performance_per_label(input_pred, split_name, results_summary, f_beta):\n",
    "  preAndlabels = input_pred.select(['prediction', 'DEP_DELAY_GROUP_NEW']).rdd.map(lambda x: (float(x['prediction']), float(x['DEP_DELAY_GROUP_NEW'])))\n",
    "\n",
    "  # print(preAndlabels)\n",
    "\n",
    "  # instantiate metrics object\n",
    "  metrics = MulticlassMetrics(preAndlabels)\n",
    "\n",
    "  # stats by class\n",
    "  labels = [0.0, 1.0, 2.0]\n",
    "  for label in sorted(labels):\n",
    "    # print (label)\n",
    "    print('\\n%s Class %s F%s-Measure = %s'% (split_name, label, f_beta, metrics.fMeasure(label, f_beta)))\n",
    "    print('%s Class %s precision = %s'% (split_name, label, metrics.precision(label)))\n",
    "    print('%s Class %s recall = %s'% (split_name, label, metrics.recall(label)))\n",
    "\n",
    "    results_summary.loc[f'Class {int(label)} F{f_beta}-Measure', split_name] = metrics.fMeasure(label, f_beta)\n",
    "    results_summary.loc[f'CLass {int(label)} precision', split_name] =  metrics.precision(label)\n",
    "    results_summary.loc[f'Class {int(label)} recall', split_name] = metrics.recall(label)\n",
    "\n",
    "  return results_summary\n",
    "\n",
    "\n",
    "def confusion_matrix_sklearn(y_orig, y_pred):\n",
    "    \"\"\"\n",
    "    To plot the confusion_matrix with percentages\n",
    "    prediction:  predicted values\n",
    "    original:    original values\n",
    "    \"\"\"\n",
    "    cm = confusion_matrix(y_orig, y_pred)\n",
    "    labels = np.asarray(\n",
    "        [\n",
    "            [\"{0:0.0f}\".format(item) + \"\\n{0:.2%}\".format(item / cm.flatten().sum())]\n",
    "            for item in cm.flatten()\n",
    "        ]\n",
    "    ).reshape(3, 3)\n",
    "\n",
    "    plt.figure(figsize=(6, 4))\n",
    "    sns.heatmap(cm, annot=labels, fmt=\"\")\n",
    "    plt.ylabel(\"True label\")\n",
    "    plt.xlabel(\"Predicted label\")\n",
    "    plt.show()\n"
   ]
  },
  {
   "cell_type": "code",
   "execution_count": 0,
   "metadata": {
    "application/vnd.databricks.v1+cell": {
     "cellMetadata": {
      "byteLimit": 2048000,
      "rowLimit": 10000
     },
     "inputWidgets": {},
     "nuid": "01c5d7ea-f28c-4b6c-8764-df5896f09a83",
     "showTitle": false,
     "tableResultSettingsMap": {},
     "title": ""
    }
   },
   "outputs": [],
   "source": [
    "# Train the final model with train_val_df\n",
    "def train_final_model(train_val_df, test_df, chosen_params=None):\n",
    "    # undersample\n",
    "    # undersample for imbalance treatment - on train data only\n",
    "    fractions = delay_groups_fractions(train_val_df, 'Train_val', 'DEP_DELAY_GROUP_NEW')\n",
    "    train_val_df = train_val_df.sampleBy(\"DEP_DELAY_GROUP_NEW\", fractions, seed=20).cache()\n",
    "    delay_groups_fractions(train_val_df, 'Train_val', 'DEP_DELAY_GROUP_NEW')\n",
    "    delay_groups_fractions(test_df, 'Test', 'DEP_DELAY_GROUP_NEW')\n",
    "\n",
    "    '''fit LR'''\n",
    "    mod = LogisticRegression(featuresCol='final_features_mod', labelCol='DEP_DELAY_GROUP_NEW')\n",
    "    # mod = mod.copy(chosen_params)\n",
    "    if chosen_params is not None:\n",
    "        param_grid_cho = (\n",
    "            ParamGridBuilder()\n",
    "            .addGrid(mod.regParam, [chosen_params['regParam']])\n",
    "            .addGrid(mod.elasticNetParam, [chosen_params['elasticNetParam']])\n",
    "            .build()\n",
    "            )\n",
    "        mod = mod.copy(param_grid_cho[0])\n",
    "        # param_map = ParamMap(chosen_params)\n",
    "    res_mod = mod.fit(train_val_df)\n",
    "\n",
    "    # Evaluate F1 score for each split of data\n",
    "    focuse_class = 2.0\n",
    "    f_beta = 2.0\n",
    "    # evaluator = MulticlassClassificationEvaluator(labelCol='DEP_DELAY_GROUP_NEW', predictionCol='prediction', metricName=\"f1\")\n",
    "    evaluator = MulticlassClassificationEvaluator(labelCol='DEP_DELAY_GROUP_NEW', predictionCol='prediction', \n",
    "                                                metricLabel=focuse_class, metricName=\"fMeasureByLabel\", beta=f_beta)\n",
    "\n",
    "    # Get F-beta scores for each split\n",
    "    # training \n",
    "    train_pred = res_mod.transform(train_val_df).cache()\n",
    "    train_fmeasure = evaluator.evaluate(train_pred)\n",
    "    print(f'Training F-{f_beta} Score is {train_fmeasure}')\n",
    "\n",
    "    # # validation \n",
    "    # val_pred = res_mod.transform(val_df).cache()\n",
    "    # val_fmeasure = evaluator.evaluate(val_pred)\n",
    "    # print(f'Validation F-{f_beta} Score is {val_fmeasure}')\n",
    "\n",
    "    # testing \n",
    "    test_pred = res_mod.transform(test_df).cache()\n",
    "    # test_pred = test_pred.fillna(0.0)\n",
    "    test_fmeasure = evaluator.evaluate(test_pred)\n",
    "    print(f'Test F-{f_beta} Score is {test_fmeasure}')\n",
    "\n",
    "    # putting results together\n",
    "    results_summary = pd.DataFrame({'Train': [train_fmeasure], 'Test': [test_fmeasure]},\n",
    "                            index=[f'F{f_beta} score'])\n",
    "    \n",
    "    # Get per class F1 scores for each split\n",
    "    split_names = ['Train', 'Test']\n",
    "    pred_list = [train_pred, test_pred]\n",
    "\n",
    "    for i in range(len(split_names)):\n",
    "        split_name = split_names[i]\n",
    "        pred_s = pred_list[i]\n",
    "        results_summary = performance_per_label(pred_s, split_name, results_summary, float(f_beta))\n",
    "    \n",
    "    print()\n",
    "    print(results_summary)\n",
    "    print()\n",
    "    \n",
    "    # Generate the confusion matrix (for test split only)\n",
    "    pred_conf_matrix = test_pred\n",
    "    y_pred = pred_conf_matrix.select('prediction').collect()\n",
    "    y_orig = pred_conf_matrix.select('DEP_DELAY_GROUP_NEW').collect()\n",
    "    confusion_matrix_sklearn(y_orig, y_pred)\n",
    "\n",
    "    return res_mod, results_summary, train_pred, test_pred\n"
   ]
  },
  {
   "cell_type": "code",
   "execution_count": 0,
   "metadata": {
    "application/vnd.databricks.v1+cell": {
     "cellMetadata": {
      "byteLimit": 2048000,
      "rowLimit": 10000
     },
     "inputWidgets": {},
     "nuid": "1d650e0a-03b7-4d1d-99bd-166308387b6f",
     "showTitle": false,
     "tableResultSettingsMap": {},
     "title": ""
    }
   },
   "outputs": [],
   "source": [
    "# If not set up before:\n",
    "\n",
    "#for >60m data set\n",
    "# if to include all features:\n",
    "cols_to_be_assembled_mod =['scaled_features',\n",
    " 'DEP_TIME_BLK_Encoded',\n",
    " 'DAY_OF_WEEK_Encoded',\n",
    " 'MONTH_Encoded',\n",
    " 'QUARTER_Encoded', #IN: only for >=12m\n",
    " 'OP_UNIQUE_CARRIER_Encoded',\n",
    " 'YEAR_Encoded', #IN: only for >12m\n",
    " 'ARR_TIME_BLK_Encoded',\n",
    " 'DAY_OF_MONTH_Encoded',\n",
    " 'origin_code_vector',\n",
    " 'dest_code_vector']\n",
    "\n",
    "#  # if to include only original features (no new features):\n",
    "# cols_to_be_assembled_mod = \\\n",
    "# scaled_original_num_cols + \\\n",
    "#  ['DEP_TIME_BLK_Encoded',\n",
    "#  'DAY_OF_WEEK_Encoded',\n",
    "#  'MONTH_Encoded',\n",
    "#  'QUARTER_Encoded', #IN: only for >=12m\n",
    "#  'OP_UNIQUE_CARRIER_Encoded',\n",
    "#  'YEAR_Encoded', #IN: only for >12m\n",
    "#  'ARR_TIME_BLK_Encoded',\n",
    "#  'DAY_OF_MONTH_Encoded',\n",
    "#  'origin_code_vector',\n",
    "#  'dest_code_vector']\n",
    "\n",
    "assembler = VectorAssembler(inputCols=cols_to_be_assembled_mod, outputCol='final_features_mod')\n",
    "\n",
    "# assemble and select useful columns for test_df\n",
    "assembled_test_df = assembler.transform(test_df).select(\"DEP_DELAY_GROUP_NEW\", \"final_features_mod\")"
   ]
  },
  {
   "cell_type": "code",
   "execution_count": 0,
   "metadata": {
    "application/vnd.databricks.v1+cell": {
     "cellMetadata": {
      "byteLimit": 2048000,
      "rowLimit": 10000
     },
     "inputWidgets": {},
     "nuid": "dd1cec95-9dc9-43c2-98c3-e5901963d4e2",
     "showTitle": false,
     "tableResultSettingsMap": {},
     "title": ""
    }
   },
   "outputs": [
    {
     "output_type": "execute_result",
     "data": {
      "text/plain": [
       "['scaled_features',\n",
       " 'DEP_TIME_BLK_Encoded',\n",
       " 'DAY_OF_WEEK_Encoded',\n",
       " 'MONTH_Encoded',\n",
       " 'QUARTER_Encoded',\n",
       " 'OP_UNIQUE_CARRIER_Encoded',\n",
       " 'YEAR_Encoded',\n",
       " 'ARR_TIME_BLK_Encoded',\n",
       " 'DAY_OF_MONTH_Encoded',\n",
       " 'origin_code_vector',\n",
       " 'dest_code_vector']"
      ]
     },
     "execution_count": 34,
     "metadata": {},
     "output_type": "execute_result"
    }
   ],
   "source": [
    "cols_to_be_assembled_mod"
   ]
  },
  {
   "cell_type": "code",
   "execution_count": 0,
   "metadata": {
    "application/vnd.databricks.v1+cell": {
     "cellMetadata": {
      "byteLimit": 2048000,
      "rowLimit": 10000
     },
     "inputWidgets": {},
     "nuid": "84eebce6-2af8-4f0e-b2f7-302451f217c8",
     "showTitle": false,
     "tableResultSettingsMap": {},
     "title": ""
    }
   },
   "outputs": [],
   "source": [
    "best_params_lr ={'regParam': 0.01,'elasticNetParam': 0.5} # IN for LR"
   ]
  },
  {
   "cell_type": "code",
   "execution_count": 0,
   "metadata": {
    "application/vnd.databricks.v1+cell": {
     "cellMetadata": {
      "byteLimit": 2048000,
      "rowLimit": 10000
     },
     "collapsed": true,
     "inputWidgets": {},
     "nuid": "58e7050e-060d-4fbe-81a9-23227a8ae90b",
     "showTitle": false,
     "tableResultSettingsMap": {},
     "title": ""
    }
   },
   "outputs": [
    {
     "output_type": "stream",
     "name": "stdout",
     "output_type": "stream",
     "text": [
      "Dataset: Train_val\n+-------------------+--------+------------------+------------------+\n|DEP_DELAY_GROUP_NEW|   count|        percentage|          fraction|\n+-------------------+--------+------------------+------------------+\n|                  1| 5362115|22.469998250880995|0.8011821827767588|\n|                  2| 4296031|18.002562245630784|               1.0|\n|                  0|14205296|59.527439503488225|0.3024246027678691|\n+-------------------+--------+------------------+------------------+\n\nDataset: Train_val\n+-------------------+-------+------------------+------------------+\n|DEP_DELAY_GROUP_NEW|  count|        percentage|          fraction|\n+-------------------+-------+------------------+------------------+\n|                  1|4297209|33.345676660441974|0.9991636431925931|\n|                  2|4296031|  33.3365355627886|0.9994376204454763|\n|                  0|4293615| 33.31778777676943|               1.0|\n+-------------------+-------+------------------+------------------+\n\nDataset: Test\n+-------------------+-------+------------------+------------------+\n|DEP_DELAY_GROUP_NEW|  count|        percentage|          fraction|\n+-------------------+-------+------------------+------------------+\n|                  1|1528717|21.108936615485394|0.8821416913660278|\n|                  2|1348545| 18.62107304892256|               1.0|\n|                  0|4364775| 60.26999033559204|0.3089609430039349|\n+-------------------+-------+------------------+------------------+\n\n"
     ]
    },
    {
     "output_type": "display_data",
     "data": {
      "application/vnd.jupyter.widget-view+json": {
       "model_id": "8dbecc3db6854f4188fad89a40b9e494",
       "version_major": 2,
       "version_minor": 0
      },
      "text/plain": [
       "Downloading artifacts:   0%|          | 0/15 [00:00<?, ?it/s]"
      ]
     },
     "metadata": {},
     "output_type": "display_data"
    },
    {
     "output_type": "display_data",
     "data": {
      "application/vnd.jupyter.widget-view+json": {
       "model_id": "6f678a6811604b339ac99c0b93878cc6",
       "version_major": 2,
       "version_minor": 0
      },
      "text/plain": [
       "Uploading artifacts:   0%|          | 0/4 [00:00<?, ?it/s]"
      ]
     },
     "metadata": {},
     "output_type": "display_data"
    },
    {
     "output_type": "stream",
     "name": "stdout",
     "output_type": "stream",
     "text": [
      "Training F-2.0 Score is 0.5086334775892775\nTest F-2.0 Score is 0.48433335794771604\n"
     ]
    },
    {
     "output_type": "stream",
     "name": "stderr",
     "output_type": "stream",
     "text": [
      "/databricks/spark/python/pyspark/sql/context.py:165: FutureWarning: Deprecated in 3.0.0. Use SparkSession.builder.getOrCreate() instead.\n  warnings.warn(\n"
     ]
    },
    {
     "output_type": "stream",
     "name": "stdout",
     "output_type": "stream",
     "text": [
      "\nTrain Class 0.0 F2.0-Measure = 0.5826618933317207\nTrain Class 0.0 precision = 0.49200614376615415\nTrain Class 0.0 recall = 0.6107978940822594\n\nTrain Class 1.0 F2.0-Measure = 0.40496719758930766\nTrain Class 1.0 precision = 0.4556359878687739\nTrain Class 1.0 recall = 0.39401318390611206\n\nTrain Class 2.0 F2.0-Measure = 0.5086334775892775\nTrain Class 2.0 precision = 0.5568924610680154\nTrain Class 2.0 recall = 0.49784789728007084\n"
     ]
    },
    {
     "output_type": "stream",
     "name": "stderr",
     "output_type": "stream",
     "text": [
      "/databricks/spark/python/pyspark/sql/context.py:165: FutureWarning: Deprecated in 3.0.0. Use SparkSession.builder.getOrCreate() instead.\n  warnings.warn(\n"
     ]
    },
    {
     "output_type": "stream",
     "name": "stdout",
     "output_type": "stream",
     "text": [
      "\nTest Class 0.0 F2.0-Measure = 0.6414787383633016\nTest Class 0.0 precision = 0.7375314827205423\nTest Class 0.0 recall = 0.6212514963543367\n\nTest Class 1.0 F2.0-Measure = 0.3471587971435067\nTest Class 1.0 precision = 0.32103748549566025\nTest Class 1.0 recall = 0.3543670934515676\n\nTest Class 2.0 F2.0-Measure = 0.48433335794771604\nTest Class 2.0 precision = 0.37509817672182666\nTest Class 2.0 recall = 0.5223637327638306\n\n                         Train      Test\nF2.0 score            0.508633  0.484333\nClass 0 F2.0-Measure  0.582662  0.641479\nCLass 0 precision     0.492006  0.737531\nClass 0 recall        0.610798  0.621251\nClass 1 F2.0-Measure  0.404967  0.347159\nCLass 1 precision     0.455636  0.321037\nClass 1 recall        0.394013  0.354367\nClass 2 F2.0-Measure  0.508633  0.484333\nCLass 2 precision     0.556892  0.375098\nClass 2 recall        0.497848  0.522364\n\n"
     ]
    },
    {
     "output_type": "display_data",
     "data": {
      "image/png": "[encoded data removed]",
      "text/plain": [
       "<Figure size 600x400 with 2 Axes>"
      ]
     },
     "metadata": {},
     "output_type": "display_data"
    }
   ],
   "source": [
    "# Train the last model with CV chosen params  # re-train for 12/12/2024 to save model on workspace properly\n",
    "# chosen_params = best_params_v3\n",
    "chosen_params = best_params_lr\n",
    "# chosen_params = None\n",
    "assembled_train_val_df = assembler.transform(train_val_df).select(\"DEP_DELAY_GROUP_NEW\", \"final_features_mod\")\n",
    "final_mod, results_summary, train_pred, test_pred = train_final_model(assembled_train_val_df, \n",
    "                                               assembled_test_df, chosen_params)\n"
   ]
  },
  {
   "cell_type": "code",
   "execution_count": 0,
   "metadata": {
    "application/vnd.databricks.v1+cell": {
     "cellMetadata": {
      "byteLimit": 2048000,
      "rowLimit": 10000
     },
     "collapsed": true,
     "inputWidgets": {},
     "nuid": "53417af3-b00a-4899-96fe-16e729dc68dc",
     "showTitle": false,
     "tableResultSettingsMap": {},
     "title": ""
    }
   },
   "outputs": [
    {
     "output_type": "execute_result",
     "data": {
      "text/html": [
       "<div>\n",
       "<style scoped>\n",
       "    .dataframe tbody tr th:only-of-type {\n",
       "        vertical-align: middle;\n",
       "    }\n",
       "\n",
       "    .dataframe tbody tr th {\n",
       "        vertical-align: top;\n",
       "    }\n",
       "\n",
       "    .dataframe thead th {\n",
       "        text-align: right;\n",
       "    }\n",
       "</style>\n",
       "<table border=\"1\" class=\"dataframe\">\n",
       "  <thead>\n",
       "    <tr style=\"text-align: right;\">\n",
       "      <th></th>\n",
       "      <th>Train</th>\n",
       "      <th>Test</th>\n",
       "    </tr>\n",
       "  </thead>\n",
       "  <tbody>\n",
       "    <tr>\n",
       "      <th>F2.0 score</th>\n",
       "      <td>0.508633</td>\n",
       "      <td>0.484333</td>\n",
       "    </tr>\n",
       "    <tr>\n",
       "      <th>Class 0 F2.0-Measure</th>\n",
       "      <td>0.582662</td>\n",
       "      <td>0.641479</td>\n",
       "    </tr>\n",
       "    <tr>\n",
       "      <th>CLass 0 precision</th>\n",
       "      <td>0.492006</td>\n",
       "      <td>0.737531</td>\n",
       "    </tr>\n",
       "    <tr>\n",
       "      <th>Class 0 recall</th>\n",
       "      <td>0.610798</td>\n",
       "      <td>0.621251</td>\n",
       "    </tr>\n",
       "    <tr>\n",
       "      <th>Class 1 F2.0-Measure</th>\n",
       "      <td>0.404967</td>\n",
       "      <td>0.347159</td>\n",
       "    </tr>\n",
       "    <tr>\n",
       "      <th>CLass 1 precision</th>\n",
       "      <td>0.455636</td>\n",
       "      <td>0.321037</td>\n",
       "    </tr>\n",
       "    <tr>\n",
       "      <th>Class 1 recall</th>\n",
       "      <td>0.394013</td>\n",
       "      <td>0.354367</td>\n",
       "    </tr>\n",
       "    <tr>\n",
       "      <th>Class 2 F2.0-Measure</th>\n",
       "      <td>0.508633</td>\n",
       "      <td>0.484333</td>\n",
       "    </tr>\n",
       "    <tr>\n",
       "      <th>CLass 2 precision</th>\n",
       "      <td>0.556892</td>\n",
       "      <td>0.375098</td>\n",
       "    </tr>\n",
       "    <tr>\n",
       "      <th>Class 2 recall</th>\n",
       "      <td>0.497848</td>\n",
       "      <td>0.522364</td>\n",
       "    </tr>\n",
       "  </tbody>\n",
       "</table>\n",
       "</div>"
      ],
      "text/plain": [
       "                         Train      Test\n",
       "F2.0 score            0.508633  0.484333\n",
       "Class 0 F2.0-Measure  0.582662  0.641479\n",
       "CLass 0 precision     0.492006  0.737531\n",
       "Class 0 recall        0.610798  0.621251\n",
       "Class 1 F2.0-Measure  0.404967  0.347159\n",
       "CLass 1 precision     0.455636  0.321037\n",
       "Class 1 recall        0.394013  0.354367\n",
       "Class 2 F2.0-Measure  0.508633  0.484333\n",
       "CLass 2 precision     0.556892  0.375098\n",
       "Class 2 recall        0.497848  0.522364"
      ]
     },
     "execution_count": 42,
     "metadata": {},
     "output_type": "execute_result"
    }
   ],
   "source": [
    "# as of 12/12/2024 retrain\n",
    "results_summary"
   ]
  },
  {
   "cell_type": "code",
   "execution_count": 0,
   "metadata": {
    "application/vnd.databricks.v1+cell": {
     "cellMetadata": {
      "byteLimit": 2048000,
      "rowLimit": 10000
     },
     "inputWidgets": {},
     "nuid": "a7a06c92-7ef7-44aa-b352-a20156920da9",
     "showTitle": false,
     "tableResultSettingsMap": {},
     "title": ""
    }
   },
   "outputs": [
    {
     "output_type": "stream",
     "name": "stdout",
     "output_type": "stream",
     "text": [
      "Dataset: Train_val\n+-------------------+--------+------------------+------------------+\n|DEP_DELAY_GROUP_NEW|   count|        percentage|          fraction|\n+-------------------+--------+------------------+------------------+\n|                  1| 5362115|22.469998250880995|0.8011821827767588|\n|                  2| 4296031|18.002562245630784|               1.0|\n|                  0|14205296|59.527439503488225|0.3024246027678691|\n+-------------------+--------+------------------+------------------+\n\nDataset: Train_val\n+-------------------+-------+------------------+------------------+\n|DEP_DELAY_GROUP_NEW|  count|        percentage|          fraction|\n+-------------------+-------+------------------+------------------+\n|                  1|4295548| 33.32717822544205|               1.0|\n|                  2|4296031| 33.33092559995233|0.9998875706436942|\n|                  0|4297445|33.341896174605615|0.9995585749206796|\n+-------------------+-------+------------------+------------------+\n\nDataset: Test\n+-------------------+-------+------------------+------------------+\n|DEP_DELAY_GROUP_NEW|  count|        percentage|          fraction|\n+-------------------+-------+------------------+------------------+\n|                  1|1528717|21.108936615485394|0.8821416913660278|\n|                  2|1348545| 18.62107304892256|               1.0|\n|                  0|4364775| 60.26999033559204|0.3089609430039349|\n+-------------------+-------+------------------+------------------+\n\n"
     ]
    },
    {
     "output_type": "display_data",
     "data": {
      "application/vnd.jupyter.widget-view+json": {
       "model_id": "cc25c891004c42a4aa15e91349fbb41e",
       "version_major": 2,
       "version_minor": 0
      },
      "text/plain": [
       "Downloading artifacts:   0%|          | 0/15 [00:00<?, ?it/s]"
      ]
     },
     "metadata": {},
     "output_type": "display_data"
    },
    {
     "output_type": "display_data",
     "data": {
      "application/vnd.jupyter.widget-view+json": {
       "model_id": "f96637760819407fa666da1619287182",
       "version_major": 2,
       "version_minor": 0
      },
      "text/plain": [
       "Uploading artifacts:   0%|          | 0/4 [00:00<?, ?it/s]"
      ]
     },
     "metadata": {},
     "output_type": "display_data"
    },
    {
     "output_type": "stream",
     "name": "stdout",
     "output_type": "stream",
     "text": [
      "Training F-2.0 Score is 0.5087440619709248\nTest F-2.0 Score is 0.4843932252461154\n"
     ]
    },
    {
     "output_type": "stream",
     "name": "stderr",
     "output_type": "stream",
     "text": [
      "/databricks/spark/python/pyspark/sql/context.py:165: FutureWarning: Deprecated in 3.0.0. Use SparkSession.builder.getOrCreate() instead.\n  warnings.warn(\n"
     ]
    },
    {
     "output_type": "stream",
     "name": "stdout",
     "output_type": "stream",
     "text": [
      "\nTrain Class 0.0 F2.0-Measure = 0.5827457322652171\nTrain Class 0.0 precision = 0.4919399218622207\nTrain Class 0.0 recall = 0.6109385925823367\n\nTrain Class 1.0 F2.0-Measure = 0.4042795291412148\nTrain Class 1.0 precision = 0.4555553367929589\nTrain Class 1.0 recall = 0.39321478889305855\n\nTrain Class 2.0 F2.0-Measure = 0.5087440619709248\nTrain Class 2.0 precision = 0.5565666003696884\nTrain Class 2.0 recall = 0.49804552155233517\n"
     ]
    },
    {
     "output_type": "stream",
     "name": "stderr",
     "output_type": "stream",
     "text": [
      "/databricks/spark/python/pyspark/sql/context.py:165: FutureWarning: Deprecated in 3.0.0. Use SparkSession.builder.getOrCreate() instead.\n  warnings.warn(\n"
     ]
    },
    {
     "output_type": "stream",
     "name": "stdout",
     "output_type": "stream",
     "text": [
      "\nTest Class 0.0 F2.0-Measure = 0.6422194920684113\nTest Class 0.0 precision = 0.7373983249723155\nTest Class 0.0 recall = 0.6221438676678638\n\nTest Class 1.0 F2.0-Measure = 0.3464231820880237\nTest Class 1.0 precision = 0.3213253981096336\nTest Class 1.0 recall = 0.35332242658386087\n\nTest Class 2.0 F2.0-Measure = 0.4843932252461154\nTest Class 2.0 precision = 0.3750651441262223\nTest Class 2.0 recall = 0.5224668068177184\n\n                         Train      Test\nF2.0 score            0.508744  0.484393\nClass 0 F2.0-Measure  0.582746  0.642219\nCLass 0 precision     0.491940  0.737398\nClass 0 recall        0.610939  0.622144\nClass 1 F2.0-Measure  0.404280  0.346423\nCLass 1 precision     0.455555  0.321325\nClass 1 recall        0.393215  0.353322\nClass 2 F2.0-Measure  0.508744  0.484393\nCLass 2 precision     0.556567  0.375065\nClass 2 recall        0.498046  0.522467\n\n"
     ]
    },
    {
     "output_type": "display_data",
     "data": {
      "image/png": "[encoded data removed]",
      "text/plain": [
       "<Figure size 600x400 with 2 Axes>"
      ]
     },
     "metadata": {},
     "output_type": "display_data"
    }
   ],
   "source": [
    "# Train the last model with CV chosen params # result as of 12/8/2024\n",
    "# chosen_params = best_params_v3\n",
    "chosen_params = best_params_lr\n",
    "# chosen_params = None\n",
    "assembled_train_val_df = assembler.transform(train_val_df).select(\"DEP_DELAY_GROUP_NEW\", \"final_features_mod\")\n",
    "final_mod, results_summary = train_final_model(assembled_train_val_df, \n",
    "                                               assembled_test_df, chosen_params)\n"
   ]
  },
  {
   "cell_type": "code",
   "execution_count": 0,
   "metadata": {
    "application/vnd.databricks.v1+cell": {
     "cellMetadata": {
      "byteLimit": 2048000,
      "rowLimit": 10000
     },
     "inputWidgets": {},
     "nuid": "bb0b2ee8-d556-44d4-876d-23da373cb47a",
     "showTitle": false,
     "tableResultSettingsMap": {},
     "title": ""
    }
   },
   "outputs": [
    {
     "output_type": "execute_result",
     "data": {
      "text/html": [
       "<div>\n",
       "<style scoped>\n",
       "    .dataframe tbody tr th:only-of-type {\n",
       "        vertical-align: middle;\n",
       "    }\n",
       "\n",
       "    .dataframe tbody tr th {\n",
       "        vertical-align: top;\n",
       "    }\n",
       "\n",
       "    .dataframe thead th {\n",
       "        text-align: right;\n",
       "    }\n",
       "</style>\n",
       "<table border=\"1\" class=\"dataframe\">\n",
       "  <thead>\n",
       "    <tr style=\"text-align: right;\">\n",
       "      <th></th>\n",
       "      <th>Train</th>\n",
       "      <th>Test</th>\n",
       "    </tr>\n",
       "  </thead>\n",
       "  <tbody>\n",
       "    <tr>\n",
       "      <th>F2.0 score</th>\n",
       "      <td>0.508744</td>\n",
       "      <td>0.484393</td>\n",
       "    </tr>\n",
       "    <tr>\n",
       "      <th>Class 0 F2.0-Measure</th>\n",
       "      <td>0.582746</td>\n",
       "      <td>0.642219</td>\n",
       "    </tr>\n",
       "    <tr>\n",
       "      <th>CLass 0 precision</th>\n",
       "      <td>0.491940</td>\n",
       "      <td>0.737398</td>\n",
       "    </tr>\n",
       "    <tr>\n",
       "      <th>Class 0 recall</th>\n",
       "      <td>0.610939</td>\n",
       "      <td>0.622144</td>\n",
       "    </tr>\n",
       "    <tr>\n",
       "      <th>Class 1 F2.0-Measure</th>\n",
       "      <td>0.404280</td>\n",
       "      <td>0.346423</td>\n",
       "    </tr>\n",
       "    <tr>\n",
       "      <th>CLass 1 precision</th>\n",
       "      <td>0.455555</td>\n",
       "      <td>0.321325</td>\n",
       "    </tr>\n",
       "    <tr>\n",
       "      <th>Class 1 recall</th>\n",
       "      <td>0.393215</td>\n",
       "      <td>0.353322</td>\n",
       "    </tr>\n",
       "    <tr>\n",
       "      <th>Class 2 F2.0-Measure</th>\n",
       "      <td>0.508744</td>\n",
       "      <td>0.484393</td>\n",
       "    </tr>\n",
       "    <tr>\n",
       "      <th>CLass 2 precision</th>\n",
       "      <td>0.556567</td>\n",
       "      <td>0.375065</td>\n",
       "    </tr>\n",
       "    <tr>\n",
       "      <th>Class 2 recall</th>\n",
       "      <td>0.498046</td>\n",
       "      <td>0.522467</td>\n",
       "    </tr>\n",
       "  </tbody>\n",
       "</table>\n",
       "</div>"
      ],
      "text/plain": [
       "                         Train      Test\n",
       "F2.0 score            0.508744  0.484393\n",
       "Class 0 F2.0-Measure  0.582746  0.642219\n",
       "CLass 0 precision     0.491940  0.737398\n",
       "Class 0 recall        0.610939  0.622144\n",
       "Class 1 F2.0-Measure  0.404280  0.346423\n",
       "CLass 1 precision     0.455555  0.321325\n",
       "Class 1 recall        0.393215  0.353322\n",
       "Class 2 F2.0-Measure  0.508744  0.484393\n",
       "CLass 2 precision     0.556567  0.375065\n",
       "Class 2 recall        0.498046  0.522467"
      ]
     },
     "execution_count": 53,
     "metadata": {},
     "output_type": "execute_result"
    }
   ],
   "source": [
    "# result as of 12/8/2024\n",
    "results_summary"
   ]
  },
  {
   "cell_type": "code",
   "execution_count": 0,
   "metadata": {
    "application/vnd.databricks.v1+cell": {
     "cellMetadata": {
      "byteLimit": 2048000,
      "rowLimit": 10000
     },
     "inputWidgets": {},
     "nuid": "4493f259-eada-497d-8c90-aa72a5a680fd",
     "showTitle": false,
     "tableResultSettingsMap": {},
     "title": ""
    }
   },
   "outputs": [
    {
     "output_type": "display_data",
     "data": {
      "text/html": [
       "<style scoped>\n",
       "  .table-result-container {\n",
       "    max-height: 300px;\n",
       "    overflow: auto;\n",
       "  }\n",
       "  table, th, td {\n",
       "    border: 1px solid black;\n",
       "    border-collapse: collapse;\n",
       "  }\n",
       "  th, td {\n",
       "    padding: 5px;\n",
       "  }\n",
       "  th {\n",
       "    text-align: left;\n",
       "  }\n",
       "</style><div class='table-result-container'><table class='table-result'><thead style='background-color: white'><tr><th>_1</th><th>_2</th></tr></thead><tbody><tr><td>DEP_DELAY_GROUP_NEW</td><td>int</td></tr><tr><td>final_features_mod</td><td>vector</td></tr></tbody></table></div>"
      ]
     },
     "metadata": {
      "application/vnd.databricks.v1+output": {
       "addedWidgets": {},
       "aggData": [],
       "aggError": "",
       "aggOverflow": false,
       "aggSchema": [],
       "aggSeriesLimitReached": false,
       "aggType": "",
       "arguments": {},
       "columnCustomDisplayInfos": {},
       "data": [
        [
         "DEP_DELAY_GROUP_NEW",
         "int"
        ],
        [
         "final_features_mod",
         "vector"
        ]
       ],
       "datasetInfos": [],
       "dbfsResultPath": null,
       "isJsonSchema": true,
       "metadata": {},
       "overflow": false,
       "plotOptions": {
        "customPlotOptions": {},
        "displayType": "table",
        "pivotAggregation": null,
        "pivotColumns": null,
        "xColumns": null,
        "yColumns": null
       },
       "removedWidgets": [],
       "schema": [
        {
         "metadata": "{}",
         "name": "_1",
         "type": "\"string\""
        },
        {
         "metadata": "{}",
         "name": "_2",
         "type": "\"string\""
        }
       ],
       "type": "table"
      }
     },
     "output_type": "display_data"
    }
   ],
   "source": [
    "display(assembled_train_val_df.dtypes)"
   ]
  },
  {
   "cell_type": "markdown",
   "metadata": {
    "application/vnd.databricks.v1+cell": {
     "cellMetadata": {},
     "inputWidgets": {},
     "nuid": "8aa0ed1e-4838-416f-ba35-23b5b8f64f2e",
     "showTitle": false,
     "tableResultSettingsMap": {},
     "title": ""
    }
   },
   "source": [
    "## Save important models"
   ]
  },
  {
   "cell_type": "code",
   "execution_count": 0,
   "metadata": {
    "application/vnd.databricks.v1+cell": {
     "cellMetadata": {
      "byteLimit": 2048000,
      "rowLimit": 10000
     },
     "inputWidgets": {},
     "nuid": "8ff66efb-a5c0-4534-b472-12792d102607",
     "showTitle": false,
     "tableResultSettingsMap": {},
     "title": ""
    }
   },
   "outputs": [],
   "source": [
    "import pickle\n",
    "# import joblib\n",
    "# model_save_version = 'v3'\n",
    "# month_label = '12m'\n",
    "# model_save_version = 'v1_no_new_features'\n",
    "model_save_version = 'v2_with_new_features' # 'v3_with_new_features', 'v2_with_new_features'\n",
    "month_label = '60m'\n",
    "\n",
    "# save model\n",
    "# IN this worked - using Using MLlib's Native Save/Load Functionality\n",
    "path_workspace = '/Workspace/Users/sha.na.in.12@berkeley.edu/'\n",
    "# final_mod.write().overwrite().save(f\"{path_workspace}test_IN_xgboost_model_{model_save_version}_{month_label}\")\n",
    "final_mod.write().overwrite().save(f\"{path_workspace}IN_LR_model_{model_save_version}_{month_label}.pkl\") \n",
    "\n",
    "# save results\n",
    "pickle.dump(results_summary, open(f'IN_LR_results_summary_{model_save_version}_{month_label}.pkl', 'wb'))\n",
    "\n",
    "# save to blob for assemble purpose\n",
    "test_pred.write.mode(\"overwrite\").parquet(f\"{team_blob_url}/IN_LR_test_pred_w_new_features_60m\")"
   ]
  },
  {
   "cell_type": "markdown",
   "metadata": {
    "application/vnd.databricks.v1+cell": {
     "cellMetadata": {},
     "inputWidgets": {},
     "nuid": "a3b9f9c1-1316-4e7a-9426-260a94b35aab",
     "showTitle": false,
     "tableResultSettingsMap": {},
     "title": ""
    }
   },
   "source": [
    "## Compare model with and without features"
   ]
  },
  {
   "cell_type": "code",
   "execution_count": 0,
   "metadata": {
    "application/vnd.databricks.v1+cell": {
     "cellMetadata": {
      "byteLimit": 2048000,
      "rowLimit": 10000
     },
     "inputWidgets": {},
     "nuid": "6fc17280-9fa0-4d2b-91db-d96235db26e6",
     "showTitle": false,
     "tableResultSettingsMap": {},
     "title": ""
    }
   },
   "outputs": [],
   "source": [
    "## IN: Load LR model with new features from workspace \n",
    "import pickle\n",
    "from pyspark.ml.classification import LogisticRegressionModel\n",
    "\n",
    "path_workspace = '/Workspace/Users/sha.na.in.12@berkeley.edu/'\n",
    "model_save_version = 'v2_with_new_features'\n",
    "month_label = '60m'\n",
    "\n",
    "## load the model later\n",
    "model_loaded = LogisticRegressionModel.load(f\"{path_workspace}IN_LR_model_{model_save_version}_{month_label}.pkl\") #IN: wont work without .pkl, still doesn't show in workspace but loadable\n",
    "\n",
    "# load the results\n",
    "results_summary_loaded_w_new_features = pickle.load(open(f'IN_LR_results_summary_{model_save_version}_{month_label}.pkl', 'rb'))"
   ]
  },
  {
   "cell_type": "code",
   "execution_count": 0,
   "metadata": {
    "application/vnd.databricks.v1+cell": {
     "cellMetadata": {
      "byteLimit": 2048000,
      "rowLimit": 10000
     },
     "inputWidgets": {},
     "nuid": "244e2a45-8635-4e9a-b595-7fdd152217a5",
     "showTitle": false,
     "tableResultSettingsMap": {},
     "title": ""
    }
   },
   "outputs": [
    {
     "output_type": "execute_result",
     "data": {
      "text/html": [
       "<div>\n",
       "<style scoped>\n",
       "    .dataframe tbody tr th:only-of-type {\n",
       "        vertical-align: middle;\n",
       "    }\n",
       "\n",
       "    .dataframe tbody tr th {\n",
       "        vertical-align: top;\n",
       "    }\n",
       "\n",
       "    .dataframe thead th {\n",
       "        text-align: right;\n",
       "    }\n",
       "</style>\n",
       "<table border=\"1\" class=\"dataframe\">\n",
       "  <thead>\n",
       "    <tr style=\"text-align: right;\">\n",
       "      <th></th>\n",
       "      <th>Train</th>\n",
       "      <th>Test</th>\n",
       "    </tr>\n",
       "  </thead>\n",
       "  <tbody>\n",
       "    <tr>\n",
       "      <th>F2.0 score</th>\n",
       "      <td>0.508744</td>\n",
       "      <td>0.484393</td>\n",
       "    </tr>\n",
       "    <tr>\n",
       "      <th>Class 0 F2.0-Measure</th>\n",
       "      <td>0.582746</td>\n",
       "      <td>0.642219</td>\n",
       "    </tr>\n",
       "    <tr>\n",
       "      <th>CLass 0 precision</th>\n",
       "      <td>0.491940</td>\n",
       "      <td>0.737398</td>\n",
       "    </tr>\n",
       "    <tr>\n",
       "      <th>Class 0 recall</th>\n",
       "      <td>0.610939</td>\n",
       "      <td>0.622144</td>\n",
       "    </tr>\n",
       "    <tr>\n",
       "      <th>Class 1 F2.0-Measure</th>\n",
       "      <td>0.404280</td>\n",
       "      <td>0.346423</td>\n",
       "    </tr>\n",
       "    <tr>\n",
       "      <th>CLass 1 precision</th>\n",
       "      <td>0.455555</td>\n",
       "      <td>0.321325</td>\n",
       "    </tr>\n",
       "    <tr>\n",
       "      <th>Class 1 recall</th>\n",
       "      <td>0.393215</td>\n",
       "      <td>0.353322</td>\n",
       "    </tr>\n",
       "    <tr>\n",
       "      <th>Class 2 F2.0-Measure</th>\n",
       "      <td>0.508744</td>\n",
       "      <td>0.484393</td>\n",
       "    </tr>\n",
       "    <tr>\n",
       "      <th>CLass 2 precision</th>\n",
       "      <td>0.556567</td>\n",
       "      <td>0.375065</td>\n",
       "    </tr>\n",
       "    <tr>\n",
       "      <th>Class 2 recall</th>\n",
       "      <td>0.498046</td>\n",
       "      <td>0.522467</td>\n",
       "    </tr>\n",
       "  </tbody>\n",
       "</table>\n",
       "</div>"
      ],
      "text/plain": [
       "                         Train      Test\n",
       "F2.0 score            0.508744  0.484393\n",
       "Class 0 F2.0-Measure  0.582746  0.642219\n",
       "CLass 0 precision     0.491940  0.737398\n",
       "Class 0 recall        0.610939  0.622144\n",
       "Class 1 F2.0-Measure  0.404280  0.346423\n",
       "CLass 1 precision     0.455555  0.321325\n",
       "Class 1 recall        0.393215  0.353322\n",
       "Class 2 F2.0-Measure  0.508744  0.484393\n",
       "CLass 2 precision     0.556567  0.375065\n",
       "Class 2 recall        0.498046  0.522467"
      ]
     },
     "execution_count": 27,
     "metadata": {},
     "output_type": "execute_result"
    }
   ],
   "source": [
    "# result as of 12/8/2024 - LR with new features \n",
    "results_summary_loaded_w_new_features"
   ]
  },
  {
   "cell_type": "code",
   "execution_count": 0,
   "metadata": {
    "application/vnd.databricks.v1+cell": {
     "cellMetadata": {
      "byteLimit": 2048000,
      "rowLimit": 10000
     },
     "inputWidgets": {},
     "nuid": "056d2d64-c02e-4e20-9d42-2b144dbe9ec5",
     "showTitle": false,
     "tableResultSettingsMap": {},
     "title": ""
    }
   },
   "outputs": [],
   "source": [
    "# load models without new features from workspace \n",
    "import pickle\n",
    "from pyspark.ml.classification import LogisticRegressionModel\n",
    "\n",
    "path_workspace = '/Workspace/Users/sha.na.in.12@berkeley.edu/'\n",
    "model_save_version = 'v1_no_new_features'\n",
    "month_label = '60m'\n",
    "\n",
    "# load the results\n",
    "results_summary_loaded_wo_new_features = pickle.load(open(f'IN_LR_results_summary_{model_save_version}_{month_label}.pkl', 'rb'))"
   ]
  },
  {
   "cell_type": "code",
   "execution_count": 0,
   "metadata": {
    "application/vnd.databricks.v1+cell": {
     "cellMetadata": {
      "byteLimit": 2048000,
      "rowLimit": 10000
     },
     "inputWidgets": {},
     "nuid": "f1beebfa-9544-4083-a989-c4c4ab85a217",
     "showTitle": false,
     "tableResultSettingsMap": {},
     "title": ""
    }
   },
   "outputs": [
    {
     "output_type": "execute_result",
     "data": {
      "text/html": [
       "<div>\n",
       "<style scoped>\n",
       "    .dataframe tbody tr th:only-of-type {\n",
       "        vertical-align: middle;\n",
       "    }\n",
       "\n",
       "    .dataframe tbody tr th {\n",
       "        vertical-align: top;\n",
       "    }\n",
       "\n",
       "    .dataframe thead th {\n",
       "        text-align: right;\n",
       "    }\n",
       "</style>\n",
       "<table border=\"1\" class=\"dataframe\">\n",
       "  <thead>\n",
       "    <tr style=\"text-align: right;\">\n",
       "      <th></th>\n",
       "      <th>Train</th>\n",
       "      <th>Test</th>\n",
       "    </tr>\n",
       "  </thead>\n",
       "  <tbody>\n",
       "    <tr>\n",
       "      <th>F2.0 score</th>\n",
       "      <td>0.500649</td>\n",
       "      <td>0.451409</td>\n",
       "    </tr>\n",
       "    <tr>\n",
       "      <th>Class 0 F2.0-Measure</th>\n",
       "      <td>0.487617</td>\n",
       "      <td>0.555926</td>\n",
       "    </tr>\n",
       "    <tr>\n",
       "      <th>CLass 0 precision</th>\n",
       "      <td>0.477258</td>\n",
       "      <td>0.719832</td>\n",
       "    </tr>\n",
       "    <tr>\n",
       "      <th>Class 0 recall</th>\n",
       "      <td>0.490277</td>\n",
       "      <td>0.525984</td>\n",
       "    </tr>\n",
       "    <tr>\n",
       "      <th>Class 1 F2.0-Measure</th>\n",
       "      <td>0.371835</td>\n",
       "      <td>0.306821</td>\n",
       "    </tr>\n",
       "    <tr>\n",
       "      <th>CLass 1 precision</th>\n",
       "      <td>0.437269</td>\n",
       "      <td>0.323228</td>\n",
       "    </tr>\n",
       "    <tr>\n",
       "      <th>Class 1 recall</th>\n",
       "      <td>0.358426</td>\n",
       "      <td>0.302976</td>\n",
       "    </tr>\n",
       "    <tr>\n",
       "      <th>Class 2 F2.0-Measure</th>\n",
       "      <td>0.500649</td>\n",
       "      <td>0.451409</td>\n",
       "    </tr>\n",
       "    <tr>\n",
       "      <th>CLass 2 precision</th>\n",
       "      <td>0.447501</td>\n",
       "      <td>0.276176</td>\n",
       "    </tr>\n",
       "    <tr>\n",
       "      <th>Class 2 recall</th>\n",
       "      <td>0.515969</td>\n",
       "      <td>0.536513</td>\n",
       "    </tr>\n",
       "  </tbody>\n",
       "</table>\n",
       "</div>"
      ],
      "text/plain": [
       "                         Train      Test\n",
       "F2.0 score            0.500649  0.451409\n",
       "Class 0 F2.0-Measure  0.487617  0.555926\n",
       "CLass 0 precision     0.477258  0.719832\n",
       "Class 0 recall        0.490277  0.525984\n",
       "Class 1 F2.0-Measure  0.371835  0.306821\n",
       "CLass 1 precision     0.437269  0.323228\n",
       "Class 1 recall        0.358426  0.302976\n",
       "Class 2 F2.0-Measure  0.500649  0.451409\n",
       "CLass 2 precision     0.447501  0.276176\n",
       "Class 2 recall        0.515969  0.536513"
      ]
     },
     "execution_count": 30,
     "metadata": {},
     "output_type": "execute_result"
    }
   ],
   "source": [
    "# result as of 12/8/2024 - LR without new features \n",
    "results_summary_loaded_wo_new_features"
   ]
  },
  {
   "cell_type": "markdown",
   "metadata": {
    "application/vnd.databricks.v1+cell": {
     "cellMetadata": {},
     "inputWidgets": {},
     "nuid": "45bdcc3e-e928-4ab4-a797-e43d809026a9",
     "showTitle": false,
     "tableResultSettingsMap": {},
     "title": ""
    }
   },
   "source": [
    "## Feature importance analysis"
   ]
  },
  {
   "cell_type": "code",
   "execution_count": 0,
   "metadata": {
    "application/vnd.databricks.v1+cell": {
     "cellMetadata": {
      "byteLimit": 2048000,
      "rowLimit": 10000
     },
     "inputWidgets": {},
     "nuid": "1bbdfefd-6a90-42c3-8552-1c00c62a4b36",
     "showTitle": false,
     "tableResultSettingsMap": {},
     "title": ""
    }
   },
   "outputs": [],
   "source": [
    "important_num_features = ['DEP_DELAY_NEW',\n",
    "'TAXI_OUT',\n",
    "'TAXI_IN',\n",
    "'ARR_DELAY_NEW',\n",
    "'CRS_ELAPSED_TIME',\n",
    "'ACTUAL_ELAPSED_TIME',\n",
    "'DISTANCE',\n",
    "'ELEVATION',\n",
    "'HourlyAltimeterSetting',\n",
    "# 'HourlyDewPointTemperature',\n",
    "'HourlyDryBulbTemperature',\n",
    "'HourlyPrecipitation',\n",
    "'HourlyRelativeHumidity',\n",
    "'HourlySeaLevelPressure',\n",
    "'HourlyStationPressure',\n",
    "'HourlyVisibility',\n",
    "# 'HourlyWetBulbTemperature',\n",
    "'HourlyWindDirection',\n",
    "'HourlyWindSpeed']\n",
    "\n",
    "features_not_directly_available = [\n",
    "'DEP_DELAY_NEW',\n",
    "'ARR_DELAY_NEW',\n",
    "'TAXI_OUT',\n",
    "'TAXI_IN',\n",
    "'CANCELLED',\n",
    "'DIVERTED',\n",
    "'ACTUAL_ELAPSED_TIME',\n",
    "'Actual_vs_scheduled_elapsed_time'\n",
    "]"
   ]
  },
  {
   "cell_type": "code",
   "execution_count": 0,
   "metadata": {
    "application/vnd.databricks.v1+cell": {
     "cellMetadata": {
      "byteLimit": 2048000,
      "rowLimit": 10000
     },
     "inputWidgets": {},
     "nuid": "cc5d7da1-3553-469b-8532-8e792bae4492",
     "showTitle": false,
     "tableResultSettingsMap": {},
     "title": ""
    }
   },
   "outputs": [],
   "source": [
    "# # for 12m dataset\n",
    "# new_features = ['DEP_DELAY_COUNT_3600sec',\n",
    "#  'DEP_DELAY_COUNT_7200sec',\n",
    "#  'ARR_DELAY_COUNT_3600sec',\n",
    "#  'ARR_DELAY_COUNT_7200sec',\n",
    "#  'CANCELLED_DELAY_COUNT_3600sec',\n",
    "#  'CANCELLED_DELAY_COUNT_7200sec',\n",
    "#  'InDegreeOrigin',\n",
    "#  'OutDegreeOrigin',\n",
    "#  'TotalDegreeOrigin',\n",
    "#  'Lag_same_flight_DEP_DELAY_NEW',\n",
    "#  'Avg_DEP_DELAY_NEW_other_flights',\n",
    "#  'Avg_TAXI_OUT_other_flights',\n",
    "#  'Last_DEP_DELAY_NEW_other_flights',\n",
    "#  'Last_TAXI_OUT_other_flights',\n",
    "#  'Avg_ARR_DELAY_NEW_other_flights',\n",
    "#  'Avg_TAXI_IN_other_flights',\n",
    "#  'Last_ARR_DELAY_NEW_other_flights',\n",
    "#  'Last_TAXI_IN_other_flights',\n",
    "#  'Weekly_avg_DEP_DELAY_NEW_hat',\n",
    "#  'origin_code_vector',\n",
    "#  'dest_code_vector']\n",
    "\n",
    " # for 60m dataset\n",
    "new_features = ['DEP_DELAY_COUNT_3600sec',\n",
    " 'DEP_DELAY_COUNT_7200sec',\n",
    " 'ARR_DELAY_COUNT_3600sec',\n",
    " 'ARR_DELAY_COUNT_7200sec',\n",
    " 'CANCELLED_DELAY_COUNT_3600sec',\n",
    " 'CANCELLED_DELAY_COUNT_7200sec',\n",
    " 'Lag_same_flight_DEP_DELAY_NEW',\n",
    " 'Avg_DEP_DELAY_NEW_other_flights',\n",
    " 'Avg_TAXI_OUT_other_flights',\n",
    " 'Last_DEP_DELAY_NEW_other_flights',\n",
    " 'Last_TAXI_OUT_other_flights',\n",
    " 'Monthly_avg_DEP_DELAY_NEW_hat',\n",
    " 'origin_code_vector',\n",
    " 'dest_code_vector',\n",
    " 'Out_degree_same_origin_past_3hr', # corrected from In_degree_same_origin_past_3hr\n",
    " 'In_degree_same_dest_past_3hr'] # corrected from Out_degree_same_dest_past_3hr"
   ]
  },
  {
   "cell_type": "code",
   "execution_count": 0,
   "metadata": {
    "application/vnd.databricks.v1+cell": {
     "cellMetadata": {
      "byteLimit": 2048000,
      "rowLimit": 10000
     },
     "inputWidgets": {},
     "nuid": "32952a1e-bc61-48b3-bd5a-863a62d56697",
     "showTitle": false,
     "tableResultSettingsMap": {},
     "title": ""
    }
   },
   "outputs": [],
   "source": [
    "scaled_cols_w_right_order = sorted(list(set(important_num_features).union(set(new_features))- {'ACTUAL_ELAPSED_TIME','CRS_ELAPSED_TIME'} - set(features_not_directly_available)\n",
    "                   -set(['origin_code_vector', 'dest_code_vector']))+ ['origin_type_Encoded', 'dest_type_Encoded']) \n",
    "\n",
    "# for 60m dataset\n",
    "all_mod_features_w_right_order =  scaled_cols_w_right_order +\\\n",
    "['DEP_TIME_BLK_Encoded',\n",
    " 'DAY_OF_WEEK_Encoded',\n",
    " 'MONTH_Encoded',\n",
    " 'QUARTER_Encoded',\n",
    " 'OP_UNIQUE_CARRIER_Encoded',\n",
    " 'YEAR_Encoded',\n",
    " 'ARR_TIME_BLK_Encoded',\n",
    " 'DAY_OF_MONTH_Encoded',\n",
    " 'origin_code_vector',\n",
    " 'dest_code_vector']"
   ]
  },
  {
   "cell_type": "code",
   "execution_count": 0,
   "metadata": {
    "application/vnd.databricks.v1+cell": {
     "cellMetadata": {
      "byteLimit": 2048000,
      "rowLimit": 10000
     },
     "inputWidgets": {},
     "nuid": "49cbfeb7-26c1-4fb8-8748-0fecbc6236fc",
     "showTitle": false,
     "tableResultSettingsMap": {},
     "title": ""
    }
   },
   "outputs": [
    {
     "output_type": "execute_result",
     "data": {
      "text/plain": [
       "['ARR_DELAY_COUNT_3600sec',\n",
       " 'ARR_DELAY_COUNT_7200sec',\n",
       " 'Avg_DEP_DELAY_NEW_other_flights',\n",
       " 'Avg_TAXI_OUT_other_flights',\n",
       " 'CANCELLED_DELAY_COUNT_3600sec',\n",
       " 'CANCELLED_DELAY_COUNT_7200sec',\n",
       " 'DEP_DELAY_COUNT_3600sec',\n",
       " 'DEP_DELAY_COUNT_7200sec',\n",
       " 'DISTANCE',\n",
       " 'ELEVATION',\n",
       " 'HourlyAltimeterSetting',\n",
       " 'HourlyDryBulbTemperature',\n",
       " 'HourlyPrecipitation',\n",
       " 'HourlyRelativeHumidity',\n",
       " 'HourlySeaLevelPressure',\n",
       " 'HourlyStationPressure',\n",
       " 'HourlyVisibility',\n",
       " 'HourlyWindDirection',\n",
       " 'HourlyWindSpeed',\n",
       " 'In_degree_same_dest_past_3hr',\n",
       " 'Lag_same_flight_DEP_DELAY_NEW',\n",
       " 'Last_DEP_DELAY_NEW_other_flights',\n",
       " 'Last_TAXI_OUT_other_flights',\n",
       " 'Monthly_avg_DEP_DELAY_NEW_hat',\n",
       " 'Out_degree_same_origin_past_3hr',\n",
       " 'dest_type_Encoded',\n",
       " 'origin_type_Encoded',\n",
       " 'DEP_TIME_BLK_Encoded',\n",
       " 'DAY_OF_WEEK_Encoded',\n",
       " 'MONTH_Encoded',\n",
       " 'QUARTER_Encoded',\n",
       " 'OP_UNIQUE_CARRIER_Encoded',\n",
       " 'YEAR_Encoded',\n",
       " 'ARR_TIME_BLK_Encoded',\n",
       " 'DAY_OF_MONTH_Encoded',\n",
       " 'origin_code_vector',\n",
       " 'dest_code_vector']"
      ]
     },
     "execution_count": 23,
     "metadata": {},
     "output_type": "execute_result"
    }
   ],
   "source": [
    "all_mod_features_w_right_order"
   ]
  },
  {
   "cell_type": "code",
   "execution_count": 0,
   "metadata": {
    "application/vnd.databricks.v1+cell": {
     "cellMetadata": {
      "byteLimit": 2048000,
      "rowLimit": 10000
     },
     "inputWidgets": {},
     "nuid": "108eb855-1e92-48c3-86b0-f03b971e4685",
     "showTitle": false,
     "tableResultSettingsMap": {},
     "title": ""
    }
   },
   "outputs": [],
   "source": [
    "cat_encoded_col_dic = {'DEP_TIME_BLK_Encoded':19, 'ARR_TIME_BLK_Encoded':19, \n",
    "                       'DAY_OF_WEEK_Encoded':7, 'QUARTER_Encoded':4, \n",
    "                       'YEAR_Encoded':4, # 'YEAR_Encoded':4 for 60m dataset for train_val_df \n",
    "                       'MONTH_Encoded':12,  # 'MONTH_Encoded':10 for 12 month dataset for up to train_val_df; 12 for 60m dataset\n",
    "                       'OP_UNIQUE_CARRIER_Encoded':19, # 14 for 12m; 19 for 60m dataset\n",
    "                       'DAY_OF_MONTH_Encoded':31,\n",
    "                       'origin_code_vector':9, 'dest_code_vector':9} # 8 for 12m; 9 for 60m dataset"
   ]
  },
  {
   "cell_type": "code",
   "execution_count": 0,
   "metadata": {
    "application/vnd.databricks.v1+cell": {
     "cellMetadata": {
      "byteLimit": 2048000,
      "rowLimit": 10000
     },
     "inputWidgets": {},
     "nuid": "c5713e6c-1dc6-4ccb-bd31-e2dcf4f30ce5",
     "showTitle": false,
     "tableResultSettingsMap": {},
     "title": ""
    }
   },
   "outputs": [],
   "source": [
    "len(all_mod_features_w_right_order)\n",
    "\n",
    "len(sum([[x] if x not in cat_encoded_col_dic.keys() \n",
    " else [f'{x}_{i}' for i in range(cat_encoded_col_dic[x])] for x in all_mod_features_w_right_order],[]))\n",
    "\n",
    "all_mod_col_names = sum([[x] if x not in cat_encoded_col_dic.keys() \n",
    " else [f'{x}_{i}' for i in range(cat_encoded_col_dic[x])] for x in all_mod_features_w_right_order],[])"
   ]
  },
  {
   "cell_type": "markdown",
   "metadata": {
    "application/vnd.databricks.v1+cell": {
     "cellMetadata": {},
     "inputWidgets": {},
     "nuid": "9f020506-6da0-401a-a129-e36c54e12a59",
     "showTitle": false,
     "tableResultSettingsMap": {},
     "title": ""
    }
   },
   "source": [
    "## For logistic regression"
   ]
  },
  {
   "cell_type": "code",
   "execution_count": 0,
   "metadata": {
    "application/vnd.databricks.v1+cell": {
     "cellMetadata": {
      "byteLimit": 2048000,
      "rowLimit": 10000
     },
     "inputWidgets": {},
     "nuid": "bb80669d-c6d4-4ff7-839e-fb536aa6a0c4",
     "showTitle": false,
     "tableResultSettingsMap": {},
     "title": ""
    }
   },
   "outputs": [
    {
     "output_type": "stream",
     "name": "stderr",
     "output_type": "stream",
     "text": [
      "2024/12/12 21:56:11 INFO mlflow.spark: 'runs:/86bc276513d6462fb483fbe6c4eba429/model' resolved as 'dbfs:/databricks/mlflow-tracking/3948917746254176/86bc276513d6462fb483fbe6c4eba429/artifacts/model'\n"
     ]
    },
    {
     "output_type": "display_data",
     "data": {
      "application/vnd.jupyter.widget-view+json": {
       "model_id": "58649e2e2370402891f0335c16f6d80b",
       "version_major": 2,
       "version_minor": 0
      },
      "text/plain": [
       "Downloading artifacts:   0%|          | 0/1 [00:00<?, ?it/s]"
      ]
     },
     "metadata": {},
     "output_type": "display_data"
    },
    {
     "output_type": "display_data",
     "data": {
      "application/vnd.jupyter.widget-view+json": {
       "model_id": "bb72c4e5d4314d75b93bc2e957b94644",
       "version_major": 2,
       "version_minor": 0
      },
      "text/plain": [
       "Downloading artifacts:   0%|          | 0/19 [00:00<?, ?it/s]"
      ]
     },
     "metadata": {},
     "output_type": "display_data"
    }
   ],
   "source": [
    "# get the intended model run from experiment\n",
    "import mlflow\n",
    "# logged_model = 'runs:/e6c3288241ab41e6a09d752d811242dc/model' # IN logistic regression (v1 without feature)\n",
    "logged_model = 'runs:/9d9474b92b664c2383ba7c8d511ad15c/model'# IN logistic regression (v2 with feature)\n",
    "\n",
    "\n",
    "# Load model as a PyFuncModel.\n",
    "# loaded_model = mlflow.pyfunc.load_model(logged_model)\n",
    "loaded_model = mlflow.spark.load_model(logged_model)\n",
    "mod_to_examine = loaded_model.stages[-1]"
   ]
  },
  {
   "cell_type": "code",
   "execution_count": 0,
   "metadata": {
    "application/vnd.databricks.v1+cell": {
     "cellMetadata": {
      "byteLimit": 2048000,
      "rowLimit": 10000
     },
     "inputWidgets": {},
     "nuid": "5786b6ec-b5e3-41e4-8848-4e0296a6702d",
     "showTitle": false,
     "tableResultSettingsMap": {},
     "title": ""
    }
   },
   "outputs": [],
   "source": [
    "# for logistic regression\n",
    "coefficients_mod = mod_to_examine.coefficientMatrix\n",
    "intercept_mod = mod_to_examine.interceptVector "
   ]
  },
  {
   "cell_type": "code",
   "execution_count": 0,
   "metadata": {
    "application/vnd.databricks.v1+cell": {
     "cellMetadata": {
      "byteLimit": 2048000,
      "rowLimit": 10000
     },
     "inputWidgets": {},
     "nuid": "375a34f3-80ac-4613-b104-61bcc7342d40",
     "showTitle": false,
     "tableResultSettingsMap": {},
     "title": ""
    }
   },
   "outputs": [
    {
     "output_type": "execute_result",
     "data": {
      "text/html": [
       "<div>\n",
       "<style scoped>\n",
       "    .dataframe tbody tr th:only-of-type {\n",
       "        vertical-align: middle;\n",
       "    }\n",
       "\n",
       "    .dataframe tbody tr th {\n",
       "        vertical-align: top;\n",
       "    }\n",
       "\n",
       "    .dataframe thead th {\n",
       "        text-align: right;\n",
       "    }\n",
       "</style>\n",
       "<table border=\"1\" class=\"dataframe\">\n",
       "  <thead>\n",
       "    <tr style=\"text-align: right;\">\n",
       "      <th></th>\n",
       "      <th>0</th>\n",
       "      <th>1</th>\n",
       "      <th>2</th>\n",
       "      <th>3</th>\n",
       "      <th>4</th>\n",
       "      <th>5</th>\n",
       "      <th>6</th>\n",
       "      <th>7</th>\n",
       "      <th>8</th>\n",
       "      <th>9</th>\n",
       "      <th>10</th>\n",
       "      <th>11</th>\n",
       "      <th>12</th>\n",
       "      <th>13</th>\n",
       "      <th>14</th>\n",
       "      <th>15</th>\n",
       "      <th>16</th>\n",
       "      <th>17</th>\n",
       "      <th>18</th>\n",
       "      <th>19</th>\n",
       "      <th>20</th>\n",
       "      <th>21</th>\n",
       "      <th>22</th>\n",
       "      <th>23</th>\n",
       "      <th>24</th>\n",
       "      <th>25</th>\n",
       "      <th>26</th>\n",
       "      <th>27</th>\n",
       "      <th>28</th>\n",
       "      <th>29</th>\n",
       "      <th>30</th>\n",
       "      <th>31</th>\n",
       "      <th>32</th>\n",
       "      <th>33</th>\n",
       "      <th>34</th>\n",
       "      <th>35</th>\n",
       "      <th>36</th>\n",
       "      <th>37</th>\n",
       "      <th>38</th>\n",
       "      <th>39</th>\n",
       "      <th>...</th>\n",
       "      <th>120</th>\n",
       "      <th>121</th>\n",
       "      <th>122</th>\n",
       "      <th>123</th>\n",
       "      <th>124</th>\n",
       "      <th>125</th>\n",
       "      <th>126</th>\n",
       "      <th>127</th>\n",
       "      <th>128</th>\n",
       "      <th>129</th>\n",
       "      <th>130</th>\n",
       "      <th>131</th>\n",
       "      <th>132</th>\n",
       "      <th>133</th>\n",
       "      <th>134</th>\n",
       "      <th>135</th>\n",
       "      <th>136</th>\n",
       "      <th>137</th>\n",
       "      <th>138</th>\n",
       "      <th>139</th>\n",
       "      <th>140</th>\n",
       "      <th>141</th>\n",
       "      <th>142</th>\n",
       "      <th>143</th>\n",
       "      <th>144</th>\n",
       "      <th>145</th>\n",
       "      <th>146</th>\n",
       "      <th>147</th>\n",
       "      <th>148</th>\n",
       "      <th>149</th>\n",
       "      <th>150</th>\n",
       "      <th>151</th>\n",
       "      <th>152</th>\n",
       "      <th>153</th>\n",
       "      <th>154</th>\n",
       "      <th>155</th>\n",
       "      <th>156</th>\n",
       "      <th>157</th>\n",
       "      <th>158</th>\n",
       "      <th>159</th>\n",
       "    </tr>\n",
       "  </thead>\n",
       "  <tbody>\n",
       "    <tr>\n",
       "      <th>0</th>\n",
       "      <td>0.000000</td>\n",
       "      <td>-0.188246</td>\n",
       "      <td>-9.814545</td>\n",
       "      <td>-0.159071</td>\n",
       "      <td>0.000000</td>\n",
       "      <td>0.000000</td>\n",
       "      <td>-1.156219</td>\n",
       "      <td>-2.852684</td>\n",
       "      <td>-0.435810</td>\n",
       "      <td>0.0</td>\n",
       "      <td>0.000000</td>\n",
       "      <td>0.0</td>\n",
       "      <td>0.000000</td>\n",
       "      <td>-0.052491</td>\n",
       "      <td>0.0</td>\n",
       "      <td>0.0</td>\n",
       "      <td>0.862329</td>\n",
       "      <td>0.0</td>\n",
       "      <td>-0.833336</td>\n",
       "      <td>0.683213</td>\n",
       "      <td>-3.128589</td>\n",
       "      <td>0.000000</td>\n",
       "      <td>0.000000</td>\n",
       "      <td>0.0</td>\n",
       "      <td>-0.278957</td>\n",
       "      <td>-0.215215</td>\n",
       "      <td>0.000000</td>\n",
       "      <td>0.338709</td>\n",
       "      <td>0.307274</td>\n",
       "      <td>0.184776</td>\n",
       "      <td>0.000000</td>\n",
       "      <td>0.0</td>\n",
       "      <td>0.000502</td>\n",
       "      <td>-0.002933</td>\n",
       "      <td>0.0</td>\n",
       "      <td>0.030708</td>\n",
       "      <td>0.0</td>\n",
       "      <td>0.000000</td>\n",
       "      <td>-0.046617</td>\n",
       "      <td>0.000000</td>\n",
       "      <td>...</td>\n",
       "      <td>0.0</td>\n",
       "      <td>0.0</td>\n",
       "      <td>0.0</td>\n",
       "      <td>0.0</td>\n",
       "      <td>0.0</td>\n",
       "      <td>0.0</td>\n",
       "      <td>0.0</td>\n",
       "      <td>0.0</td>\n",
       "      <td>0.0</td>\n",
       "      <td>0.0</td>\n",
       "      <td>0.0</td>\n",
       "      <td>0.0</td>\n",
       "      <td>0.0</td>\n",
       "      <td>0.0</td>\n",
       "      <td>0.0</td>\n",
       "      <td>0.0</td>\n",
       "      <td>0.0</td>\n",
       "      <td>0.0</td>\n",
       "      <td>0.0</td>\n",
       "      <td>0.0</td>\n",
       "      <td>0.0</td>\n",
       "      <td>0.0</td>\n",
       "      <td>0.0</td>\n",
       "      <td>0.0</td>\n",
       "      <td>0.0</td>\n",
       "      <td>0.0</td>\n",
       "      <td>0.0</td>\n",
       "      <td>0.0</td>\n",
       "      <td>0.0</td>\n",
       "      <td>-0.006631</td>\n",
       "      <td>0.0</td>\n",
       "      <td>0.0</td>\n",
       "      <td>0.0</td>\n",
       "      <td>0.0</td>\n",
       "      <td>0.000000</td>\n",
       "      <td>0.0</td>\n",
       "      <td>0.0</td>\n",
       "      <td>0.00000</td>\n",
       "      <td>0.0</td>\n",
       "      <td>0.000000</td>\n",
       "    </tr>\n",
       "    <tr>\n",
       "      <th>1</th>\n",
       "      <td>0.000000</td>\n",
       "      <td>0.000000</td>\n",
       "      <td>0.000000</td>\n",
       "      <td>0.000000</td>\n",
       "      <td>0.000000</td>\n",
       "      <td>0.000000</td>\n",
       "      <td>0.000000</td>\n",
       "      <td>0.000000</td>\n",
       "      <td>0.625034</td>\n",
       "      <td>0.0</td>\n",
       "      <td>0.000000</td>\n",
       "      <td>0.0</td>\n",
       "      <td>0.000000</td>\n",
       "      <td>0.000000</td>\n",
       "      <td>0.0</td>\n",
       "      <td>0.0</td>\n",
       "      <td>0.000000</td>\n",
       "      <td>0.0</td>\n",
       "      <td>0.000000</td>\n",
       "      <td>0.000000</td>\n",
       "      <td>0.000000</td>\n",
       "      <td>0.000000</td>\n",
       "      <td>0.000000</td>\n",
       "      <td>0.0</td>\n",
       "      <td>0.000000</td>\n",
       "      <td>0.000000</td>\n",
       "      <td>0.015159</td>\n",
       "      <td>0.000000</td>\n",
       "      <td>0.000000</td>\n",
       "      <td>0.000000</td>\n",
       "      <td>0.000000</td>\n",
       "      <td>0.0</td>\n",
       "      <td>0.000000</td>\n",
       "      <td>0.000000</td>\n",
       "      <td>0.0</td>\n",
       "      <td>0.000000</td>\n",
       "      <td>0.0</td>\n",
       "      <td>0.000000</td>\n",
       "      <td>0.000000</td>\n",
       "      <td>0.000000</td>\n",
       "      <td>...</td>\n",
       "      <td>0.0</td>\n",
       "      <td>0.0</td>\n",
       "      <td>0.0</td>\n",
       "      <td>0.0</td>\n",
       "      <td>0.0</td>\n",
       "      <td>0.0</td>\n",
       "      <td>0.0</td>\n",
       "      <td>0.0</td>\n",
       "      <td>0.0</td>\n",
       "      <td>0.0</td>\n",
       "      <td>0.0</td>\n",
       "      <td>0.0</td>\n",
       "      <td>0.0</td>\n",
       "      <td>0.0</td>\n",
       "      <td>0.0</td>\n",
       "      <td>0.0</td>\n",
       "      <td>0.0</td>\n",
       "      <td>0.0</td>\n",
       "      <td>0.0</td>\n",
       "      <td>0.0</td>\n",
       "      <td>0.0</td>\n",
       "      <td>0.0</td>\n",
       "      <td>0.0</td>\n",
       "      <td>0.0</td>\n",
       "      <td>0.0</td>\n",
       "      <td>0.0</td>\n",
       "      <td>0.0</td>\n",
       "      <td>0.0</td>\n",
       "      <td>0.0</td>\n",
       "      <td>0.000000</td>\n",
       "      <td>0.0</td>\n",
       "      <td>0.0</td>\n",
       "      <td>0.0</td>\n",
       "      <td>0.0</td>\n",
       "      <td>0.000000</td>\n",
       "      <td>0.0</td>\n",
       "      <td>0.0</td>\n",
       "      <td>0.00000</td>\n",
       "      <td>0.0</td>\n",
       "      <td>0.007013</td>\n",
       "    </tr>\n",
       "    <tr>\n",
       "      <th>2</th>\n",
       "      <td>0.293051</td>\n",
       "      <td>0.908024</td>\n",
       "      <td>20.050802</td>\n",
       "      <td>1.364020</td>\n",
       "      <td>1.066006</td>\n",
       "      <td>1.793253</td>\n",
       "      <td>0.470165</td>\n",
       "      <td>1.330329</td>\n",
       "      <td>0.000000</td>\n",
       "      <td>0.0</td>\n",
       "      <td>-0.376902</td>\n",
       "      <td>0.0</td>\n",
       "      <td>2.588482</td>\n",
       "      <td>0.223057</td>\n",
       "      <td>0.0</td>\n",
       "      <td>0.0</td>\n",
       "      <td>0.000000</td>\n",
       "      <td>0.0</td>\n",
       "      <td>0.000000</td>\n",
       "      <td>-1.374936</td>\n",
       "      <td>20.875117</td>\n",
       "      <td>0.178809</td>\n",
       "      <td>0.290723</td>\n",
       "      <td>0.0</td>\n",
       "      <td>0.070628</td>\n",
       "      <td>0.000000</td>\n",
       "      <td>0.000000</td>\n",
       "      <td>-0.699060</td>\n",
       "      <td>-0.442995</td>\n",
       "      <td>-0.205792</td>\n",
       "      <td>0.064841</td>\n",
       "      <td>0.0</td>\n",
       "      <td>-0.031001</td>\n",
       "      <td>0.000000</td>\n",
       "      <td>0.0</td>\n",
       "      <td>-0.102229</td>\n",
       "      <td>0.0</td>\n",
       "      <td>0.009016</td>\n",
       "      <td>0.000000</td>\n",
       "      <td>0.088385</td>\n",
       "      <td>...</td>\n",
       "      <td>0.0</td>\n",
       "      <td>0.0</td>\n",
       "      <td>0.0</td>\n",
       "      <td>0.0</td>\n",
       "      <td>0.0</td>\n",
       "      <td>0.0</td>\n",
       "      <td>0.0</td>\n",
       "      <td>0.0</td>\n",
       "      <td>0.0</td>\n",
       "      <td>0.0</td>\n",
       "      <td>0.0</td>\n",
       "      <td>0.0</td>\n",
       "      <td>0.0</td>\n",
       "      <td>0.0</td>\n",
       "      <td>0.0</td>\n",
       "      <td>0.0</td>\n",
       "      <td>0.0</td>\n",
       "      <td>0.0</td>\n",
       "      <td>0.0</td>\n",
       "      <td>0.0</td>\n",
       "      <td>0.0</td>\n",
       "      <td>0.0</td>\n",
       "      <td>0.0</td>\n",
       "      <td>0.0</td>\n",
       "      <td>0.0</td>\n",
       "      <td>0.0</td>\n",
       "      <td>0.0</td>\n",
       "      <td>0.0</td>\n",
       "      <td>0.0</td>\n",
       "      <td>0.000000</td>\n",
       "      <td>0.0</td>\n",
       "      <td>0.0</td>\n",
       "      <td>0.0</td>\n",
       "      <td>0.0</td>\n",
       "      <td>0.025801</td>\n",
       "      <td>0.0</td>\n",
       "      <td>0.0</td>\n",
       "      <td>0.01569</td>\n",
       "      <td>0.0</td>\n",
       "      <td>-0.041378</td>\n",
       "    </tr>\n",
       "  </tbody>\n",
       "</table>\n",
       "<p>3 rows × 160 columns</p>\n",
       "</div>"
      ],
      "text/plain": [
       "        0         1          2         3    ...  156      157  158       159\n",
       "0  0.000000 -0.188246  -9.814545 -0.159071  ...  0.0  0.00000  0.0  0.000000\n",
       "1  0.000000  0.000000   0.000000  0.000000  ...  0.0  0.00000  0.0  0.007013\n",
       "2  0.293051  0.908024  20.050802  1.364020  ...  0.0  0.01569  0.0 -0.041378\n",
       "\n",
       "[3 rows x 160 columns]"
      ]
     },
     "execution_count": 16,
     "metadata": {},
     "output_type": "execute_result"
    }
   ],
   "source": [
    "import pandas as pd\n",
    "pd.DataFrame(coefficients_mod.toArray())"
   ]
  },
  {
   "cell_type": "code",
   "execution_count": 0,
   "metadata": {
    "application/vnd.databricks.v1+cell": {
     "cellMetadata": {
      "byteLimit": 2048000,
      "rowLimit": 10000
     },
     "inputWidgets": {},
     "nuid": "e2b690a3-ae66-4905-be03-1654329cdf1c",
     "showTitle": false,
     "tableResultSettingsMap": {},
     "title": ""
    }
   },
   "outputs": [],
   "source": [
    "# guess the order of the columns \n",
    "input_cols_guessed = all_mod_col_names"
   ]
  },
  {
   "cell_type": "code",
   "execution_count": 0,
   "metadata": {
    "application/vnd.databricks.v1+cell": {
     "cellMetadata": {
      "byteLimit": 2048000,
      "rowLimit": 10000
     },
     "inputWidgets": {},
     "nuid": "96c881ae-e121-4077-8775-f1bb0e6aed56",
     "showTitle": false,
     "tableResultSettingsMap": {},
     "title": ""
    }
   },
   "outputs": [],
   "source": [
    "import pandas as pd\n",
    "coefficients_mod_pdf = pd.DataFrame(coefficients_mod.toArray(), columns=input_cols_guessed, index=['class_0', 'class_1', 'class_2']).T.sort_values(by='class_2', ascending=False)\n",
    "intercept_mod_pdf = pd.DataFrame(intercept_mod.toArray(), columns=['intercept'], index=['class_0', 'class_1', 'class_2']).T"
   ]
  },
  {
   "cell_type": "code",
   "execution_count": 0,
   "metadata": {
    "application/vnd.databricks.v1+cell": {
     "cellMetadata": {
      "byteLimit": 2048000,
      "rowLimit": 10000
     },
     "inputWidgets": {},
     "nuid": "7faf1325-0f93-4f02-bc3f-6d4bde75a894",
     "showTitle": false,
     "tableResultSettingsMap": {},
     "title": ""
    }
   },
   "outputs": [
    {
     "output_type": "display_data",
     "data": {
      "image/png": "[encoded data removed]",
      "text/plain": [
       "<Figure size 1000x600 with 1 Axes>"
      ]
     },
     "metadata": {},
     "output_type": "display_data"
    }
   ],
   "source": [
    "import matplotlib.pyplot as plt\n",
    "feat_label = 'Without_feature'\n",
    "feat_label = 'With_feature'\n",
    "\n",
    "coefficients_mod_pdf['class_2'][:30].sort_values(ascending=True).plot(kind='barh', title=f'Top 30 Model Coefficients for class_2-Logistic-Regression-60m-{feat_label}', figsize=(10,6))\n",
    "plt.xticks(rotation=90)\n",
    "plt.show()"
   ]
  },
  {
   "cell_type": "code",
   "execution_count": 0,
   "metadata": {
    "application/vnd.databricks.v1+cell": {
     "cellMetadata": {
      "byteLimit": 2048000,
      "rowLimit": 10000
     },
     "inputWidgets": {},
     "nuid": "0ab60af3-a77f-4f3e-a2a3-2e7dc7b3c6d4",
     "showTitle": false,
     "tableResultSettingsMap": {},
     "title": ""
    }
   },
   "outputs": [
    {
     "output_type": "execute_result",
     "data": {
      "text/html": [
       "<div>\n",
       "<style scoped>\n",
       "    .dataframe tbody tr th:only-of-type {\n",
       "        vertical-align: middle;\n",
       "    }\n",
       "\n",
       "    .dataframe tbody tr th {\n",
       "        vertical-align: top;\n",
       "    }\n",
       "\n",
       "    .dataframe thead th {\n",
       "        text-align: right;\n",
       "    }\n",
       "</style>\n",
       "<table border=\"1\" class=\"dataframe\">\n",
       "  <thead>\n",
       "    <tr style=\"text-align: right;\">\n",
       "      <th></th>\n",
       "      <th>class_2</th>\n",
       "    </tr>\n",
       "  </thead>\n",
       "  <tbody>\n",
       "    <tr>\n",
       "      <th>Lag_same_flight_DEP_DELAY_NEW</th>\n",
       "      <td>20.875117</td>\n",
       "    </tr>\n",
       "    <tr>\n",
       "      <th>Avg_DEP_DELAY_NEW_other_flights</th>\n",
       "      <td>20.050802</td>\n",
       "    </tr>\n",
       "    <tr>\n",
       "      <th>HourlyPrecipitation</th>\n",
       "      <td>2.588482</td>\n",
       "    </tr>\n",
       "    <tr>\n",
       "      <th>CANCELLED_DELAY_COUNT_7200sec</th>\n",
       "      <td>1.793253</td>\n",
       "    </tr>\n",
       "    <tr>\n",
       "      <th>Avg_TAXI_OUT_other_flights</th>\n",
       "      <td>1.364020</td>\n",
       "    </tr>\n",
       "    <tr>\n",
       "      <th>DEP_DELAY_COUNT_7200sec</th>\n",
       "      <td>1.330329</td>\n",
       "    </tr>\n",
       "    <tr>\n",
       "      <th>CANCELLED_DELAY_COUNT_3600sec</th>\n",
       "      <td>1.066006</td>\n",
       "    </tr>\n",
       "    <tr>\n",
       "      <th>ARR_DELAY_COUNT_7200sec</th>\n",
       "      <td>0.908024</td>\n",
       "    </tr>\n",
       "    <tr>\n",
       "      <th>DEP_DELAY_COUNT_3600sec</th>\n",
       "      <td>0.470165</td>\n",
       "    </tr>\n",
       "    <tr>\n",
       "      <th>ARR_DELAY_COUNT_3600sec</th>\n",
       "      <td>0.293051</td>\n",
       "    </tr>\n",
       "    <tr>\n",
       "      <th>Last_TAXI_OUT_other_flights</th>\n",
       "      <td>0.290723</td>\n",
       "    </tr>\n",
       "    <tr>\n",
       "      <th>OP_UNIQUE_CARRIER_Encoded_6</th>\n",
       "      <td>0.287107</td>\n",
       "    </tr>\n",
       "    <tr>\n",
       "      <th>OP_UNIQUE_CARRIER_Encoded_10</th>\n",
       "      <td>0.249836</td>\n",
       "    </tr>\n",
       "    <tr>\n",
       "      <th>HourlyRelativeHumidity</th>\n",
       "      <td>0.223057</td>\n",
       "    </tr>\n",
       "    <tr>\n",
       "      <th>Last_DEP_DELAY_NEW_other_flights</th>\n",
       "      <td>0.178809</td>\n",
       "    </tr>\n",
       "    <tr>\n",
       "      <th>DEP_TIME_BLK_Encoded_12</th>\n",
       "      <td>0.088385</td>\n",
       "    </tr>\n",
       "    <tr>\n",
       "      <th>Out_degree_same_origin_past_3hr</th>\n",
       "      <td>0.070628</td>\n",
       "    </tr>\n",
       "    <tr>\n",
       "      <th>DEP_TIME_BLK_Encoded_13</th>\n",
       "      <td>0.068481</td>\n",
       "    </tr>\n",
       "    <tr>\n",
       "      <th>DEP_TIME_BLK_Encoded_3</th>\n",
       "      <td>0.064841</td>\n",
       "    </tr>\n",
       "    <tr>\n",
       "      <th>OP_UNIQUE_CARRIER_Encoded_8</th>\n",
       "      <td>0.058704</td>\n",
       "    </tr>\n",
       "    <tr>\n",
       "      <th>MONTH_Encoded_0</th>\n",
       "      <td>0.055356</td>\n",
       "    </tr>\n",
       "    <tr>\n",
       "      <th>ARR_TIME_BLK_Encoded_4</th>\n",
       "      <td>0.045203</td>\n",
       "    </tr>\n",
       "    <tr>\n",
       "      <th>ARR_TIME_BLK_Encoded_1</th>\n",
       "      <td>0.027108</td>\n",
       "    </tr>\n",
       "    <tr>\n",
       "      <th>ARR_TIME_BLK_Encoded_10</th>\n",
       "      <td>0.026545</td>\n",
       "    </tr>\n",
       "    <tr>\n",
       "      <th>dest_code_vector_3</th>\n",
       "      <td>0.025801</td>\n",
       "    </tr>\n",
       "    <tr>\n",
       "      <th>MONTH_Encoded_2</th>\n",
       "      <td>0.024226</td>\n",
       "    </tr>\n",
       "    <tr>\n",
       "      <th>dest_code_vector_6</th>\n",
       "      <td>0.015690</td>\n",
       "    </tr>\n",
       "    <tr>\n",
       "      <th>DEP_TIME_BLK_Encoded_14</th>\n",
       "      <td>0.014011</td>\n",
       "    </tr>\n",
       "    <tr>\n",
       "      <th>DEP_TIME_BLK_Encoded_10</th>\n",
       "      <td>0.009016</td>\n",
       "    </tr>\n",
       "    <tr>\n",
       "      <th>ARR_TIME_BLK_Encoded_2</th>\n",
       "      <td>0.003432</td>\n",
       "    </tr>\n",
       "  </tbody>\n",
       "</table>\n",
       "</div>"
      ],
      "text/plain": [
       "                                    class_2\n",
       "Lag_same_flight_DEP_DELAY_NEW     20.875117\n",
       "Avg_DEP_DELAY_NEW_other_flights   20.050802\n",
       "HourlyPrecipitation                2.588482\n",
       "CANCELLED_DELAY_COUNT_7200sec      1.793253\n",
       "Avg_TAXI_OUT_other_flights         1.364020\n",
       "DEP_DELAY_COUNT_7200sec            1.330329\n",
       "CANCELLED_DELAY_COUNT_3600sec      1.066006\n",
       "ARR_DELAY_COUNT_7200sec            0.908024\n",
       "DEP_DELAY_COUNT_3600sec            0.470165\n",
       "ARR_DELAY_COUNT_3600sec            0.293051\n",
       "Last_TAXI_OUT_other_flights        0.290723\n",
       "OP_UNIQUE_CARRIER_Encoded_6        0.287107\n",
       "OP_UNIQUE_CARRIER_Encoded_10       0.249836\n",
       "HourlyRelativeHumidity             0.223057\n",
       "Last_DEP_DELAY_NEW_other_flights   0.178809\n",
       "DEP_TIME_BLK_Encoded_12            0.088385\n",
       "Out_degree_same_origin_past_3hr    0.070628\n",
       "DEP_TIME_BLK_Encoded_13            0.068481\n",
       "DEP_TIME_BLK_Encoded_3             0.064841\n",
       "OP_UNIQUE_CARRIER_Encoded_8        0.058704\n",
       "MONTH_Encoded_0                    0.055356\n",
       "ARR_TIME_BLK_Encoded_4             0.045203\n",
       "ARR_TIME_BLK_Encoded_1             0.027108\n",
       "ARR_TIME_BLK_Encoded_10            0.026545\n",
       "dest_code_vector_3                 0.025801\n",
       "MONTH_Encoded_2                    0.024226\n",
       "dest_code_vector_6                 0.015690\n",
       "DEP_TIME_BLK_Encoded_14            0.014011\n",
       "DEP_TIME_BLK_Encoded_10            0.009016\n",
       "ARR_TIME_BLK_Encoded_2             0.003432"
      ]
     },
     "execution_count": 46,
     "metadata": {},
     "output_type": "execute_result"
    }
   ],
   "source": [
    "coefficients_mod_pdf['class_2'][:30].to_frame()"
   ]
  },
  {
   "cell_type": "code",
   "execution_count": 0,
   "metadata": {
    "application/vnd.databricks.v1+cell": {
     "cellMetadata": {},
     "inputWidgets": {},
     "nuid": "0157f1ab-5731-420a-93bf-e40684a7ef52",
     "showTitle": false,
     "tableResultSettingsMap": {},
     "title": ""
    }
   },
   "outputs": [],
   "source": []
  }
 ],
 "metadata": {
  "application/vnd.databricks.v1+notebook": {
   "computePreferences": null,
   "dashboards": [
    {
     "elements": [],
     "globalVars": {},
     "guid": "",
     "layoutOption": {
      "grid": true,
      "stack": true
     },
     "nuid": "848a23e1-4a38-4b97-b84c-de53113ea481",
     "origId": 2433832087580592,
     "title": "Untitled",
     "version": "DashboardViewV1",
     "width": 1024
    }
   ],
   "environmentMetadata": {
    "base_environment": "",
    "client": "1"
   },
   "language": "python",
   "notebookMetadata": {
    "pythonIndentUnit": 4
   },
   "notebookName": "IN-Logistic-Regression-w261_final_project",
   "widgets": {}
  },
  "language_info": {
   "name": "python"
  }
 },
 "nbformat": 4,
 "nbformat_minor": 0
}